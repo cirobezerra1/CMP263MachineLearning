{
 "cells": [
  {
   "cell_type": "markdown",
   "metadata": {},
   "source": [
    "# 00.Importing Libraries"
   ]
  },
  {
   "cell_type": "code",
   "execution_count": 128,
   "metadata": {
    "colab": {
     "base_uri": "https://localhost:8080/"
    },
    "id": "gj1W_XO2E8K8",
    "outputId": "97c15922-b9a2-4b12-c687-a6522d07f36b"
   },
   "outputs": [],
   "source": [
    "#!pip install --quiet prophet\n",
    "#!pip install --quiet plotly"
   ]
  },
  {
   "cell_type": "code",
   "execution_count": 129,
   "metadata": {
    "id": "uua1O4QfEKIV"
   },
   "outputs": [],
   "source": [
    "import os\n",
    "import json\n",
    "import numpy as np\n",
    "import pandas as pd\n",
    "import matplotlib.pyplot as plt\n",
    "\n",
    "from math import sqrt\n",
    "from prophet import Prophet\n",
    "import plotly.express as px\n",
    "from prophet.plot import plot_plotly\n",
    "from sklearn.preprocessing import MinMaxScaler\n",
    "from sklearn.metrics import mean_absolute_error, mean_squared_error, r2_score, mean_squared_error"
   ]
  },
  {
   "cell_type": "markdown",
   "metadata": {},
   "source": [
    "# 01.Helpers"
   ]
  },
  {
   "cell_type": "markdown",
   "metadata": {
    "jp-MarkdownHeadingCollapsed": true
   },
   "source": [
    "## Constants"
   ]
  },
  {
   "cell_type": "code",
   "execution_count": 130,
   "metadata": {},
   "outputs": [],
   "source": [
    "result_path = \"model_results/PROPHET\""
   ]
  },
  {
   "cell_type": "markdown",
   "metadata": {
    "jp-MarkdownHeadingCollapsed": true
   },
   "source": [
    "## 01.02 Functions"
   ]
  },
  {
   "cell_type": "code",
   "execution_count": 131,
   "metadata": {},
   "outputs": [],
   "source": [
    "def train_test_split(df, test_date, target_variable):\n",
    "    # separação por tempo\n",
    "    df_train = df[df.index < test_date]\n",
    "    df_test  = df[df.index >= test_date]\n",
    "\n",
    "    # remoção da variável target\n",
    "    y_train = df_train[target_variable]\n",
    "    y_test  = df_test[target_variable]\n",
    "\n",
    "    df_train = df_train.drop(columns=target_variable).copy()\n",
    "    df_test  = df_test.drop(columns=target_variable).copy()\n",
    "\n",
    "    print(df_train.shape, y_train.shape)\n",
    "    print(df_test.shape, y_test.shape)\n",
    "\n",
    "    return df_train, df_test, y_train, y_test"
   ]
  },
  {
   "cell_type": "code",
   "execution_count": 132,
   "metadata": {},
   "outputs": [],
   "source": [
    "def data_normalization(df_train, df_test, y_train, y_test):\n",
    "    # Para as features\n",
    "    scaler               = MinMaxScaler(feature_range=(0, 1))\n",
    "    df_train_scaled      = scaler.fit_transform(df_train)\n",
    "    df_test_scaled       = scaler.transform(df_test)\n",
    "\n",
    "    # Para a variável alvo\n",
    "    scaler_target       = MinMaxScaler(feature_range=(0, 1))\n",
    "    y_train_scaled      = scaler_target.fit_transform(y_train.to_frame())\n",
    "    y_test_scaled       = scaler_target.transform(y_test.to_frame())\n",
    "\n",
    "    print(df_train_scaled.shape, y_train_scaled.shape)\n",
    "    print(df_test_scaled.shape, y_test_scaled.shape)\n",
    "\n",
    "    return scaler, scaler_target, df_train_scaled, df_test_scaled, y_train_scaled, y_test_scaled"
   ]
  },
  {
   "cell_type": "code",
   "execution_count": 133,
   "metadata": {},
   "outputs": [],
   "source": [
    "def data_reconversion(scaler, scaler_target, df_train_scaled, df_test_scaled, y_train_scaled, y_test_scaled, y_pred):\n",
    "    df_train_original = scaler.inverse_transform(df_train_scaled)\n",
    "    df_test_original = scaler.inverse_transform(df_test_scaled)\n",
    "\n",
    "    y_train_original = scaler_target.inverse_transform(y_train_scaled)\n",
    "    y_test_original = scaler_target.inverse_transform(y_test_scaled)\n",
    "    y_pred_original = scaler_target.inverse_transform(y_pred)\n",
    "\n",
    "    return df_train_original, df_test_original, y_train_original, y_test_original, y_pred_original"
   ]
  },
  {
   "cell_type": "code",
   "execution_count": 134,
   "metadata": {},
   "outputs": [],
   "source": [
    "def metrics(y, predicted):\n",
    "    mae = mean_absolute_error(y, predicted)\n",
    "    mse = mean_squared_error(y, predicted)\n",
    "    rmse = np.sqrt(mean_squared_error(y, predicted))\n",
    "    mape = np.mean(np.abs((y - predicted) / y)) * 100\n",
    "    r2 = r2_score(y, predicted)\n",
    "    return mae, mse, rmse, mape, r2\n",
    "\n",
    "def print_metrics(y, predicted):\n",
    "    mae, mse, rmse, mape, r2 = metrics(y, predicted)\n",
    "    print(f\"Mean Absolute Error (MAE): {mae:.2f}\")\n",
    "    print(f\"Mean Squared Error (MSE): {mse:.2f}\")\n",
    "    print(f\"Root Mean Squared Error (RMSE): {rmse:.2f}\")\n",
    "    print(f\"Mean Absolute Percentage Error (MAPE): {mape:.2f}%\")\n",
    "    print(f\"R-Squared (R²): {r2:.2f}\")"
   ]
  },
  {
   "cell_type": "code",
   "execution_count": 135,
   "metadata": {},
   "outputs": [],
   "source": [
    "import numpy as np\n",
    "from sklearn.metrics import mean_squared_error\n",
    "\n",
    "def permutation_importance_prophet(model, df, regressors, y_true, metric=mean_squared_error):\n",
    "    \"\"\"\n",
    "    Calculates Permutation Feature Importance for a Prophet model.\n",
    "\n",
    "    Parameters:\n",
    "        model: Trained Prophet model.\n",
    "        df: DataFrame containing the input data, including regressors.\n",
    "        regressors: List of exogenous variables (regressors) used in the model.\n",
    "        y_true: True values of the target variable.\n",
    "        metric: Metric function to evaluate model performance (default: MSE).\n",
    "\n",
    "    Returns:\n",
    "        importances: Dictionary with feature importance scores for each regressor.\n",
    "    \"\"\"\n",
    "    # Predict the baseline performance\n",
    "    baseline_pred = model.predict(df)['yhat']\n",
    "    baseline_score = metric(y_true, baseline_pred)\n",
    "    importances = {}\n",
    "\n",
    "    # Iterate over each regressor\n",
    "    for regressor in regressors:\n",
    "        df_permuted = df.copy()\n",
    "        # Permute the values of the current regressor\n",
    "        df_permuted[regressor] = np.random.permutation(df_permuted[regressor])\n",
    "        \n",
    "        # Predict with the permuted data\n",
    "        permuted_pred = model.predict(df_permuted)['yhat']\n",
    "        permuted_score = metric(y_true, permuted_pred)\n",
    "        \n",
    "        # Importance = difference between the original and permuted scores\n",
    "        importance = permuted_score - baseline_score\n",
    "        importances[regressor] = importance\n",
    "    \n",
    "    return importances"
   ]
  },
  {
   "cell_type": "code",
   "execution_count": 136,
   "metadata": {},
   "outputs": [],
   "source": [
    "import matplotlib.pyplot as plt\n",
    "\n",
    "def plot_permutation_importance(importances):\n",
    "    \"\"\"\n",
    "    Plots feature importance scores as a horizontal bar chart.\n",
    "    \n",
    "    Parameters:\n",
    "        importances: Dictionary with feature names as keys and importance scores as values.\n",
    "    \"\"\"\n",
    "    # Sort the importances in descending order\n",
    "    sorted_importances = sorted(importances.items(), key=lambda x: x[1], reverse=True)\n",
    "    features, scores = zip(*sorted_importances)\n",
    "    \n",
    "    # Plot the bar chart\n",
    "    plt.figure(figsize=(10, 6))\n",
    "    plt.barh(features, scores, color=\"skyblue\")\n",
    "    plt.xlabel(\"Permutation Importance (Change in Metric)\")\n",
    "    plt.title(\"Permutation Feature Importance for Prophet Model\")\n",
    "    plt.gca().invert_yaxis()  # Invert the y-axis to show the most important feature on top\n",
    "    plt.grid(axis=\"x\", linestyle=\"--\", alpha=0.5)\n",
    "    plt.show()"
   ]
  },
  {
   "cell_type": "markdown",
   "metadata": {
    "id": "aJURGuzJGqzX",
    "jp-MarkdownHeadingCollapsed": true
   },
   "source": [
    "# 02.Importing Dataset"
   ]
  },
  {
   "cell_type": "code",
   "execution_count": 137,
   "metadata": {
    "id": "VJkT1YxLGqW5"
   },
   "outputs": [
    {
     "data": {
      "text/html": [
       "<div>\n",
       "<style scoped>\n",
       "    .dataframe tbody tr th:only-of-type {\n",
       "        vertical-align: middle;\n",
       "    }\n",
       "\n",
       "    .dataframe tbody tr th {\n",
       "        vertical-align: top;\n",
       "    }\n",
       "\n",
       "    .dataframe thead th {\n",
       "        text-align: right;\n",
       "    }\n",
       "</style>\n",
       "<table border=\"1\" class=\"dataframe\">\n",
       "  <thead>\n",
       "    <tr style=\"text-align: right;\">\n",
       "      <th></th>\n",
       "      <th>hospitalizations</th>\n",
       "      <th>hospitalizations_lag_3</th>\n",
       "      <th>average_stay_lag_3</th>\n",
       "      <th>deaths_lag_3</th>\n",
       "      <th>mortality_rate_lag_3</th>\n",
       "      <th>hospitalizations_lag_3_12m_window</th>\n",
       "      <th>average_stay_lag_3_12m_window</th>\n",
       "      <th>deaths_lag_3_12m_window</th>\n",
       "      <th>mortality_rate_lag_3_12m_window</th>\n",
       "      <th>heat_index</th>\n",
       "      <th>...</th>\n",
       "      <th>heat_index99</th>\n",
       "      <th>heat_index95</th>\n",
       "      <th>temperature_mean</th>\n",
       "      <th>temperature_max</th>\n",
       "      <th>temperature_min</th>\n",
       "      <th>wind_speed_mean</th>\n",
       "      <th>humidity_mean</th>\n",
       "      <th>lag_heat_index_1</th>\n",
       "      <th>lag_heat_index_2</th>\n",
       "      <th>lag_heat_index_3</th>\n",
       "    </tr>\n",
       "    <tr>\n",
       "      <th>date</th>\n",
       "      <th></th>\n",
       "      <th></th>\n",
       "      <th></th>\n",
       "      <th></th>\n",
       "      <th></th>\n",
       "      <th></th>\n",
       "      <th></th>\n",
       "      <th></th>\n",
       "      <th></th>\n",
       "      <th></th>\n",
       "      <th></th>\n",
       "      <th></th>\n",
       "      <th></th>\n",
       "      <th></th>\n",
       "      <th></th>\n",
       "      <th></th>\n",
       "      <th></th>\n",
       "      <th></th>\n",
       "      <th></th>\n",
       "      <th></th>\n",
       "      <th></th>\n",
       "    </tr>\n",
       "  </thead>\n",
       "  <tbody>\n",
       "    <tr>\n",
       "      <th>2000-12-01</th>\n",
       "      <td>4266.0</td>\n",
       "      <td>4365.0</td>\n",
       "      <td>6.4</td>\n",
       "      <td>293.0</td>\n",
       "      <td>6.71</td>\n",
       "      <td>4277.500000</td>\n",
       "      <td>5.900000</td>\n",
       "      <td>245.333333</td>\n",
       "      <td>5.728333</td>\n",
       "      <td>24.154261</td>\n",
       "      <td>...</td>\n",
       "      <td>37.8966</td>\n",
       "      <td>33.5380</td>\n",
       "      <td>23.575000</td>\n",
       "      <td>35.4</td>\n",
       "      <td>13.4</td>\n",
       "      <td>1.826613</td>\n",
       "      <td>70.836022</td>\n",
       "      <td>21.132403</td>\n",
       "      <td>19.318992</td>\n",
       "      <td>15.300694</td>\n",
       "    </tr>\n",
       "    <tr>\n",
       "      <th>2001-01-01</th>\n",
       "      <td>4032.0</td>\n",
       "      <td>4388.0</td>\n",
       "      <td>6.3</td>\n",
       "      <td>275.0</td>\n",
       "      <td>6.27</td>\n",
       "      <td>4257.250000</td>\n",
       "      <td>5.925000</td>\n",
       "      <td>246.250000</td>\n",
       "      <td>5.775833</td>\n",
       "      <td>26.316156</td>\n",
       "      <td>...</td>\n",
       "      <td>37.8471</td>\n",
       "      <td>34.6685</td>\n",
       "      <td>25.136962</td>\n",
       "      <td>35.4</td>\n",
       "      <td>17.0</td>\n",
       "      <td>1.777016</td>\n",
       "      <td>75.375000</td>\n",
       "      <td>24.154261</td>\n",
       "      <td>21.132403</td>\n",
       "      <td>19.318992</td>\n",
       "    </tr>\n",
       "    <tr>\n",
       "      <th>2001-02-01</th>\n",
       "      <td>3888.0</td>\n",
       "      <td>4329.0</td>\n",
       "      <td>6.1</td>\n",
       "      <td>258.0</td>\n",
       "      <td>5.96</td>\n",
       "      <td>4256.583333</td>\n",
       "      <td>5.933333</td>\n",
       "      <td>248.083333</td>\n",
       "      <td>5.819167</td>\n",
       "      <td>27.119464</td>\n",
       "      <td>...</td>\n",
       "      <td>37.7548</td>\n",
       "      <td>35.3940</td>\n",
       "      <td>25.691071</td>\n",
       "      <td>34.2</td>\n",
       "      <td>20.2</td>\n",
       "      <td>1.916518</td>\n",
       "      <td>76.424107</td>\n",
       "      <td>26.316156</td>\n",
       "      <td>24.154261</td>\n",
       "      <td>21.132403</td>\n",
       "    </tr>\n",
       "    <tr>\n",
       "      <th>2001-03-01</th>\n",
       "      <td>3658.0</td>\n",
       "      <td>4266.0</td>\n",
       "      <td>6.1</td>\n",
       "      <td>242.0</td>\n",
       "      <td>5.67</td>\n",
       "      <td>4265.166667</td>\n",
       "      <td>5.966667</td>\n",
       "      <td>250.833333</td>\n",
       "      <td>5.873333</td>\n",
       "      <td>26.113387</td>\n",
       "      <td>...</td>\n",
       "      <td>36.7670</td>\n",
       "      <td>34.4155</td>\n",
       "      <td>24.985349</td>\n",
       "      <td>34.4</td>\n",
       "      <td>16.3</td>\n",
       "      <td>1.629704</td>\n",
       "      <td>76.383065</td>\n",
       "      <td>27.119464</td>\n",
       "      <td>26.316156</td>\n",
       "      <td>24.154261</td>\n",
       "    </tr>\n",
       "    <tr>\n",
       "      <th>2001-04-01</th>\n",
       "      <td>4022.0</td>\n",
       "      <td>4032.0</td>\n",
       "      <td>5.9</td>\n",
       "      <td>218.0</td>\n",
       "      <td>5.41</td>\n",
       "      <td>4263.833333</td>\n",
       "      <td>5.975000</td>\n",
       "      <td>250.666667</td>\n",
       "      <td>5.871667</td>\n",
       "      <td>21.383903</td>\n",
       "      <td>...</td>\n",
       "      <td>31.0030</td>\n",
       "      <td>28.0215</td>\n",
       "      <td>21.038333</td>\n",
       "      <td>30.8</td>\n",
       "      <td>11.9</td>\n",
       "      <td>1.455139</td>\n",
       "      <td>81.152778</td>\n",
       "      <td>26.113387</td>\n",
       "      <td>27.119464</td>\n",
       "      <td>26.316156</td>\n",
       "    </tr>\n",
       "    <tr>\n",
       "      <th>...</th>\n",
       "      <td>...</td>\n",
       "      <td>...</td>\n",
       "      <td>...</td>\n",
       "      <td>...</td>\n",
       "      <td>...</td>\n",
       "      <td>...</td>\n",
       "      <td>...</td>\n",
       "      <td>...</td>\n",
       "      <td>...</td>\n",
       "      <td>...</td>\n",
       "      <td>...</td>\n",
       "      <td>...</td>\n",
       "      <td>...</td>\n",
       "      <td>...</td>\n",
       "      <td>...</td>\n",
       "      <td>...</td>\n",
       "      <td>...</td>\n",
       "      <td>...</td>\n",
       "      <td>...</td>\n",
       "      <td>...</td>\n",
       "      <td>...</td>\n",
       "    </tr>\n",
       "    <tr>\n",
       "      <th>2024-05-01</th>\n",
       "      <td>3172.0</td>\n",
       "      <td>3176.0</td>\n",
       "      <td>6.4</td>\n",
       "      <td>264.0</td>\n",
       "      <td>8.31</td>\n",
       "      <td>3490.333333</td>\n",
       "      <td>6.950000</td>\n",
       "      <td>316.416667</td>\n",
       "      <td>9.045833</td>\n",
       "      <td>16.708185</td>\n",
       "      <td>...</td>\n",
       "      <td>33.1822</td>\n",
       "      <td>27.3330</td>\n",
       "      <td>16.684946</td>\n",
       "      <td>32.5</td>\n",
       "      <td>7.1</td>\n",
       "      <td>1.345027</td>\n",
       "      <td>85.837366</td>\n",
       "      <td>22.136556</td>\n",
       "      <td>25.621075</td>\n",
       "      <td>27.636221</td>\n",
       "    </tr>\n",
       "    <tr>\n",
       "      <th>2024-06-01</th>\n",
       "      <td>3640.0</td>\n",
       "      <td>3390.0</td>\n",
       "      <td>6.7</td>\n",
       "      <td>277.0</td>\n",
       "      <td>8.17</td>\n",
       "      <td>3503.083333</td>\n",
       "      <td>6.916667</td>\n",
       "      <td>316.500000</td>\n",
       "      <td>9.015833</td>\n",
       "      <td>17.283889</td>\n",
       "      <td>...</td>\n",
       "      <td>29.7834</td>\n",
       "      <td>26.8025</td>\n",
       "      <td>17.371111</td>\n",
       "      <td>31.5</td>\n",
       "      <td>4.6</td>\n",
       "      <td>1.265139</td>\n",
       "      <td>80.636111</td>\n",
       "      <td>16.708185</td>\n",
       "      <td>22.136556</td>\n",
       "      <td>25.621075</td>\n",
       "    </tr>\n",
       "    <tr>\n",
       "      <th>2024-07-01</th>\n",
       "      <td>3689.0</td>\n",
       "      <td>3329.0</td>\n",
       "      <td>6.5</td>\n",
       "      <td>308.0</td>\n",
       "      <td>9.25</td>\n",
       "      <td>3510.166667</td>\n",
       "      <td>6.891667</td>\n",
       "      <td>321.500000</td>\n",
       "      <td>9.150000</td>\n",
       "      <td>13.313495</td>\n",
       "      <td>...</td>\n",
       "      <td>26.8167</td>\n",
       "      <td>21.7780</td>\n",
       "      <td>13.736022</td>\n",
       "      <td>28.9</td>\n",
       "      <td>3.4</td>\n",
       "      <td>1.123387</td>\n",
       "      <td>81.887097</td>\n",
       "      <td>17.283889</td>\n",
       "      <td>16.708185</td>\n",
       "      <td>22.136556</td>\n",
       "    </tr>\n",
       "    <tr>\n",
       "      <th>2024-08-01</th>\n",
       "      <td>3846.0</td>\n",
       "      <td>3172.0</td>\n",
       "      <td>6.7</td>\n",
       "      <td>313.0</td>\n",
       "      <td>9.87</td>\n",
       "      <td>3497.666667</td>\n",
       "      <td>6.866667</td>\n",
       "      <td>319.500000</td>\n",
       "      <td>9.127500</td>\n",
       "      <td>15.274395</td>\n",
       "      <td>...</td>\n",
       "      <td>28.9485</td>\n",
       "      <td>24.4525</td>\n",
       "      <td>15.594758</td>\n",
       "      <td>31.1</td>\n",
       "      <td>4.5</td>\n",
       "      <td>1.394892</td>\n",
       "      <td>78.956989</td>\n",
       "      <td>13.313495</td>\n",
       "      <td>17.283889</td>\n",
       "      <td>16.708185</td>\n",
       "    </tr>\n",
       "    <tr>\n",
       "      <th>2024-09-01</th>\n",
       "      <td>3426.0</td>\n",
       "      <td>3640.0</td>\n",
       "      <td>6.6</td>\n",
       "      <td>329.0</td>\n",
       "      <td>9.04</td>\n",
       "      <td>3519.833333</td>\n",
       "      <td>6.850000</td>\n",
       "      <td>318.750000</td>\n",
       "      <td>9.045833</td>\n",
       "      <td>18.789722</td>\n",
       "      <td>...</td>\n",
       "      <td>31.8239</td>\n",
       "      <td>26.9330</td>\n",
       "      <td>18.740278</td>\n",
       "      <td>33.7</td>\n",
       "      <td>9.0</td>\n",
       "      <td>1.534722</td>\n",
       "      <td>80.148611</td>\n",
       "      <td>15.274395</td>\n",
       "      <td>13.313495</td>\n",
       "      <td>17.283889</td>\n",
       "    </tr>\n",
       "  </tbody>\n",
       "</table>\n",
       "<p>286 rows × 22 columns</p>\n",
       "</div>"
      ],
      "text/plain": [
       "            hospitalizations  hospitalizations_lag_3  average_stay_lag_3  \\\n",
       "date                                                                       \n",
       "2000-12-01            4266.0                  4365.0                 6.4   \n",
       "2001-01-01            4032.0                  4388.0                 6.3   \n",
       "2001-02-01            3888.0                  4329.0                 6.1   \n",
       "2001-03-01            3658.0                  4266.0                 6.1   \n",
       "2001-04-01            4022.0                  4032.0                 5.9   \n",
       "...                      ...                     ...                 ...   \n",
       "2024-05-01            3172.0                  3176.0                 6.4   \n",
       "2024-06-01            3640.0                  3390.0                 6.7   \n",
       "2024-07-01            3689.0                  3329.0                 6.5   \n",
       "2024-08-01            3846.0                  3172.0                 6.7   \n",
       "2024-09-01            3426.0                  3640.0                 6.6   \n",
       "\n",
       "            deaths_lag_3  mortality_rate_lag_3  \\\n",
       "date                                             \n",
       "2000-12-01         293.0                  6.71   \n",
       "2001-01-01         275.0                  6.27   \n",
       "2001-02-01         258.0                  5.96   \n",
       "2001-03-01         242.0                  5.67   \n",
       "2001-04-01         218.0                  5.41   \n",
       "...                  ...                   ...   \n",
       "2024-05-01         264.0                  8.31   \n",
       "2024-06-01         277.0                  8.17   \n",
       "2024-07-01         308.0                  9.25   \n",
       "2024-08-01         313.0                  9.87   \n",
       "2024-09-01         329.0                  9.04   \n",
       "\n",
       "            hospitalizations_lag_3_12m_window  average_stay_lag_3_12m_window  \\\n",
       "date                                                                           \n",
       "2000-12-01                        4277.500000                       5.900000   \n",
       "2001-01-01                        4257.250000                       5.925000   \n",
       "2001-02-01                        4256.583333                       5.933333   \n",
       "2001-03-01                        4265.166667                       5.966667   \n",
       "2001-04-01                        4263.833333                       5.975000   \n",
       "...                                       ...                            ...   \n",
       "2024-05-01                        3490.333333                       6.950000   \n",
       "2024-06-01                        3503.083333                       6.916667   \n",
       "2024-07-01                        3510.166667                       6.891667   \n",
       "2024-08-01                        3497.666667                       6.866667   \n",
       "2024-09-01                        3519.833333                       6.850000   \n",
       "\n",
       "            deaths_lag_3_12m_window  mortality_rate_lag_3_12m_window  \\\n",
       "date                                                                   \n",
       "2000-12-01               245.333333                         5.728333   \n",
       "2001-01-01               246.250000                         5.775833   \n",
       "2001-02-01               248.083333                         5.819167   \n",
       "2001-03-01               250.833333                         5.873333   \n",
       "2001-04-01               250.666667                         5.871667   \n",
       "...                             ...                              ...   \n",
       "2024-05-01               316.416667                         9.045833   \n",
       "2024-06-01               316.500000                         9.015833   \n",
       "2024-07-01               321.500000                         9.150000   \n",
       "2024-08-01               319.500000                         9.127500   \n",
       "2024-09-01               318.750000                         9.045833   \n",
       "\n",
       "            heat_index  ...  heat_index99  heat_index95  temperature_mean  \\\n",
       "date                    ...                                                 \n",
       "2000-12-01   24.154261  ...       37.8966       33.5380         23.575000   \n",
       "2001-01-01   26.316156  ...       37.8471       34.6685         25.136962   \n",
       "2001-02-01   27.119464  ...       37.7548       35.3940         25.691071   \n",
       "2001-03-01   26.113387  ...       36.7670       34.4155         24.985349   \n",
       "2001-04-01   21.383903  ...       31.0030       28.0215         21.038333   \n",
       "...                ...  ...           ...           ...               ...   \n",
       "2024-05-01   16.708185  ...       33.1822       27.3330         16.684946   \n",
       "2024-06-01   17.283889  ...       29.7834       26.8025         17.371111   \n",
       "2024-07-01   13.313495  ...       26.8167       21.7780         13.736022   \n",
       "2024-08-01   15.274395  ...       28.9485       24.4525         15.594758   \n",
       "2024-09-01   18.789722  ...       31.8239       26.9330         18.740278   \n",
       "\n",
       "            temperature_max  temperature_min  wind_speed_mean  humidity_mean  \\\n",
       "date                                                                           \n",
       "2000-12-01             35.4             13.4         1.826613      70.836022   \n",
       "2001-01-01             35.4             17.0         1.777016      75.375000   \n",
       "2001-02-01             34.2             20.2         1.916518      76.424107   \n",
       "2001-03-01             34.4             16.3         1.629704      76.383065   \n",
       "2001-04-01             30.8             11.9         1.455139      81.152778   \n",
       "...                     ...              ...              ...            ...   \n",
       "2024-05-01             32.5              7.1         1.345027      85.837366   \n",
       "2024-06-01             31.5              4.6         1.265139      80.636111   \n",
       "2024-07-01             28.9              3.4         1.123387      81.887097   \n",
       "2024-08-01             31.1              4.5         1.394892      78.956989   \n",
       "2024-09-01             33.7              9.0         1.534722      80.148611   \n",
       "\n",
       "            lag_heat_index_1  lag_heat_index_2  lag_heat_index_3  \n",
       "date                                                              \n",
       "2000-12-01         21.132403         19.318992         15.300694  \n",
       "2001-01-01         24.154261         21.132403         19.318992  \n",
       "2001-02-01         26.316156         24.154261         21.132403  \n",
       "2001-03-01         27.119464         26.316156         24.154261  \n",
       "2001-04-01         26.113387         27.119464         26.316156  \n",
       "...                      ...               ...               ...  \n",
       "2024-05-01         22.136556         25.621075         27.636221  \n",
       "2024-06-01         16.708185         22.136556         25.621075  \n",
       "2024-07-01         17.283889         16.708185         22.136556  \n",
       "2024-08-01         13.313495         17.283889         16.708185  \n",
       "2024-09-01         15.274395         13.313495         17.283889  \n",
       "\n",
       "[286 rows x 22 columns]"
      ]
     },
     "execution_count": 137,
     "metadata": {},
     "output_type": "execute_result"
    }
   ],
   "source": [
    "dataset = pd.read_csv('../../Preprocessing/dataset.csv', \n",
    "                   header=0, \n",
    "                   index_col=0)\n",
    "\n",
    "dataset"
   ]
  },
  {
   "cell_type": "code",
   "execution_count": 138,
   "metadata": {},
   "outputs": [
    {
     "data": {
      "text/html": [
       "<div>\n",
       "<style scoped>\n",
       "    .dataframe tbody tr th:only-of-type {\n",
       "        vertical-align: middle;\n",
       "    }\n",
       "\n",
       "    .dataframe tbody tr th {\n",
       "        vertical-align: top;\n",
       "    }\n",
       "\n",
       "    .dataframe thead th {\n",
       "        text-align: right;\n",
       "    }\n",
       "</style>\n",
       "<table border=\"1\" class=\"dataframe\">\n",
       "  <thead>\n",
       "    <tr style=\"text-align: right;\">\n",
       "      <th></th>\n",
       "      <th>hospitalizations</th>\n",
       "      <th>hospitalizations_lag_3</th>\n",
       "      <th>average_stay_lag_3</th>\n",
       "      <th>deaths_lag_3</th>\n",
       "      <th>mortality_rate_lag_3</th>\n",
       "      <th>hospitalizations_lag_3_12m_window</th>\n",
       "      <th>average_stay_lag_3_12m_window</th>\n",
       "      <th>deaths_lag_3_12m_window</th>\n",
       "      <th>mortality_rate_lag_3_12m_window</th>\n",
       "      <th>heat_index</th>\n",
       "      <th>...</th>\n",
       "      <th>heat_index99</th>\n",
       "      <th>heat_index95</th>\n",
       "      <th>temperature_mean</th>\n",
       "      <th>temperature_max</th>\n",
       "      <th>temperature_min</th>\n",
       "      <th>wind_speed_mean</th>\n",
       "      <th>humidity_mean</th>\n",
       "      <th>lag_heat_index_1</th>\n",
       "      <th>lag_heat_index_2</th>\n",
       "      <th>lag_heat_index_3</th>\n",
       "    </tr>\n",
       "    <tr>\n",
       "      <th>date</th>\n",
       "      <th></th>\n",
       "      <th></th>\n",
       "      <th></th>\n",
       "      <th></th>\n",
       "      <th></th>\n",
       "      <th></th>\n",
       "      <th></th>\n",
       "      <th></th>\n",
       "      <th></th>\n",
       "      <th></th>\n",
       "      <th></th>\n",
       "      <th></th>\n",
       "      <th></th>\n",
       "      <th></th>\n",
       "      <th></th>\n",
       "      <th></th>\n",
       "      <th></th>\n",
       "      <th></th>\n",
       "      <th></th>\n",
       "      <th></th>\n",
       "      <th></th>\n",
       "    </tr>\n",
       "  </thead>\n",
       "  <tbody>\n",
       "    <tr>\n",
       "      <th>2000-12-01</th>\n",
       "      <td>4266.0</td>\n",
       "      <td>4365.0</td>\n",
       "      <td>6.4</td>\n",
       "      <td>293.0</td>\n",
       "      <td>6.71</td>\n",
       "      <td>4277.500000</td>\n",
       "      <td>5.900000</td>\n",
       "      <td>245.333333</td>\n",
       "      <td>5.728333</td>\n",
       "      <td>24.154261</td>\n",
       "      <td>...</td>\n",
       "      <td>37.8966</td>\n",
       "      <td>33.5380</td>\n",
       "      <td>23.575000</td>\n",
       "      <td>35.4</td>\n",
       "      <td>13.4</td>\n",
       "      <td>1.826613</td>\n",
       "      <td>70.836022</td>\n",
       "      <td>21.132403</td>\n",
       "      <td>19.318992</td>\n",
       "      <td>15.300694</td>\n",
       "    </tr>\n",
       "    <tr>\n",
       "      <th>2001-01-01</th>\n",
       "      <td>4032.0</td>\n",
       "      <td>4388.0</td>\n",
       "      <td>6.3</td>\n",
       "      <td>275.0</td>\n",
       "      <td>6.27</td>\n",
       "      <td>4257.250000</td>\n",
       "      <td>5.925000</td>\n",
       "      <td>246.250000</td>\n",
       "      <td>5.775833</td>\n",
       "      <td>26.316156</td>\n",
       "      <td>...</td>\n",
       "      <td>37.8471</td>\n",
       "      <td>34.6685</td>\n",
       "      <td>25.136962</td>\n",
       "      <td>35.4</td>\n",
       "      <td>17.0</td>\n",
       "      <td>1.777016</td>\n",
       "      <td>75.375000</td>\n",
       "      <td>24.154261</td>\n",
       "      <td>21.132403</td>\n",
       "      <td>19.318992</td>\n",
       "    </tr>\n",
       "    <tr>\n",
       "      <th>2001-02-01</th>\n",
       "      <td>3888.0</td>\n",
       "      <td>4329.0</td>\n",
       "      <td>6.1</td>\n",
       "      <td>258.0</td>\n",
       "      <td>5.96</td>\n",
       "      <td>4256.583333</td>\n",
       "      <td>5.933333</td>\n",
       "      <td>248.083333</td>\n",
       "      <td>5.819167</td>\n",
       "      <td>27.119464</td>\n",
       "      <td>...</td>\n",
       "      <td>37.7548</td>\n",
       "      <td>35.3940</td>\n",
       "      <td>25.691071</td>\n",
       "      <td>34.2</td>\n",
       "      <td>20.2</td>\n",
       "      <td>1.916518</td>\n",
       "      <td>76.424107</td>\n",
       "      <td>26.316156</td>\n",
       "      <td>24.154261</td>\n",
       "      <td>21.132403</td>\n",
       "    </tr>\n",
       "    <tr>\n",
       "      <th>2001-03-01</th>\n",
       "      <td>3658.0</td>\n",
       "      <td>4266.0</td>\n",
       "      <td>6.1</td>\n",
       "      <td>242.0</td>\n",
       "      <td>5.67</td>\n",
       "      <td>4265.166667</td>\n",
       "      <td>5.966667</td>\n",
       "      <td>250.833333</td>\n",
       "      <td>5.873333</td>\n",
       "      <td>26.113387</td>\n",
       "      <td>...</td>\n",
       "      <td>36.7670</td>\n",
       "      <td>34.4155</td>\n",
       "      <td>24.985349</td>\n",
       "      <td>34.4</td>\n",
       "      <td>16.3</td>\n",
       "      <td>1.629704</td>\n",
       "      <td>76.383065</td>\n",
       "      <td>27.119464</td>\n",
       "      <td>26.316156</td>\n",
       "      <td>24.154261</td>\n",
       "    </tr>\n",
       "    <tr>\n",
       "      <th>2001-04-01</th>\n",
       "      <td>4022.0</td>\n",
       "      <td>4032.0</td>\n",
       "      <td>5.9</td>\n",
       "      <td>218.0</td>\n",
       "      <td>5.41</td>\n",
       "      <td>4263.833333</td>\n",
       "      <td>5.975000</td>\n",
       "      <td>250.666667</td>\n",
       "      <td>5.871667</td>\n",
       "      <td>21.383903</td>\n",
       "      <td>...</td>\n",
       "      <td>31.0030</td>\n",
       "      <td>28.0215</td>\n",
       "      <td>21.038333</td>\n",
       "      <td>30.8</td>\n",
       "      <td>11.9</td>\n",
       "      <td>1.455139</td>\n",
       "      <td>81.152778</td>\n",
       "      <td>26.113387</td>\n",
       "      <td>27.119464</td>\n",
       "      <td>26.316156</td>\n",
       "    </tr>\n",
       "  </tbody>\n",
       "</table>\n",
       "<p>5 rows × 22 columns</p>\n",
       "</div>"
      ],
      "text/plain": [
       "            hospitalizations  hospitalizations_lag_3  average_stay_lag_3  \\\n",
       "date                                                                       \n",
       "2000-12-01            4266.0                  4365.0                 6.4   \n",
       "2001-01-01            4032.0                  4388.0                 6.3   \n",
       "2001-02-01            3888.0                  4329.0                 6.1   \n",
       "2001-03-01            3658.0                  4266.0                 6.1   \n",
       "2001-04-01            4022.0                  4032.0                 5.9   \n",
       "\n",
       "            deaths_lag_3  mortality_rate_lag_3  \\\n",
       "date                                             \n",
       "2000-12-01         293.0                  6.71   \n",
       "2001-01-01         275.0                  6.27   \n",
       "2001-02-01         258.0                  5.96   \n",
       "2001-03-01         242.0                  5.67   \n",
       "2001-04-01         218.0                  5.41   \n",
       "\n",
       "            hospitalizations_lag_3_12m_window  average_stay_lag_3_12m_window  \\\n",
       "date                                                                           \n",
       "2000-12-01                        4277.500000                       5.900000   \n",
       "2001-01-01                        4257.250000                       5.925000   \n",
       "2001-02-01                        4256.583333                       5.933333   \n",
       "2001-03-01                        4265.166667                       5.966667   \n",
       "2001-04-01                        4263.833333                       5.975000   \n",
       "\n",
       "            deaths_lag_3_12m_window  mortality_rate_lag_3_12m_window  \\\n",
       "date                                                                   \n",
       "2000-12-01               245.333333                         5.728333   \n",
       "2001-01-01               246.250000                         5.775833   \n",
       "2001-02-01               248.083333                         5.819167   \n",
       "2001-03-01               250.833333                         5.873333   \n",
       "2001-04-01               250.666667                         5.871667   \n",
       "\n",
       "            heat_index  ...  heat_index99  heat_index95  temperature_mean  \\\n",
       "date                    ...                                                 \n",
       "2000-12-01   24.154261  ...       37.8966       33.5380         23.575000   \n",
       "2001-01-01   26.316156  ...       37.8471       34.6685         25.136962   \n",
       "2001-02-01   27.119464  ...       37.7548       35.3940         25.691071   \n",
       "2001-03-01   26.113387  ...       36.7670       34.4155         24.985349   \n",
       "2001-04-01   21.383903  ...       31.0030       28.0215         21.038333   \n",
       "\n",
       "            temperature_max  temperature_min  wind_speed_mean  humidity_mean  \\\n",
       "date                                                                           \n",
       "2000-12-01             35.4             13.4         1.826613      70.836022   \n",
       "2001-01-01             35.4             17.0         1.777016      75.375000   \n",
       "2001-02-01             34.2             20.2         1.916518      76.424107   \n",
       "2001-03-01             34.4             16.3         1.629704      76.383065   \n",
       "2001-04-01             30.8             11.9         1.455139      81.152778   \n",
       "\n",
       "            lag_heat_index_1  lag_heat_index_2  lag_heat_index_3  \n",
       "date                                                              \n",
       "2000-12-01         21.132403         19.318992         15.300694  \n",
       "2001-01-01         24.154261         21.132403         19.318992  \n",
       "2001-02-01         26.316156         24.154261         21.132403  \n",
       "2001-03-01         27.119464         26.316156         24.154261  \n",
       "2001-04-01         26.113387         27.119464         26.316156  \n",
       "\n",
       "[5 rows x 22 columns]"
      ]
     },
     "execution_count": 138,
     "metadata": {},
     "output_type": "execute_result"
    }
   ],
   "source": [
    "dataset.index = pd.to_datetime(dataset.index)\n",
    "\n",
    "dataset.head(5)"
   ]
  },
  {
   "cell_type": "code",
   "execution_count": 139,
   "metadata": {},
   "outputs": [
    {
     "data": {
      "text/plain": [
       "Index(['hospitalizations', 'hospitalizations_lag_3', 'average_stay_lag_3',\n",
       "       'deaths_lag_3', 'mortality_rate_lag_3',\n",
       "       'hospitalizations_lag_3_12m_window', 'average_stay_lag_3_12m_window',\n",
       "       'deaths_lag_3_12m_window', 'mortality_rate_lag_3_12m_window',\n",
       "       'heat_index', 'heat_index_sum', 'heat_index_std', 'heat_index99',\n",
       "       'heat_index95', 'temperature_mean', 'temperature_max',\n",
       "       'temperature_min', 'wind_speed_mean', 'humidity_mean',\n",
       "       'lag_heat_index_1', 'lag_heat_index_2', 'lag_heat_index_3'],\n",
       "      dtype='object')"
      ]
     },
     "execution_count": 139,
     "metadata": {},
     "output_type": "execute_result"
    }
   ],
   "source": [
    "dataset.columns"
   ]
  },
  {
   "cell_type": "markdown",
   "metadata": {
    "jp-MarkdownHeadingCollapsed": true
   },
   "source": [
    "# 03.Preprocessing"
   ]
  },
  {
   "cell_type": "markdown",
   "metadata": {
    "id": "a9LnNwGjHpsb"
   },
   "source": [
    "## 03.01 Remoção ano 2000"
   ]
  },
  {
   "cell_type": "code",
   "execution_count": 140,
   "metadata": {},
   "outputs": [],
   "source": [
    "dataset = dataset[dataset.index < \"2020-01-01\"]\n",
    "\n",
    "test_start_date = '2017-01-01'"
   ]
  },
  {
   "cell_type": "markdown",
   "metadata": {},
   "source": [
    "# 04.Model training"
   ]
  },
  {
   "cell_type": "markdown",
   "metadata": {
    "jp-MarkdownHeadingCollapsed": true
   },
   "source": [
    "## 04.01 Split train and test"
   ]
  },
  {
   "cell_type": "code",
   "execution_count": 141,
   "metadata": {},
   "outputs": [
    {
     "name": "stdout",
     "output_type": "stream",
     "text": [
      "(193, 21) (193,)\n",
      "(36, 21) (36,)\n"
     ]
    }
   ],
   "source": [
    "df_train, df_test, y_train, y_test = train_test_split(dataset, test_start_date, 'hospitalizations')"
   ]
  },
  {
   "cell_type": "markdown",
   "metadata": {
    "id": "-rYD_YiDM-nR",
    "jp-MarkdownHeadingCollapsed": true
   },
   "source": [
    "## 04.02 Normalization"
   ]
  },
  {
   "cell_type": "code",
   "execution_count": 142,
   "metadata": {
    "colab": {
     "base_uri": "https://localhost:8080/",
     "height": 424
    },
    "id": "86PR6TBUJdKu",
    "outputId": "d71657eb-abf1-493a-f6b6-582f13d69b32"
   },
   "outputs": [
    {
     "name": "stdout",
     "output_type": "stream",
     "text": [
      "(193, 21) (193, 1)\n",
      "(36, 21) (36, 1)\n"
     ]
    }
   ],
   "source": [
    "scaler, scaler_target, df_train_scaled, df_test_scaled, y_train_scaled, y_test_scaled = data_normalization(df_train, df_test, y_train, y_test)"
   ]
  },
  {
   "cell_type": "markdown",
   "metadata": {
    "jp-MarkdownHeadingCollapsed": true
   },
   "source": [
    "## 04.03 Prophet"
   ]
  },
  {
   "cell_type": "code",
   "execution_count": 143,
   "metadata": {},
   "outputs": [
    {
     "data": {
      "text/html": [
       "<div>\n",
       "<style scoped>\n",
       "    .dataframe tbody tr th:only-of-type {\n",
       "        vertical-align: middle;\n",
       "    }\n",
       "\n",
       "    .dataframe tbody tr th {\n",
       "        vertical-align: top;\n",
       "    }\n",
       "\n",
       "    .dataframe thead th {\n",
       "        text-align: right;\n",
       "    }\n",
       "</style>\n",
       "<table border=\"1\" class=\"dataframe\">\n",
       "  <thead>\n",
       "    <tr style=\"text-align: right;\">\n",
       "      <th></th>\n",
       "      <th>hospitalizations_lag_3</th>\n",
       "      <th>average_stay_lag_3</th>\n",
       "      <th>deaths_lag_3</th>\n",
       "      <th>mortality_rate_lag_3</th>\n",
       "      <th>hospitalizations_lag_3_12m_window</th>\n",
       "      <th>average_stay_lag_3_12m_window</th>\n",
       "      <th>deaths_lag_3_12m_window</th>\n",
       "      <th>mortality_rate_lag_3_12m_window</th>\n",
       "      <th>heat_index</th>\n",
       "      <th>heat_index_sum</th>\n",
       "      <th>...</th>\n",
       "      <th>heat_index99</th>\n",
       "      <th>heat_index95</th>\n",
       "      <th>temperature_mean</th>\n",
       "      <th>temperature_max</th>\n",
       "      <th>temperature_min</th>\n",
       "      <th>wind_speed_mean</th>\n",
       "      <th>humidity_mean</th>\n",
       "      <th>lag_heat_index_1</th>\n",
       "      <th>lag_heat_index_2</th>\n",
       "      <th>lag_heat_index_3</th>\n",
       "    </tr>\n",
       "    <tr>\n",
       "      <th>date</th>\n",
       "      <th></th>\n",
       "      <th></th>\n",
       "      <th></th>\n",
       "      <th></th>\n",
       "      <th></th>\n",
       "      <th></th>\n",
       "      <th></th>\n",
       "      <th></th>\n",
       "      <th></th>\n",
       "      <th></th>\n",
       "      <th></th>\n",
       "      <th></th>\n",
       "      <th></th>\n",
       "      <th></th>\n",
       "      <th></th>\n",
       "      <th></th>\n",
       "      <th></th>\n",
       "      <th></th>\n",
       "      <th></th>\n",
       "      <th></th>\n",
       "      <th></th>\n",
       "    </tr>\n",
       "  </thead>\n",
       "  <tbody>\n",
       "    <tr>\n",
       "      <th>2000-12-01</th>\n",
       "      <td>4365.0</td>\n",
       "      <td>6.4</td>\n",
       "      <td>293.0</td>\n",
       "      <td>6.71</td>\n",
       "      <td>4277.500000</td>\n",
       "      <td>5.900000</td>\n",
       "      <td>245.333333</td>\n",
       "      <td>5.728333</td>\n",
       "      <td>24.154261</td>\n",
       "      <td>17970.77</td>\n",
       "      <td>...</td>\n",
       "      <td>37.8966</td>\n",
       "      <td>33.5380</td>\n",
       "      <td>23.575000</td>\n",
       "      <td>35.4</td>\n",
       "      <td>13.4</td>\n",
       "      <td>1.826613</td>\n",
       "      <td>70.836022</td>\n",
       "      <td>21.132403</td>\n",
       "      <td>19.318992</td>\n",
       "      <td>15.300694</td>\n",
       "    </tr>\n",
       "    <tr>\n",
       "      <th>2001-01-01</th>\n",
       "      <td>4388.0</td>\n",
       "      <td>6.3</td>\n",
       "      <td>275.0</td>\n",
       "      <td>6.27</td>\n",
       "      <td>4257.250000</td>\n",
       "      <td>5.925000</td>\n",
       "      <td>246.250000</td>\n",
       "      <td>5.775833</td>\n",
       "      <td>26.316156</td>\n",
       "      <td>19579.22</td>\n",
       "      <td>...</td>\n",
       "      <td>37.8471</td>\n",
       "      <td>34.6685</td>\n",
       "      <td>25.136962</td>\n",
       "      <td>35.4</td>\n",
       "      <td>17.0</td>\n",
       "      <td>1.777016</td>\n",
       "      <td>75.375000</td>\n",
       "      <td>24.154261</td>\n",
       "      <td>21.132403</td>\n",
       "      <td>19.318992</td>\n",
       "    </tr>\n",
       "    <tr>\n",
       "      <th>2001-02-01</th>\n",
       "      <td>4329.0</td>\n",
       "      <td>6.1</td>\n",
       "      <td>258.0</td>\n",
       "      <td>5.96</td>\n",
       "      <td>4256.583333</td>\n",
       "      <td>5.933333</td>\n",
       "      <td>248.083333</td>\n",
       "      <td>5.819167</td>\n",
       "      <td>27.119464</td>\n",
       "      <td>18224.28</td>\n",
       "      <td>...</td>\n",
       "      <td>37.7548</td>\n",
       "      <td>35.3940</td>\n",
       "      <td>25.691071</td>\n",
       "      <td>34.2</td>\n",
       "      <td>20.2</td>\n",
       "      <td>1.916518</td>\n",
       "      <td>76.424107</td>\n",
       "      <td>26.316156</td>\n",
       "      <td>24.154261</td>\n",
       "      <td>21.132403</td>\n",
       "    </tr>\n",
       "    <tr>\n",
       "      <th>2001-03-01</th>\n",
       "      <td>4266.0</td>\n",
       "      <td>6.1</td>\n",
       "      <td>242.0</td>\n",
       "      <td>5.67</td>\n",
       "      <td>4265.166667</td>\n",
       "      <td>5.966667</td>\n",
       "      <td>250.833333</td>\n",
       "      <td>5.873333</td>\n",
       "      <td>26.113387</td>\n",
       "      <td>19428.36</td>\n",
       "      <td>...</td>\n",
       "      <td>36.7670</td>\n",
       "      <td>34.4155</td>\n",
       "      <td>24.985349</td>\n",
       "      <td>34.4</td>\n",
       "      <td>16.3</td>\n",
       "      <td>1.629704</td>\n",
       "      <td>76.383065</td>\n",
       "      <td>27.119464</td>\n",
       "      <td>26.316156</td>\n",
       "      <td>24.154261</td>\n",
       "    </tr>\n",
       "    <tr>\n",
       "      <th>2001-04-01</th>\n",
       "      <td>4032.0</td>\n",
       "      <td>5.9</td>\n",
       "      <td>218.0</td>\n",
       "      <td>5.41</td>\n",
       "      <td>4263.833333</td>\n",
       "      <td>5.975000</td>\n",
       "      <td>250.666667</td>\n",
       "      <td>5.871667</td>\n",
       "      <td>21.383903</td>\n",
       "      <td>15396.41</td>\n",
       "      <td>...</td>\n",
       "      <td>31.0030</td>\n",
       "      <td>28.0215</td>\n",
       "      <td>21.038333</td>\n",
       "      <td>30.8</td>\n",
       "      <td>11.9</td>\n",
       "      <td>1.455139</td>\n",
       "      <td>81.152778</td>\n",
       "      <td>26.113387</td>\n",
       "      <td>27.119464</td>\n",
       "      <td>26.316156</td>\n",
       "    </tr>\n",
       "    <tr>\n",
       "      <th>...</th>\n",
       "      <td>...</td>\n",
       "      <td>...</td>\n",
       "      <td>...</td>\n",
       "      <td>...</td>\n",
       "      <td>...</td>\n",
       "      <td>...</td>\n",
       "      <td>...</td>\n",
       "      <td>...</td>\n",
       "      <td>...</td>\n",
       "      <td>...</td>\n",
       "      <td>...</td>\n",
       "      <td>...</td>\n",
       "      <td>...</td>\n",
       "      <td>...</td>\n",
       "      <td>...</td>\n",
       "      <td>...</td>\n",
       "      <td>...</td>\n",
       "      <td>...</td>\n",
       "      <td>...</td>\n",
       "      <td>...</td>\n",
       "      <td>...</td>\n",
       "    </tr>\n",
       "    <tr>\n",
       "      <th>2016-08-01</th>\n",
       "      <td>3235.0</td>\n",
       "      <td>6.2</td>\n",
       "      <td>279.0</td>\n",
       "      <td>8.62</td>\n",
       "      <td>3379.250000</td>\n",
       "      <td>6.316667</td>\n",
       "      <td>298.500000</td>\n",
       "      <td>8.810000</td>\n",
       "      <td>16.035712</td>\n",
       "      <td>11930.57</td>\n",
       "      <td>...</td>\n",
       "      <td>31.7783</td>\n",
       "      <td>24.6685</td>\n",
       "      <td>16.246505</td>\n",
       "      <td>32.3</td>\n",
       "      <td>6.6</td>\n",
       "      <td>1.170565</td>\n",
       "      <td>80.104839</td>\n",
       "      <td>13.902984</td>\n",
       "      <td>11.039000</td>\n",
       "      <td>14.905067</td>\n",
       "    </tr>\n",
       "    <tr>\n",
       "      <th>2016-09-01</th>\n",
       "      <td>3267.0</td>\n",
       "      <td>6.4</td>\n",
       "      <td>353.0</td>\n",
       "      <td>10.81</td>\n",
       "      <td>3364.416667</td>\n",
       "      <td>6.300000</td>\n",
       "      <td>301.500000</td>\n",
       "      <td>8.944167</td>\n",
       "      <td>16.023625</td>\n",
       "      <td>11537.01</td>\n",
       "      <td>...</td>\n",
       "      <td>27.6624</td>\n",
       "      <td>23.7620</td>\n",
       "      <td>16.277917</td>\n",
       "      <td>31.2</td>\n",
       "      <td>8.8</td>\n",
       "      <td>1.671528</td>\n",
       "      <td>78.400000</td>\n",
       "      <td>16.035712</td>\n",
       "      <td>13.902984</td>\n",
       "      <td>11.039000</td>\n",
       "    </tr>\n",
       "    <tr>\n",
       "      <th>2016-10-01</th>\n",
       "      <td>3459.0</td>\n",
       "      <td>6.6</td>\n",
       "      <td>351.0</td>\n",
       "      <td>10.15</td>\n",
       "      <td>3359.500000</td>\n",
       "      <td>6.325000</td>\n",
       "      <td>300.083333</td>\n",
       "      <td>8.918333</td>\n",
       "      <td>19.317137</td>\n",
       "      <td>14371.95</td>\n",
       "      <td>...</td>\n",
       "      <td>30.3068</td>\n",
       "      <td>27.0685</td>\n",
       "      <td>19.240323</td>\n",
       "      <td>32.3</td>\n",
       "      <td>9.5</td>\n",
       "      <td>1.860484</td>\n",
       "      <td>78.583333</td>\n",
       "      <td>16.023625</td>\n",
       "      <td>16.035712</td>\n",
       "      <td>13.902984</td>\n",
       "    </tr>\n",
       "    <tr>\n",
       "      <th>2016-11-01</th>\n",
       "      <td>3514.0</td>\n",
       "      <td>6.6</td>\n",
       "      <td>342.0</td>\n",
       "      <td>9.73</td>\n",
       "      <td>3347.500000</td>\n",
       "      <td>6.341667</td>\n",
       "      <td>299.333333</td>\n",
       "      <td>8.929167</td>\n",
       "      <td>21.078250</td>\n",
       "      <td>15176.34</td>\n",
       "      <td>...</td>\n",
       "      <td>34.5125</td>\n",
       "      <td>30.1900</td>\n",
       "      <td>20.900278</td>\n",
       "      <td>34.7</td>\n",
       "      <td>9.9</td>\n",
       "      <td>1.528333</td>\n",
       "      <td>73.044444</td>\n",
       "      <td>19.317137</td>\n",
       "      <td>16.023625</td>\n",
       "      <td>16.035712</td>\n",
       "    </tr>\n",
       "    <tr>\n",
       "      <th>2016-12-01</th>\n",
       "      <td>3403.0</td>\n",
       "      <td>6.7</td>\n",
       "      <td>307.0</td>\n",
       "      <td>9.02</td>\n",
       "      <td>3345.416667</td>\n",
       "      <td>6.366667</td>\n",
       "      <td>299.083333</td>\n",
       "      <td>8.927500</td>\n",
       "      <td>25.353427</td>\n",
       "      <td>18862.95</td>\n",
       "      <td>...</td>\n",
       "      <td>39.4928</td>\n",
       "      <td>34.9400</td>\n",
       "      <td>24.416129</td>\n",
       "      <td>37.9</td>\n",
       "      <td>14.7</td>\n",
       "      <td>1.568011</td>\n",
       "      <td>72.719086</td>\n",
       "      <td>21.078250</td>\n",
       "      <td>19.317137</td>\n",
       "      <td>16.023625</td>\n",
       "    </tr>\n",
       "  </tbody>\n",
       "</table>\n",
       "<p>193 rows × 21 columns</p>\n",
       "</div>"
      ],
      "text/plain": [
       "            hospitalizations_lag_3  average_stay_lag_3  deaths_lag_3  \\\n",
       "date                                                                   \n",
       "2000-12-01                  4365.0                 6.4         293.0   \n",
       "2001-01-01                  4388.0                 6.3         275.0   \n",
       "2001-02-01                  4329.0                 6.1         258.0   \n",
       "2001-03-01                  4266.0                 6.1         242.0   \n",
       "2001-04-01                  4032.0                 5.9         218.0   \n",
       "...                            ...                 ...           ...   \n",
       "2016-08-01                  3235.0                 6.2         279.0   \n",
       "2016-09-01                  3267.0                 6.4         353.0   \n",
       "2016-10-01                  3459.0                 6.6         351.0   \n",
       "2016-11-01                  3514.0                 6.6         342.0   \n",
       "2016-12-01                  3403.0                 6.7         307.0   \n",
       "\n",
       "            mortality_rate_lag_3  hospitalizations_lag_3_12m_window  \\\n",
       "date                                                                  \n",
       "2000-12-01                  6.71                        4277.500000   \n",
       "2001-01-01                  6.27                        4257.250000   \n",
       "2001-02-01                  5.96                        4256.583333   \n",
       "2001-03-01                  5.67                        4265.166667   \n",
       "2001-04-01                  5.41                        4263.833333   \n",
       "...                          ...                                ...   \n",
       "2016-08-01                  8.62                        3379.250000   \n",
       "2016-09-01                 10.81                        3364.416667   \n",
       "2016-10-01                 10.15                        3359.500000   \n",
       "2016-11-01                  9.73                        3347.500000   \n",
       "2016-12-01                  9.02                        3345.416667   \n",
       "\n",
       "            average_stay_lag_3_12m_window  deaths_lag_3_12m_window  \\\n",
       "date                                                                 \n",
       "2000-12-01                       5.900000               245.333333   \n",
       "2001-01-01                       5.925000               246.250000   \n",
       "2001-02-01                       5.933333               248.083333   \n",
       "2001-03-01                       5.966667               250.833333   \n",
       "2001-04-01                       5.975000               250.666667   \n",
       "...                                   ...                      ...   \n",
       "2016-08-01                       6.316667               298.500000   \n",
       "2016-09-01                       6.300000               301.500000   \n",
       "2016-10-01                       6.325000               300.083333   \n",
       "2016-11-01                       6.341667               299.333333   \n",
       "2016-12-01                       6.366667               299.083333   \n",
       "\n",
       "            mortality_rate_lag_3_12m_window  heat_index  heat_index_sum  ...  \\\n",
       "date                                                                     ...   \n",
       "2000-12-01                         5.728333   24.154261        17970.77  ...   \n",
       "2001-01-01                         5.775833   26.316156        19579.22  ...   \n",
       "2001-02-01                         5.819167   27.119464        18224.28  ...   \n",
       "2001-03-01                         5.873333   26.113387        19428.36  ...   \n",
       "2001-04-01                         5.871667   21.383903        15396.41  ...   \n",
       "...                                     ...         ...             ...  ...   \n",
       "2016-08-01                         8.810000   16.035712        11930.57  ...   \n",
       "2016-09-01                         8.944167   16.023625        11537.01  ...   \n",
       "2016-10-01                         8.918333   19.317137        14371.95  ...   \n",
       "2016-11-01                         8.929167   21.078250        15176.34  ...   \n",
       "2016-12-01                         8.927500   25.353427        18862.95  ...   \n",
       "\n",
       "            heat_index99  heat_index95  temperature_mean  temperature_max  \\\n",
       "date                                                                        \n",
       "2000-12-01       37.8966       33.5380         23.575000             35.4   \n",
       "2001-01-01       37.8471       34.6685         25.136962             35.4   \n",
       "2001-02-01       37.7548       35.3940         25.691071             34.2   \n",
       "2001-03-01       36.7670       34.4155         24.985349             34.4   \n",
       "2001-04-01       31.0030       28.0215         21.038333             30.8   \n",
       "...                  ...           ...               ...              ...   \n",
       "2016-08-01       31.7783       24.6685         16.246505             32.3   \n",
       "2016-09-01       27.6624       23.7620         16.277917             31.2   \n",
       "2016-10-01       30.3068       27.0685         19.240323             32.3   \n",
       "2016-11-01       34.5125       30.1900         20.900278             34.7   \n",
       "2016-12-01       39.4928       34.9400         24.416129             37.9   \n",
       "\n",
       "            temperature_min  wind_speed_mean  humidity_mean  lag_heat_index_1  \\\n",
       "date                                                                            \n",
       "2000-12-01             13.4         1.826613      70.836022         21.132403   \n",
       "2001-01-01             17.0         1.777016      75.375000         24.154261   \n",
       "2001-02-01             20.2         1.916518      76.424107         26.316156   \n",
       "2001-03-01             16.3         1.629704      76.383065         27.119464   \n",
       "2001-04-01             11.9         1.455139      81.152778         26.113387   \n",
       "...                     ...              ...            ...               ...   \n",
       "2016-08-01              6.6         1.170565      80.104839         13.902984   \n",
       "2016-09-01              8.8         1.671528      78.400000         16.035712   \n",
       "2016-10-01              9.5         1.860484      78.583333         16.023625   \n",
       "2016-11-01              9.9         1.528333      73.044444         19.317137   \n",
       "2016-12-01             14.7         1.568011      72.719086         21.078250   \n",
       "\n",
       "            lag_heat_index_2  lag_heat_index_3  \n",
       "date                                            \n",
       "2000-12-01         19.318992         15.300694  \n",
       "2001-01-01         21.132403         19.318992  \n",
       "2001-02-01         24.154261         21.132403  \n",
       "2001-03-01         26.316156         24.154261  \n",
       "2001-04-01         27.119464         26.316156  \n",
       "...                      ...               ...  \n",
       "2016-08-01         11.039000         14.905067  \n",
       "2016-09-01         13.902984         11.039000  \n",
       "2016-10-01         16.035712         13.902984  \n",
       "2016-11-01         16.023625         16.035712  \n",
       "2016-12-01         19.317137         16.023625  \n",
       "\n",
       "[193 rows x 21 columns]"
      ]
     },
     "execution_count": 143,
     "metadata": {},
     "output_type": "execute_result"
    }
   ],
   "source": [
    "df_train"
   ]
  },
  {
   "cell_type": "code",
   "execution_count": 144,
   "metadata": {
    "colab": {
     "base_uri": "https://localhost:8080/",
     "height": 424
    },
    "id": "wL4l0MzIvtug",
    "outputId": "7d8ea79a-6503-42f0-aff5-cf612dc6f812"
   },
   "outputs": [
    {
     "data": {
      "text/html": [
       "<div>\n",
       "<style scoped>\n",
       "    .dataframe tbody tr th:only-of-type {\n",
       "        vertical-align: middle;\n",
       "    }\n",
       "\n",
       "    .dataframe tbody tr th {\n",
       "        vertical-align: top;\n",
       "    }\n",
       "\n",
       "    .dataframe thead th {\n",
       "        text-align: right;\n",
       "    }\n",
       "</style>\n",
       "<table border=\"1\" class=\"dataframe\">\n",
       "  <thead>\n",
       "    <tr style=\"text-align: right;\">\n",
       "      <th></th>\n",
       "      <th>ds</th>\n",
       "      <th>y</th>\n",
       "      <th>hospitalizations_lag_3</th>\n",
       "      <th>average_stay_lag_3</th>\n",
       "      <th>deaths_lag_3</th>\n",
       "      <th>mortality_rate_lag_3</th>\n",
       "      <th>hospitalizations_lag_3_12m_window</th>\n",
       "      <th>average_stay_lag_3_12m_window</th>\n",
       "      <th>deaths_lag_3_12m_window</th>\n",
       "      <th>mortality_rate_lag_3_12m_window</th>\n",
       "      <th>...</th>\n",
       "      <th>heat_index99</th>\n",
       "      <th>heat_index95</th>\n",
       "      <th>temperature_mean</th>\n",
       "      <th>temperature_max</th>\n",
       "      <th>temperature_min</th>\n",
       "      <th>wind_speed_mean</th>\n",
       "      <th>humidity_mean</th>\n",
       "      <th>lag_heat_index_1</th>\n",
       "      <th>lag_heat_index_2</th>\n",
       "      <th>lag_heat_index_3</th>\n",
       "    </tr>\n",
       "  </thead>\n",
       "  <tbody>\n",
       "    <tr>\n",
       "      <th>0</th>\n",
       "      <td>2000-12-01</td>\n",
       "      <td>0.740031</td>\n",
       "      <td>0.791300</td>\n",
       "      <td>0.615385</td>\n",
       "      <td>0.458824</td>\n",
       "      <td>0.3040</td>\n",
       "      <td>1.000000</td>\n",
       "      <td>0.000000</td>\n",
       "      <td>0.000000</td>\n",
       "      <td>0.000000</td>\n",
       "      <td>...</td>\n",
       "      <td>0.769188</td>\n",
       "      <td>0.694720</td>\n",
       "      <td>0.803586</td>\n",
       "      <td>0.740541</td>\n",
       "      <td>0.643564</td>\n",
       "      <td>0.649677</td>\n",
       "      <td>0.271381</td>\n",
       "      <td>0.592743</td>\n",
       "      <td>0.486249</td>\n",
       "      <td>0.250271</td>\n",
       "    </tr>\n",
       "    <tr>\n",
       "      <th>1</th>\n",
       "      <td>2001-01-01</td>\n",
       "      <td>0.618850</td>\n",
       "      <td>0.803211</td>\n",
       "      <td>0.538462</td>\n",
       "      <td>0.388235</td>\n",
       "      <td>0.2336</td>\n",
       "      <td>0.980330</td>\n",
       "      <td>0.044776</td>\n",
       "      <td>0.011122</td>\n",
       "      <td>0.014271</td>\n",
       "      <td>...</td>\n",
       "      <td>0.767183</td>\n",
       "      <td>0.740995</td>\n",
       "      <td>0.908859</td>\n",
       "      <td>0.740541</td>\n",
       "      <td>0.821782</td>\n",
       "      <td>0.614071</td>\n",
       "      <td>0.470696</td>\n",
       "      <td>0.770204</td>\n",
       "      <td>0.592743</td>\n",
       "      <td>0.486249</td>\n",
       "    </tr>\n",
       "    <tr>\n",
       "      <th>2</th>\n",
       "      <td>2001-02-01</td>\n",
       "      <td>0.544278</td>\n",
       "      <td>0.772657</td>\n",
       "      <td>0.384615</td>\n",
       "      <td>0.321569</td>\n",
       "      <td>0.1840</td>\n",
       "      <td>0.979683</td>\n",
       "      <td>0.059701</td>\n",
       "      <td>0.033367</td>\n",
       "      <td>0.027291</td>\n",
       "      <td>...</td>\n",
       "      <td>0.763444</td>\n",
       "      <td>0.770692</td>\n",
       "      <td>0.946205</td>\n",
       "      <td>0.675676</td>\n",
       "      <td>0.980198</td>\n",
       "      <td>0.714222</td>\n",
       "      <td>0.516764</td>\n",
       "      <td>0.897163</td>\n",
       "      <td>0.770204</td>\n",
       "      <td>0.592743</td>\n",
       "    </tr>\n",
       "    <tr>\n",
       "      <th>3</th>\n",
       "      <td>2001-03-01</td>\n",
       "      <td>0.425168</td>\n",
       "      <td>0.740031</td>\n",
       "      <td>0.384615</td>\n",
       "      <td>0.258824</td>\n",
       "      <td>0.1376</td>\n",
       "      <td>0.988020</td>\n",
       "      <td>0.119403</td>\n",
       "      <td>0.066734</td>\n",
       "      <td>0.043565</td>\n",
       "      <td>...</td>\n",
       "      <td>0.723434</td>\n",
       "      <td>0.730639</td>\n",
       "      <td>0.898641</td>\n",
       "      <td>0.686486</td>\n",
       "      <td>0.787129</td>\n",
       "      <td>0.508313</td>\n",
       "      <td>0.514962</td>\n",
       "      <td>0.944338</td>\n",
       "      <td>0.897163</td>\n",
       "      <td>0.770204</td>\n",
       "    </tr>\n",
       "    <tr>\n",
       "      <th>4</th>\n",
       "      <td>2001-04-01</td>\n",
       "      <td>0.613672</td>\n",
       "      <td>0.618850</td>\n",
       "      <td>0.230769</td>\n",
       "      <td>0.164706</td>\n",
       "      <td>0.0960</td>\n",
       "      <td>0.986725</td>\n",
       "      <td>0.134328</td>\n",
       "      <td>0.064712</td>\n",
       "      <td>0.043065</td>\n",
       "      <td>...</td>\n",
       "      <td>0.489969</td>\n",
       "      <td>0.468911</td>\n",
       "      <td>0.632621</td>\n",
       "      <td>0.491892</td>\n",
       "      <td>0.569307</td>\n",
       "      <td>0.382989</td>\n",
       "      <td>0.724409</td>\n",
       "      <td>0.885255</td>\n",
       "      <td>0.944338</td>\n",
       "      <td>0.897163</td>\n",
       "    </tr>\n",
       "    <tr>\n",
       "      <th>...</th>\n",
       "      <td>...</td>\n",
       "      <td>...</td>\n",
       "      <td>...</td>\n",
       "      <td>...</td>\n",
       "      <td>...</td>\n",
       "      <td>...</td>\n",
       "      <td>...</td>\n",
       "      <td>...</td>\n",
       "      <td>...</td>\n",
       "      <td>...</td>\n",
       "      <td>...</td>\n",
       "      <td>...</td>\n",
       "      <td>...</td>\n",
       "      <td>...</td>\n",
       "      <td>...</td>\n",
       "      <td>...</td>\n",
       "      <td>...</td>\n",
       "      <td>...</td>\n",
       "      <td>...</td>\n",
       "      <td>...</td>\n",
       "      <td>...</td>\n",
       "    </tr>\n",
       "    <tr>\n",
       "      <th>188</th>\n",
       "      <td>2016-08-01</td>\n",
       "      <td>0.350596</td>\n",
       "      <td>0.206111</td>\n",
       "      <td>0.461538</td>\n",
       "      <td>0.403922</td>\n",
       "      <td>0.6096</td>\n",
       "      <td>0.127489</td>\n",
       "      <td>0.746269</td>\n",
       "      <td>0.645096</td>\n",
       "      <td>0.925889</td>\n",
       "      <td>...</td>\n",
       "      <td>0.521372</td>\n",
       "      <td>0.331662</td>\n",
       "      <td>0.309663</td>\n",
       "      <td>0.572973</td>\n",
       "      <td>0.306931</td>\n",
       "      <td>0.178688</td>\n",
       "      <td>0.678392</td>\n",
       "      <td>0.168190</td>\n",
       "      <td>0.000000</td>\n",
       "      <td>0.227038</td>\n",
       "    </tr>\n",
       "    <tr>\n",
       "      <th>189</th>\n",
       "      <td>2016-09-01</td>\n",
       "      <td>0.293112</td>\n",
       "      <td>0.222683</td>\n",
       "      <td>0.615385</td>\n",
       "      <td>0.694118</td>\n",
       "      <td>0.9600</td>\n",
       "      <td>0.113081</td>\n",
       "      <td>0.716418</td>\n",
       "      <td>0.681496</td>\n",
       "      <td>0.966199</td>\n",
       "      <td>...</td>\n",
       "      <td>0.354661</td>\n",
       "      <td>0.294556</td>\n",
       "      <td>0.311780</td>\n",
       "      <td>0.513514</td>\n",
       "      <td>0.415842</td>\n",
       "      <td>0.538339</td>\n",
       "      <td>0.603529</td>\n",
       "      <td>0.293436</td>\n",
       "      <td>0.168190</td>\n",
       "      <td>0.000000</td>\n",
       "    </tr>\n",
       "    <tr>\n",
       "      <th>190</th>\n",
       "      <td>2016-10-01</td>\n",
       "      <td>0.461937</td>\n",
       "      <td>0.322113</td>\n",
       "      <td>0.769231</td>\n",
       "      <td>0.686275</td>\n",
       "      <td>0.8544</td>\n",
       "      <td>0.108305</td>\n",
       "      <td>0.761194</td>\n",
       "      <td>0.664307</td>\n",
       "      <td>0.958438</td>\n",
       "      <td>...</td>\n",
       "      <td>0.461770</td>\n",
       "      <td>0.429902</td>\n",
       "      <td>0.511439</td>\n",
       "      <td>0.572973</td>\n",
       "      <td>0.450495</td>\n",
       "      <td>0.673994</td>\n",
       "      <td>0.611580</td>\n",
       "      <td>0.292726</td>\n",
       "      <td>0.293436</td>\n",
       "      <td>0.168190</td>\n",
       "    </tr>\n",
       "    <tr>\n",
       "      <th>191</th>\n",
       "      <td>2016-11-01</td>\n",
       "      <td>0.342310</td>\n",
       "      <td>0.350596</td>\n",
       "      <td>0.769231</td>\n",
       "      <td>0.650980</td>\n",
       "      <td>0.7872</td>\n",
       "      <td>0.096649</td>\n",
       "      <td>0.791045</td>\n",
       "      <td>0.655207</td>\n",
       "      <td>0.961693</td>\n",
       "      <td>...</td>\n",
       "      <td>0.632118</td>\n",
       "      <td>0.557675</td>\n",
       "      <td>0.623316</td>\n",
       "      <td>0.702703</td>\n",
       "      <td>0.470297</td>\n",
       "      <td>0.435537</td>\n",
       "      <td>0.368357</td>\n",
       "      <td>0.486140</td>\n",
       "      <td>0.292726</td>\n",
       "      <td>0.293436</td>\n",
       "    </tr>\n",
       "    <tr>\n",
       "      <th>192</th>\n",
       "      <td>2016-12-01</td>\n",
       "      <td>0.176075</td>\n",
       "      <td>0.293112</td>\n",
       "      <td>0.846154</td>\n",
       "      <td>0.513725</td>\n",
       "      <td>0.6736</td>\n",
       "      <td>0.094625</td>\n",
       "      <td>0.835821</td>\n",
       "      <td>0.652174</td>\n",
       "      <td>0.961192</td>\n",
       "      <td>...</td>\n",
       "      <td>0.833840</td>\n",
       "      <td>0.752108</td>\n",
       "      <td>0.860277</td>\n",
       "      <td>0.875676</td>\n",
       "      <td>0.707921</td>\n",
       "      <td>0.464022</td>\n",
       "      <td>0.354070</td>\n",
       "      <td>0.589563</td>\n",
       "      <td>0.486140</td>\n",
       "      <td>0.292726</td>\n",
       "    </tr>\n",
       "  </tbody>\n",
       "</table>\n",
       "<p>193 rows × 23 columns</p>\n",
       "</div>"
      ],
      "text/plain": [
       "            ds         y  hospitalizations_lag_3  average_stay_lag_3  \\\n",
       "0   2000-12-01  0.740031                0.791300            0.615385   \n",
       "1   2001-01-01  0.618850                0.803211            0.538462   \n",
       "2   2001-02-01  0.544278                0.772657            0.384615   \n",
       "3   2001-03-01  0.425168                0.740031            0.384615   \n",
       "4   2001-04-01  0.613672                0.618850            0.230769   \n",
       "..         ...       ...                     ...                 ...   \n",
       "188 2016-08-01  0.350596                0.206111            0.461538   \n",
       "189 2016-09-01  0.293112                0.222683            0.615385   \n",
       "190 2016-10-01  0.461937                0.322113            0.769231   \n",
       "191 2016-11-01  0.342310                0.350596            0.769231   \n",
       "192 2016-12-01  0.176075                0.293112            0.846154   \n",
       "\n",
       "     deaths_lag_3  mortality_rate_lag_3  hospitalizations_lag_3_12m_window  \\\n",
       "0        0.458824                0.3040                           1.000000   \n",
       "1        0.388235                0.2336                           0.980330   \n",
       "2        0.321569                0.1840                           0.979683   \n",
       "3        0.258824                0.1376                           0.988020   \n",
       "4        0.164706                0.0960                           0.986725   \n",
       "..            ...                   ...                                ...   \n",
       "188      0.403922                0.6096                           0.127489   \n",
       "189      0.694118                0.9600                           0.113081   \n",
       "190      0.686275                0.8544                           0.108305   \n",
       "191      0.650980                0.7872                           0.096649   \n",
       "192      0.513725                0.6736                           0.094625   \n",
       "\n",
       "     average_stay_lag_3_12m_window  deaths_lag_3_12m_window  \\\n",
       "0                         0.000000                 0.000000   \n",
       "1                         0.044776                 0.011122   \n",
       "2                         0.059701                 0.033367   \n",
       "3                         0.119403                 0.066734   \n",
       "4                         0.134328                 0.064712   \n",
       "..                             ...                      ...   \n",
       "188                       0.746269                 0.645096   \n",
       "189                       0.716418                 0.681496   \n",
       "190                       0.761194                 0.664307   \n",
       "191                       0.791045                 0.655207   \n",
       "192                       0.835821                 0.652174   \n",
       "\n",
       "     mortality_rate_lag_3_12m_window  ...  heat_index99  heat_index95  \\\n",
       "0                           0.000000  ...      0.769188      0.694720   \n",
       "1                           0.014271  ...      0.767183      0.740995   \n",
       "2                           0.027291  ...      0.763444      0.770692   \n",
       "3                           0.043565  ...      0.723434      0.730639   \n",
       "4                           0.043065  ...      0.489969      0.468911   \n",
       "..                               ...  ...           ...           ...   \n",
       "188                         0.925889  ...      0.521372      0.331662   \n",
       "189                         0.966199  ...      0.354661      0.294556   \n",
       "190                         0.958438  ...      0.461770      0.429902   \n",
       "191                         0.961693  ...      0.632118      0.557675   \n",
       "192                         0.961192  ...      0.833840      0.752108   \n",
       "\n",
       "     temperature_mean  temperature_max  temperature_min  wind_speed_mean  \\\n",
       "0            0.803586         0.740541         0.643564         0.649677   \n",
       "1            0.908859         0.740541         0.821782         0.614071   \n",
       "2            0.946205         0.675676         0.980198         0.714222   \n",
       "3            0.898641         0.686486         0.787129         0.508313   \n",
       "4            0.632621         0.491892         0.569307         0.382989   \n",
       "..                ...              ...              ...              ...   \n",
       "188          0.309663         0.572973         0.306931         0.178688   \n",
       "189          0.311780         0.513514         0.415842         0.538339   \n",
       "190          0.511439         0.572973         0.450495         0.673994   \n",
       "191          0.623316         0.702703         0.470297         0.435537   \n",
       "192          0.860277         0.875676         0.707921         0.464022   \n",
       "\n",
       "     humidity_mean  lag_heat_index_1  lag_heat_index_2  lag_heat_index_3  \n",
       "0         0.271381          0.592743          0.486249          0.250271  \n",
       "1         0.470696          0.770204          0.592743          0.486249  \n",
       "2         0.516764          0.897163          0.770204          0.592743  \n",
       "3         0.514962          0.944338          0.897163          0.770204  \n",
       "4         0.724409          0.885255          0.944338          0.897163  \n",
       "..             ...               ...               ...               ...  \n",
       "188       0.678392          0.168190          0.000000          0.227038  \n",
       "189       0.603529          0.293436          0.168190          0.000000  \n",
       "190       0.611580          0.292726          0.293436          0.168190  \n",
       "191       0.368357          0.486140          0.292726          0.293436  \n",
       "192       0.354070          0.589563          0.486140          0.292726  \n",
       "\n",
       "[193 rows x 23 columns]"
      ]
     },
     "execution_count": 144,
     "metadata": {},
     "output_type": "execute_result"
    }
   ],
   "source": [
    "df = pd.DataFrame({\n",
    "        'ds': df_train.index,\n",
    "        'y': y_train_scaled.reshape(-1),\n",
    "        'hospitalizations_lag_3': df_train_scaled[:, 0],\n",
    "        'average_stay_lag_3': df_train_scaled[:, 1],\n",
    "        'deaths_lag_3': df_train_scaled[:, 2],\n",
    "        'mortality_rate_lag_3': df_train_scaled[:, 3],\n",
    "        'hospitalizations_lag_3_12m_window': df_train_scaled[:, 4],\n",
    "        'average_stay_lag_3_12m_window': df_train_scaled[:, 5],\n",
    "        'deaths_lag_3_12m_window': df_train_scaled[:, 6],\n",
    "        'mortality_rate_lag_3_12m_window': df_train_scaled[:, 7],\n",
    "        'heat_index': df_train_scaled[:, 8],\n",
    "        'heat_index_sum': df_train_scaled[:, 9],\n",
    "        'heat_index_std': df_train_scaled[:, 10], \n",
    "        'heat_index99': df_train_scaled[:, 11], \n",
    "        'heat_index95': df_train_scaled[:, 12], \n",
    "        'temperature_mean': df_train_scaled[:, 13],\n",
    "        'temperature_max': df_train_scaled[:, 14], \n",
    "        'temperature_min': df_train_scaled[:, 15], \n",
    "        'wind_speed_mean': df_train_scaled[:, 16],\n",
    "        'humidity_mean': df_train_scaled[:, 17], \n",
    "        'lag_heat_index_1': df_train_scaled[:, 18], \n",
    "        'lag_heat_index_2': df_train_scaled[:, 19],\n",
    "        'lag_heat_index_3': df_train_scaled[:, 20],\n",
    "    })\n",
    "\n",
    "df"
   ]
  },
  {
   "cell_type": "markdown",
   "metadata": {},
   "source": [
    "## 04.03.01 Training"
   ]
  },
  {
   "cell_type": "code",
   "execution_count": 145,
   "metadata": {
    "colab": {
     "base_uri": "https://localhost:8080/"
    },
    "id": "LqBl8w6LwaOz",
    "outputId": "1b86dd07-16ec-4fa6-f9c3-ab14805ce671"
   },
   "outputs": [
    {
     "name": "stderr",
     "output_type": "stream",
     "text": [
      "19:58:40 - cmdstanpy - INFO - Chain [1] start processing\n",
      "19:58:40 - cmdstanpy - INFO - Chain [1] done processing\n"
     ]
    },
    {
     "data": {
      "text/plain": [
       "<prophet.forecaster.Prophet at 0x7f269fae89d0>"
      ]
     },
     "execution_count": 145,
     "metadata": {},
     "output_type": "execute_result"
    }
   ],
   "source": [
    "model = Prophet()\n",
    "\n",
    "# Add exogenous variables as regressors\n",
    "model.add_regressor('hospitalizations_lag_3')\n",
    "model.add_regressor('average_stay_lag_3')\n",
    "model.add_regressor('deaths_lag_3')\n",
    "model.add_regressor('mortality_rate_lag_3')\n",
    "model.add_regressor('hospitalizations_lag_3_12m_window')\n",
    "model.add_regressor('average_stay_lag_3_12m_window')\n",
    "model.add_regressor('deaths_lag_3_12m_window')\n",
    "model.add_regressor('mortality_rate_lag_3_12m_window')\n",
    "model.add_regressor('heat_index')\n",
    "model.add_regressor('heat_index_sum')\n",
    "model.add_regressor('heat_index_std')\n",
    "model.add_regressor('heat_index99')\n",
    "model.add_regressor('heat_index95')\n",
    "model.add_regressor('temperature_mean')\n",
    "model.add_regressor('temperature_max')\n",
    "model.add_regressor('temperature_min')\n",
    "model.add_regressor('wind_speed_mean')\n",
    "model.add_regressor('humidity_mean')\n",
    "model.add_regressor('lag_heat_index_1')\n",
    "model.add_regressor('lag_heat_index_2')\n",
    "model.add_regressor('lag_heat_index_3')\n",
    "\n",
    "model.fit(df)"
   ]
  },
  {
   "cell_type": "markdown",
   "metadata": {
    "id": "TmGRUz9_yELT"
   },
   "source": [
    "### 04.03.02 Forecasting"
   ]
  },
  {
   "cell_type": "code",
   "execution_count": 146,
   "metadata": {},
   "outputs": [
    {
     "data": {
      "text/plain": [
       "array([0.46193682, 0.34230968, 0.17607457, 0.20403936, 0.01035733,\n",
       "       0.20559296, 0.12894873, 0.35991714, 0.29570171, 0.32314863,\n",
       "       0.31952356, 0.39306059, 0.2542724 , 0.30450544, 0.23045054,\n",
       "       0.21128949, 0.02951838, 0.12739513, 0.11393061, 0.14759192,\n",
       "       0.23303988, 0.27395132, 0.26721906, 0.28689798, 0.26618332,\n",
       "       0.14448472, 0.15069912, 0.13619886, 0.13827033, 0.01553599,\n",
       "       0.20455722, 0.1926463 , 0.20818229, 0.27861212, 0.40031072,\n",
       "       0.35266701])"
      ]
     },
     "execution_count": 146,
     "metadata": {},
     "output_type": "execute_result"
    }
   ],
   "source": [
    "df_test_scaled[:, 0]"
   ]
  },
  {
   "cell_type": "code",
   "execution_count": 147,
   "metadata": {
    "id": "nuTSep37yFge"
   },
   "outputs": [],
   "source": [
    "future = model.make_future_dataframe(periods=len(df_test_scaled), freq='ME')\n",
    "\n",
    "# Add exogenous variables as regressors\n",
    "future['hospitalizations_lag_3'] = np.concatenate((df_train_scaled[:, 0], df_test_scaled[:, 0]))\n",
    "future['average_stay_lag_3'] = np.concatenate((df_train_scaled[:, 1], df_test_scaled[:, 1]))\n",
    "future['deaths_lag_3'] = np.concatenate((df_train_scaled[:, 2], df_test_scaled[:, 2]))\n",
    "future['mortality_rate_lag_3'] = np.concatenate((df_train_scaled[:, 3], df_test_scaled[:, 3]))\n",
    "future['hospitalizations_lag_3_12m_window'] = np.concatenate((df_train_scaled[:, 4], df_test_scaled[:, 4]))\n",
    "future['average_stay_lag_3_12m_window'] = np.concatenate((df_train_scaled[:, 5], df_test_scaled[:, 5]))\n",
    "future['deaths_lag_3_12m_window'] = np.concatenate((df_train_scaled[:, 6], df_test_scaled[:, 6]))\n",
    "future['mortality_rate_lag_3_12m_window'] = np.concatenate((df_train_scaled[:, 7], df_test_scaled[:, 7]))\n",
    "future['heat_index'] = np.concatenate((df_train_scaled[:, 8], df_test_scaled[:, 8]))\n",
    "future['heat_index_sum'] = np.concatenate((df_train_scaled[:, 9], df_test_scaled[:, 9]))\n",
    "future['heat_index_std'] = np.concatenate((df_train_scaled[:, 10], df_test_scaled[:, 10]))\n",
    "future['heat_index99'] = np.concatenate((df_train_scaled[:, 11], df_test_scaled[:, 11]))\n",
    "future['heat_index95'] = np.concatenate((df_train_scaled[:, 12], df_test_scaled[:, 12]))\n",
    "future['temperature_mean'] = np.concatenate((df_train_scaled[:, 13], df_test_scaled[:, 13]))\n",
    "future['temperature_max'] = np.concatenate((df_train_scaled[:, 14], df_test_scaled[:, 14]))\n",
    "future['temperature_min'] = np.concatenate((df_train_scaled[:, 15], df_test_scaled[:, 15]))\n",
    "future['wind_speed_mean'] = np.concatenate((df_train_scaled[:, 16], df_test_scaled[:, 16]))\n",
    "future['humidity_mean'] = np.concatenate((df_train_scaled[:, 17], df_test_scaled[:, 17]))\n",
    "future['lag_heat_index_1'] = np.concatenate((df_train_scaled[:, 18], df_test_scaled[:, 18]))\n",
    "future['lag_heat_index_2'] = np.concatenate((df_train_scaled[:, 19], df_test_scaled[:, 19]))\n",
    "future['lag_heat_index_3'] = np.concatenate((df_train_scaled[:, 20], df_test_scaled[:, 20]))\n",
    "\n",
    "# Generate forecasts\n",
    "y_pred = model.predict(future)"
   ]
  },
  {
   "cell_type": "code",
   "execution_count": 148,
   "metadata": {
    "colab": {
     "base_uri": "https://localhost:8080/",
     "height": 617
    },
    "id": "J8mc8c_OygUx",
    "outputId": "5a5bcaf9-9590-4743-8d13-2cc769af095d"
   },
   "outputs": [
    {
     "data": {
      "text/html": [
       "<div>\n",
       "<style scoped>\n",
       "    .dataframe tbody tr th:only-of-type {\n",
       "        vertical-align: middle;\n",
       "    }\n",
       "\n",
       "    .dataframe tbody tr th {\n",
       "        vertical-align: top;\n",
       "    }\n",
       "\n",
       "    .dataframe thead th {\n",
       "        text-align: right;\n",
       "    }\n",
       "</style>\n",
       "<table border=\"1\" class=\"dataframe\">\n",
       "  <thead>\n",
       "    <tr style=\"text-align: right;\">\n",
       "      <th></th>\n",
       "      <th>ds</th>\n",
       "      <th>trend</th>\n",
       "      <th>yhat_lower</th>\n",
       "      <th>yhat_upper</th>\n",
       "      <th>trend_lower</th>\n",
       "      <th>trend_upper</th>\n",
       "      <th>additive_terms</th>\n",
       "      <th>additive_terms_lower</th>\n",
       "      <th>additive_terms_upper</th>\n",
       "      <th>average_stay_lag_3</th>\n",
       "      <th>...</th>\n",
       "      <th>wind_speed_mean</th>\n",
       "      <th>wind_speed_mean_lower</th>\n",
       "      <th>wind_speed_mean_upper</th>\n",
       "      <th>yearly</th>\n",
       "      <th>yearly_lower</th>\n",
       "      <th>yearly_upper</th>\n",
       "      <th>multiplicative_terms</th>\n",
       "      <th>multiplicative_terms_lower</th>\n",
       "      <th>multiplicative_terms_upper</th>\n",
       "      <th>yhat</th>\n",
       "    </tr>\n",
       "  </thead>\n",
       "  <tbody>\n",
       "    <tr>\n",
       "      <th>0</th>\n",
       "      <td>2000-12-01</td>\n",
       "      <td>0.649694</td>\n",
       "      <td>0.600646</td>\n",
       "      <td>0.817692</td>\n",
       "      <td>0.649694</td>\n",
       "      <td>0.649694</td>\n",
       "      <td>0.059562</td>\n",
       "      <td>0.059562</td>\n",
       "      <td>0.059562</td>\n",
       "      <td>0.007116</td>\n",
       "      <td>...</td>\n",
       "      <td>-0.007049</td>\n",
       "      <td>-0.007049</td>\n",
       "      <td>-0.007049</td>\n",
       "      <td>-0.030552</td>\n",
       "      <td>-0.030552</td>\n",
       "      <td>-0.030552</td>\n",
       "      <td>0.0</td>\n",
       "      <td>0.0</td>\n",
       "      <td>0.0</td>\n",
       "      <td>0.709256</td>\n",
       "    </tr>\n",
       "    <tr>\n",
       "      <th>1</th>\n",
       "      <td>2001-01-01</td>\n",
       "      <td>0.647379</td>\n",
       "      <td>0.567038</td>\n",
       "      <td>0.777373</td>\n",
       "      <td>0.647379</td>\n",
       "      <td>0.647379</td>\n",
       "      <td>0.024184</td>\n",
       "      <td>0.024184</td>\n",
       "      <td>0.024184</td>\n",
       "      <td>0.004181</td>\n",
       "      <td>...</td>\n",
       "      <td>-0.005741</td>\n",
       "      <td>-0.005741</td>\n",
       "      <td>-0.005741</td>\n",
       "      <td>-0.042347</td>\n",
       "      <td>-0.042347</td>\n",
       "      <td>-0.042347</td>\n",
       "      <td>0.0</td>\n",
       "      <td>0.0</td>\n",
       "      <td>0.0</td>\n",
       "      <td>0.671563</td>\n",
       "    </tr>\n",
       "    <tr>\n",
       "      <th>2</th>\n",
       "      <td>2001-02-01</td>\n",
       "      <td>0.645063</td>\n",
       "      <td>0.429562</td>\n",
       "      <td>0.646337</td>\n",
       "      <td>0.645063</td>\n",
       "      <td>0.645063</td>\n",
       "      <td>-0.109410</td>\n",
       "      <td>-0.109410</td>\n",
       "      <td>-0.109410</td>\n",
       "      <td>-0.001688</td>\n",
       "      <td>...</td>\n",
       "      <td>-0.009420</td>\n",
       "      <td>-0.009420</td>\n",
       "      <td>-0.009420</td>\n",
       "      <td>-0.022111</td>\n",
       "      <td>-0.022111</td>\n",
       "      <td>-0.022111</td>\n",
       "      <td>0.0</td>\n",
       "      <td>0.0</td>\n",
       "      <td>0.0</td>\n",
       "      <td>0.535654</td>\n",
       "    </tr>\n",
       "    <tr>\n",
       "      <th>3</th>\n",
       "      <td>2001-03-01</td>\n",
       "      <td>0.642972</td>\n",
       "      <td>0.549361</td>\n",
       "      <td>0.768787</td>\n",
       "      <td>0.642972</td>\n",
       "      <td>0.642972</td>\n",
       "      <td>0.016277</td>\n",
       "      <td>0.016277</td>\n",
       "      <td>0.016277</td>\n",
       "      <td>-0.001688</td>\n",
       "      <td>...</td>\n",
       "      <td>-0.001856</td>\n",
       "      <td>-0.001856</td>\n",
       "      <td>-0.001856</td>\n",
       "      <td>-0.027479</td>\n",
       "      <td>-0.027479</td>\n",
       "      <td>-0.027479</td>\n",
       "      <td>0.0</td>\n",
       "      <td>0.0</td>\n",
       "      <td>0.0</td>\n",
       "      <td>0.659249</td>\n",
       "    </tr>\n",
       "    <tr>\n",
       "      <th>4</th>\n",
       "      <td>2001-04-01</td>\n",
       "      <td>0.640657</td>\n",
       "      <td>0.579291</td>\n",
       "      <td>0.789556</td>\n",
       "      <td>0.640657</td>\n",
       "      <td>0.640657</td>\n",
       "      <td>0.043540</td>\n",
       "      <td>0.043540</td>\n",
       "      <td>0.043540</td>\n",
       "      <td>-0.007557</td>\n",
       "      <td>...</td>\n",
       "      <td>0.002748</td>\n",
       "      <td>0.002748</td>\n",
       "      <td>0.002748</td>\n",
       "      <td>-0.049726</td>\n",
       "      <td>-0.049726</td>\n",
       "      <td>-0.049726</td>\n",
       "      <td>0.0</td>\n",
       "      <td>0.0</td>\n",
       "      <td>0.0</td>\n",
       "      <td>0.684196</td>\n",
       "    </tr>\n",
       "    <tr>\n",
       "      <th>...</th>\n",
       "      <td>...</td>\n",
       "      <td>...</td>\n",
       "      <td>...</td>\n",
       "      <td>...</td>\n",
       "      <td>...</td>\n",
       "      <td>...</td>\n",
       "      <td>...</td>\n",
       "      <td>...</td>\n",
       "      <td>...</td>\n",
       "      <td>...</td>\n",
       "      <td>...</td>\n",
       "      <td>...</td>\n",
       "      <td>...</td>\n",
       "      <td>...</td>\n",
       "      <td>...</td>\n",
       "      <td>...</td>\n",
       "      <td>...</td>\n",
       "      <td>...</td>\n",
       "      <td>...</td>\n",
       "      <td>...</td>\n",
       "      <td>...</td>\n",
       "    </tr>\n",
       "    <tr>\n",
       "      <th>224</th>\n",
       "      <td>2019-07-31</td>\n",
       "      <td>0.196190</td>\n",
       "      <td>0.203247</td>\n",
       "      <td>0.413598</td>\n",
       "      <td>0.195046</td>\n",
       "      <td>0.197371</td>\n",
       "      <td>0.112788</td>\n",
       "      <td>0.112788</td>\n",
       "      <td>0.112788</td>\n",
       "      <td>-0.001688</td>\n",
       "      <td>...</td>\n",
       "      <td>0.003915</td>\n",
       "      <td>0.003915</td>\n",
       "      <td>0.003915</td>\n",
       "      <td>-0.005581</td>\n",
       "      <td>-0.005581</td>\n",
       "      <td>-0.005581</td>\n",
       "      <td>0.0</td>\n",
       "      <td>0.0</td>\n",
       "      <td>0.0</td>\n",
       "      <td>0.308978</td>\n",
       "    </tr>\n",
       "    <tr>\n",
       "      <th>225</th>\n",
       "      <td>2019-08-31</td>\n",
       "      <td>0.194411</td>\n",
       "      <td>0.236450</td>\n",
       "      <td>0.445669</td>\n",
       "      <td>0.193180</td>\n",
       "      <td>0.195657</td>\n",
       "      <td>0.142307</td>\n",
       "      <td>0.142307</td>\n",
       "      <td>0.142307</td>\n",
       "      <td>0.007116</td>\n",
       "      <td>...</td>\n",
       "      <td>0.002803</td>\n",
       "      <td>0.002803</td>\n",
       "      <td>0.002803</td>\n",
       "      <td>0.007808</td>\n",
       "      <td>0.007808</td>\n",
       "      <td>0.007808</td>\n",
       "      <td>0.0</td>\n",
       "      <td>0.0</td>\n",
       "      <td>0.0</td>\n",
       "      <td>0.336718</td>\n",
       "    </tr>\n",
       "    <tr>\n",
       "      <th>226</th>\n",
       "      <td>2019-09-30</td>\n",
       "      <td>0.192689</td>\n",
       "      <td>0.092542</td>\n",
       "      <td>0.302245</td>\n",
       "      <td>0.191396</td>\n",
       "      <td>0.194011</td>\n",
       "      <td>0.006940</td>\n",
       "      <td>0.006940</td>\n",
       "      <td>0.006940</td>\n",
       "      <td>0.007116</td>\n",
       "      <td>...</td>\n",
       "      <td>-0.002253</td>\n",
       "      <td>-0.002253</td>\n",
       "      <td>-0.002253</td>\n",
       "      <td>-0.096330</td>\n",
       "      <td>-0.096330</td>\n",
       "      <td>-0.096330</td>\n",
       "      <td>0.0</td>\n",
       "      <td>0.0</td>\n",
       "      <td>0.0</td>\n",
       "      <td>0.199629</td>\n",
       "    </tr>\n",
       "    <tr>\n",
       "      <th>227</th>\n",
       "      <td>2019-10-31</td>\n",
       "      <td>0.190909</td>\n",
       "      <td>0.207903</td>\n",
       "      <td>0.419974</td>\n",
       "      <td>0.189544</td>\n",
       "      <td>0.192305</td>\n",
       "      <td>0.126370</td>\n",
       "      <td>0.126370</td>\n",
       "      <td>0.126370</td>\n",
       "      <td>0.007116</td>\n",
       "      <td>...</td>\n",
       "      <td>-0.000611</td>\n",
       "      <td>-0.000611</td>\n",
       "      <td>-0.000611</td>\n",
       "      <td>0.077971</td>\n",
       "      <td>0.077971</td>\n",
       "      <td>0.077971</td>\n",
       "      <td>0.0</td>\n",
       "      <td>0.0</td>\n",
       "      <td>0.0</td>\n",
       "      <td>0.317280</td>\n",
       "    </tr>\n",
       "    <tr>\n",
       "      <th>228</th>\n",
       "      <td>2019-11-30</td>\n",
       "      <td>0.189188</td>\n",
       "      <td>0.069321</td>\n",
       "      <td>0.285525</td>\n",
       "      <td>0.187794</td>\n",
       "      <td>0.190649</td>\n",
       "      <td>-0.006148</td>\n",
       "      <td>-0.006148</td>\n",
       "      <td>-0.006148</td>\n",
       "      <td>0.010051</td>\n",
       "      <td>...</td>\n",
       "      <td>-0.004043</td>\n",
       "      <td>-0.004043</td>\n",
       "      <td>-0.004043</td>\n",
       "      <td>0.015292</td>\n",
       "      <td>0.015292</td>\n",
       "      <td>0.015292</td>\n",
       "      <td>0.0</td>\n",
       "      <td>0.0</td>\n",
       "      <td>0.0</td>\n",
       "      <td>0.183040</td>\n",
       "    </tr>\n",
       "  </tbody>\n",
       "</table>\n",
       "<p>229 rows × 82 columns</p>\n",
       "</div>"
      ],
      "text/plain": [
       "            ds     trend  yhat_lower  yhat_upper  trend_lower  trend_upper  \\\n",
       "0   2000-12-01  0.649694    0.600646    0.817692     0.649694     0.649694   \n",
       "1   2001-01-01  0.647379    0.567038    0.777373     0.647379     0.647379   \n",
       "2   2001-02-01  0.645063    0.429562    0.646337     0.645063     0.645063   \n",
       "3   2001-03-01  0.642972    0.549361    0.768787     0.642972     0.642972   \n",
       "4   2001-04-01  0.640657    0.579291    0.789556     0.640657     0.640657   \n",
       "..         ...       ...         ...         ...          ...          ...   \n",
       "224 2019-07-31  0.196190    0.203247    0.413598     0.195046     0.197371   \n",
       "225 2019-08-31  0.194411    0.236450    0.445669     0.193180     0.195657   \n",
       "226 2019-09-30  0.192689    0.092542    0.302245     0.191396     0.194011   \n",
       "227 2019-10-31  0.190909    0.207903    0.419974     0.189544     0.192305   \n",
       "228 2019-11-30  0.189188    0.069321    0.285525     0.187794     0.190649   \n",
       "\n",
       "     additive_terms  additive_terms_lower  additive_terms_upper  \\\n",
       "0          0.059562              0.059562              0.059562   \n",
       "1          0.024184              0.024184              0.024184   \n",
       "2         -0.109410             -0.109410             -0.109410   \n",
       "3          0.016277              0.016277              0.016277   \n",
       "4          0.043540              0.043540              0.043540   \n",
       "..              ...                   ...                   ...   \n",
       "224        0.112788              0.112788              0.112788   \n",
       "225        0.142307              0.142307              0.142307   \n",
       "226        0.006940              0.006940              0.006940   \n",
       "227        0.126370              0.126370              0.126370   \n",
       "228       -0.006148             -0.006148             -0.006148   \n",
       "\n",
       "     average_stay_lag_3  ...  wind_speed_mean  wind_speed_mean_lower  \\\n",
       "0              0.007116  ...        -0.007049              -0.007049   \n",
       "1              0.004181  ...        -0.005741              -0.005741   \n",
       "2             -0.001688  ...        -0.009420              -0.009420   \n",
       "3             -0.001688  ...        -0.001856              -0.001856   \n",
       "4             -0.007557  ...         0.002748               0.002748   \n",
       "..                  ...  ...              ...                    ...   \n",
       "224           -0.001688  ...         0.003915               0.003915   \n",
       "225            0.007116  ...         0.002803               0.002803   \n",
       "226            0.007116  ...        -0.002253              -0.002253   \n",
       "227            0.007116  ...        -0.000611              -0.000611   \n",
       "228            0.010051  ...        -0.004043              -0.004043   \n",
       "\n",
       "     wind_speed_mean_upper    yearly  yearly_lower  yearly_upper  \\\n",
       "0                -0.007049 -0.030552     -0.030552     -0.030552   \n",
       "1                -0.005741 -0.042347     -0.042347     -0.042347   \n",
       "2                -0.009420 -0.022111     -0.022111     -0.022111   \n",
       "3                -0.001856 -0.027479     -0.027479     -0.027479   \n",
       "4                 0.002748 -0.049726     -0.049726     -0.049726   \n",
       "..                     ...       ...           ...           ...   \n",
       "224               0.003915 -0.005581     -0.005581     -0.005581   \n",
       "225               0.002803  0.007808      0.007808      0.007808   \n",
       "226              -0.002253 -0.096330     -0.096330     -0.096330   \n",
       "227              -0.000611  0.077971      0.077971      0.077971   \n",
       "228              -0.004043  0.015292      0.015292      0.015292   \n",
       "\n",
       "     multiplicative_terms  multiplicative_terms_lower  \\\n",
       "0                     0.0                         0.0   \n",
       "1                     0.0                         0.0   \n",
       "2                     0.0                         0.0   \n",
       "3                     0.0                         0.0   \n",
       "4                     0.0                         0.0   \n",
       "..                    ...                         ...   \n",
       "224                   0.0                         0.0   \n",
       "225                   0.0                         0.0   \n",
       "226                   0.0                         0.0   \n",
       "227                   0.0                         0.0   \n",
       "228                   0.0                         0.0   \n",
       "\n",
       "     multiplicative_terms_upper      yhat  \n",
       "0                           0.0  0.709256  \n",
       "1                           0.0  0.671563  \n",
       "2                           0.0  0.535654  \n",
       "3                           0.0  0.659249  \n",
       "4                           0.0  0.684196  \n",
       "..                          ...       ...  \n",
       "224                         0.0  0.308978  \n",
       "225                         0.0  0.336718  \n",
       "226                         0.0  0.199629  \n",
       "227                         0.0  0.317280  \n",
       "228                         0.0  0.183040  \n",
       "\n",
       "[229 rows x 82 columns]"
      ]
     },
     "execution_count": 148,
     "metadata": {},
     "output_type": "execute_result"
    }
   ],
   "source": [
    "y_pred = model.predict(future)\n",
    "\n",
    "y_pred"
   ]
  },
  {
   "cell_type": "code",
   "execution_count": 149,
   "metadata": {},
   "outputs": [
    {
     "name": "stdout",
     "output_type": "stream",
     "text": [
      "            ds      yhat  hospitalizations_lag_3  average_stay_lag_3\n",
      "0   2000-12-01  0.709256               -0.113913            0.007116\n",
      "1   2001-01-01  0.671563               -0.117654            0.004181\n",
      "2   2001-02-01  0.535654               -0.108058           -0.001688\n",
      "3   2001-03-01  0.659249               -0.097812           -0.001688\n",
      "4   2001-04-01  0.684196               -0.059753           -0.007557\n",
      "..         ...       ...                     ...                 ...\n",
      "224 2019-07-31  0.308978                0.074102           -0.001688\n",
      "225 2019-08-31  0.336718                0.069223            0.007116\n",
      "226 2019-09-30  0.199629                0.047103            0.007116\n",
      "227 2019-10-31  0.317280                0.008882            0.007116\n",
      "228 2019-11-30  0.183040                0.023845            0.010051\n",
      "\n",
      "[229 rows x 4 columns]\n"
     ]
    }
   ],
   "source": [
    "print(y_pred[['ds', 'yhat', 'hospitalizations_lag_3', 'average_stay_lag_3']])"
   ]
  },
  {
   "cell_type": "markdown",
   "metadata": {},
   "source": [
    "### 04.03.03 Permutation Feature importance"
   ]
  },
  {
   "cell_type": "code",
   "execution_count": 150,
   "metadata": {},
   "outputs": [
    {
     "name": "stdout",
     "output_type": "stream",
     "text": [
      "Feature: hospitalizations_lag_3, Importance: 0.0087\n",
      "Feature: average_stay_lag_3, Importance: 0.0002\n",
      "Feature: deaths_lag_3, Importance: 0.0302\n",
      "Feature: mortality_rate_lag_3, Importance: 0.0173\n",
      "Feature: hospitalizations_lag_3_12m_window, Importance: 0.2649\n",
      "Feature: average_stay_lag_3_12m_window, Importance: 0.0003\n",
      "Feature: deaths_lag_3_12m_window, Importance: 0.0858\n",
      "Feature: mortality_rate_lag_3_12m_window, Importance: 0.3638\n",
      "Feature: heat_index, Importance: 0.1712\n",
      "Feature: heat_index_sum, Importance: 0.0429\n",
      "Feature: heat_index_std, Importance: 0.0004\n",
      "Feature: heat_index99, Importance: 0.0022\n",
      "Feature: heat_index95, Importance: 0.0003\n",
      "Feature: temperature_mean, Importance: 0.0518\n",
      "Feature: temperature_max, Importance: 0.0024\n",
      "Feature: temperature_min, Importance: 0.0014\n",
      "Feature: wind_speed_mean, Importance: -0.0000\n",
      "Feature: humidity_mean, Importance: 0.0010\n",
      "Feature: lag_heat_index_1, Importance: 0.0013\n",
      "Feature: lag_heat_index_2, Importance: 0.0014\n",
      "Feature: lag_heat_index_3, Importance: 0.0010\n"
     ]
    }
   ],
   "source": [
    "regressors = df_test.columns  # List of regressors used in the model\n",
    "y_true = df['y'].values  # True target values\n",
    "\n",
    "# Call the function to calculate feature importance\n",
    "importances = permutation_importance_prophet(model, df, regressors, y_true)\n",
    "\n",
    "# Print the results\n",
    "for regressor, importance in importances.items():\n",
    "    print(f\"Feature: {regressor}, Importance: {importance:.4f}\")"
   ]
  },
  {
   "cell_type": "code",
   "execution_count": 151,
   "metadata": {},
   "outputs": [
    {
     "data": {
      "image/png": "[encoded data removed]",
      "text/plain": [
       "<Figure size 1000x600 with 1 Axes>"
      ]
     },
     "metadata": {},
     "output_type": "display_data"
    }
   ],
   "source": [
    "plot_permutation_importance(importances)"
   ]
  },
  {
   "cell_type": "markdown",
   "metadata": {},
   "source": [
    "### 04.03.04 Metrics"
   ]
  },
  {
   "cell_type": "markdown",
   "metadata": {},
   "source": [
    "**Metrics using test and train**"
   ]
  },
  {
   "cell_type": "code",
   "execution_count": 152,
   "metadata": {},
   "outputs": [],
   "source": [
    "(\n",
    "    df_train_original,\n",
    "    df_test_original,\n",
    "    y_train_original,\n",
    "    y_test_original,\n",
    "    y_pred_original\n",
    ") = data_reconversion(\n",
    "    scaler,\n",
    "    scaler_target,\n",
    "    df_train_scaled,\n",
    "    df_test_scaled,\n",
    "    y_train_scaled,\n",
    "    y_test_scaled,\n",
    "    y_pred['yhat'].values.reshape(-1, 1)\n",
    ")"
   ]
  },
  {
   "cell_type": "code",
   "execution_count": 153,
   "metadata": {},
   "outputs": [
    {
     "name": "stdout",
     "output_type": "stream",
     "text": [
      "Mean Absolute Error (MAE): 126.99\n",
      "Mean Squared Error (MSE): 27354.66\n",
      "Root Mean Squared Error (RMSE): 165.39\n",
      "Mean Absolute Percentage Error (MAPE): 3.57%\n",
      "R-Squared (R²): 0.81\n"
     ]
    }
   ],
   "source": [
    "print_metrics(dataset['hospitalizations'].values.reshape(-1, 1), y_pred_original)"
   ]
  },
  {
   "cell_type": "markdown",
   "metadata": {},
   "source": [
    "**Metrics using only test**"
   ]
  },
  {
   "cell_type": "code",
   "execution_count": 154,
   "metadata": {},
   "outputs": [],
   "source": [
    "(\n",
    "    df_train_original,\n",
    "    df_test_original,\n",
    "    y_train_original,\n",
    "    y_test_original,\n",
    "    y_pred_original\n",
    ") = data_reconversion(\n",
    "    scaler,\n",
    "    scaler_target,\n",
    "    df_train_scaled,\n",
    "    df_test_scaled,\n",
    "    y_train_scaled,\n",
    "    y_test_scaled,\n",
    "    y_pred.tail(len(df_test_scaled))['yhat'].values.reshape(-1, 1)\n",
    ")"
   ]
  },
  {
   "cell_type": "code",
   "execution_count": 155,
   "metadata": {},
   "outputs": [
    {
     "name": "stdout",
     "output_type": "stream",
     "text": [
      "Mean Absolute Error (MAE): 141.36\n",
      "Mean Squared Error (MSE): 34434.93\n",
      "Root Mean Squared Error (RMSE): 185.57\n",
      "Mean Absolute Percentage Error (MAPE): 4.34%\n",
      "R-Squared (R²): 0.13\n"
     ]
    }
   ],
   "source": [
    "print_metrics(y_test_original, y_pred_original)"
   ]
  },
  {
   "cell_type": "code",
   "execution_count": 156,
   "metadata": {},
   "outputs": [],
   "source": [
    "mae, mse, rmse, mape, r2 = metrics(y_test_original, y_pred_original)\n",
    "\n",
    "metrics = {\n",
    "    \"Model\": \"PROPHET\",\n",
    "    \"mae\": f\"{mae:.2f}\",\n",
    "    \"mse\": f\"{mse:.2f}\",\n",
    "    \"rmse\": f\"{rmse:.2f}\",\n",
    "    \"mape\": f\"{mape:.2f}\",\n",
    "    \"r2\": f\"{r2:.2f}\"\n",
    "}\n",
    "\n",
    "with open(\"model_results/PROPHET_METRICS.json\", \"w\") as json_file:\n",
    "    json.dump(metrics, json_file, indent=4)"
   ]
  },
  {
   "cell_type": "code",
   "execution_count": 157,
   "metadata": {
    "colab": {
     "base_uri": "https://localhost:8080/",
     "height": 542
    },
    "id": "P4MmxMinyngs",
    "outputId": "451ab03f-fcd9-4fbe-da64-f51ecc7ce718"
   },
   "outputs": [
    {
     "data": {
      "application/vnd.plotly.v1+json": {
       "config": {
        "plotlyServerURL": "https://plot.ly"
       },
       "data": [
        {
         "hovertemplate": "ds=%{x}<br>yhat=%{y}<extra></extra>",
         "legendgroup": "",
         "line": {
          "color": "#636efa",
          "dash": "solid"
         },
         "marker": {
          "symbol": "circle"
         },
         "mode": "lines",
         "name": "",
         "orientation": "v",
         "showlegend": false,
         "type": "scatter",
         "x": [
          "2000-12-01T00:00:00",
          "2001-01-01T00:00:00",
          "2001-02-01T00:00:00",
          "2001-03-01T00:00:00",
          "2001-04-01T00:00:00",
          "2001-05-01T00:00:00",
          "2001-06-01T00:00:00",
          "2001-07-01T00:00:00",
          "2001-08-01T00:00:00",
          "2001-09-01T00:00:00",
          "2001-10-01T00:00:00",
          "2001-11-01T00:00:00",
          "2001-12-01T00:00:00",
          "2002-01-01T00:00:00",
          "2002-02-01T00:00:00",
          "2002-03-01T00:00:00",
          "2002-04-01T00:00:00",
          "2002-05-01T00:00:00",
          "2002-06-01T00:00:00",
          "2002-07-01T00:00:00",
          "2002-08-01T00:00:00",
          "2002-09-01T00:00:00",
          "2002-10-01T00:00:00",
          "2002-11-01T00:00:00",
          "2002-12-01T00:00:00",
          "2003-01-01T00:00:00",
          "2003-02-01T00:00:00",
          "2003-03-01T00:00:00",
          "2003-04-01T00:00:00",
          "2003-05-01T00:00:00",
          "2003-06-01T00:00:00",
          "2003-07-01T00:00:00",
          "2003-08-01T00:00:00",
          "2003-09-01T00:00:00",
          "2003-10-01T00:00:00",
          "2003-11-01T00:00:00",
          "2003-12-01T00:00:00",
          "2004-01-01T00:00:00",
          "2004-02-01T00:00:00",
          "2004-03-01T00:00:00",
          "2004-04-01T00:00:00",
          "2004-05-01T00:00:00",
          "2004-06-01T00:00:00",
          "2004-07-01T00:00:00",
          "2004-08-01T00:00:00",
          "2004-09-01T00:00:00",
          "2004-10-01T00:00:00",
          "2004-11-01T00:00:00",
          "2004-12-01T00:00:00",
          "2005-01-01T00:00:00",
          "2005-02-01T00:00:00",
          "2005-03-01T00:00:00",
          "2005-04-01T00:00:00",
          "2005-05-01T00:00:00",
          "2005-06-01T00:00:00",
          "2005-07-01T00:00:00",
          "2005-08-01T00:00:00",
          "2005-09-01T00:00:00",
          "2005-10-01T00:00:00",
          "2005-11-01T00:00:00",
          "2005-12-01T00:00:00",
          "2006-01-01T00:00:00",
          "2006-02-01T00:00:00",
          "2006-03-01T00:00:00",
          "2006-04-01T00:00:00",
          "2006-05-01T00:00:00",
          "2006-06-01T00:00:00",
          "2006-07-01T00:00:00",
          "2006-08-01T00:00:00",
          "2006-09-01T00:00:00",
          "2006-10-01T00:00:00",
          "2006-11-01T00:00:00",
          "2006-12-01T00:00:00",
          "2007-01-01T00:00:00",
          "2007-02-01T00:00:00",
          "2007-03-01T00:00:00",
          "2007-04-01T00:00:00",
          "2007-05-01T00:00:00",
          "2007-06-01T00:00:00",
          "2007-07-01T00:00:00",
          "2007-08-01T00:00:00",
          "2007-09-01T00:00:00",
          "2007-10-01T00:00:00",
          "2007-11-01T00:00:00",
          "2007-12-01T00:00:00",
          "2008-01-01T00:00:00",
          "2008-02-01T00:00:00",
          "2008-03-01T00:00:00",
          "2008-04-01T00:00:00",
          "2008-05-01T00:00:00",
          "2008-06-01T00:00:00",
          "2008-07-01T00:00:00",
          "2008-08-01T00:00:00",
          "2008-09-01T00:00:00",
          "2008-10-01T00:00:00",
          "2008-11-01T00:00:00",
          "2008-12-01T00:00:00",
          "2009-01-01T00:00:00",
          "2009-02-01T00:00:00",
          "2009-03-01T00:00:00",
          "2009-04-01T00:00:00",
          "2009-05-01T00:00:00",
          "2009-06-01T00:00:00",
          "2009-07-01T00:00:00",
          "2009-08-01T00:00:00",
          "2009-09-01T00:00:00",
          "2009-10-01T00:00:00",
          "2009-11-01T00:00:00",
          "2009-12-01T00:00:00",
          "2010-01-01T00:00:00",
          "2010-02-01T00:00:00",
          "2010-03-01T00:00:00",
          "2010-04-01T00:00:00",
          "2010-05-01T00:00:00",
          "2010-06-01T00:00:00",
          "2010-07-01T00:00:00",
          "2010-08-01T00:00:00",
          "2010-09-01T00:00:00",
          "2010-10-01T00:00:00",
          "2010-11-01T00:00:00",
          "2010-12-01T00:00:00",
          "2011-01-01T00:00:00",
          "2011-02-01T00:00:00",
          "2011-03-01T00:00:00",
          "2011-04-01T00:00:00",
          "2011-05-01T00:00:00",
          "2011-06-01T00:00:00",
          "2011-07-01T00:00:00",
          "2011-08-01T00:00:00",
          "2011-09-01T00:00:00",
          "2011-10-01T00:00:00",
          "2011-11-01T00:00:00",
          "2011-12-01T00:00:00",
          "2012-01-01T00:00:00",
          "2012-02-01T00:00:00",
          "2012-03-01T00:00:00",
          "2012-04-01T00:00:00",
          "2012-05-01T00:00:00",
          "2012-06-01T00:00:00",
          "2012-07-01T00:00:00",
          "2012-08-01T00:00:00",
          "2012-09-01T00:00:00",
          "2012-10-01T00:00:00",
          "2012-11-01T00:00:00",
          "2012-12-01T00:00:00",
          "2013-01-01T00:00:00",
          "2013-02-01T00:00:00",
          "2013-03-01T00:00:00",
          "2013-04-01T00:00:00",
          "2013-05-01T00:00:00",
          "2013-06-01T00:00:00",
          "2013-07-01T00:00:00",
          "2013-08-01T00:00:00",
          "2013-09-01T00:00:00",
          "2013-10-01T00:00:00",
          "2013-11-01T00:00:00",
          "2013-12-01T00:00:00",
          "2014-01-01T00:00:00",
          "2014-02-01T00:00:00",
          "2014-03-01T00:00:00",
          "2014-04-01T00:00:00",
          "2014-05-01T00:00:00",
          "2014-06-01T00:00:00",
          "2014-07-01T00:00:00",
          "2014-08-01T00:00:00",
          "2014-09-01T00:00:00",
          "2014-10-01T00:00:00",
          "2014-11-01T00:00:00",
          "2014-12-01T00:00:00",
          "2015-01-01T00:00:00",
          "2015-02-01T00:00:00",
          "2015-03-01T00:00:00",
          "2015-04-01T00:00:00",
          "2015-05-01T00:00:00",
          "2015-06-01T00:00:00",
          "2015-07-01T00:00:00",
          "2015-08-01T00:00:00",
          "2015-09-01T00:00:00",
          "2015-10-01T00:00:00",
          "2015-11-01T00:00:00",
          "2015-12-01T00:00:00",
          "2016-01-01T00:00:00",
          "2016-02-01T00:00:00",
          "2016-03-01T00:00:00",
          "2016-04-01T00:00:00",
          "2016-05-01T00:00:00",
          "2016-06-01T00:00:00",
          "2016-07-01T00:00:00",
          "2016-08-01T00:00:00",
          "2016-09-01T00:00:00",
          "2016-10-01T00:00:00",
          "2016-11-01T00:00:00",
          "2016-12-01T00:00:00",
          "2016-12-31T00:00:00",
          "2017-01-31T00:00:00",
          "2017-02-28T00:00:00",
          "2017-03-31T00:00:00",
          "2017-04-30T00:00:00",
          "2017-05-31T00:00:00",
          "2017-06-30T00:00:00",
          "2017-07-31T00:00:00",
          "2017-08-31T00:00:00",
          "2017-09-30T00:00:00",
          "2017-10-31T00:00:00",
          "2017-11-30T00:00:00",
          "2017-12-31T00:00:00",
          "2018-01-31T00:00:00",
          "2018-02-28T00:00:00",
          "2018-03-31T00:00:00",
          "2018-04-30T00:00:00",
          "2018-05-31T00:00:00",
          "2018-06-30T00:00:00",
          "2018-07-31T00:00:00",
          "2018-08-31T00:00:00",
          "2018-09-30T00:00:00",
          "2018-10-31T00:00:00",
          "2018-11-30T00:00:00",
          "2018-12-31T00:00:00",
          "2019-01-31T00:00:00",
          "2019-02-28T00:00:00",
          "2019-03-31T00:00:00",
          "2019-04-30T00:00:00",
          "2019-05-31T00:00:00",
          "2019-06-30T00:00:00",
          "2019-07-31T00:00:00",
          "2019-08-31T00:00:00",
          "2019-09-30T00:00:00",
          "2019-10-31T00:00:00",
          "2019-11-30T00:00:00"
         ],
         "xaxis": "x",
         "y": [
          0.7092564294527917,
          0.6715629184204664,
          0.5356536843554206,
          0.6592494089570022,
          0.6841964338850256,
          0.7193808993042647,
          0.7140049013404517,
          0.813610411251055,
          0.8264049621781729,
          0.6858181735732541,
          0.7147680215906157,
          0.730221264102727,
          0.6445904065810013,
          0.6432504043124732,
          0.537994555784681,
          0.5082901998587364,
          0.5395878703692634,
          0.6535711482067622,
          0.6772791964106888,
          0.7338018916928695,
          0.7837036852641461,
          0.7148745431209809,
          0.7211886139421162,
          0.7020468701483408,
          0.6292102109779073,
          0.6125782249324527,
          0.520013674814721,
          0.5161301295209397,
          0.546508872782059,
          0.6455501341625596,
          0.6881876672382896,
          0.6961896054309592,
          0.7220431620806882,
          0.7493568365895571,
          0.6431950398848691,
          0.6368990224588866,
          0.601559730246206,
          0.56800122346734,
          0.5381794924708662,
          0.5790597408934541,
          0.5242652475111705,
          0.5204610665202835,
          0.5836363255924394,
          0.6628010574863693,
          0.7069283278921407,
          0.6596931505965283,
          0.6441049526480277,
          0.620352387059764,
          0.5509874306672872,
          0.4941323195243029,
          0.42770731148004587,
          0.48755113214017354,
          0.4619393442293391,
          0.5513028380515015,
          0.5169777754823597,
          0.5614763182085939,
          0.6279139465429607,
          0.5548269731466078,
          0.5932451810629767,
          0.6017104830790991,
          0.4708517657119893,
          0.4054849863959666,
          0.3427144898890602,
          0.39536893241548526,
          0.38378878530987715,
          0.467283737092618,
          0.5014133965777927,
          0.5367948264261497,
          0.5471442715398109,
          0.5181541007520569,
          0.5029901069398146,
          0.49208556966186856,
          0.4148519868230101,
          0.3635491151455522,
          0.32251033271245944,
          0.2862939856743712,
          0.3036894082168671,
          0.40308223987291264,
          0.5169964442368786,
          0.48083638490073133,
          0.5395149680711656,
          0.5196561583020429,
          0.481712489652198,
          0.4674071139994988,
          0.44479716947936493,
          0.4098610036661622,
          0.34717447110372646,
          0.3972340384563445,
          0.42160759897916184,
          0.3905631992890689,
          0.4397854013121526,
          0.5565449754907954,
          0.5586041799507874,
          0.4425253135520432,
          0.5747323992278836,
          0.4343538766764499,
          0.37871406832819593,
          0.37007352781754044,
          0.25371579587240045,
          0.3488298025917231,
          0.29116658348017876,
          0.3496267779931608,
          0.3876897160701167,
          0.4456957655908383,
          0.5152146024816087,
          0.40144340505585985,
          0.3717081896131496,
          0.3708240122013863,
          0.3052819131090274,
          0.2518785339823736,
          0.13517550592092709,
          0.2838091785837181,
          0.25471816545364756,
          0.364849038908979,
          0.3956230337665483,
          0.39608658100986727,
          0.49615824971079375,
          0.3968465639056869,
          0.370417549621808,
          0.3898140890944137,
          0.3546911911872348,
          0.24956868155277442,
          0.221803211497163,
          0.1972074468147439,
          0.2257526088193473,
          0.33410868797253007,
          0.3692615050846448,
          0.3616203398786398,
          0.4384017781236416,
          0.376938813534322,
          0.3695897662962607,
          0.3105010484589244,
          0.273881011936887,
          0.22127666733939072,
          0.19401410587848103,
          0.20802759478639393,
          0.20332311965149275,
          0.21584338880331855,
          0.21537598663676744,
          0.31489847977649066,
          0.4043194434251656,
          0.2867768784207064,
          0.2651507847551331,
          0.24645495279763951,
          0.12795557835469754,
          0.14249632805251944,
          0.11577248209659266,
          0.20795550623294745,
          0.16696208403362628,
          0.2306744082882192,
          0.28654368310736195,
          0.34508037288736865,
          0.40988221430982485,
          0.29194558668788023,
          0.33957647234386623,
          0.27182669674329085,
          0.20101066519977812,
          0.12406250190809309,
          0.023578685691763912,
          0.20188573635129647,
          0.16744081577470518,
          0.30287510423291203,
          0.37538450878866303,
          0.3638745691633549,
          0.41579329970970397,
          0.3579248472152927,
          0.3244751951173335,
          0.2862544906029978,
          0.25459181267820835,
          0.1680126188231845,
          0.15438752710881576,
          0.11832981384920063,
          0.18447467256086558,
          0.2799435768418042,
          0.2915447395151253,
          0.3383584685778444,
          0.3714214113077608,
          0.3288197582459234,
          0.2896630539656919,
          0.33641276105845613,
          0.23652954411519575,
          0.1944512719251798,
          0.11714993359413034,
          0.21092486597031856,
          0.11830709030320832,
          0.2054946803716665,
          0.23773722529960528,
          0.3553586380695596,
          0.3862949758008457,
          0.26068105434207406,
          0.33758711502649713,
          0.26703267317766827,
          0.18359326783469315,
          0.17040361576087834,
          0.09015139698939309,
          0.012115734842908038,
          0.11616113687002297,
          0.3544283954394384,
          0.3737658075827739,
          0.22477352965429395,
          0.3583281944350648,
          0.26745929386550743,
          0.2388775613355458,
          0.3170640493067058,
          0.24181911658003025,
          0.21125991585918621,
          0.21925833513125745,
          0.04074977776411651,
          0.08153007079719943,
          0.31460852600715034,
          0.3552184030392687,
          0.28518314045913845,
          0.34901305692935014,
          0.30410509671297004,
          0.2074204997527351,
          0.2539494766523237,
          0.2254038136021184,
          0.11845954186888462,
          0.13550121876210303,
          -0.007066171796778403,
          0.09802470042985098,
          0.40412267819212944,
          0.3508933293600097,
          0.20467294932704705,
          0.3089777618660194,
          0.3367175128400335,
          0.19962920253386443,
          0.3172799586712074,
          0.18303962508054183
         ],
         "yaxis": "y"
        }
       ],
       "layout": {
        "autosize": true,
        "legend": {
         "tracegroupgap": 0
        },
        "margin": {
         "t": 60
        },
        "template": {
         "data": {
          "bar": [
           {
            "error_x": {
             "color": "#2a3f5f"
            },
            "error_y": {
             "color": "#2a3f5f"
            },
            "marker": {
             "line": {
              "color": "#E5ECF6",
              "width": 0.5
             },
             "pattern": {
              "fillmode": "overlay",
              "size": 10,
              "solidity": 0.2
             }
            },
            "type": "bar"
           }
          ],
          "barpolar": [
           {
            "marker": {
             "line": {
              "color": "#E5ECF6",
              "width": 0.5
             },
             "pattern": {
              "fillmode": "overlay",
              "size": 10,
              "solidity": 0.2
             }
            },
            "type": "barpolar"
           }
          ],
          "carpet": [
           {
            "aaxis": {
             "endlinecolor": "#2a3f5f",
             "gridcolor": "white",
             "linecolor": "white",
             "minorgridcolor": "white",
             "startlinecolor": "#2a3f5f"
            },
            "baxis": {
             "endlinecolor": "#2a3f5f",
             "gridcolor": "white",
             "linecolor": "white",
             "minorgridcolor": "white",
             "startlinecolor": "#2a3f5f"
            },
            "type": "carpet"
           }
          ],
          "choropleth": [
           {
            "colorbar": {
             "outlinewidth": 0,
             "ticks": ""
            },
            "type": "choropleth"
           }
          ],
          "contour": [
           {
            "colorbar": {
             "outlinewidth": 0,
             "ticks": ""
            },
            "colorscale": [
             [
              0,
              "#0d0887"
             ],
             [
              0.1111111111111111,
              "#46039f"
             ],
             [
              0.2222222222222222,
              "#7201a8"
             ],
             [
              0.3333333333333333,
              "#9c179e"
             ],
             [
              0.4444444444444444,
              "#bd3786"
             ],
             [
              0.5555555555555556,
              "#d8576b"
             ],
             [
              0.6666666666666666,
              "#ed7953"
             ],
             [
              0.7777777777777778,
              "#fb9f3a"
             ],
             [
              0.8888888888888888,
              "#fdca26"
             ],
             [
              1,
              "#f0f921"
             ]
            ],
            "type": "contour"
           }
          ],
          "contourcarpet": [
           {
            "colorbar": {
             "outlinewidth": 0,
             "ticks": ""
            },
            "type": "contourcarpet"
           }
          ],
          "heatmap": [
           {
            "colorbar": {
             "outlinewidth": 0,
             "ticks": ""
            },
            "colorscale": [
             [
              0,
              "#0d0887"
             ],
             [
              0.1111111111111111,
              "#46039f"
             ],
             [
              0.2222222222222222,
              "#7201a8"
             ],
             [
              0.3333333333333333,
              "#9c179e"
             ],
             [
              0.4444444444444444,
              "#bd3786"
             ],
             [
              0.5555555555555556,
              "#d8576b"
             ],
             [
              0.6666666666666666,
              "#ed7953"
             ],
             [
              0.7777777777777778,
              "#fb9f3a"
             ],
             [
              0.8888888888888888,
              "#fdca26"
             ],
             [
              1,
              "#f0f921"
             ]
            ],
            "type": "heatmap"
           }
          ],
          "heatmapgl": [
           {
            "colorbar": {
             "outlinewidth": 0,
             "ticks": ""
            },
            "colorscale": [
             [
              0,
              "#0d0887"
             ],
             [
              0.1111111111111111,
              "#46039f"
             ],
             [
              0.2222222222222222,
              "#7201a8"
             ],
             [
              0.3333333333333333,
              "#9c179e"
             ],
             [
              0.4444444444444444,
              "#bd3786"
             ],
             [
              0.5555555555555556,
              "#d8576b"
             ],
             [
              0.6666666666666666,
              "#ed7953"
             ],
             [
              0.7777777777777778,
              "#fb9f3a"
             ],
             [
              0.8888888888888888,
              "#fdca26"
             ],
             [
              1,
              "#f0f921"
             ]
            ],
            "type": "heatmapgl"
           }
          ],
          "histogram": [
           {
            "marker": {
             "pattern": {
              "fillmode": "overlay",
              "size": 10,
              "solidity": 0.2
             }
            },
            "type": "histogram"
           }
          ],
          "histogram2d": [
           {
            "colorbar": {
             "outlinewidth": 0,
             "ticks": ""
            },
            "colorscale": [
             [
              0,
              "#0d0887"
             ],
             [
              0.1111111111111111,
              "#46039f"
             ],
             [
              0.2222222222222222,
              "#7201a8"
             ],
             [
              0.3333333333333333,
              "#9c179e"
             ],
             [
              0.4444444444444444,
              "#bd3786"
             ],
             [
              0.5555555555555556,
              "#d8576b"
             ],
             [
              0.6666666666666666,
              "#ed7953"
             ],
             [
              0.7777777777777778,
              "#fb9f3a"
             ],
             [
              0.8888888888888888,
              "#fdca26"
             ],
             [
              1,
              "#f0f921"
             ]
            ],
            "type": "histogram2d"
           }
          ],
          "histogram2dcontour": [
           {
            "colorbar": {
             "outlinewidth": 0,
             "ticks": ""
            },
            "colorscale": [
             [
              0,
              "#0d0887"
             ],
             [
              0.1111111111111111,
              "#46039f"
             ],
             [
              0.2222222222222222,
              "#7201a8"
             ],
             [
              0.3333333333333333,
              "#9c179e"
             ],
             [
              0.4444444444444444,
              "#bd3786"
             ],
             [
              0.5555555555555556,
              "#d8576b"
             ],
             [
              0.6666666666666666,
              "#ed7953"
             ],
             [
              0.7777777777777778,
              "#fb9f3a"
             ],
             [
              0.8888888888888888,
              "#fdca26"
             ],
             [
              1,
              "#f0f921"
             ]
            ],
            "type": "histogram2dcontour"
           }
          ],
          "mesh3d": [
           {
            "colorbar": {
             "outlinewidth": 0,
             "ticks": ""
            },
            "type": "mesh3d"
           }
          ],
          "parcoords": [
           {
            "line": {
             "colorbar": {
              "outlinewidth": 0,
              "ticks": ""
             }
            },
            "type": "parcoords"
           }
          ],
          "pie": [
           {
            "automargin": true,
            "type": "pie"
           }
          ],
          "scatter": [
           {
            "fillpattern": {
             "fillmode": "overlay",
             "size": 10,
             "solidity": 0.2
            },
            "type": "scatter"
           }
          ],
          "scatter3d": [
           {
            "line": {
             "colorbar": {
              "outlinewidth": 0,
              "ticks": ""
             }
            },
            "marker": {
             "colorbar": {
              "outlinewidth": 0,
              "ticks": ""
             }
            },
            "type": "scatter3d"
           }
          ],
          "scattercarpet": [
           {
            "marker": {
             "colorbar": {
              "outlinewidth": 0,
              "ticks": ""
             }
            },
            "type": "scattercarpet"
           }
          ],
          "scattergeo": [
           {
            "marker": {
             "colorbar": {
              "outlinewidth": 0,
              "ticks": ""
             }
            },
            "type": "scattergeo"
           }
          ],
          "scattergl": [
           {
            "marker": {
             "colorbar": {
              "outlinewidth": 0,
              "ticks": ""
             }
            },
            "type": "scattergl"
           }
          ],
          "scattermapbox": [
           {
            "marker": {
             "colorbar": {
              "outlinewidth": 0,
              "ticks": ""
             }
            },
            "type": "scattermapbox"
           }
          ],
          "scatterpolar": [
           {
            "marker": {
             "colorbar": {
              "outlinewidth": 0,
              "ticks": ""
             }
            },
            "type": "scatterpolar"
           }
          ],
          "scatterpolargl": [
           {
            "marker": {
             "colorbar": {
              "outlinewidth": 0,
              "ticks": ""
             }
            },
            "type": "scatterpolargl"
           }
          ],
          "scatterternary": [
           {
            "marker": {
             "colorbar": {
              "outlinewidth": 0,
              "ticks": ""
             }
            },
            "type": "scatterternary"
           }
          ],
          "surface": [
           {
            "colorbar": {
             "outlinewidth": 0,
             "ticks": ""
            },
            "colorscale": [
             [
              0,
              "#0d0887"
             ],
             [
              0.1111111111111111,
              "#46039f"
             ],
             [
              0.2222222222222222,
              "#7201a8"
             ],
             [
              0.3333333333333333,
              "#9c179e"
             ],
             [
              0.4444444444444444,
              "#bd3786"
             ],
             [
              0.5555555555555556,
              "#d8576b"
             ],
             [
              0.6666666666666666,
              "#ed7953"
             ],
             [
              0.7777777777777778,
              "#fb9f3a"
             ],
             [
              0.8888888888888888,
              "#fdca26"
             ],
             [
              1,
              "#f0f921"
             ]
            ],
            "type": "surface"
           }
          ],
          "table": [
           {
            "cells": {
             "fill": {
              "color": "#EBF0F8"
             },
             "line": {
              "color": "white"
             }
            },
            "header": {
             "fill": {
              "color": "#C8D4E3"
             },
             "line": {
              "color": "white"
             }
            },
            "type": "table"
           }
          ]
         },
         "layout": {
          "annotationdefaults": {
           "arrowcolor": "#2a3f5f",
           "arrowhead": 0,
           "arrowwidth": 1
          },
          "autotypenumbers": "strict",
          "coloraxis": {
           "colorbar": {
            "outlinewidth": 0,
            "ticks": ""
           }
          },
          "colorscale": {
           "diverging": [
            [
             0,
             "#8e0152"
            ],
            [
             0.1,
             "#c51b7d"
            ],
            [
             0.2,
             "#de77ae"
            ],
            [
             0.3,
             "#f1b6da"
            ],
            [
             0.4,
             "#fde0ef"
            ],
            [
             0.5,
             "#f7f7f7"
            ],
            [
             0.6,
             "#e6f5d0"
            ],
            [
             0.7,
             "#b8e186"
            ],
            [
             0.8,
             "#7fbc41"
            ],
            [
             0.9,
             "#4d9221"
            ],
            [
             1,
             "#276419"
            ]
           ],
           "sequential": [
            [
             0,
             "#0d0887"
            ],
            [
             0.1111111111111111,
             "#46039f"
            ],
            [
             0.2222222222222222,
             "#7201a8"
            ],
            [
             0.3333333333333333,
             "#9c179e"
            ],
            [
             0.4444444444444444,
             "#bd3786"
            ],
            [
             0.5555555555555556,
             "#d8576b"
            ],
            [
             0.6666666666666666,
             "#ed7953"
            ],
            [
             0.7777777777777778,
             "#fb9f3a"
            ],
            [
             0.8888888888888888,
             "#fdca26"
            ],
            [
             1,
             "#f0f921"
            ]
           ],
           "sequentialminus": [
            [
             0,
             "#0d0887"
            ],
            [
             0.1111111111111111,
             "#46039f"
            ],
            [
             0.2222222222222222,
             "#7201a8"
            ],
            [
             0.3333333333333333,
             "#9c179e"
            ],
            [
             0.4444444444444444,
             "#bd3786"
            ],
            [
             0.5555555555555556,
             "#d8576b"
            ],
            [
             0.6666666666666666,
             "#ed7953"
            ],
            [
             0.7777777777777778,
             "#fb9f3a"
            ],
            [
             0.8888888888888888,
             "#fdca26"
            ],
            [
             1,
             "#f0f921"
            ]
           ]
          },
          "colorway": [
           "#636efa",
           "#EF553B",
           "#00cc96",
           "#ab63fa",
           "#FFA15A",
           "#19d3f3",
           "#FF6692",
           "#B6E880",
           "#FF97FF",
           "#FECB52"
          ],
          "font": {
           "color": "#2a3f5f"
          },
          "geo": {
           "bgcolor": "white",
           "lakecolor": "white",
           "landcolor": "#E5ECF6",
           "showlakes": true,
           "showland": true,
           "subunitcolor": "white"
          },
          "hoverlabel": {
           "align": "left"
          },
          "hovermode": "closest",
          "mapbox": {
           "style": "light"
          },
          "paper_bgcolor": "white",
          "plot_bgcolor": "#E5ECF6",
          "polar": {
           "angularaxis": {
            "gridcolor": "white",
            "linecolor": "white",
            "ticks": ""
           },
           "bgcolor": "#E5ECF6",
           "radialaxis": {
            "gridcolor": "white",
            "linecolor": "white",
            "ticks": ""
           }
          },
          "scene": {
           "xaxis": {
            "backgroundcolor": "#E5ECF6",
            "gridcolor": "white",
            "gridwidth": 2,
            "linecolor": "white",
            "showbackground": true,
            "ticks": "",
            "zerolinecolor": "white"
           },
           "yaxis": {
            "backgroundcolor": "#E5ECF6",
            "gridcolor": "white",
            "gridwidth": 2,
            "linecolor": "white",
            "showbackground": true,
            "ticks": "",
            "zerolinecolor": "white"
           },
           "zaxis": {
            "backgroundcolor": "#E5ECF6",
            "gridcolor": "white",
            "gridwidth": 2,
            "linecolor": "white",
            "showbackground": true,
            "ticks": "",
            "zerolinecolor": "white"
           }
          },
          "shapedefaults": {
           "line": {
            "color": "#2a3f5f"
           }
          },
          "ternary": {
           "aaxis": {
            "gridcolor": "white",
            "linecolor": "white",
            "ticks": ""
           },
           "baxis": {
            "gridcolor": "white",
            "linecolor": "white",
            "ticks": ""
           },
           "bgcolor": "#E5ECF6",
           "caxis": {
            "gridcolor": "white",
            "linecolor": "white",
            "ticks": ""
           }
          },
          "title": {
           "x": 0.05
          },
          "xaxis": {
           "automargin": true,
           "gridcolor": "white",
           "linecolor": "white",
           "ticks": "",
           "title": {
            "standoff": 15
           },
           "zerolinecolor": "white",
           "zerolinewidth": 2
          },
          "yaxis": {
           "automargin": true,
           "gridcolor": "white",
           "linecolor": "white",
           "ticks": "",
           "title": {
            "standoff": 15
           },
           "zerolinecolor": "white",
           "zerolinewidth": 2
          }
         }
        },
        "xaxis": {
         "anchor": "y",
         "autorange": true,
         "domain": [
          0,
          1
         ],
         "range": [
          "2000-12-01",
          "2019-11-30"
         ],
         "title": {
          "text": "ds"
         },
         "type": "date"
        },
        "yaxis": {
         "anchor": "x",
         "autorange": true,
         "domain": [
          0,
          1
         ],
         "range": [
          -0.053370123684275704,
          0.8727089140656702
         ],
         "title": {
          "text": "yhat"
         },
         "type": "linear"
        }
       }
      },
      "text/html": [
       "<div>                            <div id=\"94f4fd88-0e11-4269-9a15-2b0c47376bd4\" class=\"plotly-graph-div\" style=\"height:525px; width:100%;\"></div>            <script type=\"text/javascript\">                require([\"plotly\"], function(Plotly) {                    window.PLOTLYENV=window.PLOTLYENV || {};                                    if (document.getElementById(\"94f4fd88-0e11-4269-9a15-2b0c47376bd4\")) {                    Plotly.newPlot(                        \"94f4fd88-0e11-4269-9a15-2b0c47376bd4\",                        [{\"hovertemplate\":\"ds=%{x}\\u003cbr\\u003eyhat=%{y}\\u003cextra\\u003e\\u003c\\u002fextra\\u003e\",\"legendgroup\":\"\",\"line\":{\"color\":\"#636efa\",\"dash\":\"solid\"},\"marker\":{\"symbol\":\"circle\"},\"mode\":\"lines\",\"name\":\"\",\"orientation\":\"v\",\"showlegend\":false,\"x\":[\"2000-12-01T00:00:00\",\"2001-01-01T00:00:00\",\"2001-02-01T00:00:00\",\"2001-03-01T00:00:00\",\"2001-04-01T00:00:00\",\"2001-05-01T00:00:00\",\"2001-06-01T00:00:00\",\"2001-07-01T00:00:00\",\"2001-08-01T00:00:00\",\"2001-09-01T00:00:00\",\"2001-10-01T00:00:00\",\"2001-11-01T00:00:00\",\"2001-12-01T00:00:00\",\"2002-01-01T00:00:00\",\"2002-02-01T00:00:00\",\"2002-03-01T00:00:00\",\"2002-04-01T00:00:00\",\"2002-05-01T00:00:00\",\"2002-06-01T00:00:00\",\"2002-07-01T00:00:00\",\"2002-08-01T00:00:00\",\"2002-09-01T00:00:00\",\"2002-10-01T00:00:00\",\"2002-11-01T00:00:00\",\"2002-12-01T00:00:00\",\"2003-01-01T00:00:00\",\"2003-02-01T00:00:00\",\"2003-03-01T00:00:00\",\"2003-04-01T00:00:00\",\"2003-05-01T00:00:00\",\"2003-06-01T00:00:00\",\"2003-07-01T00:00:00\",\"2003-08-01T00:00:00\",\"2003-09-01T00:00:00\",\"2003-10-01T00:00:00\",\"2003-11-01T00:00:00\",\"2003-12-01T00:00:00\",\"2004-01-01T00:00:00\",\"2004-02-01T00:00:00\",\"2004-03-01T00:00:00\",\"2004-04-01T00:00:00\",\"2004-05-01T00:00:00\",\"2004-06-01T00:00:00\",\"2004-07-01T00:00:00\",\"2004-08-01T00:00:00\",\"2004-09-01T00:00:00\",\"2004-10-01T00:00:00\",\"2004-11-01T00:00:00\",\"2004-12-01T00:00:00\",\"2005-01-01T00:00:00\",\"2005-02-01T00:00:00\",\"2005-03-01T00:00:00\",\"2005-04-01T00:00:00\",\"2005-05-01T00:00:00\",\"2005-06-01T00:00:00\",\"2005-07-01T00:00:00\",\"2005-08-01T00:00:00\",\"2005-09-01T00:00:00\",\"2005-10-01T00:00:00\",\"2005-11-01T00:00:00\",\"2005-12-01T00:00:00\",\"2006-01-01T00:00:00\",\"2006-02-01T00:00:00\",\"2006-03-01T00:00:00\",\"2006-04-01T00:00:00\",\"2006-05-01T00:00:00\",\"2006-06-01T00:00:00\",\"2006-07-01T00:00:00\",\"2006-08-01T00:00:00\",\"2006-09-01T00:00:00\",\"2006-10-01T00:00:00\",\"2006-11-01T00:00:00\",\"2006-12-01T00:00:00\",\"2007-01-01T00:00:00\",\"2007-02-01T00:00:00\",\"2007-03-01T00:00:00\",\"2007-04-01T00:00:00\",\"2007-05-01T00:00:00\",\"2007-06-01T00:00:00\",\"2007-07-01T00:00:00\",\"2007-08-01T00:00:00\",\"2007-09-01T00:00:00\",\"2007-10-01T00:00:00\",\"2007-11-01T00:00:00\",\"2007-12-01T00:00:00\",\"2008-01-01T00:00:00\",\"2008-02-01T00:00:00\",\"2008-03-01T00:00:00\",\"2008-04-01T00:00:00\",\"2008-05-01T00:00:00\",\"2008-06-01T00:00:00\",\"2008-07-01T00:00:00\",\"2008-08-01T00:00:00\",\"2008-09-01T00:00:00\",\"2008-10-01T00:00:00\",\"2008-11-01T00:00:00\",\"2008-12-01T00:00:00\",\"2009-01-01T00:00:00\",\"2009-02-01T00:00:00\",\"2009-03-01T00:00:00\",\"2009-04-01T00:00:00\",\"2009-05-01T00:00:00\",\"2009-06-01T00:00:00\",\"2009-07-01T00:00:00\",\"2009-08-01T00:00:00\",\"2009-09-01T00:00:00\",\"2009-10-01T00:00:00\",\"2009-11-01T00:00:00\",\"2009-12-01T00:00:00\",\"2010-01-01T00:00:00\",\"2010-02-01T00:00:00\",\"2010-03-01T00:00:00\",\"2010-04-01T00:00:00\",\"2010-05-01T00:00:00\",\"2010-06-01T00:00:00\",\"2010-07-01T00:00:00\",\"2010-08-01T00:00:00\",\"2010-09-01T00:00:00\",\"2010-10-01T00:00:00\",\"2010-11-01T00:00:00\",\"2010-12-01T00:00:00\",\"2011-01-01T00:00:00\",\"2011-02-01T00:00:00\",\"2011-03-01T00:00:00\",\"2011-04-01T00:00:00\",\"2011-05-01T00:00:00\",\"2011-06-01T00:00:00\",\"2011-07-01T00:00:00\",\"2011-08-01T00:00:00\",\"2011-09-01T00:00:00\",\"2011-10-01T00:00:00\",\"2011-11-01T00:00:00\",\"2011-12-01T00:00:00\",\"2012-01-01T00:00:00\",\"2012-02-01T00:00:00\",\"2012-03-01T00:00:00\",\"2012-04-01T00:00:00\",\"2012-05-01T00:00:00\",\"2012-06-01T00:00:00\",\"2012-07-01T00:00:00\",\"2012-08-01T00:00:00\",\"2012-09-01T00:00:00\",\"2012-10-01T00:00:00\",\"2012-11-01T00:00:00\",\"2012-12-01T00:00:00\",\"2013-01-01T00:00:00\",\"2013-02-01T00:00:00\",\"2013-03-01T00:00:00\",\"2013-04-01T00:00:00\",\"2013-05-01T00:00:00\",\"2013-06-01T00:00:00\",\"2013-07-01T00:00:00\",\"2013-08-01T00:00:00\",\"2013-09-01T00:00:00\",\"2013-10-01T00:00:00\",\"2013-11-01T00:00:00\",\"2013-12-01T00:00:00\",\"2014-01-01T00:00:00\",\"2014-02-01T00:00:00\",\"2014-03-01T00:00:00\",\"2014-04-01T00:00:00\",\"2014-05-01T00:00:00\",\"2014-06-01T00:00:00\",\"2014-07-01T00:00:00\",\"2014-08-01T00:00:00\",\"2014-09-01T00:00:00\",\"2014-10-01T00:00:00\",\"2014-11-01T00:00:00\",\"2014-12-01T00:00:00\",\"2015-01-01T00:00:00\",\"2015-02-01T00:00:00\",\"2015-03-01T00:00:00\",\"2015-04-01T00:00:00\",\"2015-05-01T00:00:00\",\"2015-06-01T00:00:00\",\"2015-07-01T00:00:00\",\"2015-08-01T00:00:00\",\"2015-09-01T00:00:00\",\"2015-10-01T00:00:00\",\"2015-11-01T00:00:00\",\"2015-12-01T00:00:00\",\"2016-01-01T00:00:00\",\"2016-02-01T00:00:00\",\"2016-03-01T00:00:00\",\"2016-04-01T00:00:00\",\"2016-05-01T00:00:00\",\"2016-06-01T00:00:00\",\"2016-07-01T00:00:00\",\"2016-08-01T00:00:00\",\"2016-09-01T00:00:00\",\"2016-10-01T00:00:00\",\"2016-11-01T00:00:00\",\"2016-12-01T00:00:00\",\"2016-12-31T00:00:00\",\"2017-01-31T00:00:00\",\"2017-02-28T00:00:00\",\"2017-03-31T00:00:00\",\"2017-04-30T00:00:00\",\"2017-05-31T00:00:00\",\"2017-06-30T00:00:00\",\"2017-07-31T00:00:00\",\"2017-08-31T00:00:00\",\"2017-09-30T00:00:00\",\"2017-10-31T00:00:00\",\"2017-11-30T00:00:00\",\"2017-12-31T00:00:00\",\"2018-01-31T00:00:00\",\"2018-02-28T00:00:00\",\"2018-03-31T00:00:00\",\"2018-04-30T00:00:00\",\"2018-05-31T00:00:00\",\"2018-06-30T00:00:00\",\"2018-07-31T00:00:00\",\"2018-08-31T00:00:00\",\"2018-09-30T00:00:00\",\"2018-10-31T00:00:00\",\"2018-11-30T00:00:00\",\"2018-12-31T00:00:00\",\"2019-01-31T00:00:00\",\"2019-02-28T00:00:00\",\"2019-03-31T00:00:00\",\"2019-04-30T00:00:00\",\"2019-05-31T00:00:00\",\"2019-06-30T00:00:00\",\"2019-07-31T00:00:00\",\"2019-08-31T00:00:00\",\"2019-09-30T00:00:00\",\"2019-10-31T00:00:00\",\"2019-11-30T00:00:00\"],\"xaxis\":\"x\",\"y\":[0.7092564294527917,0.6715629184204664,0.5356536843554206,0.6592494089570022,0.6841964338850256,0.7193808993042647,0.7140049013404517,0.813610411251055,0.8264049621781729,0.6858181735732541,0.7147680215906157,0.730221264102727,0.6445904065810013,0.6432504043124732,0.537994555784681,0.5082901998587364,0.5395878703692634,0.6535711482067622,0.6772791964106888,0.7338018916928695,0.7837036852641461,0.7148745431209809,0.7211886139421162,0.7020468701483408,0.6292102109779073,0.6125782249324527,0.520013674814721,0.5161301295209397,0.546508872782059,0.6455501341625596,0.6881876672382896,0.6961896054309592,0.7220431620806882,0.7493568365895571,0.6431950398848691,0.6368990224588866,0.601559730246206,0.56800122346734,0.5381794924708662,0.5790597408934541,0.5242652475111705,0.5204610665202835,0.5836363255924394,0.6628010574863693,0.7069283278921407,0.6596931505965283,0.6441049526480277,0.620352387059764,0.5509874306672872,0.4941323195243029,0.42770731148004587,0.48755113214017354,0.4619393442293391,0.5513028380515015,0.5169777754823597,0.5614763182085939,0.6279139465429607,0.5548269731466078,0.5932451810629767,0.6017104830790991,0.4708517657119893,0.4054849863959666,0.3427144898890602,0.39536893241548526,0.38378878530987715,0.467283737092618,0.5014133965777927,0.5367948264261497,0.5471442715398109,0.5181541007520569,0.5029901069398146,0.49208556966186856,0.4148519868230101,0.3635491151455522,0.32251033271245944,0.2862939856743712,0.3036894082168671,0.40308223987291264,0.5169964442368786,0.48083638490073133,0.5395149680711656,0.5196561583020429,0.481712489652198,0.4674071139994988,0.44479716947936493,0.4098610036661622,0.34717447110372646,0.3972340384563445,0.42160759897916184,0.3905631992890689,0.4397854013121526,0.5565449754907954,0.5586041799507874,0.4425253135520432,0.5747323992278836,0.4343538766764499,0.37871406832819593,0.37007352781754044,0.25371579587240045,0.3488298025917231,0.29116658348017876,0.3496267779931608,0.3876897160701167,0.4456957655908383,0.5152146024816087,0.40144340505585985,0.3717081896131496,0.3708240122013863,0.3052819131090274,0.2518785339823736,0.13517550592092709,0.2838091785837181,0.25471816545364756,0.364849038908979,0.3956230337665483,0.39608658100986727,0.49615824971079375,0.3968465639056869,0.370417549621808,0.3898140890944137,0.3546911911872348,0.24956868155277442,0.221803211497163,0.1972074468147439,0.2257526088193473,0.33410868797253007,0.3692615050846448,0.3616203398786398,0.4384017781236416,0.376938813534322,0.3695897662962607,0.3105010484589244,0.273881011936887,0.22127666733939072,0.19401410587848103,0.20802759478639393,0.20332311965149275,0.21584338880331855,0.21537598663676744,0.31489847977649066,0.4043194434251656,0.2867768784207064,0.2651507847551331,0.24645495279763951,0.12795557835469754,0.14249632805251944,0.11577248209659266,0.20795550623294745,0.16696208403362628,0.2306744082882192,0.28654368310736195,0.34508037288736865,0.40988221430982485,0.29194558668788023,0.33957647234386623,0.27182669674329085,0.20101066519977812,0.12406250190809309,0.023578685691763912,0.20188573635129647,0.16744081577470518,0.30287510423291203,0.37538450878866303,0.3638745691633549,0.41579329970970397,0.3579248472152927,0.3244751951173335,0.2862544906029978,0.25459181267820835,0.1680126188231845,0.15438752710881576,0.11832981384920063,0.18447467256086558,0.2799435768418042,0.2915447395151253,0.3383584685778444,0.3714214113077608,0.3288197582459234,0.2896630539656919,0.33641276105845613,0.23652954411519575,0.1944512719251798,0.11714993359413034,0.21092486597031856,0.11830709030320832,0.2054946803716665,0.23773722529960528,0.3553586380695596,0.3862949758008457,0.26068105434207406,0.33758711502649713,0.26703267317766827,0.18359326783469315,0.17040361576087834,0.09015139698939309,0.012115734842908038,0.11616113687002297,0.3544283954394384,0.3737658075827739,0.22477352965429395,0.3583281944350648,0.26745929386550743,0.2388775613355458,0.3170640493067058,0.24181911658003025,0.21125991585918621,0.21925833513125745,0.04074977776411651,0.08153007079719943,0.31460852600715034,0.3552184030392687,0.28518314045913845,0.34901305692935014,0.30410509671297004,0.2074204997527351,0.2539494766523237,0.2254038136021184,0.11845954186888462,0.13550121876210303,-0.007066171796778403,0.09802470042985098,0.40412267819212944,0.3508933293600097,0.20467294932704705,0.3089777618660194,0.3367175128400335,0.19962920253386443,0.3172799586712074,0.18303962508054183],\"yaxis\":\"y\",\"type\":\"scatter\"}],                        {\"template\":{\"data\":{\"histogram2dcontour\":[{\"type\":\"histogram2dcontour\",\"colorbar\":{\"outlinewidth\":0,\"ticks\":\"\"},\"colorscale\":[[0.0,\"#0d0887\"],[0.1111111111111111,\"#46039f\"],[0.2222222222222222,\"#7201a8\"],[0.3333333333333333,\"#9c179e\"],[0.4444444444444444,\"#bd3786\"],[0.5555555555555556,\"#d8576b\"],[0.6666666666666666,\"#ed7953\"],[0.7777777777777778,\"#fb9f3a\"],[0.8888888888888888,\"#fdca26\"],[1.0,\"#f0f921\"]]}],\"choropleth\":[{\"type\":\"choropleth\",\"colorbar\":{\"outlinewidth\":0,\"ticks\":\"\"}}],\"histogram2d\":[{\"type\":\"histogram2d\",\"colorbar\":{\"outlinewidth\":0,\"ticks\":\"\"},\"colorscale\":[[0.0,\"#0d0887\"],[0.1111111111111111,\"#46039f\"],[0.2222222222222222,\"#7201a8\"],[0.3333333333333333,\"#9c179e\"],[0.4444444444444444,\"#bd3786\"],[0.5555555555555556,\"#d8576b\"],[0.6666666666666666,\"#ed7953\"],[0.7777777777777778,\"#fb9f3a\"],[0.8888888888888888,\"#fdca26\"],[1.0,\"#f0f921\"]]}],\"heatmap\":[{\"type\":\"heatmap\",\"colorbar\":{\"outlinewidth\":0,\"ticks\":\"\"},\"colorscale\":[[0.0,\"#0d0887\"],[0.1111111111111111,\"#46039f\"],[0.2222222222222222,\"#7201a8\"],[0.3333333333333333,\"#9c179e\"],[0.4444444444444444,\"#bd3786\"],[0.5555555555555556,\"#d8576b\"],[0.6666666666666666,\"#ed7953\"],[0.7777777777777778,\"#fb9f3a\"],[0.8888888888888888,\"#fdca26\"],[1.0,\"#f0f921\"]]}],\"heatmapgl\":[{\"type\":\"heatmapgl\",\"colorbar\":{\"outlinewidth\":0,\"ticks\":\"\"},\"colorscale\":[[0.0,\"#0d0887\"],[0.1111111111111111,\"#46039f\"],[0.2222222222222222,\"#7201a8\"],[0.3333333333333333,\"#9c179e\"],[0.4444444444444444,\"#bd3786\"],[0.5555555555555556,\"#d8576b\"],[0.6666666666666666,\"#ed7953\"],[0.7777777777777778,\"#fb9f3a\"],[0.8888888888888888,\"#fdca26\"],[1.0,\"#f0f921\"]]}],\"contourcarpet\":[{\"type\":\"contourcarpet\",\"colorbar\":{\"outlinewidth\":0,\"ticks\":\"\"}}],\"contour\":[{\"type\":\"contour\",\"colorbar\":{\"outlinewidth\":0,\"ticks\":\"\"},\"colorscale\":[[0.0,\"#0d0887\"],[0.1111111111111111,\"#46039f\"],[0.2222222222222222,\"#7201a8\"],[0.3333333333333333,\"#9c179e\"],[0.4444444444444444,\"#bd3786\"],[0.5555555555555556,\"#d8576b\"],[0.6666666666666666,\"#ed7953\"],[0.7777777777777778,\"#fb9f3a\"],[0.8888888888888888,\"#fdca26\"],[1.0,\"#f0f921\"]]}],\"surface\":[{\"type\":\"surface\",\"colorbar\":{\"outlinewidth\":0,\"ticks\":\"\"},\"colorscale\":[[0.0,\"#0d0887\"],[0.1111111111111111,\"#46039f\"],[0.2222222222222222,\"#7201a8\"],[0.3333333333333333,\"#9c179e\"],[0.4444444444444444,\"#bd3786\"],[0.5555555555555556,\"#d8576b\"],[0.6666666666666666,\"#ed7953\"],[0.7777777777777778,\"#fb9f3a\"],[0.8888888888888888,\"#fdca26\"],[1.0,\"#f0f921\"]]}],\"mesh3d\":[{\"type\":\"mesh3d\",\"colorbar\":{\"outlinewidth\":0,\"ticks\":\"\"}}],\"scatter\":[{\"fillpattern\":{\"fillmode\":\"overlay\",\"size\":10,\"solidity\":0.2},\"type\":\"scatter\"}],\"parcoords\":[{\"type\":\"parcoords\",\"line\":{\"colorbar\":{\"outlinewidth\":0,\"ticks\":\"\"}}}],\"scatterpolargl\":[{\"type\":\"scatterpolargl\",\"marker\":{\"colorbar\":{\"outlinewidth\":0,\"ticks\":\"\"}}}],\"bar\":[{\"error_x\":{\"color\":\"#2a3f5f\"},\"error_y\":{\"color\":\"#2a3f5f\"},\"marker\":{\"line\":{\"color\":\"#E5ECF6\",\"width\":0.5},\"pattern\":{\"fillmode\":\"overlay\",\"size\":10,\"solidity\":0.2}},\"type\":\"bar\"}],\"scattergeo\":[{\"type\":\"scattergeo\",\"marker\":{\"colorbar\":{\"outlinewidth\":0,\"ticks\":\"\"}}}],\"scatterpolar\":[{\"type\":\"scatterpolar\",\"marker\":{\"colorbar\":{\"outlinewidth\":0,\"ticks\":\"\"}}}],\"histogram\":[{\"marker\":{\"pattern\":{\"fillmode\":\"overlay\",\"size\":10,\"solidity\":0.2}},\"type\":\"histogram\"}],\"scattergl\":[{\"type\":\"scattergl\",\"marker\":{\"colorbar\":{\"outlinewidth\":0,\"ticks\":\"\"}}}],\"scatter3d\":[{\"type\":\"scatter3d\",\"line\":{\"colorbar\":{\"outlinewidth\":0,\"ticks\":\"\"}},\"marker\":{\"colorbar\":{\"outlinewidth\":0,\"ticks\":\"\"}}}],\"scattermapbox\":[{\"type\":\"scattermapbox\",\"marker\":{\"colorbar\":{\"outlinewidth\":0,\"ticks\":\"\"}}}],\"scatterternary\":[{\"type\":\"scatterternary\",\"marker\":{\"colorbar\":{\"outlinewidth\":0,\"ticks\":\"\"}}}],\"scattercarpet\":[{\"type\":\"scattercarpet\",\"marker\":{\"colorbar\":{\"outlinewidth\":0,\"ticks\":\"\"}}}],\"carpet\":[{\"aaxis\":{\"endlinecolor\":\"#2a3f5f\",\"gridcolor\":\"white\",\"linecolor\":\"white\",\"minorgridcolor\":\"white\",\"startlinecolor\":\"#2a3f5f\"},\"baxis\":{\"endlinecolor\":\"#2a3f5f\",\"gridcolor\":\"white\",\"linecolor\":\"white\",\"minorgridcolor\":\"white\",\"startlinecolor\":\"#2a3f5f\"},\"type\":\"carpet\"}],\"table\":[{\"cells\":{\"fill\":{\"color\":\"#EBF0F8\"},\"line\":{\"color\":\"white\"}},\"header\":{\"fill\":{\"color\":\"#C8D4E3\"},\"line\":{\"color\":\"white\"}},\"type\":\"table\"}],\"barpolar\":[{\"marker\":{\"line\":{\"color\":\"#E5ECF6\",\"width\":0.5},\"pattern\":{\"fillmode\":\"overlay\",\"size\":10,\"solidity\":0.2}},\"type\":\"barpolar\"}],\"pie\":[{\"automargin\":true,\"type\":\"pie\"}]},\"layout\":{\"autotypenumbers\":\"strict\",\"colorway\":[\"#636efa\",\"#EF553B\",\"#00cc96\",\"#ab63fa\",\"#FFA15A\",\"#19d3f3\",\"#FF6692\",\"#B6E880\",\"#FF97FF\",\"#FECB52\"],\"font\":{\"color\":\"#2a3f5f\"},\"hovermode\":\"closest\",\"hoverlabel\":{\"align\":\"left\"},\"paper_bgcolor\":\"white\",\"plot_bgcolor\":\"#E5ECF6\",\"polar\":{\"bgcolor\":\"#E5ECF6\",\"angularaxis\":{\"gridcolor\":\"white\",\"linecolor\":\"white\",\"ticks\":\"\"},\"radialaxis\":{\"gridcolor\":\"white\",\"linecolor\":\"white\",\"ticks\":\"\"}},\"ternary\":{\"bgcolor\":\"#E5ECF6\",\"aaxis\":{\"gridcolor\":\"white\",\"linecolor\":\"white\",\"ticks\":\"\"},\"baxis\":{\"gridcolor\":\"white\",\"linecolor\":\"white\",\"ticks\":\"\"},\"caxis\":{\"gridcolor\":\"white\",\"linecolor\":\"white\",\"ticks\":\"\"}},\"coloraxis\":{\"colorbar\":{\"outlinewidth\":0,\"ticks\":\"\"}},\"colorscale\":{\"sequential\":[[0.0,\"#0d0887\"],[0.1111111111111111,\"#46039f\"],[0.2222222222222222,\"#7201a8\"],[0.3333333333333333,\"#9c179e\"],[0.4444444444444444,\"#bd3786\"],[0.5555555555555556,\"#d8576b\"],[0.6666666666666666,\"#ed7953\"],[0.7777777777777778,\"#fb9f3a\"],[0.8888888888888888,\"#fdca26\"],[1.0,\"#f0f921\"]],\"sequentialminus\":[[0.0,\"#0d0887\"],[0.1111111111111111,\"#46039f\"],[0.2222222222222222,\"#7201a8\"],[0.3333333333333333,\"#9c179e\"],[0.4444444444444444,\"#bd3786\"],[0.5555555555555556,\"#d8576b\"],[0.6666666666666666,\"#ed7953\"],[0.7777777777777778,\"#fb9f3a\"],[0.8888888888888888,\"#fdca26\"],[1.0,\"#f0f921\"]],\"diverging\":[[0,\"#8e0152\"],[0.1,\"#c51b7d\"],[0.2,\"#de77ae\"],[0.3,\"#f1b6da\"],[0.4,\"#fde0ef\"],[0.5,\"#f7f7f7\"],[0.6,\"#e6f5d0\"],[0.7,\"#b8e186\"],[0.8,\"#7fbc41\"],[0.9,\"#4d9221\"],[1,\"#276419\"]]},\"xaxis\":{\"gridcolor\":\"white\",\"linecolor\":\"white\",\"ticks\":\"\",\"title\":{\"standoff\":15},\"zerolinecolor\":\"white\",\"automargin\":true,\"zerolinewidth\":2},\"yaxis\":{\"gridcolor\":\"white\",\"linecolor\":\"white\",\"ticks\":\"\",\"title\":{\"standoff\":15},\"zerolinecolor\":\"white\",\"automargin\":true,\"zerolinewidth\":2},\"scene\":{\"xaxis\":{\"backgroundcolor\":\"#E5ECF6\",\"gridcolor\":\"white\",\"linecolor\":\"white\",\"showbackground\":true,\"ticks\":\"\",\"zerolinecolor\":\"white\",\"gridwidth\":2},\"yaxis\":{\"backgroundcolor\":\"#E5ECF6\",\"gridcolor\":\"white\",\"linecolor\":\"white\",\"showbackground\":true,\"ticks\":\"\",\"zerolinecolor\":\"white\",\"gridwidth\":2},\"zaxis\":{\"backgroundcolor\":\"#E5ECF6\",\"gridcolor\":\"white\",\"linecolor\":\"white\",\"showbackground\":true,\"ticks\":\"\",\"zerolinecolor\":\"white\",\"gridwidth\":2}},\"shapedefaults\":{\"line\":{\"color\":\"#2a3f5f\"}},\"annotationdefaults\":{\"arrowcolor\":\"#2a3f5f\",\"arrowhead\":0,\"arrowwidth\":1},\"geo\":{\"bgcolor\":\"white\",\"landcolor\":\"#E5ECF6\",\"subunitcolor\":\"white\",\"showland\":true,\"showlakes\":true,\"lakecolor\":\"white\"},\"title\":{\"x\":0.05},\"mapbox\":{\"style\":\"light\"}}},\"xaxis\":{\"anchor\":\"y\",\"domain\":[0.0,1.0],\"title\":{\"text\":\"ds\"}},\"yaxis\":{\"anchor\":\"x\",\"domain\":[0.0,1.0],\"title\":{\"text\":\"yhat\"}},\"legend\":{\"tracegroupgap\":0},\"margin\":{\"t\":60}},                        {\"responsive\": true}                    ).then(function(){\n",
       "                            \n",
       "var gd = document.getElementById('94f4fd88-0e11-4269-9a15-2b0c47376bd4');\n",
       "var x = new MutationObserver(function (mutations, observer) {{\n",
       "        var display = window.getComputedStyle(gd).display;\n",
       "        if (!display || display === 'none') {{\n",
       "            console.log([gd, 'removed!']);\n",
       "            Plotly.purge(gd);\n",
       "            observer.disconnect();\n",
       "        }}\n",
       "}});\n",
       "\n",
       "// Listen for the removal of the full notebook cells\n",
       "var notebookContainer = gd.closest('#notebook-container');\n",
       "if (notebookContainer) {{\n",
       "    x.observe(notebookContainer, {childList: true});\n",
       "}}\n",
       "\n",
       "// Listen for the clearing of the current output cell\n",
       "var outputEl = gd.closest('.output');\n",
       "if (outputEl) {{\n",
       "    x.observe(outputEl, {childList: true});\n",
       "}}\n",
       "\n",
       "                        })                };                });            </script>        </div>"
      ]
     },
     "metadata": {},
     "output_type": "display_data"
    }
   ],
   "source": [
    "px.line(y_pred, x='ds', y='yhat')"
   ]
  },
  {
   "cell_type": "code",
   "execution_count": 158,
   "metadata": {
    "colab": {
     "base_uri": "https://localhost:8080/",
     "height": 607
    },
    "id": "dlHGHJhpzU8z",
    "outputId": "42e3a11d-2535-49ed-901f-47aa165402b9"
   },
   "outputs": [
    {
     "name": "stderr",
     "output_type": "stream",
     "text": [
      "/home/thiery/.local/lib/python3.10/site-packages/prophet/plot.py:72: FutureWarning:\n",
      "\n",
      "The behavior of DatetimeProperties.to_pydatetime is deprecated, in a future version this will return a Series containing python datetime objects instead of an ndarray. To retain the old behavior, call `np.array` on the result\n",
      "\n",
      "/home/thiery/.local/lib/python3.10/site-packages/prophet/plot.py:73: FutureWarning:\n",
      "\n",
      "The behavior of DatetimeProperties.to_pydatetime is deprecated, in a future version this will return a Series containing python datetime objects instead of an ndarray. To retain the old behavior, call `np.array` on the result\n",
      "\n"
     ]
    },
    {
     "data": {
      "image/png": "[encoded data removed]",
      "text/plain": [
       "<Figure size 1000x600 with 1 Axes>"
      ]
     },
     "metadata": {},
     "output_type": "display_data"
    }
   ],
   "source": [
    "figure = model.plot(y_pred, xlabel='ds', ylabel='y')"
   ]
  },
  {
   "cell_type": "code",
   "execution_count": 159,
   "metadata": {
    "colab": {
     "base_uri": "https://localhost:8080/",
     "height": 907
    },
    "id": "7_87SCJt0CY_",
    "outputId": "72c30153-f21d-4e2e-eef3-17ffd54b589e"
   },
   "outputs": [
    {
     "name": "stderr",
     "output_type": "stream",
     "text": [
      "/home/thiery/.local/lib/python3.10/site-packages/prophet/plot.py:228: FutureWarning:\n",
      "\n",
      "The behavior of DatetimeProperties.to_pydatetime is deprecated, in a future version this will return a Series containing python datetime objects instead of an ndarray. To retain the old behavior, call `np.array` on the result\n",
      "\n",
      "/home/thiery/.local/lib/python3.10/site-packages/prophet/plot.py:351: FutureWarning:\n",
      "\n",
      "The behavior of DatetimeProperties.to_pydatetime is deprecated, in a future version this will return a Series containing python datetime objects instead of an ndarray. To retain the old behavior, call `np.array` on the result\n",
      "\n",
      "/home/thiery/.local/lib/python3.10/site-packages/prophet/plot.py:354: FutureWarning:\n",
      "\n",
      "The behavior of DatetimeProperties.to_pydatetime is deprecated, in a future version this will return a Series containing python datetime objects instead of an ndarray. To retain the old behavior, call `np.array` on the result\n",
      "\n",
      "/home/thiery/.local/lib/python3.10/site-packages/prophet/plot.py:228: FutureWarning:\n",
      "\n",
      "The behavior of DatetimeProperties.to_pydatetime is deprecated, in a future version this will return a Series containing python datetime objects instead of an ndarray. To retain the old behavior, call `np.array` on the result\n",
      "\n"
     ]
    },
    {
     "data": {
      "image/png": "[encoded data removed]",
      "text/plain": [
       "<Figure size 900x900 with 3 Axes>"
      ]
     },
     "metadata": {},
     "output_type": "display_data"
    }
   ],
   "source": [
    "figure2 = model.plot_components(y_pred)"
   ]
  },
  {
   "cell_type": "code",
   "execution_count": 160,
   "metadata": {},
   "outputs": [
    {
     "ename": "NameError",
     "evalue": "name 'os' is not defined",
     "output_type": "error",
     "traceback": [
      "\u001b[0;31m---------------------------------------------------------------------------\u001b[0m",
      "\u001b[0;31mNameError\u001b[0m                                 Traceback (most recent call last)",
      "Cell \u001b[0;32mIn[160], line 3\u001b[0m\n\u001b[1;32m      1\u001b[0m \u001b[38;5;66;03m# Directory and file path\u001b[39;00m\n\u001b[1;32m      2\u001b[0m output_dir \u001b[38;5;241m=\u001b[39m result_path\n\u001b[0;32m----> 3\u001b[0m \u001b[43mos\u001b[49m\u001b[38;5;241m.\u001b[39mmakedirs(output_dir, exist_ok\u001b[38;5;241m=\u001b[39m\u001b[38;5;28;01mTrue\u001b[39;00m)  \u001b[38;5;66;03m# Create the directory if it doesn't exist\u001b[39;00m\n\u001b[1;32m      4\u001b[0m file_path \u001b[38;5;241m=\u001b[39m os\u001b[38;5;241m.\u001b[39mpath\u001b[38;5;241m.\u001b[39mjoin(output_dir, \u001b[38;5;124m\"\u001b[39m\u001b[38;5;124mfinal_graph.jpg\u001b[39m\u001b[38;5;124m\"\u001b[39m)\n\u001b[1;32m      6\u001b[0m index \u001b[38;5;241m=\u001b[39m dataset[(dataset\u001b[38;5;241m.\u001b[39mindex \u001b[38;5;241m<\u001b[39m test_start_date)]\u001b[38;5;241m.\u001b[39mindex\n",
      "\u001b[0;31mNameError\u001b[0m: name 'os' is not defined"
     ]
    }
   ],
   "source": [
    "# Directory and file path\n",
    "output_dir = result_path\n",
    "os.makedirs(output_dir, exist_ok=True)  # Create the directory if it doesn't exist\n",
    "file_path = os.path.join(output_dir, \"final_graph.jpg\")\n",
    "\n",
    "index = dataset[(dataset.index < test_start_date)].index\n",
    "index_test = dataset[(dataset.index >= test_start_date)].index\n",
    "\n",
    "plt.figure(figsize=(12, 6))\n",
    "plt.plot(dataset.index, dataset['hospitalizations'], label='Train')\n",
    "plt.plot(index_test, y_test_original, color='green', label='Test')\n",
    "plt.plot(index_test, y_pred_original, color='red', label='Predicted')\n",
    "plt.title(\"Actual vs predicted\")\n",
    "plt.xlabel('years')\n",
    "plt.ylabel('hospitalizations')\n",
    "plt.grid(True)\n",
    "plt.legend()\n",
    "plt.xticks(rotation=90)\n",
    "plt.tight_layout()\n",
    "plt.show()\n",
    "\n",
    "# Save the graph BEFORE showing\n",
    "plt.savefig(file_path, format='jpg', dpi=300)\n",
    "\n",
    "plt.show()"
   ]
  },
  {
   "cell_type": "markdown",
   "metadata": {
    "id": "YZPRNK-q02NG"
   },
   "source": [
    "### Download the forecast data"
   ]
  },
  {
   "cell_type": "code",
   "execution_count": null,
   "metadata": {
    "colab": {
     "base_uri": "https://localhost:8080/",
     "height": 17
    },
    "id": "7LO2TwTt1CEM",
    "outputId": "29c26f09-1017-4760-b3b6-1c299a7671b5"
   },
   "outputs": [],
   "source": [
    "y_pred.to_csv('forecast.csv')"
   ]
  }
 ],
 "metadata": {
  "colab": {
   "collapsed_sections": [
    "aJURGuzJGqzX",
    "a9LnNwGjHpsb"
   ],
   "provenance": []
  },
  "kernelspec": {
   "display_name": "Python 3 (ipykernel)",
   "language": "python",
   "name": "python3"
  },
  "language_info": {
   "codemirror_mode": {
    "name": "ipython",
    "version": 3
   },
   "file_extension": ".py",
   "mimetype": "text/x-python",
   "name": "python",
   "nbconvert_exporter": "python",
   "pygments_lexer": "ipython3",
   "version": "3.10.12"
  }
 },
 "nbformat": 4,
 "nbformat_minor": 4
}
