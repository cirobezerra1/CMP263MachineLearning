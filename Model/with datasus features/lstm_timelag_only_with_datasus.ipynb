{
 "cells": [
  {
   "cell_type": "markdown",
   "id": "f6b4692a-aa85-4d68-bdd6-2016769c9757",
   "metadata": {
    "jp-MarkdownHeadingCollapsed": true
   },
   "source": [
    "# 00.Importing Libraries"
   ]
  },
  {
   "cell_type": "code",
   "execution_count": 116,
   "id": "f0589ad1-f2b5-4bc9-8430-2a6c40378d13",
   "metadata": {},
   "outputs": [],
   "source": [
    "import numpy as np\n",
    "import matplotlib.pyplot as plt\n",
    "import pandas as pd\n",
    "\n",
    "from math import sqrt\n",
    "from matplotlib import pyplot\n",
    "from keras.layers import LSTM\n",
    "from keras.layers import Dense\n",
    "from keras.optimizers import Adam\n",
    "from keras.models import Sequential\n",
    "from keras_tuner import RandomSearch\n",
    "from keras.callbacks import EarlyStopping\n",
    "from sklearn.preprocessing import MinMaxScaler\n",
    "from sklearn.metrics import mean_squared_error\n",
    "from sklearn.preprocessing import LabelEncoder\n",
    "from sklearn.metrics import mean_absolute_error, mean_squared_error, r2_score"
   ]
  },
  {
   "cell_type": "markdown",
   "id": "4e38e817-e14a-4ea1-8fba-daf6dd06bfe3",
   "metadata": {},
   "source": [
    "# 01.Helpers"
   ]
  },
  {
   "cell_type": "markdown",
   "id": "8e23448b-9c27-4954-97e3-b0094d6cef32",
   "metadata": {
    "jp-MarkdownHeadingCollapsed": true
   },
   "source": [
    "## 01.01 Constants"
   ]
  },
  {
   "cell_type": "code",
   "execution_count": 117,
   "id": "49d87d56-96c1-4366-a634-cf0310eda6f5",
   "metadata": {},
   "outputs": [],
   "source": [
    "features_datasus = ['date', 'hospitalizations','average_stay', 'deaths', 'mortality_rate']"
   ]
  },
  {
   "cell_type": "code",
   "execution_count": 118,
   "id": "e43dc47d-55e8-47f5-9aff-7bd0cdc093ff",
   "metadata": {},
   "outputs": [],
   "source": [
    "test_start_date = \"2017-01-01\""
   ]
  },
  {
   "cell_type": "code",
   "execution_count": 119,
   "id": "26594e16-ba3a-4119-bd00-4d5434eabd23",
   "metadata": {},
   "outputs": [],
   "source": [
    "features = ['date', 'hospitalizations', 'hospitalizations_lag_3', 'average_stay_lag_3','deaths_lag_3', \n",
    "'mortality_rate_lag_3','hospitalizations_lag_3_12m_window', 'average_stay_lag_3_12m_window',\n",
    "'deaths_lag_3_12m_window', 'mortality_rate_lag_3_12m_window',\n",
    "'lag_heat_index_1', 'lag_heat_index_2', 'lag_heat_index_3']"
   ]
  },
  {
   "cell_type": "markdown",
   "id": "5bd56694-e132-479d-a720-17a7dd97c3cd",
   "metadata": {
    "jp-MarkdownHeadingCollapsed": true
   },
   "source": [
    "## 01.02 Functions"
   ]
  },
  {
   "cell_type": "code",
   "execution_count": 120,
   "id": "bbb0a1d7-2f52-4664-9741-486ee7e7f010",
   "metadata": {},
   "outputs": [],
   "source": [
    "# convert series to supervised learning\n",
    "def series_to_supervised(data, n_in=1, n_out=1, dropnan=True):\n",
    "\tn_vars = 1 if type(data) is list else data.shape[1]\n",
    "\tdf = pd.DataFrame(data)\n",
    "\tcols, names = list(), list()\n",
    "\t# input sequence (t-n, ... t-1)\n",
    "\tfor i in range(n_in, 0, -1):\n",
    "\t\tcols.append(df.shift(i))\n",
    "\t\tnames += [('var%d(t-%d)' % (j+1, i)) for j in range(n_vars)]\n",
    "\t# forecast sequence (t, t+1, ... t+n)\n",
    "\tfor i in range(0, n_out):\n",
    "\t\tcols.append(df.shift(-i))\n",
    "\t\tif i == 0:\n",
    "\t\t\tnames += [('var%d(t)' % (j+1)) for j in range(n_vars)]\n",
    "\t\telse:\n",
    "\t\t\tnames += [('var%d(t+%d)' % (j+1, i)) for j in range(n_vars)]\n",
    "\t# put it all together\n",
    "\tagg = pd.concat(cols, axis=1)\n",
    "\tagg.columns = names\n",
    "\t# drop rows with NaN values\n",
    "\tif dropnan:\n",
    "\t\tagg.dropna(inplace=True)\n",
    "\treturn agg"
   ]
  },
  {
   "cell_type": "code",
   "execution_count": 121,
   "id": "e22c06f1-b044-445d-b54e-72d06782ee35",
   "metadata": {},
   "outputs": [],
   "source": [
    "def train_test_split(df, test_date, target_variable):\n",
    "    # separação por tempo\n",
    "    df_train = df[df.index < test_date]\n",
    "    df_test  = df[df.index >= test_date]\n",
    "\n",
    "    # remoção da variável target\n",
    "    y_train = df_train[target_variable]\n",
    "    y_test  = df_test[target_variable]\n",
    "\n",
    "    df_train = df_train.drop(columns=target_variable).copy()\n",
    "    df_test  = df_test.drop(columns=target_variable).copy()\n",
    "\n",
    "    print(df_train.shape, y_train.shape)\n",
    "    print(df_test.shape, y_test.shape)\n",
    "\n",
    "    return df_train, df_test, y_train, y_test"
   ]
  },
  {
   "cell_type": "code",
   "execution_count": 122,
   "id": "d7b2b78f-5fcd-41fd-a037-7c923c7f41c8",
   "metadata": {},
   "outputs": [],
   "source": [
    "def data_normalization(df_train, df_test, y_train, y_test):\n",
    "    # Para as features\n",
    "    scaler               = MinMaxScaler(feature_range=(0, 1))\n",
    "    df_train_scaled      = scaler.fit_transform(df_train)\n",
    "    df_test_scaled       = scaler.transform(df_test)\n",
    "\n",
    "    # Para a variável alvo\n",
    "    scaler_target       = MinMaxScaler(feature_range=(0, 1))\n",
    "    y_train_scaled      = scaler_target.fit_transform(y_train.to_frame())\n",
    "    y_test_scaled       = scaler_target.transform(y_test.to_frame())\n",
    "\n",
    "    print(df_train_scaled.shape, y_train_scaled.shape)\n",
    "    print(df_test_scaled.shape, y_test_scaled.shape)\n",
    "\n",
    "    return scaler, scaler_target, df_train_scaled, df_test_scaled, y_train_scaled, y_test_scaled"
   ]
  },
  {
   "cell_type": "code",
   "execution_count": 123,
   "id": "fd2e7e17-198d-416d-8bd9-2485b46f5d7a",
   "metadata": {},
   "outputs": [],
   "source": [
    "def data_reconversion(scaler, scaler_target, df_train_scaled, df_test_scaled, y_train_scaled, y_test_scaled, y_pred):\n",
    "    df_train_original = scaler.inverse_transform(df_train_scaled)\n",
    "    df_test_original = scaler.inverse_transform(df_test_scaled)\n",
    "\n",
    "    y_train_original = scaler_target.inverse_transform(y_train_scaled)\n",
    "    y_test_original = scaler_target.inverse_transform(y_test_scaled)\n",
    "    y_pred_original = scaler_target.inverse_transform(y_pred)\n",
    "\n",
    "    return df_train_original, df_test_original, y_train_original, y_test_original, y_pred_original"
   ]
  },
  {
   "cell_type": "code",
   "execution_count": 124,
   "id": "6f7ed204-dff3-4610-ae13-3b4b6d188d1c",
   "metadata": {},
   "outputs": [],
   "source": [
    "def metrics(y, predicted):\n",
    "    mae = mean_absolute_error(y, predicted)\n",
    "    mse = mean_squared_error(y, predicted)\n",
    "    rmse = np.sqrt(mean_squared_error(y, predicted))\n",
    "    mape = np.mean(np.abs((y - predicted) / y)) * 100\n",
    "    r2 = r2_score(y, predicted)\n",
    "    return mae, mse, rmse, mape, r2\n",
    "\n",
    "def print_metrics(y, predicted):\n",
    "    mae, mse, rmse, mape, r2 = metrics(y, predicted)\n",
    "    print(f\"Mean Absolute Error (MAE): {mae:.2f}\")\n",
    "    print(f\"Mean Squared Error (MSE): {mse:.2f}\")\n",
    "    print(f\"Root Mean Squared Error (RMSE): {rmse:.2f}\")\n",
    "    print(f\"Mean Absolute Percentage Error (MAPE): {mape:.2f}%\")\n",
    "    print(f\"R-Squared (R²): {r2:.2f}\")"
   ]
  },
  {
   "cell_type": "code",
   "execution_count": 125,
   "id": "cc9242c8-74b6-4ac8-83c8-ab835bf9d65f",
   "metadata": {},
   "outputs": [],
   "source": [
    "def build_model(hp):\n",
    "    model = Sequential()\n",
    "    # LSTM layers with variable number of units\n",
    "    model.add(LSTM(units=hp.Int('units_layer1', min_value=10, max_value=100, step=5), input_shape=(train_X.shape[1], train_X.shape[2])))\n",
    "    # model.add(LSTM(units=hp.Int('units_layer2', min_value=10, max_value=100, step=5), return_sequences=True))\n",
    "    # model.add(LSTM(units=hp.Int('units_layer3', min_value=10, max_value=100, step=5)))\n",
    "    model.add(Dense(1))\n",
    "    \n",
    "    model.compile(\n",
    "        optimizer=Adam(hp.Choice('learning_rate', values=[1e-1, 1e-2, 1e-3, 1e-4])),\n",
    "        loss='mse'\n",
    "    )\n",
    "    return model"
   ]
  },
  {
   "cell_type": "code",
   "execution_count": 126,
   "id": "9bedb8b3-4b30-4a31-a709-edf55bb7acd5",
   "metadata": {},
   "outputs": [],
   "source": [
    "def permutation_importance(model, X_test, y_test, metric=mean_squared_error):\n",
    "    \"\"\"\n",
    "    Calculates feature importance using Permutation Importance.\n",
    "    \n",
    "    Parameters:\n",
    "        model: Trained model (e.g., LSTM).\n",
    "        X_test: Test data (shape: samples, timesteps, features).\n",
    "        y_test: Ground truth values corresponding to the test set.\n",
    "        metric: Metric function to evaluate the model's performance.\n",
    "    \n",
    "    Returns:\n",
    "        importances: Calculated importance for each feature.\n",
    "    \"\"\"\n",
    "    baseline_score = metric(y_test, model.predict(X_test))  # Original performance score\n",
    "    importances = []\n",
    "\n",
    "    # Iterate over each feature\n",
    "    for i in range(X_test.shape[2]):\n",
    "        X_test_permuted = X_test.copy()\n",
    "\n",
    "        # Permute the values of feature i while maintaining the temporal structure\n",
    "        for j in range(X_test.shape[0]):  # For each sample\n",
    "            np.random.shuffle(X_test_permuted[j, :, i])\n",
    "\n",
    "        # Calculate the new performance score\n",
    "        permuted_score = metric(y_test, model.predict(X_test_permuted))\n",
    "\n",
    "        # Importance = difference between the original and permuted performance scores\n",
    "        importance = permuted_score - baseline_score\n",
    "        importances.append(importance)\n",
    "    \n",
    "    return np.array(importances)"
   ]
  },
  {
   "cell_type": "code",
   "execution_count": 127,
   "id": "1aa79941-2d0a-432b-aabc-058124e8e783",
   "metadata": {},
   "outputs": [],
   "source": [
    "# Assume 'importances' contains the feature importances and 'feature_names' the names of the features\n",
    "def plot_permutation_importance(importances, feature_names):\n",
    "    \"\"\"\n",
    "    Plots feature importances as a bar chart.\n",
    "    \n",
    "    Parameters:\n",
    "        importances: Calculated importance for each feature (array).\n",
    "        feature_names: List containing the names of the features.\n",
    "    \"\"\"\n",
    "    # Sort the importances and feature names\n",
    "    sorted_idx = np.argsort(importances)  # Indices of the sorted importances\n",
    "    sorted_importances = importances[sorted_idx]\n",
    "    sorted_features = [feature_names[i] for i in sorted_idx]\n",
    "\n",
    "    # Plot the bar chart\n",
    "    plt.figure(figsize=(10, 6))\n",
    "    plt.barh(sorted_features, sorted_importances, color=\"skyblue\")\n",
    "    plt.xlabel(\"Feature Importance (Permutation)\")\n",
    "    plt.title(\"Permutation Feature Importance for LSTM Model\")\n",
    "    plt.grid(axis=\"x\", linestyle=\"--\", alpha=0.5)\n",
    "    plt.show()"
   ]
  },
  {
   "cell_type": "markdown",
   "id": "67f34482-b936-4961-87b8-f04de0a18751",
   "metadata": {
    "jp-MarkdownHeadingCollapsed": true
   },
   "source": [
    "# 02.Importing Datasets"
   ]
  },
  {
   "cell_type": "code",
   "execution_count": 128,
   "id": "3ed4d93c-b046-487d-97b4-341a0eb255a9",
   "metadata": {},
   "outputs": [
    {
     "data": {
      "text/html": [
       "<div>\n",
       "<style scoped>\n",
       "    .dataframe tbody tr th:only-of-type {\n",
       "        vertical-align: middle;\n",
       "    }\n",
       "\n",
       "    .dataframe tbody tr th {\n",
       "        vertical-align: top;\n",
       "    }\n",
       "\n",
       "    .dataframe thead th {\n",
       "        text-align: right;\n",
       "    }\n",
       "</style>\n",
       "<table border=\"1\" class=\"dataframe\">\n",
       "  <thead>\n",
       "    <tr style=\"text-align: right;\">\n",
       "      <th></th>\n",
       "      <th>hospitalizations</th>\n",
       "      <th>hospitalizations_lag_3</th>\n",
       "      <th>average_stay_lag_3</th>\n",
       "      <th>deaths_lag_3</th>\n",
       "      <th>mortality_rate_lag_3</th>\n",
       "      <th>hospitalizations_lag_3_12m_window</th>\n",
       "      <th>average_stay_lag_3_12m_window</th>\n",
       "      <th>deaths_lag_3_12m_window</th>\n",
       "      <th>mortality_rate_lag_3_12m_window</th>\n",
       "      <th>lag_heat_index_1</th>\n",
       "      <th>lag_heat_index_2</th>\n",
       "      <th>lag_heat_index_3</th>\n",
       "    </tr>\n",
       "    <tr>\n",
       "      <th>date</th>\n",
       "      <th></th>\n",
       "      <th></th>\n",
       "      <th></th>\n",
       "      <th></th>\n",
       "      <th></th>\n",
       "      <th></th>\n",
       "      <th></th>\n",
       "      <th></th>\n",
       "      <th></th>\n",
       "      <th></th>\n",
       "      <th></th>\n",
       "      <th></th>\n",
       "    </tr>\n",
       "  </thead>\n",
       "  <tbody>\n",
       "    <tr>\n",
       "      <th>2000-12-01</th>\n",
       "      <td>4266.0</td>\n",
       "      <td>4365.0</td>\n",
       "      <td>6.4</td>\n",
       "      <td>293.0</td>\n",
       "      <td>6.71</td>\n",
       "      <td>4277.500000</td>\n",
       "      <td>5.900000</td>\n",
       "      <td>245.333333</td>\n",
       "      <td>5.728333</td>\n",
       "      <td>21.132403</td>\n",
       "      <td>19.318992</td>\n",
       "      <td>15.300694</td>\n",
       "    </tr>\n",
       "    <tr>\n",
       "      <th>2001-01-01</th>\n",
       "      <td>4032.0</td>\n",
       "      <td>4388.0</td>\n",
       "      <td>6.3</td>\n",
       "      <td>275.0</td>\n",
       "      <td>6.27</td>\n",
       "      <td>4257.250000</td>\n",
       "      <td>5.925000</td>\n",
       "      <td>246.250000</td>\n",
       "      <td>5.775833</td>\n",
       "      <td>24.154261</td>\n",
       "      <td>21.132403</td>\n",
       "      <td>19.318992</td>\n",
       "    </tr>\n",
       "    <tr>\n",
       "      <th>2001-02-01</th>\n",
       "      <td>3888.0</td>\n",
       "      <td>4329.0</td>\n",
       "      <td>6.1</td>\n",
       "      <td>258.0</td>\n",
       "      <td>5.96</td>\n",
       "      <td>4256.583333</td>\n",
       "      <td>5.933333</td>\n",
       "      <td>248.083333</td>\n",
       "      <td>5.819167</td>\n",
       "      <td>26.316156</td>\n",
       "      <td>24.154261</td>\n",
       "      <td>21.132403</td>\n",
       "    </tr>\n",
       "    <tr>\n",
       "      <th>2001-03-01</th>\n",
       "      <td>3658.0</td>\n",
       "      <td>4266.0</td>\n",
       "      <td>6.1</td>\n",
       "      <td>242.0</td>\n",
       "      <td>5.67</td>\n",
       "      <td>4265.166667</td>\n",
       "      <td>5.966667</td>\n",
       "      <td>250.833333</td>\n",
       "      <td>5.873333</td>\n",
       "      <td>27.119464</td>\n",
       "      <td>26.316156</td>\n",
       "      <td>24.154261</td>\n",
       "    </tr>\n",
       "    <tr>\n",
       "      <th>2001-04-01</th>\n",
       "      <td>4022.0</td>\n",
       "      <td>4032.0</td>\n",
       "      <td>5.9</td>\n",
       "      <td>218.0</td>\n",
       "      <td>5.41</td>\n",
       "      <td>4263.833333</td>\n",
       "      <td>5.975000</td>\n",
       "      <td>250.666667</td>\n",
       "      <td>5.871667</td>\n",
       "      <td>26.113387</td>\n",
       "      <td>27.119464</td>\n",
       "      <td>26.316156</td>\n",
       "    </tr>\n",
       "    <tr>\n",
       "      <th>...</th>\n",
       "      <td>...</td>\n",
       "      <td>...</td>\n",
       "      <td>...</td>\n",
       "      <td>...</td>\n",
       "      <td>...</td>\n",
       "      <td>...</td>\n",
       "      <td>...</td>\n",
       "      <td>...</td>\n",
       "      <td>...</td>\n",
       "      <td>...</td>\n",
       "      <td>...</td>\n",
       "      <td>...</td>\n",
       "    </tr>\n",
       "    <tr>\n",
       "      <th>2024-05-01</th>\n",
       "      <td>3172.0</td>\n",
       "      <td>3176.0</td>\n",
       "      <td>6.4</td>\n",
       "      <td>264.0</td>\n",
       "      <td>8.31</td>\n",
       "      <td>3490.333333</td>\n",
       "      <td>6.950000</td>\n",
       "      <td>316.416667</td>\n",
       "      <td>9.045833</td>\n",
       "      <td>22.136556</td>\n",
       "      <td>25.621075</td>\n",
       "      <td>27.636221</td>\n",
       "    </tr>\n",
       "    <tr>\n",
       "      <th>2024-06-01</th>\n",
       "      <td>3640.0</td>\n",
       "      <td>3390.0</td>\n",
       "      <td>6.7</td>\n",
       "      <td>277.0</td>\n",
       "      <td>8.17</td>\n",
       "      <td>3503.083333</td>\n",
       "      <td>6.916667</td>\n",
       "      <td>316.500000</td>\n",
       "      <td>9.015833</td>\n",
       "      <td>16.708185</td>\n",
       "      <td>22.136556</td>\n",
       "      <td>25.621075</td>\n",
       "    </tr>\n",
       "    <tr>\n",
       "      <th>2024-07-01</th>\n",
       "      <td>3689.0</td>\n",
       "      <td>3329.0</td>\n",
       "      <td>6.5</td>\n",
       "      <td>308.0</td>\n",
       "      <td>9.25</td>\n",
       "      <td>3510.166667</td>\n",
       "      <td>6.891667</td>\n",
       "      <td>321.500000</td>\n",
       "      <td>9.150000</td>\n",
       "      <td>17.283889</td>\n",
       "      <td>16.708185</td>\n",
       "      <td>22.136556</td>\n",
       "    </tr>\n",
       "    <tr>\n",
       "      <th>2024-08-01</th>\n",
       "      <td>3846.0</td>\n",
       "      <td>3172.0</td>\n",
       "      <td>6.7</td>\n",
       "      <td>313.0</td>\n",
       "      <td>9.87</td>\n",
       "      <td>3497.666667</td>\n",
       "      <td>6.866667</td>\n",
       "      <td>319.500000</td>\n",
       "      <td>9.127500</td>\n",
       "      <td>13.313495</td>\n",
       "      <td>17.283889</td>\n",
       "      <td>16.708185</td>\n",
       "    </tr>\n",
       "    <tr>\n",
       "      <th>2024-09-01</th>\n",
       "      <td>3426.0</td>\n",
       "      <td>3640.0</td>\n",
       "      <td>6.6</td>\n",
       "      <td>329.0</td>\n",
       "      <td>9.04</td>\n",
       "      <td>3519.833333</td>\n",
       "      <td>6.850000</td>\n",
       "      <td>318.750000</td>\n",
       "      <td>9.045833</td>\n",
       "      <td>15.274395</td>\n",
       "      <td>13.313495</td>\n",
       "      <td>17.283889</td>\n",
       "    </tr>\n",
       "  </tbody>\n",
       "</table>\n",
       "<p>286 rows × 12 columns</p>\n",
       "</div>"
      ],
      "text/plain": [
       "            hospitalizations  hospitalizations_lag_3  average_stay_lag_3  \\\n",
       "date                                                                       \n",
       "2000-12-01            4266.0                  4365.0                 6.4   \n",
       "2001-01-01            4032.0                  4388.0                 6.3   \n",
       "2001-02-01            3888.0                  4329.0                 6.1   \n",
       "2001-03-01            3658.0                  4266.0                 6.1   \n",
       "2001-04-01            4022.0                  4032.0                 5.9   \n",
       "...                      ...                     ...                 ...   \n",
       "2024-05-01            3172.0                  3176.0                 6.4   \n",
       "2024-06-01            3640.0                  3390.0                 6.7   \n",
       "2024-07-01            3689.0                  3329.0                 6.5   \n",
       "2024-08-01            3846.0                  3172.0                 6.7   \n",
       "2024-09-01            3426.0                  3640.0                 6.6   \n",
       "\n",
       "            deaths_lag_3  mortality_rate_lag_3  \\\n",
       "date                                             \n",
       "2000-12-01         293.0                  6.71   \n",
       "2001-01-01         275.0                  6.27   \n",
       "2001-02-01         258.0                  5.96   \n",
       "2001-03-01         242.0                  5.67   \n",
       "2001-04-01         218.0                  5.41   \n",
       "...                  ...                   ...   \n",
       "2024-05-01         264.0                  8.31   \n",
       "2024-06-01         277.0                  8.17   \n",
       "2024-07-01         308.0                  9.25   \n",
       "2024-08-01         313.0                  9.87   \n",
       "2024-09-01         329.0                  9.04   \n",
       "\n",
       "            hospitalizations_lag_3_12m_window  average_stay_lag_3_12m_window  \\\n",
       "date                                                                           \n",
       "2000-12-01                        4277.500000                       5.900000   \n",
       "2001-01-01                        4257.250000                       5.925000   \n",
       "2001-02-01                        4256.583333                       5.933333   \n",
       "2001-03-01                        4265.166667                       5.966667   \n",
       "2001-04-01                        4263.833333                       5.975000   \n",
       "...                                       ...                            ...   \n",
       "2024-05-01                        3490.333333                       6.950000   \n",
       "2024-06-01                        3503.083333                       6.916667   \n",
       "2024-07-01                        3510.166667                       6.891667   \n",
       "2024-08-01                        3497.666667                       6.866667   \n",
       "2024-09-01                        3519.833333                       6.850000   \n",
       "\n",
       "            deaths_lag_3_12m_window  mortality_rate_lag_3_12m_window  \\\n",
       "date                                                                   \n",
       "2000-12-01               245.333333                         5.728333   \n",
       "2001-01-01               246.250000                         5.775833   \n",
       "2001-02-01               248.083333                         5.819167   \n",
       "2001-03-01               250.833333                         5.873333   \n",
       "2001-04-01               250.666667                         5.871667   \n",
       "...                             ...                              ...   \n",
       "2024-05-01               316.416667                         9.045833   \n",
       "2024-06-01               316.500000                         9.015833   \n",
       "2024-07-01               321.500000                         9.150000   \n",
       "2024-08-01               319.500000                         9.127500   \n",
       "2024-09-01               318.750000                         9.045833   \n",
       "\n",
       "            lag_heat_index_1  lag_heat_index_2  lag_heat_index_3  \n",
       "date                                                              \n",
       "2000-12-01         21.132403         19.318992         15.300694  \n",
       "2001-01-01         24.154261         21.132403         19.318992  \n",
       "2001-02-01         26.316156         24.154261         21.132403  \n",
       "2001-03-01         27.119464         26.316156         24.154261  \n",
       "2001-04-01         26.113387         27.119464         26.316156  \n",
       "...                      ...               ...               ...  \n",
       "2024-05-01         22.136556         25.621075         27.636221  \n",
       "2024-06-01         16.708185         22.136556         25.621075  \n",
       "2024-07-01         17.283889         16.708185         22.136556  \n",
       "2024-08-01         13.313495         17.283889         16.708185  \n",
       "2024-09-01         15.274395         13.313495         17.283889  \n",
       "\n",
       "[286 rows x 12 columns]"
      ]
     },
     "execution_count": 128,
     "metadata": {},
     "output_type": "execute_result"
    }
   ],
   "source": [
    "dataset = pd.read_csv('../../Preprocessing/dataset.csv', \n",
    "                   header=0, \n",
    "                   index_col=0,\n",
    "                   usecols=features)\n",
    "\n",
    "dataset"
   ]
  },
  {
   "cell_type": "code",
   "execution_count": 129,
   "id": "c5877e84-3694-46f1-93d5-74462b8af331",
   "metadata": {},
   "outputs": [
    {
     "data": {
      "text/plain": [
       "Index(['hospitalizations', 'hospitalizations_lag_3', 'average_stay_lag_3',\n",
       "       'deaths_lag_3', 'mortality_rate_lag_3',\n",
       "       'hospitalizations_lag_3_12m_window', 'average_stay_lag_3_12m_window',\n",
       "       'deaths_lag_3_12m_window', 'mortality_rate_lag_3_12m_window',\n",
       "       'lag_heat_index_1', 'lag_heat_index_2', 'lag_heat_index_3'],\n",
       "      dtype='object')"
      ]
     },
     "execution_count": 129,
     "metadata": {},
     "output_type": "execute_result"
    }
   ],
   "source": [
    "dataset.columns"
   ]
  },
  {
   "cell_type": "markdown",
   "id": "dcea2871-53cc-49eb-a9d0-8987203a92ec",
   "metadata": {
    "jp-MarkdownHeadingCollapsed": true
   },
   "source": [
    "# 03.Preprocessing"
   ]
  },
  {
   "cell_type": "markdown",
   "id": "ffb324cf-3bf2-455a-84f5-d3ea0c0fd568",
   "metadata": {
    "jp-MarkdownHeadingCollapsed": true
   },
   "source": [
    "## 03.01 Remoção ano 2000"
   ]
  },
  {
   "cell_type": "code",
   "execution_count": 130,
   "id": "66b1015a-6011-44ea-88fb-d1c8a54c8190",
   "metadata": {},
   "outputs": [
    {
     "data": {
      "text/html": [
       "<div>\n",
       "<style scoped>\n",
       "    .dataframe tbody tr th:only-of-type {\n",
       "        vertical-align: middle;\n",
       "    }\n",
       "\n",
       "    .dataframe tbody tr th {\n",
       "        vertical-align: top;\n",
       "    }\n",
       "\n",
       "    .dataframe thead th {\n",
       "        text-align: right;\n",
       "    }\n",
       "</style>\n",
       "<table border=\"1\" class=\"dataframe\">\n",
       "  <thead>\n",
       "    <tr style=\"text-align: right;\">\n",
       "      <th></th>\n",
       "      <th>hospitalizations</th>\n",
       "      <th>hospitalizations_lag_3</th>\n",
       "      <th>average_stay_lag_3</th>\n",
       "      <th>deaths_lag_3</th>\n",
       "      <th>mortality_rate_lag_3</th>\n",
       "      <th>hospitalizations_lag_3_12m_window</th>\n",
       "      <th>average_stay_lag_3_12m_window</th>\n",
       "      <th>deaths_lag_3_12m_window</th>\n",
       "      <th>mortality_rate_lag_3_12m_window</th>\n",
       "      <th>lag_heat_index_1</th>\n",
       "      <th>lag_heat_index_2</th>\n",
       "      <th>lag_heat_index_3</th>\n",
       "    </tr>\n",
       "    <tr>\n",
       "      <th>date</th>\n",
       "      <th></th>\n",
       "      <th></th>\n",
       "      <th></th>\n",
       "      <th></th>\n",
       "      <th></th>\n",
       "      <th></th>\n",
       "      <th></th>\n",
       "      <th></th>\n",
       "      <th></th>\n",
       "      <th></th>\n",
       "      <th></th>\n",
       "      <th></th>\n",
       "    </tr>\n",
       "  </thead>\n",
       "  <tbody>\n",
       "    <tr>\n",
       "      <th>2000-12-01</th>\n",
       "      <td>4266.0</td>\n",
       "      <td>4365.0</td>\n",
       "      <td>6.4</td>\n",
       "      <td>293.0</td>\n",
       "      <td>6.71</td>\n",
       "      <td>4277.500000</td>\n",
       "      <td>5.900000</td>\n",
       "      <td>245.333333</td>\n",
       "      <td>5.728333</td>\n",
       "      <td>21.132403</td>\n",
       "      <td>19.318992</td>\n",
       "      <td>15.300694</td>\n",
       "    </tr>\n",
       "    <tr>\n",
       "      <th>2001-01-01</th>\n",
       "      <td>4032.0</td>\n",
       "      <td>4388.0</td>\n",
       "      <td>6.3</td>\n",
       "      <td>275.0</td>\n",
       "      <td>6.27</td>\n",
       "      <td>4257.250000</td>\n",
       "      <td>5.925000</td>\n",
       "      <td>246.250000</td>\n",
       "      <td>5.775833</td>\n",
       "      <td>24.154261</td>\n",
       "      <td>21.132403</td>\n",
       "      <td>19.318992</td>\n",
       "    </tr>\n",
       "    <tr>\n",
       "      <th>2001-02-01</th>\n",
       "      <td>3888.0</td>\n",
       "      <td>4329.0</td>\n",
       "      <td>6.1</td>\n",
       "      <td>258.0</td>\n",
       "      <td>5.96</td>\n",
       "      <td>4256.583333</td>\n",
       "      <td>5.933333</td>\n",
       "      <td>248.083333</td>\n",
       "      <td>5.819167</td>\n",
       "      <td>26.316156</td>\n",
       "      <td>24.154261</td>\n",
       "      <td>21.132403</td>\n",
       "    </tr>\n",
       "    <tr>\n",
       "      <th>2001-03-01</th>\n",
       "      <td>3658.0</td>\n",
       "      <td>4266.0</td>\n",
       "      <td>6.1</td>\n",
       "      <td>242.0</td>\n",
       "      <td>5.67</td>\n",
       "      <td>4265.166667</td>\n",
       "      <td>5.966667</td>\n",
       "      <td>250.833333</td>\n",
       "      <td>5.873333</td>\n",
       "      <td>27.119464</td>\n",
       "      <td>26.316156</td>\n",
       "      <td>24.154261</td>\n",
       "    </tr>\n",
       "    <tr>\n",
       "      <th>2001-04-01</th>\n",
       "      <td>4022.0</td>\n",
       "      <td>4032.0</td>\n",
       "      <td>5.9</td>\n",
       "      <td>218.0</td>\n",
       "      <td>5.41</td>\n",
       "      <td>4263.833333</td>\n",
       "      <td>5.975000</td>\n",
       "      <td>250.666667</td>\n",
       "      <td>5.871667</td>\n",
       "      <td>26.113387</td>\n",
       "      <td>27.119464</td>\n",
       "      <td>26.316156</td>\n",
       "    </tr>\n",
       "  </tbody>\n",
       "</table>\n",
       "</div>"
      ],
      "text/plain": [
       "            hospitalizations  hospitalizations_lag_3  average_stay_lag_3  \\\n",
       "date                                                                       \n",
       "2000-12-01            4266.0                  4365.0                 6.4   \n",
       "2001-01-01            4032.0                  4388.0                 6.3   \n",
       "2001-02-01            3888.0                  4329.0                 6.1   \n",
       "2001-03-01            3658.0                  4266.0                 6.1   \n",
       "2001-04-01            4022.0                  4032.0                 5.9   \n",
       "\n",
       "            deaths_lag_3  mortality_rate_lag_3  \\\n",
       "date                                             \n",
       "2000-12-01         293.0                  6.71   \n",
       "2001-01-01         275.0                  6.27   \n",
       "2001-02-01         258.0                  5.96   \n",
       "2001-03-01         242.0                  5.67   \n",
       "2001-04-01         218.0                  5.41   \n",
       "\n",
       "            hospitalizations_lag_3_12m_window  average_stay_lag_3_12m_window  \\\n",
       "date                                                                           \n",
       "2000-12-01                        4277.500000                       5.900000   \n",
       "2001-01-01                        4257.250000                       5.925000   \n",
       "2001-02-01                        4256.583333                       5.933333   \n",
       "2001-03-01                        4265.166667                       5.966667   \n",
       "2001-04-01                        4263.833333                       5.975000   \n",
       "\n",
       "            deaths_lag_3_12m_window  mortality_rate_lag_3_12m_window  \\\n",
       "date                                                                   \n",
       "2000-12-01               245.333333                         5.728333   \n",
       "2001-01-01               246.250000                         5.775833   \n",
       "2001-02-01               248.083333                         5.819167   \n",
       "2001-03-01               250.833333                         5.873333   \n",
       "2001-04-01               250.666667                         5.871667   \n",
       "\n",
       "            lag_heat_index_1  lag_heat_index_2  lag_heat_index_3  \n",
       "date                                                              \n",
       "2000-12-01         21.132403         19.318992         15.300694  \n",
       "2001-01-01         24.154261         21.132403         19.318992  \n",
       "2001-02-01         26.316156         24.154261         21.132403  \n",
       "2001-03-01         27.119464         26.316156         24.154261  \n",
       "2001-04-01         26.113387         27.119464         26.316156  "
      ]
     },
     "execution_count": 130,
     "metadata": {},
     "output_type": "execute_result"
    }
   ],
   "source": [
    "dataset = dataset[dataset.index < \"2020-01-01\"]\n",
    "\n",
    "dataset.index = pd.to_datetime(dataset.index)\n",
    "\n",
    "test_start_date = '2017-01-01'\n",
    "\n",
    "dataset.head(5)"
   ]
  },
  {
   "cell_type": "markdown",
   "id": "040f61da-a1d0-4ba0-b9fb-a8e8efafeb78",
   "metadata": {},
   "source": [
    "# 04.Model training"
   ]
  },
  {
   "cell_type": "markdown",
   "id": "3d2b2684-8837-413d-9017-8d12e0b13b6e",
   "metadata": {},
   "source": [
    "## 04.01 Split train and test"
   ]
  },
  {
   "cell_type": "code",
   "execution_count": 131,
   "id": "7d428351-8973-4f43-8b14-15077e429614",
   "metadata": {},
   "outputs": [
    {
     "name": "stdout",
     "output_type": "stream",
     "text": [
      "(193, 11) (193,)\n",
      "(36, 11) (36,)\n"
     ]
    }
   ],
   "source": [
    "df_train, df_test, y_train, y_test = train_test_split(dataset, test_start_date, 'hospitalizations')"
   ]
  },
  {
   "cell_type": "markdown",
   "id": "27b97f56-a01b-48a2-a627-b491bf9a5b13",
   "metadata": {},
   "source": [
    "## 04.02 Normalization"
   ]
  },
  {
   "cell_type": "code",
   "execution_count": 132,
   "id": "20cfe4a9-61fb-42ee-aab3-8add8b5b1164",
   "metadata": {},
   "outputs": [
    {
     "name": "stdout",
     "output_type": "stream",
     "text": [
      "(193, 11) (193, 1)\n",
      "(36, 11) (36, 1)\n"
     ]
    }
   ],
   "source": [
    "scaler, scaler_target, df_train_scaled, df_test_scaled, y_train_scaled, y_test_scaled = data_normalization(df_train, df_test, y_train, y_test)"
   ]
  },
  {
   "cell_type": "markdown",
   "id": "83217a51-d609-466b-9a2a-cfcd174fa0d5",
   "metadata": {},
   "source": [
    "## 04.03 Reshape input to be 3D [samples, timesteps, features]"
   ]
  },
  {
   "cell_type": "code",
   "execution_count": 133,
   "id": "f94260d7-22a9-4054-bea8-9f0031bc73fb",
   "metadata": {},
   "outputs": [
    {
     "name": "stdout",
     "output_type": "stream",
     "text": [
      "(193, 12) (36, 12)\n"
     ]
    }
   ],
   "source": [
    "df_train_scaled = np.hstack((df_train_scaled, y_train_scaled.reshape(-1, 1)))\n",
    "df_test_scaled = np.hstack((df_test_scaled, y_test_scaled.reshape(-1, 1)))\n",
    "\n",
    "print(df_train_scaled.shape, df_test_scaled.shape)"
   ]
  },
  {
   "cell_type": "code",
   "execution_count": 134,
   "id": "c0437750-98c8-480f-a37f-c84ca28d70c0",
   "metadata": {},
   "outputs": [
    {
     "name": "stdout",
     "output_type": "stream",
     "text": [
      "(192, 24) (35, 24)\n"
     ]
    }
   ],
   "source": [
    "# specify the number of lag hours\n",
    "n_hours = 1\n",
    "\n",
    "# frame as supervised learning\n",
    "reframed_train = series_to_supervised(df_train_scaled, n_hours, 1)\n",
    "reframed_test = series_to_supervised(df_test_scaled, n_hours, 1)\n",
    "\n",
    "print(reframed_train.shape, reframed_test.shape)"
   ]
  },
  {
   "cell_type": "code",
   "execution_count": 135,
   "id": "3b64d97e-ab05-48a7-bcf1-c96d610f8df5",
   "metadata": {},
   "outputs": [
    {
     "data": {
      "text/plain": [
       "Index(['var1(t-1)', 'var2(t-1)', 'var3(t-1)', 'var4(t-1)', 'var5(t-1)',\n",
       "       'var6(t-1)', 'var7(t-1)', 'var8(t-1)', 'var9(t-1)', 'var10(t-1)',\n",
       "       'var11(t-1)', 'var12(t-1)', 'var1(t)', 'var2(t)', 'var3(t)', 'var4(t)',\n",
       "       'var5(t)', 'var6(t)', 'var7(t)', 'var8(t)', 'var9(t)', 'var10(t)',\n",
       "       'var11(t)', 'var12(t)'],\n",
       "      dtype='object')"
      ]
     },
     "execution_count": 135,
     "metadata": {},
     "output_type": "execute_result"
    }
   ],
   "source": [
    "reframed_train.columns"
   ]
  },
  {
   "cell_type": "code",
   "execution_count": 136,
   "id": "008bcc16-223f-48b1-9918-2d94bdd56ce4",
   "metadata": {},
   "outputs": [],
   "source": [
    "selected_features = ['var1(t-1)', 'var2(t-1)', 'var3(t-1)', 'var4(t-1)', 'var5(t-1)','var6(t-1)', 'var7(t-1)', 'var8(t-1)', 'var9(t-1)', 'var10(t-1)', 'var11(t-1)']\n",
    "target_feature = ['var12(t)']"
   ]
  },
  {
   "cell_type": "code",
   "execution_count": 137,
   "id": "e3953d4d-54a8-47a5-b37f-1b827d462c4f",
   "metadata": {},
   "outputs": [
    {
     "name": "stdout",
     "output_type": "stream",
     "text": [
      "(192, 11) (192, 1)\n",
      "(35, 11) (35, 1)\n"
     ]
    }
   ],
   "source": [
    "# split into input and outputs\n",
    "# n_features = n_hours * len(dataset.columns)\n",
    "n_features = reframed_train[selected_features].shape[1]\n",
    "\n",
    "train_X, train_y = reframed_train[selected_features], reframed_train[target_feature]\n",
    "test_X, test_y = reframed_test[selected_features], reframed_test[target_feature]\n",
    "\n",
    "print(train_X.shape, train_y.shape)\n",
    "print(test_X.shape, test_y.shape)"
   ]
  },
  {
   "cell_type": "code",
   "execution_count": 138,
   "id": "df2760a8-91ee-4202-85ce-8d0f6783b0db",
   "metadata": {},
   "outputs": [],
   "source": [
    "train_X = train_X.values\n",
    "test_X = test_X.values\n",
    "\n",
    "train_y = train_y.values\n",
    "test_y = test_y.values"
   ]
  },
  {
   "cell_type": "code",
   "execution_count": 139,
   "id": "9f46156c-b902-49e2-b5c7-88c8ac74fed9",
   "metadata": {},
   "outputs": [
    {
     "name": "stdout",
     "output_type": "stream",
     "text": [
      "(192, 1, 11) (193, 1)\n",
      "(35, 1, 11) (36, 1)\n"
     ]
    }
   ],
   "source": [
    "# reshape input to be 3D [samples, timesteps, features]\n",
    "train_X = train_X.reshape((train_X.shape[0], n_hours, n_features))\n",
    "test_X = test_X.reshape((test_X.shape[0], n_hours, n_features))\n",
    "\n",
    "print(train_X.shape, y_train_scaled.shape)\n",
    "print(test_X.shape, y_test_scaled.shape)"
   ]
  },
  {
   "cell_type": "code",
   "execution_count": 140,
   "id": "76687999-8bcd-42d8-bfbd-b08c6fc25a67",
   "metadata": {},
   "outputs": [
    {
     "name": "stdout",
     "output_type": "stream",
     "text": [
      "(192, 1) (35, 1)\n"
     ]
    }
   ],
   "source": [
    "# y_train_scaled = y_train_scaled[:-1]\n",
    "# y_test_scaled = y_test_scaled[:-1]\n",
    "\n",
    "# print(y_train_scaled.shape, y_test_scaled.shape)"
   ]
  },
  {
   "cell_type": "markdown",
   "id": "3c274b8d-214b-435e-b966-92b908226534",
   "metadata": {},
   "source": [
    "## 04.04 Recurrent network"
   ]
  },
  {
   "cell_type": "code",
   "execution_count": 141,
   "id": "cfdfe854-02d0-4d44-8e9c-ced2f9b45773",
   "metadata": {},
   "outputs": [
    {
     "name": "stdout",
     "output_type": "stream",
     "text": [
      "Reloading Tuner from my_dir_test/lstm_tuning/tuner0.json\n",
      "Better number of LSTM units in the first layer: 45\n",
      "Melhor taxa de aprendizado: 0.01\n"
     ]
    }
   ],
   "source": [
    "# Configuring Random Search\n",
    "tuner = RandomSearch(\n",
    "    build_model,\n",
    "    objective='val_loss',\n",
    "    max_trials=10,  # Number of combinations to be tested\n",
    "    executions_per_trial=5,\n",
    "    directory='my_dir_test',\n",
    "    project_name='lstm_tuning'\n",
    ")\n",
    "\n",
    "early_stopping = EarlyStopping(monitor='val_loss', patience=15, restore_best_weights=True)\n",
    "\n",
    "# Perform the search\n",
    "tuner.search(train_X, y_train_scaled, epochs=50, validation_data=(test_X, y_test_scaled), callbacks=[early_stopping])\n",
    "\n",
    "# Best set of hyperparameters\n",
    "best_hps = tuner.get_best_hyperparameters(num_trials=1)[0]\n",
    "\n",
    "print(f\"Better number of LSTM units in the first layer: {best_hps.get('units_layer1')}\")\n",
    "print(f\"Melhor taxa de aprendizado: {best_hps.get('learning_rate')}\")"
   ]
  },
  {
   "cell_type": "markdown",
   "id": "fdd11598-1362-445c-8fb0-241befd78c6a",
   "metadata": {},
   "source": [
    "### 04.04.01 Final Model"
   ]
  },
  {
   "cell_type": "code",
   "execution_count": 142,
   "id": "4f781b3b-4ee7-4bec-88ea-e00467d90409",
   "metadata": {},
   "outputs": [
    {
     "name": "stdout",
     "output_type": "stream",
     "text": [
      "Epoch 1/150\n"
     ]
    },
    {
     "name": "stderr",
     "output_type": "stream",
     "text": [
      "/home/thiery/.local/lib/python3.10/site-packages/keras/src/layers/rnn/rnn.py:204: UserWarning: Do not pass an `input_shape`/`input_dim` argument to a layer. When using Sequential models, prefer using an `Input(shape)` object as the first layer in the model instead.\n",
      "  super().__init__(**kwargs)\n"
     ]
    },
    {
     "name": "stdout",
     "output_type": "stream",
     "text": [
      "16/16 - 2s - 112ms/step - loss: 0.0899 - val_loss: 0.0317\n",
      "Epoch 2/150\n",
      "16/16 - 0s - 6ms/step - loss: 0.0637 - val_loss: 0.0350\n",
      "Epoch 3/150\n",
      "16/16 - 0s - 8ms/step - loss: 0.0164 - val_loss: 0.0124\n",
      "Epoch 4/150\n",
      "16/16 - 0s - 5ms/step - loss: 0.0162 - val_loss: 0.0104\n",
      "Epoch 5/150\n",
      "16/16 - 0s - 5ms/step - loss: 0.0119 - val_loss: 0.0079\n",
      "Epoch 6/150\n",
      "16/16 - 0s - 5ms/step - loss: 0.0106 - val_loss: 0.0063\n",
      "Epoch 7/150\n",
      "16/16 - 0s - 8ms/step - loss: 0.0116 - val_loss: 0.0077\n",
      "Epoch 8/150\n",
      "16/16 - 0s - 5ms/step - loss: 0.0119 - val_loss: 0.0079\n",
      "Epoch 9/150\n",
      "16/16 - 0s - 9ms/step - loss: 0.0097 - val_loss: 0.0055\n",
      "Epoch 10/150\n",
      "16/16 - 0s - 8ms/step - loss: 0.0103 - val_loss: 0.0055\n",
      "Epoch 11/150\n",
      "16/16 - 0s - 5ms/step - loss: 0.0090 - val_loss: 0.0049\n",
      "Epoch 12/150\n",
      "16/16 - 0s - 7ms/step - loss: 0.0092 - val_loss: 0.0050\n",
      "Epoch 13/150\n",
      "16/16 - 0s - 6ms/step - loss: 0.0096 - val_loss: 0.0055\n",
      "Epoch 14/150\n",
      "16/16 - 0s - 6ms/step - loss: 0.0096 - val_loss: 0.0056\n",
      "Epoch 15/150\n",
      "16/16 - 0s - 8ms/step - loss: 0.0095 - val_loss: 0.0050\n",
      "Epoch 16/150\n",
      "16/16 - 0s - 5ms/step - loss: 0.0102 - val_loss: 0.0049\n",
      "Epoch 17/150\n",
      "16/16 - 0s - 5ms/step - loss: 0.0100 - val_loss: 0.0052\n",
      "Epoch 18/150\n",
      "16/16 - 0s - 5ms/step - loss: 0.0093 - val_loss: 0.0054\n",
      "Epoch 19/150\n",
      "16/16 - 0s - 5ms/step - loss: 0.0089 - val_loss: 0.0049\n",
      "Epoch 20/150\n",
      "16/16 - 0s - 6ms/step - loss: 0.0096 - val_loss: 0.0053\n",
      "Epoch 21/150\n",
      "16/16 - 0s - 5ms/step - loss: 0.0103 - val_loss: 0.0061\n",
      "Epoch 22/150\n",
      "16/16 - 0s - 6ms/step - loss: 0.0097 - val_loss: 0.0052\n",
      "Epoch 23/150\n",
      "16/16 - 0s - 6ms/step - loss: 0.0111 - val_loss: 0.0052\n",
      "Epoch 24/150\n",
      "16/16 - 0s - 5ms/step - loss: 0.0105 - val_loss: 0.0059\n",
      "Epoch 25/150\n",
      "16/16 - 0s - 8ms/step - loss: 0.0094 - val_loss: 0.0060\n",
      "Epoch 26/150\n",
      "16/16 - 0s - 5ms/step - loss: 0.0088 - val_loss: 0.0049\n"
     ]
    },
    {
     "data": {
      "image/png": "[encoded data removed]",
      "text/plain": [
       "<Figure size 640x480 with 1 Axes>"
      ]
     },
     "metadata": {},
     "output_type": "display_data"
    }
   ],
   "source": [
    "from keras.callbacks import EarlyStopping\n",
    "\n",
    "early_stopping = EarlyStopping(monitor='val_loss', patience=15, restore_best_weights=True)\n",
    "\n",
    "optimizer = Adam(learning_rate=0.01)\n",
    "\n",
    "# design network\n",
    "model = Sequential()\n",
    "model.add(LSTM(45, input_shape=(train_X.shape[1], train_X.shape[2])))\n",
    "model.add(Dense(1))\n",
    "model.compile(loss='mse', optimizer=optimizer)\n",
    "\n",
    "# fit network\n",
    "history = model.fit(train_X, \n",
    "                    y_train_scaled, \n",
    "                    epochs=150, \n",
    "                    batch_size=12, \n",
    "                    validation_data=(test_X, y_test_scaled), \n",
    "                    verbose=2, \n",
    "                    callbacks=[early_stopping],\n",
    "                    shuffle=False)\n",
    "\n",
    "# plot history\n",
    "pyplot.plot(history.history['loss'], label='train')\n",
    "pyplot.plot(history.history['val_loss'], label='test')\n",
    "pyplot.legend()\n",
    "pyplot.show()\n"
   ]
  },
  {
   "cell_type": "code",
   "execution_count": 45,
   "id": "4a440f3e-bd02-4049-87a7-0ac9dc77ba21",
   "metadata": {},
   "outputs": [
    {
     "data": {
      "text/html": [
       "<pre style=\"white-space:pre;overflow-x:auto;line-height:normal;font-family:Menlo,'DejaVu Sans Mono',consolas,'Courier New',monospace\"><span style=\"font-weight: bold\">Model: \"sequential_1\"</span>\n",
       "</pre>\n"
      ],
      "text/plain": [
       "\u001b[1mModel: \"sequential_1\"\u001b[0m\n"
      ]
     },
     "metadata": {},
     "output_type": "display_data"
    },
    {
     "data": {
      "text/html": [
       "<pre style=\"white-space:pre;overflow-x:auto;line-height:normal;font-family:Menlo,'DejaVu Sans Mono',consolas,'Courier New',monospace\">┏━━━━━━━━━━━━━━━━━━━━━━━━━━━━━━━━━┳━━━━━━━━━━━━━━━━━━━━━━━━┳━━━━━━━━━━━━━━━┓\n",
       "┃<span style=\"font-weight: bold\"> Layer (type)                    </span>┃<span style=\"font-weight: bold\"> Output Shape           </span>┃<span style=\"font-weight: bold\">       Param # </span>┃\n",
       "┡━━━━━━━━━━━━━━━━━━━━━━━━━━━━━━━━━╇━━━━━━━━━━━━━━━━━━━━━━━━╇━━━━━━━━━━━━━━━┩\n",
       "│ lstm_1 (<span style=\"color: #0087ff; text-decoration-color: #0087ff\">LSTM</span>)                   │ (<span style=\"color: #00d7ff; text-decoration-color: #00d7ff\">None</span>, <span style=\"color: #00af00; text-decoration-color: #00af00\">25</span>)             │         <span style=\"color: #00af00; text-decoration-color: #00af00\">3,700</span> │\n",
       "├─────────────────────────────────┼────────────────────────┼───────────────┤\n",
       "│ dense_1 (<span style=\"color: #0087ff; text-decoration-color: #0087ff\">Dense</span>)                 │ (<span style=\"color: #00d7ff; text-decoration-color: #00d7ff\">None</span>, <span style=\"color: #00af00; text-decoration-color: #00af00\">1</span>)              │            <span style=\"color: #00af00; text-decoration-color: #00af00\">26</span> │\n",
       "└─────────────────────────────────┴────────────────────────┴───────────────┘\n",
       "</pre>\n"
      ],
      "text/plain": [
       "┏━━━━━━━━━━━━━━━━━━━━━━━━━━━━━━━━━┳━━━━━━━━━━━━━━━━━━━━━━━━┳━━━━━━━━━━━━━━━┓\n",
       "┃\u001b[1m \u001b[0m\u001b[1mLayer (type)                   \u001b[0m\u001b[1m \u001b[0m┃\u001b[1m \u001b[0m\u001b[1mOutput Shape          \u001b[0m\u001b[1m \u001b[0m┃\u001b[1m \u001b[0m\u001b[1m      Param #\u001b[0m\u001b[1m \u001b[0m┃\n",
       "┡━━━━━━━━━━━━━━━━━━━━━━━━━━━━━━━━━╇━━━━━━━━━━━━━━━━━━━━━━━━╇━━━━━━━━━━━━━━━┩\n",
       "│ lstm_1 (\u001b[38;5;33mLSTM\u001b[0m)                   │ (\u001b[38;5;45mNone\u001b[0m, \u001b[38;5;34m25\u001b[0m)             │         \u001b[38;5;34m3,700\u001b[0m │\n",
       "├─────────────────────────────────┼────────────────────────┼───────────────┤\n",
       "│ dense_1 (\u001b[38;5;33mDense\u001b[0m)                 │ (\u001b[38;5;45mNone\u001b[0m, \u001b[38;5;34m1\u001b[0m)              │            \u001b[38;5;34m26\u001b[0m │\n",
       "└─────────────────────────────────┴────────────────────────┴───────────────┘\n"
      ]
     },
     "metadata": {},
     "output_type": "display_data"
    },
    {
     "data": {
      "text/html": [
       "<pre style=\"white-space:pre;overflow-x:auto;line-height:normal;font-family:Menlo,'DejaVu Sans Mono',consolas,'Courier New',monospace\"><span style=\"font-weight: bold\"> Total params: </span><span style=\"color: #00af00; text-decoration-color: #00af00\">11,180</span> (43.68 KB)\n",
       "</pre>\n"
      ],
      "text/plain": [
       "\u001b[1m Total params: \u001b[0m\u001b[38;5;34m11,180\u001b[0m (43.68 KB)\n"
      ]
     },
     "metadata": {},
     "output_type": "display_data"
    },
    {
     "data": {
      "text/html": [
       "<pre style=\"white-space:pre;overflow-x:auto;line-height:normal;font-family:Menlo,'DejaVu Sans Mono',consolas,'Courier New',monospace\"><span style=\"font-weight: bold\"> Trainable params: </span><span style=\"color: #00af00; text-decoration-color: #00af00\">3,726</span> (14.55 KB)\n",
       "</pre>\n"
      ],
      "text/plain": [
       "\u001b[1m Trainable params: \u001b[0m\u001b[38;5;34m3,726\u001b[0m (14.55 KB)\n"
      ]
     },
     "metadata": {},
     "output_type": "display_data"
    },
    {
     "data": {
      "text/html": [
       "<pre style=\"white-space:pre;overflow-x:auto;line-height:normal;font-family:Menlo,'DejaVu Sans Mono',consolas,'Courier New',monospace\"><span style=\"font-weight: bold\"> Non-trainable params: </span><span style=\"color: #00af00; text-decoration-color: #00af00\">0</span> (0.00 B)\n",
       "</pre>\n"
      ],
      "text/plain": [
       "\u001b[1m Non-trainable params: \u001b[0m\u001b[38;5;34m0\u001b[0m (0.00 B)\n"
      ]
     },
     "metadata": {},
     "output_type": "display_data"
    },
    {
     "data": {
      "text/html": [
       "<pre style=\"white-space:pre;overflow-x:auto;line-height:normal;font-family:Menlo,'DejaVu Sans Mono',consolas,'Courier New',monospace\"><span style=\"font-weight: bold\"> Optimizer params: </span><span style=\"color: #00af00; text-decoration-color: #00af00\">7,454</span> (29.12 KB)\n",
       "</pre>\n"
      ],
      "text/plain": [
       "\u001b[1m Optimizer params: \u001b[0m\u001b[38;5;34m7,454\u001b[0m (29.12 KB)\n"
      ]
     },
     "metadata": {},
     "output_type": "display_data"
    }
   ],
   "source": [
    "model.summary()"
   ]
  },
  {
   "cell_type": "markdown",
   "id": "1c216bca-5be1-4bee-8ddf-49231bf1d64a",
   "metadata": {},
   "source": [
    "### 04.04.02 Permutation Feature importance"
   ]
  },
  {
   "cell_type": "code",
   "execution_count": 143,
   "id": "434ab5cc-6f8b-45a3-ae90-3ffa8178d712",
   "metadata": {},
   "outputs": [
    {
     "name": "stdout",
     "output_type": "stream",
     "text": [
      "\u001b[1m2/2\u001b[0m \u001b[32m━━━━━━━━━━━━━━━━━━━━\u001b[0m\u001b[37m\u001b[0m \u001b[1m0s\u001b[0m 143ms/step\n",
      "\u001b[1m2/2\u001b[0m \u001b[32m━━━━━━━━━━━━━━━━━━━━\u001b[0m\u001b[37m\u001b[0m \u001b[1m0s\u001b[0m 3ms/step \n",
      "\u001b[1m2/2\u001b[0m \u001b[32m━━━━━━━━━━━━━━━━━━━━\u001b[0m\u001b[37m\u001b[0m \u001b[1m0s\u001b[0m 3ms/step \n",
      "\u001b[1m2/2\u001b[0m \u001b[32m━━━━━━━━━━━━━━━━━━━━\u001b[0m\u001b[37m\u001b[0m \u001b[1m0s\u001b[0m 3ms/step \n",
      "\u001b[1m2/2\u001b[0m \u001b[32m━━━━━━━━━━━━━━━━━━━━\u001b[0m\u001b[37m\u001b[0m \u001b[1m0s\u001b[0m 3ms/step \n",
      "\u001b[1m2/2\u001b[0m \u001b[32m━━━━━━━━━━━━━━━━━━━━\u001b[0m\u001b[37m\u001b[0m \u001b[1m0s\u001b[0m 3ms/step \n",
      "\u001b[1m2/2\u001b[0m \u001b[32m━━━━━━━━━━━━━━━━━━━━\u001b[0m\u001b[37m\u001b[0m \u001b[1m0s\u001b[0m 4ms/step \n",
      "\u001b[1m2/2\u001b[0m \u001b[32m━━━━━━━━━━━━━━━━━━━━\u001b[0m\u001b[37m\u001b[0m \u001b[1m0s\u001b[0m 6ms/step \n",
      "\u001b[1m2/2\u001b[0m \u001b[32m━━━━━━━━━━━━━━━━━━━━\u001b[0m\u001b[37m\u001b[0m \u001b[1m0s\u001b[0m 3ms/step \n",
      "\u001b[1m2/2\u001b[0m \u001b[32m━━━━━━━━━━━━━━━━━━━━\u001b[0m\u001b[37m\u001b[0m \u001b[1m0s\u001b[0m 3ms/step \n",
      "\u001b[1m2/2\u001b[0m \u001b[32m━━━━━━━━━━━━━━━━━━━━\u001b[0m\u001b[37m\u001b[0m \u001b[1m0s\u001b[0m 3ms/step \n",
      "\u001b[1m2/2\u001b[0m \u001b[32m━━━━━━━━━━━━━━━━━━━━\u001b[0m\u001b[37m\u001b[0m \u001b[1m0s\u001b[0m 3ms/step \n",
      "Feature 0: Importance = 0.0000\n",
      "Feature 1: Importance = 0.0000\n",
      "Feature 2: Importance = 0.0000\n",
      "Feature 3: Importance = 0.0000\n",
      "Feature 4: Importance = 0.0000\n",
      "Feature 5: Importance = 0.0000\n",
      "Feature 6: Importance = 0.0000\n",
      "Feature 7: Importance = 0.0000\n",
      "Feature 8: Importance = 0.0000\n",
      "Feature 9: Importance = 0.0000\n",
      "Feature 10: Importance = 0.0000\n"
     ]
    },
    {
     "data": {
      "image/png": "[encoded data removed]",
      "text/plain": [
       "<Figure size 1000x600 with 1 Axes>"
      ]
     },
     "metadata": {},
     "output_type": "display_data"
    }
   ],
   "source": [
    "# Exemplo de uso com um modelo LSTM\n",
    "# Suponha que X_test tenha o formato (samples, timesteps, features)\n",
    "importances = permutation_importance(model, test_X, y_test_scaled)\n",
    "\n",
    "# # Exibindo as importâncias\n",
    "for idx, imp in enumerate(importances):\n",
    "    print(f\"Feature {idx}: Importance = {imp:.4f}\")\n",
    "\n",
    "# Exemplo de uso\n",
    "feature_names = df_test.columns\n",
    "\n",
    "# Chamando a função para plotar\n",
    "plot_permutation_importance(importances, feature_names)"
   ]
  },
  {
   "cell_type": "markdown",
   "id": "777e6d28-db4a-4b4e-8b9d-556c9bdbc3bd",
   "metadata": {},
   "source": [
    "### 04.04.03 Prediction"
   ]
  },
  {
   "cell_type": "code",
   "execution_count": 58,
   "id": "acce2f3e-a406-42c7-b1fc-82f1e72e0b26",
   "metadata": {},
   "outputs": [
    {
     "name": "stdout",
     "output_type": "stream",
     "text": [
      "\u001b[1m2/2\u001b[0m \u001b[32m━━━━━━━━━━━━━━━━━━━━\u001b[0m\u001b[37m\u001b[0m \u001b[1m0s\u001b[0m 4ms/step \n",
      "Mean Absolute Error (MAE): 107.79\n",
      "Mean Squared Error (MSE): 17667.48\n",
      "Root Mean Squared Error (RMSE): 132.92\n",
      "Mean Absolute Percentage Error (MAPE): 3.31%\n",
      "R-Squared (R²): 0.57\n"
     ]
    }
   ],
   "source": [
    "# make a prediction\n",
    "yhat = model.predict(test_X)\n",
    "test_X = test_X.reshape((test_X.shape[0], test_X.shape[2]))\n",
    "\n",
    "# invert scaling for forecast\n",
    "y_pred = np.concatenate((yhat, test_X[:, 1:]), axis=1)\n",
    "y_pred = scaler_target.inverse_transform(y_pred)\n",
    "y_pred = y_pred[:,0]\n",
    "\n",
    "# invert scaling for actual\n",
    "test_y = y_test_scaled.reshape((len(y_test_scaled), 1))\n",
    "inv_y = np.concatenate((test_y, test_X[:, 1:]), axis=1)\n",
    "inv_y = scaler_target.inverse_transform(inv_y)\n",
    "inv_y = inv_y[:,0]\n",
    "\n",
    "# calculate RMSE\n",
    "print_metrics(inv_y, y_pred)"
   ]
  },
  {
   "cell_type": "markdown",
   "id": "63b323aa-6037-4f37-9d15-f9e029faac9d",
   "metadata": {},
   "source": [
    "### 04.04.04 Plot"
   ]
  },
  {
   "cell_type": "code",
   "execution_count": 144,
   "id": "24b22097-a808-4162-b7ae-a9346afac465",
   "metadata": {},
   "outputs": [
    {
     "data": {
      "image/png": "[encoded data removed]",
      "text/plain": [
       "<Figure size 1200x600 with 1 Axes>"
      ]
     },
     "metadata": {},
     "output_type": "display_data"
    }
   ],
   "source": [
    "index_train = pd.to_datetime(dataset.index)\n",
    "index_test = dataset.tail(len(y_pred)).index\n",
    "\n",
    "plt.figure(figsize=(12, 6))\n",
    "plt.plot(dataset.index, dataset['hospitalizations'], label='Train')\n",
    "plt.plot(index_test, inv_y, color='green', label='Test')\n",
    "plt.plot(index_test, y_pred, color='red', label='Predicted')\n",
    "plt.title(\"Actual vs predicted\")\n",
    "plt.xlabel('years')\n",
    "plt.ylabel('hospitalizations')\n",
    "plt.grid(True)\n",
    "plt.legend()\n",
    "plt.xticks(rotation=90)\n",
    "plt.tight_layout()\n",
    "plt.show()"
   ]
  },
  {
   "cell_type": "code",
   "execution_count": null,
   "id": "c2b208da-0e3a-48fd-b9a3-d5c599bcca99",
   "metadata": {},
   "outputs": [],
   "source": []
  }
 ],
 "metadata": {
  "kernelspec": {
   "display_name": "Python 3 (ipykernel)",
   "language": "python",
   "name": "python3"
  },
  "language_info": {
   "codemirror_mode": {
    "name": "ipython",
    "version": 3
   },
   "file_extension": ".py",
   "mimetype": "text/x-python",
   "name": "python",
   "nbconvert_exporter": "python",
   "pygments_lexer": "ipython3",
   "version": "3.10.12"
  }
 },
 "nbformat": 4,
 "nbformat_minor": 5
}
