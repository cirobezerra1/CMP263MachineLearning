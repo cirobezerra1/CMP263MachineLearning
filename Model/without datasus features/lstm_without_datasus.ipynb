{
 "cells": [
  {
   "cell_type": "markdown",
   "id": "f6b4692a-aa85-4d68-bdd6-2016769c9757",
   "metadata": {
    "jp-MarkdownHeadingCollapsed": true
   },
   "source": [
    "# 00.Importing Libraries"
   ]
  },
  {
   "cell_type": "code",
   "execution_count": null,
   "id": "f0589ad1-f2b5-4bc9-8430-2a6c40378d13",
   "metadata": {},
   "outputs": [],
   "source": [
    "import numpy as np\n",
    "import matplotlib.pyplot as plt\n",
    "import pandas as pd\n",
    "\n",
    "from math import sqrt\n",
    "from matplotlib import pyplot\n",
    "from keras.layers import LSTM\n",
    "from keras.layers import Dense\n",
    "from keras.optimizers import Adam\n",
    "from keras.models import Sequential\n",
    "from keras_tuner import RandomSearch\n",
    "from keras.callbacks import EarlyStopping\n",
    "from sklearn.preprocessing import MinMaxScaler\n",
    "from sklearn.metrics import mean_squared_error\n",
    "from sklearn.preprocessing import LabelEncoder\n",
    "from sklearn.metrics import mean_absolute_error, mean_squared_error, r2_score"
   ]
  },
  {
   "cell_type": "markdown",
   "id": "4e38e817-e14a-4ea1-8fba-daf6dd06bfe3",
   "metadata": {
    "jp-MarkdownHeadingCollapsed": true
   },
   "source": [
    "# 01.Helpers"
   ]
  },
  {
   "cell_type": "markdown",
   "id": "8e23448b-9c27-4954-97e3-b0094d6cef32",
   "metadata": {
    "jp-MarkdownHeadingCollapsed": true
   },
   "source": [
    "## 01.01 Constants"
   ]
  },
  {
   "cell_type": "code",
   "execution_count": null,
   "id": "49d87d56-96c1-4366-a634-cf0310eda6f5",
   "metadata": {},
   "outputs": [],
   "source": [
    "features = ['date', 'hospitalizations', 'heat_index', 'heat_index_sum', 'heat_index_std', 'heat_index99','heat_index95', 'temperature_mean', 'temperature_max',\n",
    "           'temperature_min', 'wind_speed_mean', 'humidity_mean','lag_heat_index_1', 'lag_heat_index_2', 'lag_heat_index_3']"
   ]
  },
  {
   "cell_type": "code",
   "execution_count": null,
   "id": "e43dc47d-55e8-47f5-9aff-7bd0cdc093ff",
   "metadata": {},
   "outputs": [],
   "source": [
    "test_start_date = \"2017-01-01\""
   ]
  },
  {
   "cell_type": "markdown",
   "id": "5bd56694-e132-479d-a720-17a7dd97c3cd",
   "metadata": {},
   "source": [
    "## 01.02 Functions"
   ]
  },
  {
   "cell_type": "code",
   "execution_count": null,
   "id": "bbb0a1d7-2f52-4664-9741-486ee7e7f010",
   "metadata": {},
   "outputs": [],
   "source": [
    "# convert series to supervised learning\n",
    "def series_to_supervised(data, n_in=1, n_out=1, dropnan=True):\n",
    "\tn_vars = 1 if type(data) is list else data.shape[1]\n",
    "\tdf = pd.DataFrame(data)\n",
    "\tcols, names = list(), list()\n",
    "\t# input sequence (t-n, ... t-1)\n",
    "\tfor i in range(n_in, 0, -1):\n",
    "\t\tcols.append(df.shift(i))\n",
    "\t\tnames += [('var%d(t-%d)' % (j+1, i)) for j in range(n_vars)]\n",
    "\t# forecast sequence (t, t+1, ... t+n)\n",
    "\tfor i in range(0, n_out):\n",
    "\t\tcols.append(df.shift(-i))\n",
    "\t\tif i == 0:\n",
    "\t\t\tnames += [('var%d(t)' % (j+1)) for j in range(n_vars)]\n",
    "\t\telse:\n",
    "\t\t\tnames += [('var%d(t+%d)' % (j+1, i)) for j in range(n_vars)]\n",
    "\t# put it all together\n",
    "\tagg = pd.concat(cols, axis=1)\n",
    "\tagg.columns = names\n",
    "\t# drop rows with NaN values\n",
    "\tif dropnan:\n",
    "\t\tagg.dropna(inplace=True)\n",
    "\treturn agg"
   ]
  },
  {
   "cell_type": "code",
   "execution_count": null,
   "id": "e22c06f1-b044-445d-b54e-72d06782ee35",
   "metadata": {},
   "outputs": [],
   "source": [
    "def train_test_split(df, test_date, target_variable):\n",
    "    # separação por tempo\n",
    "    df_train = df[df.index < test_date]\n",
    "    df_test  = df[df.index >= test_date]\n",
    "\n",
    "    # remoção da variável target\n",
    "    y_train = df_train[target_variable]\n",
    "    y_test  = df_test[target_variable]\n",
    "\n",
    "    df_train = df_train.drop(columns=target_variable).copy()\n",
    "    df_test  = df_test.drop(columns=target_variable).copy()\n",
    "\n",
    "    print(df_train.shape, y_train.shape)\n",
    "    print(df_test.shape, y_test.shape)\n",
    "\n",
    "    return df_train, df_test, y_train, y_test"
   ]
  },
  {
   "cell_type": "code",
   "execution_count": null,
   "id": "d7b2b78f-5fcd-41fd-a037-7c923c7f41c8",
   "metadata": {},
   "outputs": [],
   "source": [
    "def data_normalization(df_train, df_test, y_train, y_test):\n",
    "    # Para as features\n",
    "    scaler               = MinMaxScaler(feature_range=(0, 1))\n",
    "    df_train_scaled      = scaler.fit_transform(df_train)\n",
    "    df_test_scaled       = scaler.transform(df_test)\n",
    "\n",
    "    # Para a variável alvo\n",
    "    scaler_target       = MinMaxScaler(feature_range=(0, 1))\n",
    "    y_train_scaled      = scaler_target.fit_transform(y_train.to_frame())\n",
    "    y_test_scaled       = scaler_target.transform(y_test.to_frame())\n",
    "\n",
    "    print(df_train_scaled.shape, y_train_scaled.shape)\n",
    "    print(df_test_scaled.shape, y_test_scaled.shape)\n",
    "\n",
    "    return scaler, scaler_target, df_train_scaled, df_test_scaled, y_train_scaled, y_test_scaled"
   ]
  },
  {
   "cell_type": "code",
   "execution_count": null,
   "id": "fd2e7e17-198d-416d-8bd9-2485b46f5d7a",
   "metadata": {},
   "outputs": [],
   "source": [
    "def data_reconversion(scaler, scaler_target, df_train_scaled, df_test_scaled, y_train_scaled, y_test_scaled, y_pred):\n",
    "    df_train_original = scaler.inverse_transform(df_train_scaled)\n",
    "    df_test_original = scaler.inverse_transform(df_test_scaled)\n",
    "\n",
    "    y_train_original = scaler_target.inverse_transform(y_train_scaled)\n",
    "    y_test_original = scaler_target.inverse_transform(y_test_scaled)\n",
    "    y_pred_original = scaler_target.inverse_transform(y_pred)\n",
    "\n",
    "    return df_train_original, df_test_original, y_train_original, y_test_original, y_pred_original"
   ]
  },
  {
   "cell_type": "code",
   "execution_count": null,
   "id": "6f7ed204-dff3-4610-ae13-3b4b6d188d1c",
   "metadata": {},
   "outputs": [],
   "source": [
    "def metrics(y, predicted):\n",
    "    mae = mean_absolute_error(y, predicted)\n",
    "    mse = mean_squared_error(y, predicted)\n",
    "    rmse = mean_squared_error(y, predicted)\n",
    "    mape = np.mean(np.abs((y - predicted) / y)) * 100\n",
    "    r2 = r2_score(y, predicted)\n",
    "    return mae, mse, rmse, mape, r2\n",
    "\n",
    "def print_metrics(y, predicted):\n",
    "    mae, mse, rmse, mape, r2 = metrics(y, predicted)\n",
    "    print(f\"Mean Absolute Error (MAE): {mae:.2f}\")\n",
    "    print(f\"Mean Squared Error (MSE): {mse:.2f}\")\n",
    "    print(f\"Root Mean Squared Error (RMSE): {rmse:.2f}\")\n",
    "    print(f\"Mean Absolute Percentage Error (MAPE): {mape:.2f}%\")\n",
    "    print(f\"R-Squared (R²): {r2:.2f}\")"
   ]
  },
  {
   "cell_type": "code",
   "execution_count": null,
   "id": "cc9242c8-74b6-4ac8-83c8-ab835bf9d65f",
   "metadata": {},
   "outputs": [],
   "source": [
    "def build_model(hp):\n",
    "    model = Sequential()\n",
    "    # LSTM layers with variable number of units\n",
    "    model.add(LSTM(units=hp.Int('units_layer1', min_value=10, max_value=100, step=5), input_shape=(train_X.shape[1], train_X.shape[2])))\n",
    "    # model.add(LSTM(units=hp.Int('units_layer2', min_value=10, max_value=100, step=5), return_sequences=True))\n",
    "    # model.add(LSTM(units=hp.Int('units_layer3', min_value=10, max_value=100, step=5)))\n",
    "    model.add(Dense(1))\n",
    "    \n",
    "    model.compile(\n",
    "        optimizer=Adam(hp.Choice('learning_rate', values=[1e-1, 1e-2, 1e-3, 1e-4])),\n",
    "        loss='mse'\n",
    "    )\n",
    "    return model"
   ]
  },
  {
   "cell_type": "markdown",
   "id": "67f34482-b936-4961-87b8-f04de0a18751",
   "metadata": {
    "jp-MarkdownHeadingCollapsed": true
   },
   "source": [
    "# 02.Importing Datasets"
   ]
  },
  {
   "cell_type": "code",
   "execution_count": null,
   "id": "3ed4d93c-b046-487d-97b4-341a0eb255a9",
   "metadata": {},
   "outputs": [],
   "source": [
    "dataset = pd.read_csv('../../Preprocessing/dataset.csv', \n",
    "                   header=0, \n",
    "                   index_col=0,\n",
    "                   usecols=features)\n",
    "\n",
    "dataset"
   ]
  },
  {
   "cell_type": "code",
   "execution_count": null,
   "id": "0aa0d8ae-c422-482b-b54e-f229b5613c8b",
   "metadata": {},
   "outputs": [],
   "source": [
    "dataset.shape"
   ]
  },
  {
   "cell_type": "markdown",
   "id": "dcea2871-53cc-49eb-a9d0-8987203a92ec",
   "metadata": {
    "jp-MarkdownHeadingCollapsed": true
   },
   "source": [
    "# 03.Preprocessing"
   ]
  },
  {
   "cell_type": "markdown",
   "id": "ffb324cf-3bf2-455a-84f5-d3ea0c0fd568",
   "metadata": {
    "jp-MarkdownHeadingCollapsed": true
   },
   "source": [
    "## 03.01 Remoção ano 2000"
   ]
  },
  {
   "cell_type": "code",
   "execution_count": null,
   "id": "66b1015a-6011-44ea-88fb-d1c8a54c8190",
   "metadata": {},
   "outputs": [],
   "source": [
    "dataset = dataset[dataset.index < \"2020-01-01\"]\n",
    "\n",
    "test_start_date = '2017-01-01'"
   ]
  },
  {
   "cell_type": "markdown",
   "id": "040f61da-a1d0-4ba0-b9fb-a8e8efafeb78",
   "metadata": {},
   "source": [
    "# 04.Model training"
   ]
  },
  {
   "cell_type": "markdown",
   "id": "3d2b2684-8837-413d-9017-8d12e0b13b6e",
   "metadata": {
    "jp-MarkdownHeadingCollapsed": true
   },
   "source": [
    "## 04.01 Split train and test"
   ]
  },
  {
   "cell_type": "code",
   "execution_count": null,
   "id": "7d428351-8973-4f43-8b14-15077e429614",
   "metadata": {},
   "outputs": [],
   "source": [
    "df_train, df_test, y_train, y_test = train_test_split(dataset, test_start_date, 'hospitalizations')"
   ]
  },
  {
   "cell_type": "markdown",
   "id": "27b97f56-a01b-48a2-a627-b491bf9a5b13",
   "metadata": {
    "jp-MarkdownHeadingCollapsed": true
   },
   "source": [
    "## 04.02 Normalization"
   ]
  },
  {
   "cell_type": "code",
   "execution_count": null,
   "id": "20cfe4a9-61fb-42ee-aab3-8add8b5b1164",
   "metadata": {},
   "outputs": [],
   "source": [
    "scaler, scaler_target, df_train_scaled, df_test_scaled, y_train_scaled, y_test_scaled = data_normalization(df_train, df_test, y_train, y_test)"
   ]
  },
  {
   "cell_type": "markdown",
   "id": "83217a51-d609-466b-9a2a-cfcd174fa0d5",
   "metadata": {
    "jp-MarkdownHeadingCollapsed": true
   },
   "source": [
    "## 04.03 Reshape input to be 3D [samples, timesteps, features]"
   ]
  },
  {
   "cell_type": "code",
   "execution_count": null,
   "id": "9f46156c-b902-49e2-b5c7-88c8ac74fed9",
   "metadata": {},
   "outputs": [],
   "source": [
    "# reshape input to be 3D [samples, timesteps, features]\n",
    "train_X = df_train_scaled.reshape((df_train_scaled.shape[0], 1, df_train_scaled.shape[1]))\n",
    "test_X = df_test_scaled.reshape((df_test_scaled.shape[0], 1, df_test_scaled.shape[1]))\n",
    "\n",
    "print(train_X.shape, y_train_scaled.shape, test_X.shape, y_test_scaled.shape)"
   ]
  },
  {
   "cell_type": "markdown",
   "id": "3c274b8d-214b-435e-b966-92b908226534",
   "metadata": {},
   "source": [
    "## 04.04 Recurrent network"
   ]
  },
  {
   "cell_type": "code",
   "execution_count": null,
   "id": "cfdfe854-02d0-4d44-8e9c-ced2f9b45773",
   "metadata": {},
   "outputs": [],
   "source": [
    "# Configuring Random Search\n",
    "tuner = RandomSearch(\n",
    "    build_model,\n",
    "    objective='val_loss',\n",
    "    max_trials=10,  # Number of combinations to be tested\n",
    "    executions_per_trial=5,\n",
    "    directory='my_dir',\n",
    "    project_name='lstm_tuning'\n",
    ")\n",
    "\n",
    "early_stopping = EarlyStopping(monitor='val_loss', patience=15, restore_best_weights=True)\n",
    "\n",
    "# Perform the search\n",
    "tuner.search(train_X, y_train_scaled, epochs=50, validation_data=(test_X, y_test_scaled), callbacks=[early_stopping])\n",
    "\n",
    "# Best set of hyperparameters\n",
    "best_hps = tuner.get_best_hyperparameters(num_trials=1)[0]\n",
    "\n",
    "print(f\"Better number of LSTM units in the first layer: {best_hps.get('units_layer1')}\")\n",
    "print(f\"Melhor taxa de aprendizado: {best_hps.get('learning_rate')}\")"
   ]
  },
  {
   "cell_type": "markdown",
   "id": "adb36232-7fcb-481b-844a-f86410ccc966",
   "metadata": {
    "jp-MarkdownHeadingCollapsed": true
   },
   "source": [
    "### 04.04.01 Final Model"
   ]
  },
  {
   "cell_type": "code",
   "execution_count": null,
   "id": "4f781b3b-4ee7-4bec-88ea-e00467d90409",
   "metadata": {},
   "outputs": [],
   "source": [
    "from keras.callbacks import EarlyStopping\n",
    "\n",
    "early_stopping = EarlyStopping(monitor='val_loss', patience=15, restore_best_weights=True)\n",
    "\n",
    "optimizer = Adam(learning_rate=0.01)\n",
    "\n",
    "# design network\n",
    "model = Sequential()\n",
    "model.add(LSTM(20, return_sequences=True, input_shape=(train_X.shape[1], train_X.shape[2])))\n",
    "model.add(LSTM(50, return_sequences=True))\n",
    "model.add(LSTM(20))\n",
    "model.add(Dense(1))\n",
    "model.compile(loss='mse', optimizer=optimizer)\n",
    "\n",
    "# fit network\n",
    "history = model.fit(train_X, \n",
    "                    y_train_scaled, \n",
    "                    epochs=150, \n",
    "                    batch_size=12, \n",
    "                    validation_data=(test_X, y_test_scaled), \n",
    "                    verbose=2, \n",
    "                    callbacks=[early_stopping],\n",
    "                    shuffle=False)\n",
    "\n",
    "# plot history\n",
    "pyplot.plot(history.history['loss'], label='train')\n",
    "pyplot.plot(history.history['val_loss'], label='test')\n",
    "pyplot.legend()\n",
    "pyplot.show()\n"
   ]
  },
  {
   "cell_type": "code",
   "execution_count": null,
   "id": "4a440f3e-bd02-4049-87a7-0ac9dc77ba21",
   "metadata": {},
   "outputs": [],
   "source": [
    "model.summary()"
   ]
  },
  {
   "cell_type": "markdown",
   "id": "777e6d28-db4a-4b4e-8b9d-556c9bdbc3bd",
   "metadata": {
    "jp-MarkdownHeadingCollapsed": true
   },
   "source": [
    "### 04.04.02 Prediction"
   ]
  },
  {
   "cell_type": "code",
   "execution_count": null,
   "id": "acce2f3e-a406-42c7-b1fc-82f1e72e0b26",
   "metadata": {},
   "outputs": [],
   "source": [
    "# make a prediction\n",
    "yhat = model.predict(test_X)\n",
    "test_X = test_X.reshape((test_X.shape[0], test_X.shape[2]))\n",
    "\n",
    "# invert scaling for forecast\n",
    "y_pred = np.concatenate((yhat, test_X[:, 1:]), axis=1)\n",
    "y_pred = scaler_target.inverse_transform(y_pred)\n",
    "y_pred = y_pred[:,0]\n",
    "\n",
    "# invert scaling for actual\n",
    "test_y = y_test_scaled.reshape((len(y_test_scaled), 1))\n",
    "inv_y = np.concatenate((test_y, test_X[:, 1:]), axis=1)\n",
    "inv_y = scaler_target.inverse_transform(inv_y)\n",
    "inv_y = inv_y[:,0]\n",
    "\n",
    "# calculate RMSE\n",
    "print_metrics(inv_y, y_pred)"
   ]
  },
  {
   "cell_type": "markdown",
   "id": "63b323aa-6037-4f37-9d15-f9e029faac9d",
   "metadata": {
    "jp-MarkdownHeadingCollapsed": true
   },
   "source": [
    "### 04.04.03 Plot"
   ]
  },
  {
   "cell_type": "code",
   "execution_count": null,
   "id": "24b22097-a808-4162-b7ae-a9346afac465",
   "metadata": {},
   "outputs": [],
   "source": [
    "index_train = pd.to_datetime(dataset.index)\n",
    "index_test = dataset.tail(len(y_pred)).index\n",
    "\n",
    "plt.figure(figsize=(12, 6))\n",
    "plt.plot(dataset.index, dataset['hospitalizations'], label='Train')\n",
    "plt.plot(index_test, inv_y, color='green', label='Test')\n",
    "plt.plot(index_test, y_pred, color='red', label='Predicted')\n",
    "plt.title(\"Actual vs predicted\")\n",
    "plt.xlabel('years')\n",
    "plt.ylabel('mortality_rate')\n",
    "plt.grid(True)\n",
    "plt.legend()\n",
    "plt.xticks(rotation=90)\n",
    "plt.tight_layout()\n",
    "plt.show()"
   ]
  }
 ],
 "metadata": {
  "kernelspec": {
   "display_name": "Python 3 (ipykernel)",
   "language": "python",
   "name": "python3"
  },
  "language_info": {
   "codemirror_mode": {
    "name": "ipython",
    "version": 3
   },
   "file_extension": ".py",
   "mimetype": "text/x-python",
   "name": "python",
   "nbconvert_exporter": "python",
   "pygments_lexer": "ipython3",
   "version": "3.10.12"
  }
 },
 "nbformat": 4,
 "nbformat_minor": 5
}
