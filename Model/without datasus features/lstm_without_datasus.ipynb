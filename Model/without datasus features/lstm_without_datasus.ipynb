{
 "cells": [
  {
   "cell_type": "markdown",
   "id": "f6b4692a-aa85-4d68-bdd6-2016769c9757",
   "metadata": {
    "jp-MarkdownHeadingCollapsed": true
   },
   "source": [
    "# 00.Importing Libraries"
   ]
  },
  {
   "cell_type": "code",
   "execution_count": 1,
   "id": "f0589ad1-f2b5-4bc9-8430-2a6c40378d13",
   "metadata": {},
   "outputs": [
    {
     "name": "stderr",
     "output_type": "stream",
     "text": [
      "2024-12-15 14:49:01.392441: I external/local_xla/xla/tsl/cuda/cudart_stub.cc:32] Could not find cuda drivers on your machine, GPU will not be used.\n",
      "2024-12-15 14:49:01.619955: I external/local_xla/xla/tsl/cuda/cudart_stub.cc:32] Could not find cuda drivers on your machine, GPU will not be used.\n",
      "2024-12-15 14:49:01.905078: E external/local_xla/xla/stream_executor/cuda/cuda_fft.cc:485] Unable to register cuFFT factory: Attempting to register factory for plugin cuFFT when one has already been registered\n",
      "2024-12-15 14:49:02.085229: E external/local_xla/xla/stream_executor/cuda/cuda_dnn.cc:8454] Unable to register cuDNN factory: Attempting to register factory for plugin cuDNN when one has already been registered\n",
      "2024-12-15 14:49:02.137305: E external/local_xla/xla/stream_executor/cuda/cuda_blas.cc:1452] Unable to register cuBLAS factory: Attempting to register factory for plugin cuBLAS when one has already been registered\n",
      "2024-12-15 14:49:02.470780: I tensorflow/core/platform/cpu_feature_guard.cc:210] This TensorFlow binary is optimized to use available CPU instructions in performance-critical operations.\n",
      "To enable the following instructions: AVX2 FMA, in other operations, rebuild TensorFlow with the appropriate compiler flags.\n",
      "2024-12-15 14:49:04.190677: W tensorflow/compiler/tf2tensorrt/utils/py_utils.cc:38] TF-TRT Warning: Could not find TensorRT\n"
     ]
    }
   ],
   "source": [
    "import numpy as np\n",
    "import matplotlib.pyplot as plt\n",
    "import pandas as pd\n",
    "\n",
    "from math import sqrt\n",
    "from matplotlib import pyplot\n",
    "from keras.layers import LSTM\n",
    "from keras.layers import Dense\n",
    "from keras.optimizers import Adam\n",
    "from keras.models import Sequential\n",
    "from keras_tuner import RandomSearch\n",
    "from keras.callbacks import EarlyStopping\n",
    "from sklearn.preprocessing import MinMaxScaler\n",
    "from sklearn.metrics import mean_squared_error\n",
    "from sklearn.preprocessing import LabelEncoder\n",
    "from sklearn.metrics import mean_absolute_error, mean_squared_error, r2_score"
   ]
  },
  {
   "cell_type": "markdown",
   "id": "4e38e817-e14a-4ea1-8fba-daf6dd06bfe3",
   "metadata": {},
   "source": [
    "# 01.Helpers"
   ]
  },
  {
   "cell_type": "markdown",
   "id": "8e23448b-9c27-4954-97e3-b0094d6cef32",
   "metadata": {
    "jp-MarkdownHeadingCollapsed": true
   },
   "source": [
    "## 01.01 Constants"
   ]
  },
  {
   "cell_type": "code",
   "execution_count": 2,
   "id": "49d87d56-96c1-4366-a634-cf0310eda6f5",
   "metadata": {},
   "outputs": [],
   "source": [
    "features = ['date', 'hospitalizations', 'heat_index', 'heat_index_sum', 'heat_index_std', 'heat_index99','heat_index95', 'temperature_mean', 'temperature_max',\n",
    "           'temperature_min', 'wind_speed_mean', 'humidity_mean','lag_heat_index_1', 'lag_heat_index_2', 'lag_heat_index_3']"
   ]
  },
  {
   "cell_type": "code",
   "execution_count": 3,
   "id": "e43dc47d-55e8-47f5-9aff-7bd0cdc093ff",
   "metadata": {},
   "outputs": [],
   "source": [
    "test_start_date = \"2017-01-01\""
   ]
  },
  {
   "cell_type": "markdown",
   "id": "5bd56694-e132-479d-a720-17a7dd97c3cd",
   "metadata": {
    "jp-MarkdownHeadingCollapsed": true
   },
   "source": [
    "## 01.02 Functions"
   ]
  },
  {
   "cell_type": "code",
   "execution_count": 4,
   "id": "bbb0a1d7-2f52-4664-9741-486ee7e7f010",
   "metadata": {},
   "outputs": [],
   "source": [
    "# convert series to supervised learning\n",
    "def series_to_supervised(data, n_in=1, n_out=1, dropnan=True):\n",
    "\tn_vars = 1 if type(data) is list else data.shape[1]\n",
    "\tdf = pd.DataFrame(data)\n",
    "\tcols, names = list(), list()\n",
    "\t# input sequence (t-n, ... t-1)\n",
    "\tfor i in range(n_in, 0, -1):\n",
    "\t\tcols.append(df.shift(i))\n",
    "\t\tnames += [('var%d(t-%d)' % (j+1, i)) for j in range(n_vars)]\n",
    "\t# forecast sequence (t, t+1, ... t+n)\n",
    "\tfor i in range(0, n_out):\n",
    "\t\tcols.append(df.shift(-i))\n",
    "\t\tif i == 0:\n",
    "\t\t\tnames += [('var%d(t)' % (j+1)) for j in range(n_vars)]\n",
    "\t\telse:\n",
    "\t\t\tnames += [('var%d(t+%d)' % (j+1, i)) for j in range(n_vars)]\n",
    "\t# put it all together\n",
    "\tagg = pd.concat(cols, axis=1)\n",
    "\tagg.columns = names\n",
    "\t# drop rows with NaN values\n",
    "\tif dropnan:\n",
    "\t\tagg.dropna(inplace=True)\n",
    "\treturn agg"
   ]
  },
  {
   "cell_type": "code",
   "execution_count": 5,
   "id": "e22c06f1-b044-445d-b54e-72d06782ee35",
   "metadata": {},
   "outputs": [],
   "source": [
    "def train_test_split(df, test_date, target_variable):\n",
    "    # separação por tempo\n",
    "    df_train = df[df.index < test_date]\n",
    "    df_test  = df[df.index >= test_date]\n",
    "\n",
    "    # remoção da variável target\n",
    "    y_train = df_train[target_variable]\n",
    "    y_test  = df_test[target_variable]\n",
    "\n",
    "    df_train = df_train.drop(columns=target_variable).copy()\n",
    "    df_test  = df_test.drop(columns=target_variable).copy()\n",
    "\n",
    "    print(df_train.shape, y_train.shape)\n",
    "    print(df_test.shape, y_test.shape)\n",
    "\n",
    "    return df_train, df_test, y_train, y_test"
   ]
  },
  {
   "cell_type": "code",
   "execution_count": 6,
   "id": "d7b2b78f-5fcd-41fd-a037-7c923c7f41c8",
   "metadata": {},
   "outputs": [],
   "source": [
    "def data_normalization(df_train, df_test, y_train, y_test):\n",
    "    # Para as features\n",
    "    scaler               = MinMaxScaler(feature_range=(0, 1))\n",
    "    df_train_scaled      = scaler.fit_transform(df_train)\n",
    "    df_test_scaled       = scaler.transform(df_test)\n",
    "\n",
    "    # Para a variável alvo\n",
    "    scaler_target       = MinMaxScaler(feature_range=(0, 1))\n",
    "    y_train_scaled      = scaler_target.fit_transform(y_train.to_frame())\n",
    "    y_test_scaled       = scaler_target.transform(y_test.to_frame())\n",
    "\n",
    "    print(df_train_scaled.shape, y_train_scaled.shape)\n",
    "    print(df_test_scaled.shape, y_test_scaled.shape)\n",
    "\n",
    "    return scaler, scaler_target, df_train_scaled, df_test_scaled, y_train_scaled, y_test_scaled"
   ]
  },
  {
   "cell_type": "code",
   "execution_count": 7,
   "id": "fd2e7e17-198d-416d-8bd9-2485b46f5d7a",
   "metadata": {},
   "outputs": [],
   "source": [
    "def data_reconversion(scaler, scaler_target, df_train_scaled, df_test_scaled, y_train_scaled, y_test_scaled, y_pred):\n",
    "    df_train_original = scaler.inverse_transform(df_train_scaled)\n",
    "    df_test_original = scaler.inverse_transform(df_test_scaled)\n",
    "\n",
    "    y_train_original = scaler_target.inverse_transform(y_train_scaled)\n",
    "    y_test_original = scaler_target.inverse_transform(y_test_scaled)\n",
    "    y_pred_original = scaler_target.inverse_transform(y_pred)\n",
    "\n",
    "    return df_train_original, df_test_original, y_train_original, y_test_original, y_pred_original"
   ]
  },
  {
   "cell_type": "code",
   "execution_count": 8,
   "id": "6f7ed204-dff3-4610-ae13-3b4b6d188d1c",
   "metadata": {},
   "outputs": [],
   "source": [
    "def metrics(y, predicted):\n",
    "    mae = mean_absolute_error(y, predicted)\n",
    "    mse = mean_squared_error(y, predicted)\n",
    "    rmse = np.sqrt(mean_squared_error(y, predicted))\n",
    "    mape = np.mean(np.abs((y - predicted) / y)) * 100\n",
    "    r2 = r2_score(y, predicted)\n",
    "    return mae, mse, rmse, mape, r2\n",
    "\n",
    "def print_metrics(y, predicted):\n",
    "    mae, mse, rmse, mape, r2 = metrics(y, predicted)\n",
    "    print(f\"Mean Absolute Error (MAE): {mae:.2f}\")\n",
    "    print(f\"Mean Squared Error (MSE): {mse:.2f}\")\n",
    "    print(f\"Root Mean Squared Error (RMSE): {rmse:.2f}\")\n",
    "    print(f\"Mean Absolute Percentage Error (MAPE): {mape:.2f}%\")\n",
    "    print(f\"R-Squared (R²): {r2:.2f}\")"
   ]
  },
  {
   "cell_type": "code",
   "execution_count": 9,
   "id": "cc9242c8-74b6-4ac8-83c8-ab835bf9d65f",
   "metadata": {},
   "outputs": [],
   "source": [
    "def build_model(hp):\n",
    "    model = Sequential()\n",
    "    \n",
    "    # LSTM layers with variable number of units\n",
    "    model.add(LSTM(units=hp.Int('units_layer1', min_value=10, max_value=100, step=5), input_shape=(train_X.shape[1], train_X.shape[2])))\n",
    "    model.add(Dense(1))\n",
    "    \n",
    "    model.compile(\n",
    "        optimizer=Adam(hp.Choice('learning_rate', values=[1e-1, 1e-2, 1e-3, 1e-4])),\n",
    "        loss='mse'\n",
    "    )\n",
    "    return model"
   ]
  },
  {
   "cell_type": "code",
   "execution_count": 10,
   "id": "a798d7e9-6715-429b-9e76-759c588603fb",
   "metadata": {},
   "outputs": [],
   "source": [
    "def permutation_importance(model, X_test, y_test, metric=mean_squared_error):\n",
    "    \"\"\"\n",
    "    Calculates feature importance using Permutation Importance.\n",
    "    \n",
    "    Parameters:\n",
    "        model: Trained model (e.g., LSTM).\n",
    "        X_test: Test data (shape: samples, timesteps, features).\n",
    "        y_test: Ground truth values corresponding to the test set.\n",
    "        metric: Metric function to evaluate the model's performance.\n",
    "    \n",
    "    Returns:\n",
    "        importances: Calculated importance for each feature.\n",
    "    \"\"\"\n",
    "    baseline_score = metric(y_test, model.predict(X_test))  # Original performance score\n",
    "    importances = []\n",
    "\n",
    "    # Iterate over each feature\n",
    "    for i in range(X_test.shape[2]):\n",
    "        X_test_permuted = X_test.copy()\n",
    "        # Permute the values of feature i while maintaining the temporal structure\n",
    "        for j in range(X_test.shape[0]):  # For each sample\n",
    "            np.random.shuffle(X_test_permuted[j, :, i])\n",
    "\n",
    "        # Calculate the new performance score\n",
    "        permuted_score = metric(y_test, model.predict(X_test_permuted))\n",
    "        # Importance = difference between the original and permuted performance scores\n",
    "        importance = permuted_score - baseline_score\n",
    "        importances.append(importance)\n",
    "    \n",
    "    return np.array(importances)"
   ]
  },
  {
   "cell_type": "code",
   "execution_count": 11,
   "id": "d1f4a2c3-f3c4-4414-80fa-e6c2ced0af2c",
   "metadata": {},
   "outputs": [],
   "source": [
    "# Assume 'importances' contains the feature importances and 'feature_names' the names of the features\n",
    "def plot_permutation_importance(importances, feature_names):\n",
    "    \"\"\"\n",
    "    Plots feature importances as a bar chart.\n",
    "    \n",
    "    Parameters:\n",
    "        importances: Calculated importance for each feature (array).\n",
    "        feature_names: List containing the names of the features.\n",
    "    \"\"\"\n",
    "    # Sort the importances and feature names\n",
    "    sorted_idx = np.argsort(importances)  # Indices of the sorted importances\n",
    "    sorted_importances = importances[sorted_idx]\n",
    "    sorted_features = [feature_names[i] for i in sorted_idx]\n",
    "\n",
    "    # Plot the bar chart\n",
    "    plt.figure(figsize=(10, 6))\n",
    "    plt.barh(sorted_features, sorted_importances, color=\"skyblue\")\n",
    "    plt.xlabel(\"Feature Importance (Permutation)\")\n",
    "    plt.title(\"Permutation Feature Importance for LSTM Model\")\n",
    "    plt.grid(axis=\"x\", linestyle=\"--\", alpha=0.5)\n",
    "    plt.show()"
   ]
  },
  {
   "cell_type": "markdown",
   "id": "67f34482-b936-4961-87b8-f04de0a18751",
   "metadata": {
    "jp-MarkdownHeadingCollapsed": true
   },
   "source": [
    "# 02.Importing Datasets"
   ]
  },
  {
   "cell_type": "code",
   "execution_count": 12,
   "id": "3ed4d93c-b046-487d-97b4-341a0eb255a9",
   "metadata": {},
   "outputs": [
    {
     "data": {
      "text/html": [
       "<div>\n",
       "<style scoped>\n",
       "    .dataframe tbody tr th:only-of-type {\n",
       "        vertical-align: middle;\n",
       "    }\n",
       "\n",
       "    .dataframe tbody tr th {\n",
       "        vertical-align: top;\n",
       "    }\n",
       "\n",
       "    .dataframe thead th {\n",
       "        text-align: right;\n",
       "    }\n",
       "</style>\n",
       "<table border=\"1\" class=\"dataframe\">\n",
       "  <thead>\n",
       "    <tr style=\"text-align: right;\">\n",
       "      <th></th>\n",
       "      <th>hospitalizations</th>\n",
       "      <th>heat_index</th>\n",
       "      <th>heat_index_sum</th>\n",
       "      <th>heat_index_std</th>\n",
       "      <th>heat_index99</th>\n",
       "      <th>heat_index95</th>\n",
       "      <th>temperature_mean</th>\n",
       "      <th>temperature_max</th>\n",
       "      <th>temperature_min</th>\n",
       "      <th>wind_speed_mean</th>\n",
       "      <th>humidity_mean</th>\n",
       "      <th>lag_heat_index_1</th>\n",
       "      <th>lag_heat_index_2</th>\n",
       "      <th>lag_heat_index_3</th>\n",
       "    </tr>\n",
       "    <tr>\n",
       "      <th>date</th>\n",
       "      <th></th>\n",
       "      <th></th>\n",
       "      <th></th>\n",
       "      <th></th>\n",
       "      <th></th>\n",
       "      <th></th>\n",
       "      <th></th>\n",
       "      <th></th>\n",
       "      <th></th>\n",
       "      <th></th>\n",
       "      <th></th>\n",
       "      <th></th>\n",
       "      <th></th>\n",
       "      <th></th>\n",
       "    </tr>\n",
       "  </thead>\n",
       "  <tbody>\n",
       "    <tr>\n",
       "      <th>2000-12-01</th>\n",
       "      <td>4266.0</td>\n",
       "      <td>24.154261</td>\n",
       "      <td>17970.77</td>\n",
       "      <td>4.999719</td>\n",
       "      <td>37.8966</td>\n",
       "      <td>33.5380</td>\n",
       "      <td>23.575000</td>\n",
       "      <td>35.4</td>\n",
       "      <td>13.4</td>\n",
       "      <td>1.826613</td>\n",
       "      <td>70.836022</td>\n",
       "      <td>21.132403</td>\n",
       "      <td>19.318992</td>\n",
       "      <td>15.300694</td>\n",
       "    </tr>\n",
       "    <tr>\n",
       "      <th>2001-01-01</th>\n",
       "      <td>4032.0</td>\n",
       "      <td>26.316156</td>\n",
       "      <td>19579.22</td>\n",
       "      <td>4.452698</td>\n",
       "      <td>37.8471</td>\n",
       "      <td>34.6685</td>\n",
       "      <td>25.136962</td>\n",
       "      <td>35.4</td>\n",
       "      <td>17.0</td>\n",
       "      <td>1.777016</td>\n",
       "      <td>75.375000</td>\n",
       "      <td>24.154261</td>\n",
       "      <td>21.132403</td>\n",
       "      <td>19.318992</td>\n",
       "    </tr>\n",
       "    <tr>\n",
       "      <th>2001-02-01</th>\n",
       "      <td>3888.0</td>\n",
       "      <td>27.119464</td>\n",
       "      <td>18224.28</td>\n",
       "      <td>4.274063</td>\n",
       "      <td>37.7548</td>\n",
       "      <td>35.3940</td>\n",
       "      <td>25.691071</td>\n",
       "      <td>34.2</td>\n",
       "      <td>20.2</td>\n",
       "      <td>1.916518</td>\n",
       "      <td>76.424107</td>\n",
       "      <td>26.316156</td>\n",
       "      <td>24.154261</td>\n",
       "      <td>21.132403</td>\n",
       "    </tr>\n",
       "    <tr>\n",
       "      <th>2001-03-01</th>\n",
       "      <td>3658.0</td>\n",
       "      <td>26.113387</td>\n",
       "      <td>19428.36</td>\n",
       "      <td>4.220196</td>\n",
       "      <td>36.7670</td>\n",
       "      <td>34.4155</td>\n",
       "      <td>24.985349</td>\n",
       "      <td>34.4</td>\n",
       "      <td>16.3</td>\n",
       "      <td>1.629704</td>\n",
       "      <td>76.383065</td>\n",
       "      <td>27.119464</td>\n",
       "      <td>26.316156</td>\n",
       "      <td>24.154261</td>\n",
       "    </tr>\n",
       "    <tr>\n",
       "      <th>2001-04-01</th>\n",
       "      <td>4022.0</td>\n",
       "      <td>21.383903</td>\n",
       "      <td>15396.41</td>\n",
       "      <td>3.427034</td>\n",
       "      <td>31.0030</td>\n",
       "      <td>28.0215</td>\n",
       "      <td>21.038333</td>\n",
       "      <td>30.8</td>\n",
       "      <td>11.9</td>\n",
       "      <td>1.455139</td>\n",
       "      <td>81.152778</td>\n",
       "      <td>26.113387</td>\n",
       "      <td>27.119464</td>\n",
       "      <td>26.316156</td>\n",
       "    </tr>\n",
       "    <tr>\n",
       "      <th>...</th>\n",
       "      <td>...</td>\n",
       "      <td>...</td>\n",
       "      <td>...</td>\n",
       "      <td>...</td>\n",
       "      <td>...</td>\n",
       "      <td>...</td>\n",
       "      <td>...</td>\n",
       "      <td>...</td>\n",
       "      <td>...</td>\n",
       "      <td>...</td>\n",
       "      <td>...</td>\n",
       "      <td>...</td>\n",
       "      <td>...</td>\n",
       "      <td>...</td>\n",
       "    </tr>\n",
       "    <tr>\n",
       "      <th>2024-05-01</th>\n",
       "      <td>3172.0</td>\n",
       "      <td>16.708185</td>\n",
       "      <td>12430.89</td>\n",
       "      <td>5.357643</td>\n",
       "      <td>33.1822</td>\n",
       "      <td>27.3330</td>\n",
       "      <td>16.684946</td>\n",
       "      <td>32.5</td>\n",
       "      <td>7.1</td>\n",
       "      <td>1.345027</td>\n",
       "      <td>85.837366</td>\n",
       "      <td>22.136556</td>\n",
       "      <td>25.621075</td>\n",
       "      <td>27.636221</td>\n",
       "    </tr>\n",
       "    <tr>\n",
       "      <th>2024-06-01</th>\n",
       "      <td>3640.0</td>\n",
       "      <td>17.283889</td>\n",
       "      <td>12444.40</td>\n",
       "      <td>5.390826</td>\n",
       "      <td>29.7834</td>\n",
       "      <td>26.8025</td>\n",
       "      <td>17.371111</td>\n",
       "      <td>31.5</td>\n",
       "      <td>4.6</td>\n",
       "      <td>1.265139</td>\n",
       "      <td>80.636111</td>\n",
       "      <td>16.708185</td>\n",
       "      <td>22.136556</td>\n",
       "      <td>25.621075</td>\n",
       "    </tr>\n",
       "    <tr>\n",
       "      <th>2024-07-01</th>\n",
       "      <td>3689.0</td>\n",
       "      <td>13.313495</td>\n",
       "      <td>9905.24</td>\n",
       "      <td>4.740495</td>\n",
       "      <td>26.8167</td>\n",
       "      <td>21.7780</td>\n",
       "      <td>13.736022</td>\n",
       "      <td>28.9</td>\n",
       "      <td>3.4</td>\n",
       "      <td>1.123387</td>\n",
       "      <td>81.887097</td>\n",
       "      <td>17.283889</td>\n",
       "      <td>16.708185</td>\n",
       "      <td>22.136556</td>\n",
       "    </tr>\n",
       "    <tr>\n",
       "      <th>2024-08-01</th>\n",
       "      <td>3846.0</td>\n",
       "      <td>15.274395</td>\n",
       "      <td>11364.15</td>\n",
       "      <td>5.299870</td>\n",
       "      <td>28.9485</td>\n",
       "      <td>24.4525</td>\n",
       "      <td>15.594758</td>\n",
       "      <td>31.1</td>\n",
       "      <td>4.5</td>\n",
       "      <td>1.394892</td>\n",
       "      <td>78.956989</td>\n",
       "      <td>13.313495</td>\n",
       "      <td>17.283889</td>\n",
       "      <td>16.708185</td>\n",
       "    </tr>\n",
       "    <tr>\n",
       "      <th>2024-09-01</th>\n",
       "      <td>3426.0</td>\n",
       "      <td>18.789722</td>\n",
       "      <td>13528.60</td>\n",
       "      <td>4.423471</td>\n",
       "      <td>31.8239</td>\n",
       "      <td>26.9330</td>\n",
       "      <td>18.740278</td>\n",
       "      <td>33.7</td>\n",
       "      <td>9.0</td>\n",
       "      <td>1.534722</td>\n",
       "      <td>80.148611</td>\n",
       "      <td>15.274395</td>\n",
       "      <td>13.313495</td>\n",
       "      <td>17.283889</td>\n",
       "    </tr>\n",
       "  </tbody>\n",
       "</table>\n",
       "<p>286 rows × 14 columns</p>\n",
       "</div>"
      ],
      "text/plain": [
       "            hospitalizations  heat_index  heat_index_sum  heat_index_std  \\\n",
       "date                                                                       \n",
       "2000-12-01            4266.0   24.154261        17970.77        4.999719   \n",
       "2001-01-01            4032.0   26.316156        19579.22        4.452698   \n",
       "2001-02-01            3888.0   27.119464        18224.28        4.274063   \n",
       "2001-03-01            3658.0   26.113387        19428.36        4.220196   \n",
       "2001-04-01            4022.0   21.383903        15396.41        3.427034   \n",
       "...                      ...         ...             ...             ...   \n",
       "2024-05-01            3172.0   16.708185        12430.89        5.357643   \n",
       "2024-06-01            3640.0   17.283889        12444.40        5.390826   \n",
       "2024-07-01            3689.0   13.313495         9905.24        4.740495   \n",
       "2024-08-01            3846.0   15.274395        11364.15        5.299870   \n",
       "2024-09-01            3426.0   18.789722        13528.60        4.423471   \n",
       "\n",
       "            heat_index99  heat_index95  temperature_mean  temperature_max  \\\n",
       "date                                                                        \n",
       "2000-12-01       37.8966       33.5380         23.575000             35.4   \n",
       "2001-01-01       37.8471       34.6685         25.136962             35.4   \n",
       "2001-02-01       37.7548       35.3940         25.691071             34.2   \n",
       "2001-03-01       36.7670       34.4155         24.985349             34.4   \n",
       "2001-04-01       31.0030       28.0215         21.038333             30.8   \n",
       "...                  ...           ...               ...              ...   \n",
       "2024-05-01       33.1822       27.3330         16.684946             32.5   \n",
       "2024-06-01       29.7834       26.8025         17.371111             31.5   \n",
       "2024-07-01       26.8167       21.7780         13.736022             28.9   \n",
       "2024-08-01       28.9485       24.4525         15.594758             31.1   \n",
       "2024-09-01       31.8239       26.9330         18.740278             33.7   \n",
       "\n",
       "            temperature_min  wind_speed_mean  humidity_mean  lag_heat_index_1  \\\n",
       "date                                                                            \n",
       "2000-12-01             13.4         1.826613      70.836022         21.132403   \n",
       "2001-01-01             17.0         1.777016      75.375000         24.154261   \n",
       "2001-02-01             20.2         1.916518      76.424107         26.316156   \n",
       "2001-03-01             16.3         1.629704      76.383065         27.119464   \n",
       "2001-04-01             11.9         1.455139      81.152778         26.113387   \n",
       "...                     ...              ...            ...               ...   \n",
       "2024-05-01              7.1         1.345027      85.837366         22.136556   \n",
       "2024-06-01              4.6         1.265139      80.636111         16.708185   \n",
       "2024-07-01              3.4         1.123387      81.887097         17.283889   \n",
       "2024-08-01              4.5         1.394892      78.956989         13.313495   \n",
       "2024-09-01              9.0         1.534722      80.148611         15.274395   \n",
       "\n",
       "            lag_heat_index_2  lag_heat_index_3  \n",
       "date                                            \n",
       "2000-12-01         19.318992         15.300694  \n",
       "2001-01-01         21.132403         19.318992  \n",
       "2001-02-01         24.154261         21.132403  \n",
       "2001-03-01         26.316156         24.154261  \n",
       "2001-04-01         27.119464         26.316156  \n",
       "...                      ...               ...  \n",
       "2024-05-01         25.621075         27.636221  \n",
       "2024-06-01         22.136556         25.621075  \n",
       "2024-07-01         16.708185         22.136556  \n",
       "2024-08-01         17.283889         16.708185  \n",
       "2024-09-01         13.313495         17.283889  \n",
       "\n",
       "[286 rows x 14 columns]"
      ]
     },
     "execution_count": 12,
     "metadata": {},
     "output_type": "execute_result"
    }
   ],
   "source": [
    "dataset = pd.read_csv('../../Preprocessing/dataset.csv', \n",
    "                   header=0, \n",
    "                   index_col=0,\n",
    "                   usecols=features)\n",
    "\n",
    "dataset"
   ]
  },
  {
   "cell_type": "code",
   "execution_count": 13,
   "id": "0aa0d8ae-c422-482b-b54e-f229b5613c8b",
   "metadata": {},
   "outputs": [
    {
     "data": {
      "text/plain": [
       "(286, 14)"
      ]
     },
     "execution_count": 13,
     "metadata": {},
     "output_type": "execute_result"
    }
   ],
   "source": [
    "dataset.shape"
   ]
  },
  {
   "cell_type": "markdown",
   "id": "dcea2871-53cc-49eb-a9d0-8987203a92ec",
   "metadata": {
    "jp-MarkdownHeadingCollapsed": true
   },
   "source": [
    "# 03.Preprocessing"
   ]
  },
  {
   "cell_type": "markdown",
   "id": "ffb324cf-3bf2-455a-84f5-d3ea0c0fd568",
   "metadata": {
    "jp-MarkdownHeadingCollapsed": true
   },
   "source": [
    "## 03.01 Remoção ano 2000"
   ]
  },
  {
   "cell_type": "code",
   "execution_count": 14,
   "id": "66b1015a-6011-44ea-88fb-d1c8a54c8190",
   "metadata": {},
   "outputs": [],
   "source": [
    "dataset = dataset[dataset.index < \"2020-01-01\"]\n",
    "\n",
    "dataset.index = pd.to_datetime(dataset.index)\n",
    "\n",
    "test_start_date = '2017-01-01'"
   ]
  },
  {
   "cell_type": "markdown",
   "id": "040f61da-a1d0-4ba0-b9fb-a8e8efafeb78",
   "metadata": {},
   "source": [
    "# 04.Model training"
   ]
  },
  {
   "cell_type": "markdown",
   "id": "3d2b2684-8837-413d-9017-8d12e0b13b6e",
   "metadata": {
    "jp-MarkdownHeadingCollapsed": true
   },
   "source": [
    "## 04.01 Split train and test"
   ]
  },
  {
   "cell_type": "code",
   "execution_count": 15,
   "id": "7d428351-8973-4f43-8b14-15077e429614",
   "metadata": {},
   "outputs": [
    {
     "name": "stdout",
     "output_type": "stream",
     "text": [
      "(193, 13) (193,)\n",
      "(36, 13) (36,)\n"
     ]
    }
   ],
   "source": [
    "df_train, df_test, y_train, y_test = train_test_split(dataset, test_start_date, 'hospitalizations')"
   ]
  },
  {
   "cell_type": "markdown",
   "id": "27b97f56-a01b-48a2-a627-b491bf9a5b13",
   "metadata": {
    "jp-MarkdownHeadingCollapsed": true
   },
   "source": [
    "## 04.02 Normalization"
   ]
  },
  {
   "cell_type": "code",
   "execution_count": 16,
   "id": "20cfe4a9-61fb-42ee-aab3-8add8b5b1164",
   "metadata": {},
   "outputs": [
    {
     "name": "stdout",
     "output_type": "stream",
     "text": [
      "(193, 13) (193, 1)\n",
      "(36, 13) (36, 1)\n"
     ]
    }
   ],
   "source": [
    "scaler, scaler_target, df_train_scaled, df_test_scaled, y_train_scaled, y_test_scaled = data_normalization(df_train, df_test, y_train, y_test)"
   ]
  },
  {
   "cell_type": "markdown",
   "id": "83217a51-d609-466b-9a2a-cfcd174fa0d5",
   "metadata": {
    "jp-MarkdownHeadingCollapsed": true
   },
   "source": [
    "## 04.03 Reshape input to be 3D [samples, timesteps, features]"
   ]
  },
  {
   "cell_type": "code",
   "execution_count": 17,
   "id": "9f46156c-b902-49e2-b5c7-88c8ac74fed9",
   "metadata": {},
   "outputs": [
    {
     "name": "stdout",
     "output_type": "stream",
     "text": [
      "(193, 1, 13) (193, 1) (36, 1, 13) (36, 1)\n"
     ]
    }
   ],
   "source": [
    "# reshape input to be 3D [samples, timesteps, features]\n",
    "train_X = df_train_scaled.reshape((df_train_scaled.shape[0], 1, df_train_scaled.shape[1]))\n",
    "test_X = df_test_scaled.reshape((df_test_scaled.shape[0], 1, df_test_scaled.shape[1]))\n",
    "\n",
    "print(train_X.shape, y_train_scaled.shape, test_X.shape, y_test_scaled.shape)"
   ]
  },
  {
   "cell_type": "markdown",
   "id": "3c274b8d-214b-435e-b966-92b908226534",
   "metadata": {},
   "source": [
    "## 04.04 Recurrent network"
   ]
  },
  {
   "cell_type": "code",
   "execution_count": 18,
   "id": "cfdfe854-02d0-4d44-8e9c-ced2f9b45773",
   "metadata": {},
   "outputs": [
    {
     "name": "stdout",
     "output_type": "stream",
     "text": [
      "Reloading Tuner from my_dir/lstm_tuning/tuner0.json\n",
      "Better number of LSTM units in the first layer: 80\n",
      "Melhor taxa de aprendizado: 0.1\n"
     ]
    }
   ],
   "source": [
    "# Configuring Random Search\n",
    "tuner = RandomSearch(\n",
    "    build_model,\n",
    "    objective='val_loss',\n",
    "    max_trials=10,  # Number of combinations to be tested\n",
    "    executions_per_trial=5,\n",
    "    directory='my_dir',\n",
    "    project_name='lstm_tuning'\n",
    ")\n",
    "\n",
    "early_stopping = EarlyStopping(monitor='val_loss', patience=15, restore_best_weights=True)\n",
    "\n",
    "# Perform the search\n",
    "tuner.search(train_X, y_train_scaled, epochs=50, validation_data=(test_X, y_test_scaled), callbacks=[early_stopping])\n",
    "\n",
    "# Best set of hyperparameters\n",
    "best_hps = tuner.get_best_hyperparameters(num_trials=1)[0]\n",
    "\n",
    "print(f\"Better number of LSTM units in the first layer: {best_hps.get('units_layer1')}\")\n",
    "print(f\"Melhor taxa de aprendizado: {best_hps.get('learning_rate')}\")"
   ]
  },
  {
   "cell_type": "markdown",
   "id": "adb36232-7fcb-481b-844a-f86410ccc966",
   "metadata": {
    "jp-MarkdownHeadingCollapsed": true
   },
   "source": [
    "### 04.04.01 Final Model"
   ]
  },
  {
   "cell_type": "code",
   "execution_count": 19,
   "id": "4f781b3b-4ee7-4bec-88ea-e00467d90409",
   "metadata": {},
   "outputs": [
    {
     "name": "stdout",
     "output_type": "stream",
     "text": [
      "Epoch 1/150\n"
     ]
    },
    {
     "name": "stderr",
     "output_type": "stream",
     "text": [
      "2024-12-15 14:49:07.440147: E external/local_xla/xla/stream_executor/cuda/cuda_driver.cc:266] failed call to cuInit: CUDA_ERROR_NO_DEVICE: no CUDA-capable device is detected\n",
      "/home/thiery/.local/lib/python3.10/site-packages/keras/src/layers/rnn/rnn.py:204: UserWarning: Do not pass an `input_shape`/`input_dim` argument to a layer. When using Sequential models, prefer using an `Input(shape)` object as the first layer in the model instead.\n",
      "  super().__init__(**kwargs)\n"
     ]
    },
    {
     "name": "stdout",
     "output_type": "stream",
     "text": [
      "17/17 - 2s - 93ms/step - loss: 0.1569 - val_loss: 0.0343\n",
      "Epoch 2/150\n",
      "17/17 - 0s - 8ms/step - loss: 0.0699 - val_loss: 0.0621\n",
      "Epoch 3/150\n",
      "17/17 - 0s - 5ms/step - loss: 0.0502 - val_loss: 0.0525\n",
      "Epoch 4/150\n",
      "17/17 - 0s - 5ms/step - loss: 0.0467 - val_loss: 0.0424\n",
      "Epoch 5/150\n",
      "17/17 - 0s - 5ms/step - loss: 0.0465 - val_loss: 0.0407\n",
      "Epoch 6/150\n",
      "17/17 - 0s - 5ms/step - loss: 0.0450 - val_loss: 0.0408\n",
      "Epoch 7/150\n",
      "17/17 - 0s - 4ms/step - loss: 0.0432 - val_loss: 0.0401\n",
      "Epoch 8/150\n",
      "17/17 - 0s - 5ms/step - loss: 0.0419 - val_loss: 0.0393\n",
      "Epoch 9/150\n",
      "17/17 - 0s - 5ms/step - loss: 0.0408 - val_loss: 0.0387\n",
      "Epoch 10/150\n",
      "17/17 - 0s - 5ms/step - loss: 0.0400 - val_loss: 0.0383\n",
      "Epoch 11/150\n",
      "17/17 - 0s - 5ms/step - loss: 0.0392 - val_loss: 0.0380\n",
      "Epoch 12/150\n",
      "17/17 - 0s - 4ms/step - loss: 0.0385 - val_loss: 0.0377\n",
      "Epoch 13/150\n",
      "17/17 - 0s - 5ms/step - loss: 0.0379 - val_loss: 0.0374\n",
      "Epoch 14/150\n",
      "17/17 - 0s - 4ms/step - loss: 0.0373 - val_loss: 0.0372\n",
      "Epoch 15/150\n",
      "17/17 - 0s - 9ms/step - loss: 0.0369 - val_loss: 0.0370\n",
      "Epoch 16/150\n",
      "17/17 - 0s - 5ms/step - loss: 0.0364 - val_loss: 0.0368\n"
     ]
    },
    {
     "data": {
      "image/png": "[encoded data removed]",
      "text/plain": [
       "<Figure size 640x480 with 1 Axes>"
      ]
     },
     "metadata": {},
     "output_type": "display_data"
    }
   ],
   "source": [
    "from keras.callbacks import EarlyStopping\n",
    "\n",
    "early_stopping = EarlyStopping(monitor='val_loss', patience=15, restore_best_weights=True)\n",
    "\n",
    "optimizer = Adam(learning_rate=0.01)\n",
    "\n",
    "# design network\n",
    "model = Sequential()\n",
    "model.add(LSTM(80, input_shape=(train_X.shape[1], train_X.shape[2])))\n",
    "model.compile(loss='mse', optimizer=optimizer)\n",
    "\n",
    "# fit network\n",
    "history = model.fit(train_X, \n",
    "                    y_train_scaled, \n",
    "                    epochs=150, \n",
    "                    batch_size=12, \n",
    "                    validation_data=(test_X, y_test_scaled), \n",
    "                    verbose=2, \n",
    "                    callbacks=[early_stopping],\n",
    "                    shuffle=False)\n",
    "\n",
    "# plot history\n",
    "pyplot.plot(history.history['loss'], label='train')\n",
    "pyplot.plot(history.history['val_loss'], label='test')\n",
    "pyplot.legend()\n",
    "pyplot.show()\n"
   ]
  },
  {
   "cell_type": "code",
   "execution_count": 20,
   "id": "4a440f3e-bd02-4049-87a7-0ac9dc77ba21",
   "metadata": {},
   "outputs": [
    {
     "data": {
      "text/html": [
       "<pre style=\"white-space:pre;overflow-x:auto;line-height:normal;font-family:Menlo,'DejaVu Sans Mono',consolas,'Courier New',monospace\"><span style=\"font-weight: bold\">Model: \"sequential\"</span>\n",
       "</pre>\n"
      ],
      "text/plain": [
       "\u001b[1mModel: \"sequential\"\u001b[0m\n"
      ]
     },
     "metadata": {},
     "output_type": "display_data"
    },
    {
     "data": {
      "text/html": [
       "<pre style=\"white-space:pre;overflow-x:auto;line-height:normal;font-family:Menlo,'DejaVu Sans Mono',consolas,'Courier New',monospace\">┏━━━━━━━━━━━━━━━━━━━━━━━━━━━━━━━━━┳━━━━━━━━━━━━━━━━━━━━━━━━┳━━━━━━━━━━━━━━━┓\n",
       "┃<span style=\"font-weight: bold\"> Layer (type)                    </span>┃<span style=\"font-weight: bold\"> Output Shape           </span>┃<span style=\"font-weight: bold\">       Param # </span>┃\n",
       "┡━━━━━━━━━━━━━━━━━━━━━━━━━━━━━━━━━╇━━━━━━━━━━━━━━━━━━━━━━━━╇━━━━━━━━━━━━━━━┩\n",
       "│ lstm (<span style=\"color: #0087ff; text-decoration-color: #0087ff\">LSTM</span>)                     │ (<span style=\"color: #00d7ff; text-decoration-color: #00d7ff\">None</span>, <span style=\"color: #00af00; text-decoration-color: #00af00\">80</span>)             │        <span style=\"color: #00af00; text-decoration-color: #00af00\">30,080</span> │\n",
       "└─────────────────────────────────┴────────────────────────┴───────────────┘\n",
       "</pre>\n"
      ],
      "text/plain": [
       "┏━━━━━━━━━━━━━━━━━━━━━━━━━━━━━━━━━┳━━━━━━━━━━━━━━━━━━━━━━━━┳━━━━━━━━━━━━━━━┓\n",
       "┃\u001b[1m \u001b[0m\u001b[1mLayer (type)                   \u001b[0m\u001b[1m \u001b[0m┃\u001b[1m \u001b[0m\u001b[1mOutput Shape          \u001b[0m\u001b[1m \u001b[0m┃\u001b[1m \u001b[0m\u001b[1m      Param #\u001b[0m\u001b[1m \u001b[0m┃\n",
       "┡━━━━━━━━━━━━━━━━━━━━━━━━━━━━━━━━━╇━━━━━━━━━━━━━━━━━━━━━━━━╇━━━━━━━━━━━━━━━┩\n",
       "│ lstm (\u001b[38;5;33mLSTM\u001b[0m)                     │ (\u001b[38;5;45mNone\u001b[0m, \u001b[38;5;34m80\u001b[0m)             │        \u001b[38;5;34m30,080\u001b[0m │\n",
       "└─────────────────────────────────┴────────────────────────┴───────────────┘\n"
      ]
     },
     "metadata": {},
     "output_type": "display_data"
    },
    {
     "data": {
      "text/html": [
       "<pre style=\"white-space:pre;overflow-x:auto;line-height:normal;font-family:Menlo,'DejaVu Sans Mono',consolas,'Courier New',monospace\"><span style=\"font-weight: bold\"> Total params: </span><span style=\"color: #00af00; text-decoration-color: #00af00\">90,242</span> (352.51 KB)\n",
       "</pre>\n"
      ],
      "text/plain": [
       "\u001b[1m Total params: \u001b[0m\u001b[38;5;34m90,242\u001b[0m (352.51 KB)\n"
      ]
     },
     "metadata": {},
     "output_type": "display_data"
    },
    {
     "data": {
      "text/html": [
       "<pre style=\"white-space:pre;overflow-x:auto;line-height:normal;font-family:Menlo,'DejaVu Sans Mono',consolas,'Courier New',monospace\"><span style=\"font-weight: bold\"> Trainable params: </span><span style=\"color: #00af00; text-decoration-color: #00af00\">30,080</span> (117.50 KB)\n",
       "</pre>\n"
      ],
      "text/plain": [
       "\u001b[1m Trainable params: \u001b[0m\u001b[38;5;34m30,080\u001b[0m (117.50 KB)\n"
      ]
     },
     "metadata": {},
     "output_type": "display_data"
    },
    {
     "data": {
      "text/html": [
       "<pre style=\"white-space:pre;overflow-x:auto;line-height:normal;font-family:Menlo,'DejaVu Sans Mono',consolas,'Courier New',monospace\"><span style=\"font-weight: bold\"> Non-trainable params: </span><span style=\"color: #00af00; text-decoration-color: #00af00\">0</span> (0.00 B)\n",
       "</pre>\n"
      ],
      "text/plain": [
       "\u001b[1m Non-trainable params: \u001b[0m\u001b[38;5;34m0\u001b[0m (0.00 B)\n"
      ]
     },
     "metadata": {},
     "output_type": "display_data"
    },
    {
     "data": {
      "text/html": [
       "<pre style=\"white-space:pre;overflow-x:auto;line-height:normal;font-family:Menlo,'DejaVu Sans Mono',consolas,'Courier New',monospace\"><span style=\"font-weight: bold\"> Optimizer params: </span><span style=\"color: #00af00; text-decoration-color: #00af00\">60,162</span> (235.01 KB)\n",
       "</pre>\n"
      ],
      "text/plain": [
       "\u001b[1m Optimizer params: \u001b[0m\u001b[38;5;34m60,162\u001b[0m (235.01 KB)\n"
      ]
     },
     "metadata": {},
     "output_type": "display_data"
    }
   ],
   "source": [
    "model.summary()"
   ]
  },
  {
   "cell_type": "markdown",
   "id": "0728862f-7849-4063-bcb6-e01a54737165",
   "metadata": {},
   "source": [
    "### 04.04.02 Permutation Feature importance"
   ]
  },
  {
   "cell_type": "code",
   "execution_count": 21,
   "id": "6733a8a6-70ba-46f9-b88b-45ced14fafd5",
   "metadata": {},
   "outputs": [
    {
     "data": {
      "text/plain": [
       "((36, 1, 13), (36, 1))"
      ]
     },
     "execution_count": 21,
     "metadata": {},
     "output_type": "execute_result"
    }
   ],
   "source": [
    " test_X.shape, y_test_scaled.shape"
   ]
  },
  {
   "cell_type": "code",
   "execution_count": 22,
   "id": "9770d444-0249-4f62-953c-e771f14e6014",
   "metadata": {},
   "outputs": [],
   "source": [
    "# # Exemplo de uso com um modelo LSTM\n",
    "# # Suponha que X_test tenha o formato (samples, timesteps, features)\n",
    "# importances = permutation_importance(model, df_test, y_test_scaled)\n",
    "\n",
    "# # # Exibindo as importâncias\n",
    "# for idx, imp in enumerate(importances):\n",
    "#     print(f\"Feature {idx}: Importance = {imp:.4f}\")\n",
    "\n",
    "# # Exemplo de uso\n",
    "# feature_names = df_test.columns\n",
    "\n",
    "# # Chamando a função para plotar\n",
    "# plot_permutation_importance(importances, feature_names)"
   ]
  },
  {
   "cell_type": "markdown",
   "id": "777e6d28-db4a-4b4e-8b9d-556c9bdbc3bd",
   "metadata": {},
   "source": [
    "### 04.04.02 Prediction"
   ]
  },
  {
   "cell_type": "code",
   "execution_count": 23,
   "id": "acce2f3e-a406-42c7-b1fc-82f1e72e0b26",
   "metadata": {},
   "outputs": [
    {
     "name": "stdout",
     "output_type": "stream",
     "text": [
      "\u001b[1m2/2\u001b[0m \u001b[32m━━━━━━━━━━━━━━━━━━━━\u001b[0m\u001b[37m\u001b[0m \u001b[1m0s\u001b[0m 145ms/step\n",
      "Mean Absolute Error (MAE): 270.53\n",
      "Mean Squared Error (MSE): 119313.56\n",
      "Root Mean Squared Error (RMSE): 345.42\n",
      "Mean Absolute Percentage Error (MAPE): 8.64%\n",
      "R-Squared (R²): -2.02\n"
     ]
    }
   ],
   "source": [
    "# make a prediction\n",
    "yhat = model.predict(test_X)\n",
    "test_X = test_X.reshape((test_X.shape[0], test_X.shape[2]))\n",
    "\n",
    "# invert scaling for forecast\n",
    "y_pred = np.concatenate((yhat, test_X[:, 1:]), axis=1)\n",
    "y_pred = scaler_target.inverse_transform(y_pred)\n",
    "y_pred = y_pred[:,0]\n",
    "\n",
    "# invert scaling for actual\n",
    "test_y = y_test_scaled.reshape((len(y_test_scaled), 1))\n",
    "inv_y = np.concatenate((test_y, test_X[:, 1:]), axis=1)\n",
    "inv_y = scaler_target.inverse_transform(inv_y)\n",
    "inv_y = inv_y[:,0]\n",
    "\n",
    "# calculate RMSE\n",
    "print_metrics(inv_y, y_pred)"
   ]
  },
  {
   "cell_type": "markdown",
   "id": "63b323aa-6037-4f37-9d15-f9e029faac9d",
   "metadata": {},
   "source": [
    "### 04.04.03 Plot"
   ]
  },
  {
   "cell_type": "code",
   "execution_count": 24,
   "id": "24b22097-a808-4162-b7ae-a9346afac465",
   "metadata": {},
   "outputs": [
    {
     "data": {
      "image/png": "[encoded data removed]",
      "text/plain": [
       "<Figure size 1200x600 with 1 Axes>"
      ]
     },
     "metadata": {},
     "output_type": "display_data"
    }
   ],
   "source": [
    "index_train = pd.to_datetime(dataset.index)\n",
    "index_test = dataset.tail(len(y_pred)).index\n",
    "\n",
    "plt.figure(figsize=(12, 6))\n",
    "plt.plot(dataset.index, dataset['hospitalizations'], label='Train')\n",
    "plt.plot(index_test, inv_y, color='green', label='Test')\n",
    "plt.plot(index_test, y_pred, color='red', label='Predicted')\n",
    "plt.title(\"Actual vs predicted\")\n",
    "plt.xlabel('years')\n",
    "plt.ylabel('mortality_rate')\n",
    "plt.grid(True)\n",
    "plt.legend()\n",
    "plt.xticks(rotation=90)\n",
    "plt.tight_layout()\n",
    "plt.show()"
   ]
  }
 ],
 "metadata": {
  "kernelspec": {
   "display_name": "Python 3 (ipykernel)",
   "language": "python",
   "name": "python3"
  },
  "language_info": {
   "codemirror_mode": {
    "name": "ipython",
    "version": 3
   },
   "file_extension": ".py",
   "mimetype": "text/x-python",
   "name": "python",
   "nbconvert_exporter": "python",
   "pygments_lexer": "ipython3",
   "version": "3.10.12"
  }
 },
 "nbformat": 4,
 "nbformat_minor": 5
}
