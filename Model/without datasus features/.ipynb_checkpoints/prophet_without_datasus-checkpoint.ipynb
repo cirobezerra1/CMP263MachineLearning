{
 "cells": [
  {
   "cell_type": "markdown",
   "metadata": {
    "jp-MarkdownHeadingCollapsed": true
   },
   "source": [
    "# 00.Importing Libraries"
   ]
  },
  {
   "cell_type": "code",
   "execution_count": 124,
   "metadata": {
    "colab": {
     "base_uri": "https://localhost:8080/"
    },
    "id": "gj1W_XO2E8K8",
    "outputId": "97c15922-b9a2-4b12-c687-a6522d07f36b"
   },
   "outputs": [],
   "source": [
    "#!pip install --quiet prophet\n",
    "#!pip install --quiet plotly"
   ]
  },
  {
   "cell_type": "code",
   "execution_count": 125,
   "metadata": {
    "id": "uua1O4QfEKIV"
   },
   "outputs": [],
   "source": [
    "import numpy as np\n",
    "import pandas as pd\n",
    "import matplotlib.pyplot as plt\n",
    "\n",
    "from math import sqrt\n",
    "from prophet import Prophet\n",
    "import plotly.express as px\n",
    "from prophet.plot import plot_plotly\n",
    "from sklearn.preprocessing import MinMaxScaler\n",
    "from sklearn.metrics import mean_absolute_error, mean_squared_error, r2_score, mean_squared_error"
   ]
  },
  {
   "cell_type": "markdown",
   "metadata": {
    "jp-MarkdownHeadingCollapsed": true
   },
   "source": [
    "# 01.Helpers"
   ]
  },
  {
   "cell_type": "markdown",
   "metadata": {
    "jp-MarkdownHeadingCollapsed": true
   },
   "source": [
    "## Constants"
   ]
  },
  {
   "cell_type": "code",
   "execution_count": null,
   "metadata": {},
   "outputs": [],
   "source": []
  },
  {
   "cell_type": "markdown",
   "metadata": {
    "jp-MarkdownHeadingCollapsed": true
   },
   "source": [
    "## 01.02 Functions"
   ]
  },
  {
   "cell_type": "code",
   "execution_count": 126,
   "metadata": {},
   "outputs": [],
   "source": [
    "def train_test_split(df, test_date, target_variable):\n",
    "    # separação por tempo\n",
    "    df_train = df[df.index < test_date]\n",
    "    df_test  = df[df.index >= test_date]\n",
    "\n",
    "    # remoção da variável target\n",
    "    y_train = df_train[target_variable]\n",
    "    y_test  = df_test[target_variable]\n",
    "\n",
    "    df_train = df_train.drop(columns=target_variable).copy()\n",
    "    df_test  = df_test.drop(columns=target_variable).copy()\n",
    "\n",
    "    print(df_train.shape, y_train.shape)\n",
    "    print(df_test.shape, y_test.shape)\n",
    "\n",
    "    return df_train, df_test, y_train, y_test"
   ]
  },
  {
   "cell_type": "code",
   "execution_count": 127,
   "metadata": {},
   "outputs": [],
   "source": [
    "def data_normalization(df_train, df_test, y_train, y_test):\n",
    "    # Para as features\n",
    "    scaler               = MinMaxScaler(feature_range=(0, 1))\n",
    "    df_train_scaled      = scaler.fit_transform(df_train)\n",
    "    df_test_scaled       = scaler.transform(df_test)\n",
    "\n",
    "    # Para a variável alvo\n",
    "    scaler_target       = MinMaxScaler(feature_range=(0, 1))\n",
    "    y_train_scaled      = scaler_target.fit_transform(y_train.to_frame())\n",
    "    y_test_scaled       = scaler_target.transform(y_test.to_frame())\n",
    "\n",
    "    print(df_train_scaled.shape, y_train_scaled.shape)\n",
    "    print(df_test_scaled.shape, y_test_scaled.shape)\n",
    "\n",
    "    return scaler, scaler_target, df_train_scaled, df_test_scaled, y_train_scaled, y_test_scaled"
   ]
  },
  {
   "cell_type": "code",
   "execution_count": 128,
   "metadata": {},
   "outputs": [],
   "source": [
    "def data_reconversion(scaler, scaler_target, df_train_scaled, df_test_scaled, y_train_scaled, y_test_scaled, y_pred):\n",
    "    df_train_original = scaler.inverse_transform(df_train_scaled)\n",
    "    df_test_original = scaler.inverse_transform(df_test_scaled)\n",
    "\n",
    "    y_train_original = scaler_target.inverse_transform(y_train_scaled)\n",
    "    y_test_original = scaler_target.inverse_transform(y_test_scaled)\n",
    "    y_pred_original = scaler_target.inverse_transform(y_pred)\n",
    "\n",
    "    return df_train_original, df_test_original, y_train_original, y_test_original, y_pred_original"
   ]
  },
  {
   "cell_type": "code",
   "execution_count": 129,
   "metadata": {},
   "outputs": [],
   "source": [
    "def metrics(y, predicted):\n",
    "    mae = mean_absolute_error(y, predicted)\n",
    "    mse = mean_squared_error(y, predicted)\n",
    "    rmse = mean_squared_error(y, predicted)\n",
    "    mape = np.mean(np.abs((y - predicted) / y)) * 100\n",
    "    r2 = r2_score(y, predicted)\n",
    "    return mae, mse, rmse, mape, r2\n",
    "\n",
    "def print_metrics(y, predicted):\n",
    "    mae, mse, rmse, mape, r2 = metrics(y, predicted)\n",
    "    print(f\"Mean Absolute Error (MAE): {mae:.2f}\")\n",
    "    print(f\"Mean Squared Error (MSE): {mse:.2f}\")\n",
    "    print(f\"Root Mean Squared Error (RMSE): {rmse:.2f}\")\n",
    "    print(f\"Mean Absolute Percentage Error (MAPE): {mape:.2f}%\")\n",
    "    print(f\"R-Squared (R²): {r2:.2f}\")"
   ]
  },
  {
   "cell_type": "markdown",
   "metadata": {
    "id": "aJURGuzJGqzX"
   },
   "source": [
    "# 02.Importing Dataset"
   ]
  },
  {
   "cell_type": "code",
   "execution_count": 130,
   "metadata": {
    "id": "VJkT1YxLGqW5"
   },
   "outputs": [
    {
     "data": {
      "text/html": [
       "<div>\n",
       "<style scoped>\n",
       "    .dataframe tbody tr th:only-of-type {\n",
       "        vertical-align: middle;\n",
       "    }\n",
       "\n",
       "    .dataframe tbody tr th {\n",
       "        vertical-align: top;\n",
       "    }\n",
       "\n",
       "    .dataframe thead th {\n",
       "        text-align: right;\n",
       "    }\n",
       "</style>\n",
       "<table border=\"1\" class=\"dataframe\">\n",
       "  <thead>\n",
       "    <tr style=\"text-align: right;\">\n",
       "      <th></th>\n",
       "      <th>hospitalizations</th>\n",
       "      <th>hospitalizations_lag_3</th>\n",
       "      <th>average_stay_lag_3</th>\n",
       "      <th>deaths_lag_3</th>\n",
       "      <th>mortality_rate_lag_3</th>\n",
       "      <th>hospitalizations_lag_3_12m_window</th>\n",
       "      <th>average_stay_lag_3_12m_window</th>\n",
       "      <th>deaths_lag_3_12m_window</th>\n",
       "      <th>mortality_rate_lag_3_12m_window</th>\n",
       "      <th>heat_index</th>\n",
       "      <th>...</th>\n",
       "      <th>heat_index99</th>\n",
       "      <th>heat_index95</th>\n",
       "      <th>temperature_mean</th>\n",
       "      <th>temperature_max</th>\n",
       "      <th>temperature_min</th>\n",
       "      <th>wind_speed_mean</th>\n",
       "      <th>humidity_mean</th>\n",
       "      <th>lag_heat_index_1</th>\n",
       "      <th>lag_heat_index_2</th>\n",
       "      <th>lag_heat_index_3</th>\n",
       "    </tr>\n",
       "    <tr>\n",
       "      <th>date</th>\n",
       "      <th></th>\n",
       "      <th></th>\n",
       "      <th></th>\n",
       "      <th></th>\n",
       "      <th></th>\n",
       "      <th></th>\n",
       "      <th></th>\n",
       "      <th></th>\n",
       "      <th></th>\n",
       "      <th></th>\n",
       "      <th></th>\n",
       "      <th></th>\n",
       "      <th></th>\n",
       "      <th></th>\n",
       "      <th></th>\n",
       "      <th></th>\n",
       "      <th></th>\n",
       "      <th></th>\n",
       "      <th></th>\n",
       "      <th></th>\n",
       "      <th></th>\n",
       "    </tr>\n",
       "  </thead>\n",
       "  <tbody>\n",
       "    <tr>\n",
       "      <th>2000-12-01</th>\n",
       "      <td>4266.0</td>\n",
       "      <td>4365.0</td>\n",
       "      <td>6.4</td>\n",
       "      <td>293.0</td>\n",
       "      <td>6.71</td>\n",
       "      <td>4277.500000</td>\n",
       "      <td>5.900000</td>\n",
       "      <td>245.333333</td>\n",
       "      <td>5.728333</td>\n",
       "      <td>24.154261</td>\n",
       "      <td>...</td>\n",
       "      <td>37.8966</td>\n",
       "      <td>33.5380</td>\n",
       "      <td>23.575000</td>\n",
       "      <td>35.4</td>\n",
       "      <td>13.4</td>\n",
       "      <td>1.826613</td>\n",
       "      <td>70.836022</td>\n",
       "      <td>21.132403</td>\n",
       "      <td>19.318992</td>\n",
       "      <td>15.300694</td>\n",
       "    </tr>\n",
       "    <tr>\n",
       "      <th>2001-01-01</th>\n",
       "      <td>4032.0</td>\n",
       "      <td>4388.0</td>\n",
       "      <td>6.3</td>\n",
       "      <td>275.0</td>\n",
       "      <td>6.27</td>\n",
       "      <td>4257.250000</td>\n",
       "      <td>5.925000</td>\n",
       "      <td>246.250000</td>\n",
       "      <td>5.775833</td>\n",
       "      <td>26.316156</td>\n",
       "      <td>...</td>\n",
       "      <td>37.8471</td>\n",
       "      <td>34.6685</td>\n",
       "      <td>25.136962</td>\n",
       "      <td>35.4</td>\n",
       "      <td>17.0</td>\n",
       "      <td>1.777016</td>\n",
       "      <td>75.375000</td>\n",
       "      <td>24.154261</td>\n",
       "      <td>21.132403</td>\n",
       "      <td>19.318992</td>\n",
       "    </tr>\n",
       "    <tr>\n",
       "      <th>2001-02-01</th>\n",
       "      <td>3888.0</td>\n",
       "      <td>4329.0</td>\n",
       "      <td>6.1</td>\n",
       "      <td>258.0</td>\n",
       "      <td>5.96</td>\n",
       "      <td>4256.583333</td>\n",
       "      <td>5.933333</td>\n",
       "      <td>248.083333</td>\n",
       "      <td>5.819167</td>\n",
       "      <td>27.119464</td>\n",
       "      <td>...</td>\n",
       "      <td>37.7548</td>\n",
       "      <td>35.3940</td>\n",
       "      <td>25.691071</td>\n",
       "      <td>34.2</td>\n",
       "      <td>20.2</td>\n",
       "      <td>1.916518</td>\n",
       "      <td>76.424107</td>\n",
       "      <td>26.316156</td>\n",
       "      <td>24.154261</td>\n",
       "      <td>21.132403</td>\n",
       "    </tr>\n",
       "    <tr>\n",
       "      <th>2001-03-01</th>\n",
       "      <td>3658.0</td>\n",
       "      <td>4266.0</td>\n",
       "      <td>6.1</td>\n",
       "      <td>242.0</td>\n",
       "      <td>5.67</td>\n",
       "      <td>4265.166667</td>\n",
       "      <td>5.966667</td>\n",
       "      <td>250.833333</td>\n",
       "      <td>5.873333</td>\n",
       "      <td>26.113387</td>\n",
       "      <td>...</td>\n",
       "      <td>36.7670</td>\n",
       "      <td>34.4155</td>\n",
       "      <td>24.985349</td>\n",
       "      <td>34.4</td>\n",
       "      <td>16.3</td>\n",
       "      <td>1.629704</td>\n",
       "      <td>76.383065</td>\n",
       "      <td>27.119464</td>\n",
       "      <td>26.316156</td>\n",
       "      <td>24.154261</td>\n",
       "    </tr>\n",
       "    <tr>\n",
       "      <th>2001-04-01</th>\n",
       "      <td>4022.0</td>\n",
       "      <td>4032.0</td>\n",
       "      <td>5.9</td>\n",
       "      <td>218.0</td>\n",
       "      <td>5.41</td>\n",
       "      <td>4263.833333</td>\n",
       "      <td>5.975000</td>\n",
       "      <td>250.666667</td>\n",
       "      <td>5.871667</td>\n",
       "      <td>21.383903</td>\n",
       "      <td>...</td>\n",
       "      <td>31.0030</td>\n",
       "      <td>28.0215</td>\n",
       "      <td>21.038333</td>\n",
       "      <td>30.8</td>\n",
       "      <td>11.9</td>\n",
       "      <td>1.455139</td>\n",
       "      <td>81.152778</td>\n",
       "      <td>26.113387</td>\n",
       "      <td>27.119464</td>\n",
       "      <td>26.316156</td>\n",
       "    </tr>\n",
       "    <tr>\n",
       "      <th>...</th>\n",
       "      <td>...</td>\n",
       "      <td>...</td>\n",
       "      <td>...</td>\n",
       "      <td>...</td>\n",
       "      <td>...</td>\n",
       "      <td>...</td>\n",
       "      <td>...</td>\n",
       "      <td>...</td>\n",
       "      <td>...</td>\n",
       "      <td>...</td>\n",
       "      <td>...</td>\n",
       "      <td>...</td>\n",
       "      <td>...</td>\n",
       "      <td>...</td>\n",
       "      <td>...</td>\n",
       "      <td>...</td>\n",
       "      <td>...</td>\n",
       "      <td>...</td>\n",
       "      <td>...</td>\n",
       "      <td>...</td>\n",
       "      <td>...</td>\n",
       "    </tr>\n",
       "    <tr>\n",
       "      <th>2024-05-01</th>\n",
       "      <td>3172.0</td>\n",
       "      <td>3176.0</td>\n",
       "      <td>6.4</td>\n",
       "      <td>264.0</td>\n",
       "      <td>8.31</td>\n",
       "      <td>3490.333333</td>\n",
       "      <td>6.950000</td>\n",
       "      <td>316.416667</td>\n",
       "      <td>9.045833</td>\n",
       "      <td>16.708185</td>\n",
       "      <td>...</td>\n",
       "      <td>33.1822</td>\n",
       "      <td>27.3330</td>\n",
       "      <td>16.684946</td>\n",
       "      <td>32.5</td>\n",
       "      <td>7.1</td>\n",
       "      <td>1.345027</td>\n",
       "      <td>85.837366</td>\n",
       "      <td>22.136556</td>\n",
       "      <td>25.621075</td>\n",
       "      <td>27.636221</td>\n",
       "    </tr>\n",
       "    <tr>\n",
       "      <th>2024-06-01</th>\n",
       "      <td>3640.0</td>\n",
       "      <td>3390.0</td>\n",
       "      <td>6.7</td>\n",
       "      <td>277.0</td>\n",
       "      <td>8.17</td>\n",
       "      <td>3503.083333</td>\n",
       "      <td>6.916667</td>\n",
       "      <td>316.500000</td>\n",
       "      <td>9.015833</td>\n",
       "      <td>17.283889</td>\n",
       "      <td>...</td>\n",
       "      <td>29.7834</td>\n",
       "      <td>26.8025</td>\n",
       "      <td>17.371111</td>\n",
       "      <td>31.5</td>\n",
       "      <td>4.6</td>\n",
       "      <td>1.265139</td>\n",
       "      <td>80.636111</td>\n",
       "      <td>16.708185</td>\n",
       "      <td>22.136556</td>\n",
       "      <td>25.621075</td>\n",
       "    </tr>\n",
       "    <tr>\n",
       "      <th>2024-07-01</th>\n",
       "      <td>3689.0</td>\n",
       "      <td>3329.0</td>\n",
       "      <td>6.5</td>\n",
       "      <td>308.0</td>\n",
       "      <td>9.25</td>\n",
       "      <td>3510.166667</td>\n",
       "      <td>6.891667</td>\n",
       "      <td>321.500000</td>\n",
       "      <td>9.150000</td>\n",
       "      <td>13.313495</td>\n",
       "      <td>...</td>\n",
       "      <td>26.8167</td>\n",
       "      <td>21.7780</td>\n",
       "      <td>13.736022</td>\n",
       "      <td>28.9</td>\n",
       "      <td>3.4</td>\n",
       "      <td>1.123387</td>\n",
       "      <td>81.887097</td>\n",
       "      <td>17.283889</td>\n",
       "      <td>16.708185</td>\n",
       "      <td>22.136556</td>\n",
       "    </tr>\n",
       "    <tr>\n",
       "      <th>2024-08-01</th>\n",
       "      <td>3846.0</td>\n",
       "      <td>3172.0</td>\n",
       "      <td>6.7</td>\n",
       "      <td>313.0</td>\n",
       "      <td>9.87</td>\n",
       "      <td>3497.666667</td>\n",
       "      <td>6.866667</td>\n",
       "      <td>319.500000</td>\n",
       "      <td>9.127500</td>\n",
       "      <td>15.274395</td>\n",
       "      <td>...</td>\n",
       "      <td>28.9485</td>\n",
       "      <td>24.4525</td>\n",
       "      <td>15.594758</td>\n",
       "      <td>31.1</td>\n",
       "      <td>4.5</td>\n",
       "      <td>1.394892</td>\n",
       "      <td>78.956989</td>\n",
       "      <td>13.313495</td>\n",
       "      <td>17.283889</td>\n",
       "      <td>16.708185</td>\n",
       "    </tr>\n",
       "    <tr>\n",
       "      <th>2024-09-01</th>\n",
       "      <td>3426.0</td>\n",
       "      <td>3640.0</td>\n",
       "      <td>6.6</td>\n",
       "      <td>329.0</td>\n",
       "      <td>9.04</td>\n",
       "      <td>3519.833333</td>\n",
       "      <td>6.850000</td>\n",
       "      <td>318.750000</td>\n",
       "      <td>9.045833</td>\n",
       "      <td>18.789722</td>\n",
       "      <td>...</td>\n",
       "      <td>31.8239</td>\n",
       "      <td>26.9330</td>\n",
       "      <td>18.740278</td>\n",
       "      <td>33.7</td>\n",
       "      <td>9.0</td>\n",
       "      <td>1.534722</td>\n",
       "      <td>80.148611</td>\n",
       "      <td>15.274395</td>\n",
       "      <td>13.313495</td>\n",
       "      <td>17.283889</td>\n",
       "    </tr>\n",
       "  </tbody>\n",
       "</table>\n",
       "<p>286 rows × 22 columns</p>\n",
       "</div>"
      ],
      "text/plain": [
       "            hospitalizations  hospitalizations_lag_3  average_stay_lag_3  \\\n",
       "date                                                                       \n",
       "2000-12-01            4266.0                  4365.0                 6.4   \n",
       "2001-01-01            4032.0                  4388.0                 6.3   \n",
       "2001-02-01            3888.0                  4329.0                 6.1   \n",
       "2001-03-01            3658.0                  4266.0                 6.1   \n",
       "2001-04-01            4022.0                  4032.0                 5.9   \n",
       "...                      ...                     ...                 ...   \n",
       "2024-05-01            3172.0                  3176.0                 6.4   \n",
       "2024-06-01            3640.0                  3390.0                 6.7   \n",
       "2024-07-01            3689.0                  3329.0                 6.5   \n",
       "2024-08-01            3846.0                  3172.0                 6.7   \n",
       "2024-09-01            3426.0                  3640.0                 6.6   \n",
       "\n",
       "            deaths_lag_3  mortality_rate_lag_3  \\\n",
       "date                                             \n",
       "2000-12-01         293.0                  6.71   \n",
       "2001-01-01         275.0                  6.27   \n",
       "2001-02-01         258.0                  5.96   \n",
       "2001-03-01         242.0                  5.67   \n",
       "2001-04-01         218.0                  5.41   \n",
       "...                  ...                   ...   \n",
       "2024-05-01         264.0                  8.31   \n",
       "2024-06-01         277.0                  8.17   \n",
       "2024-07-01         308.0                  9.25   \n",
       "2024-08-01         313.0                  9.87   \n",
       "2024-09-01         329.0                  9.04   \n",
       "\n",
       "            hospitalizations_lag_3_12m_window  average_stay_lag_3_12m_window  \\\n",
       "date                                                                           \n",
       "2000-12-01                        4277.500000                       5.900000   \n",
       "2001-01-01                        4257.250000                       5.925000   \n",
       "2001-02-01                        4256.583333                       5.933333   \n",
       "2001-03-01                        4265.166667                       5.966667   \n",
       "2001-04-01                        4263.833333                       5.975000   \n",
       "...                                       ...                            ...   \n",
       "2024-05-01                        3490.333333                       6.950000   \n",
       "2024-06-01                        3503.083333                       6.916667   \n",
       "2024-07-01                        3510.166667                       6.891667   \n",
       "2024-08-01                        3497.666667                       6.866667   \n",
       "2024-09-01                        3519.833333                       6.850000   \n",
       "\n",
       "            deaths_lag_3_12m_window  mortality_rate_lag_3_12m_window  \\\n",
       "date                                                                   \n",
       "2000-12-01               245.333333                         5.728333   \n",
       "2001-01-01               246.250000                         5.775833   \n",
       "2001-02-01               248.083333                         5.819167   \n",
       "2001-03-01               250.833333                         5.873333   \n",
       "2001-04-01               250.666667                         5.871667   \n",
       "...                             ...                              ...   \n",
       "2024-05-01               316.416667                         9.045833   \n",
       "2024-06-01               316.500000                         9.015833   \n",
       "2024-07-01               321.500000                         9.150000   \n",
       "2024-08-01               319.500000                         9.127500   \n",
       "2024-09-01               318.750000                         9.045833   \n",
       "\n",
       "            heat_index  ...  heat_index99  heat_index95  temperature_mean  \\\n",
       "date                    ...                                                 \n",
       "2000-12-01   24.154261  ...       37.8966       33.5380         23.575000   \n",
       "2001-01-01   26.316156  ...       37.8471       34.6685         25.136962   \n",
       "2001-02-01   27.119464  ...       37.7548       35.3940         25.691071   \n",
       "2001-03-01   26.113387  ...       36.7670       34.4155         24.985349   \n",
       "2001-04-01   21.383903  ...       31.0030       28.0215         21.038333   \n",
       "...                ...  ...           ...           ...               ...   \n",
       "2024-05-01   16.708185  ...       33.1822       27.3330         16.684946   \n",
       "2024-06-01   17.283889  ...       29.7834       26.8025         17.371111   \n",
       "2024-07-01   13.313495  ...       26.8167       21.7780         13.736022   \n",
       "2024-08-01   15.274395  ...       28.9485       24.4525         15.594758   \n",
       "2024-09-01   18.789722  ...       31.8239       26.9330         18.740278   \n",
       "\n",
       "            temperature_max  temperature_min  wind_speed_mean  humidity_mean  \\\n",
       "date                                                                           \n",
       "2000-12-01             35.4             13.4         1.826613      70.836022   \n",
       "2001-01-01             35.4             17.0         1.777016      75.375000   \n",
       "2001-02-01             34.2             20.2         1.916518      76.424107   \n",
       "2001-03-01             34.4             16.3         1.629704      76.383065   \n",
       "2001-04-01             30.8             11.9         1.455139      81.152778   \n",
       "...                     ...              ...              ...            ...   \n",
       "2024-05-01             32.5              7.1         1.345027      85.837366   \n",
       "2024-06-01             31.5              4.6         1.265139      80.636111   \n",
       "2024-07-01             28.9              3.4         1.123387      81.887097   \n",
       "2024-08-01             31.1              4.5         1.394892      78.956989   \n",
       "2024-09-01             33.7              9.0         1.534722      80.148611   \n",
       "\n",
       "            lag_heat_index_1  lag_heat_index_2  lag_heat_index_3  \n",
       "date                                                              \n",
       "2000-12-01         21.132403         19.318992         15.300694  \n",
       "2001-01-01         24.154261         21.132403         19.318992  \n",
       "2001-02-01         26.316156         24.154261         21.132403  \n",
       "2001-03-01         27.119464         26.316156         24.154261  \n",
       "2001-04-01         26.113387         27.119464         26.316156  \n",
       "...                      ...               ...               ...  \n",
       "2024-05-01         22.136556         25.621075         27.636221  \n",
       "2024-06-01         16.708185         22.136556         25.621075  \n",
       "2024-07-01         17.283889         16.708185         22.136556  \n",
       "2024-08-01         13.313495         17.283889         16.708185  \n",
       "2024-09-01         15.274395         13.313495         17.283889  \n",
       "\n",
       "[286 rows x 22 columns]"
      ]
     },
     "execution_count": 130,
     "metadata": {},
     "output_type": "execute_result"
    }
   ],
   "source": [
    "dataset = pd.read_csv('../../Preprocessing/dataset.csv', \n",
    "                   header=0, \n",
    "                   index_col=0)\n",
    "\n",
    "dataset"
   ]
  },
  {
   "cell_type": "code",
   "execution_count": 131,
   "metadata": {},
   "outputs": [
    {
     "data": {
      "text/html": [
       "<div>\n",
       "<style scoped>\n",
       "    .dataframe tbody tr th:only-of-type {\n",
       "        vertical-align: middle;\n",
       "    }\n",
       "\n",
       "    .dataframe tbody tr th {\n",
       "        vertical-align: top;\n",
       "    }\n",
       "\n",
       "    .dataframe thead th {\n",
       "        text-align: right;\n",
       "    }\n",
       "</style>\n",
       "<table border=\"1\" class=\"dataframe\">\n",
       "  <thead>\n",
       "    <tr style=\"text-align: right;\">\n",
       "      <th></th>\n",
       "      <th>hospitalizations</th>\n",
       "      <th>hospitalizations_lag_3</th>\n",
       "      <th>average_stay_lag_3</th>\n",
       "      <th>deaths_lag_3</th>\n",
       "      <th>mortality_rate_lag_3</th>\n",
       "      <th>hospitalizations_lag_3_12m_window</th>\n",
       "      <th>average_stay_lag_3_12m_window</th>\n",
       "      <th>deaths_lag_3_12m_window</th>\n",
       "      <th>mortality_rate_lag_3_12m_window</th>\n",
       "      <th>heat_index</th>\n",
       "      <th>...</th>\n",
       "      <th>heat_index99</th>\n",
       "      <th>heat_index95</th>\n",
       "      <th>temperature_mean</th>\n",
       "      <th>temperature_max</th>\n",
       "      <th>temperature_min</th>\n",
       "      <th>wind_speed_mean</th>\n",
       "      <th>humidity_mean</th>\n",
       "      <th>lag_heat_index_1</th>\n",
       "      <th>lag_heat_index_2</th>\n",
       "      <th>lag_heat_index_3</th>\n",
       "    </tr>\n",
       "    <tr>\n",
       "      <th>date</th>\n",
       "      <th></th>\n",
       "      <th></th>\n",
       "      <th></th>\n",
       "      <th></th>\n",
       "      <th></th>\n",
       "      <th></th>\n",
       "      <th></th>\n",
       "      <th></th>\n",
       "      <th></th>\n",
       "      <th></th>\n",
       "      <th></th>\n",
       "      <th></th>\n",
       "      <th></th>\n",
       "      <th></th>\n",
       "      <th></th>\n",
       "      <th></th>\n",
       "      <th></th>\n",
       "      <th></th>\n",
       "      <th></th>\n",
       "      <th></th>\n",
       "      <th></th>\n",
       "    </tr>\n",
       "  </thead>\n",
       "  <tbody>\n",
       "    <tr>\n",
       "      <th>2000-12-01</th>\n",
       "      <td>4266.0</td>\n",
       "      <td>4365.0</td>\n",
       "      <td>6.4</td>\n",
       "      <td>293.0</td>\n",
       "      <td>6.71</td>\n",
       "      <td>4277.500000</td>\n",
       "      <td>5.900000</td>\n",
       "      <td>245.333333</td>\n",
       "      <td>5.728333</td>\n",
       "      <td>24.154261</td>\n",
       "      <td>...</td>\n",
       "      <td>37.8966</td>\n",
       "      <td>33.5380</td>\n",
       "      <td>23.575000</td>\n",
       "      <td>35.4</td>\n",
       "      <td>13.4</td>\n",
       "      <td>1.826613</td>\n",
       "      <td>70.836022</td>\n",
       "      <td>21.132403</td>\n",
       "      <td>19.318992</td>\n",
       "      <td>15.300694</td>\n",
       "    </tr>\n",
       "    <tr>\n",
       "      <th>2001-01-01</th>\n",
       "      <td>4032.0</td>\n",
       "      <td>4388.0</td>\n",
       "      <td>6.3</td>\n",
       "      <td>275.0</td>\n",
       "      <td>6.27</td>\n",
       "      <td>4257.250000</td>\n",
       "      <td>5.925000</td>\n",
       "      <td>246.250000</td>\n",
       "      <td>5.775833</td>\n",
       "      <td>26.316156</td>\n",
       "      <td>...</td>\n",
       "      <td>37.8471</td>\n",
       "      <td>34.6685</td>\n",
       "      <td>25.136962</td>\n",
       "      <td>35.4</td>\n",
       "      <td>17.0</td>\n",
       "      <td>1.777016</td>\n",
       "      <td>75.375000</td>\n",
       "      <td>24.154261</td>\n",
       "      <td>21.132403</td>\n",
       "      <td>19.318992</td>\n",
       "    </tr>\n",
       "    <tr>\n",
       "      <th>2001-02-01</th>\n",
       "      <td>3888.0</td>\n",
       "      <td>4329.0</td>\n",
       "      <td>6.1</td>\n",
       "      <td>258.0</td>\n",
       "      <td>5.96</td>\n",
       "      <td>4256.583333</td>\n",
       "      <td>5.933333</td>\n",
       "      <td>248.083333</td>\n",
       "      <td>5.819167</td>\n",
       "      <td>27.119464</td>\n",
       "      <td>...</td>\n",
       "      <td>37.7548</td>\n",
       "      <td>35.3940</td>\n",
       "      <td>25.691071</td>\n",
       "      <td>34.2</td>\n",
       "      <td>20.2</td>\n",
       "      <td>1.916518</td>\n",
       "      <td>76.424107</td>\n",
       "      <td>26.316156</td>\n",
       "      <td>24.154261</td>\n",
       "      <td>21.132403</td>\n",
       "    </tr>\n",
       "    <tr>\n",
       "      <th>2001-03-01</th>\n",
       "      <td>3658.0</td>\n",
       "      <td>4266.0</td>\n",
       "      <td>6.1</td>\n",
       "      <td>242.0</td>\n",
       "      <td>5.67</td>\n",
       "      <td>4265.166667</td>\n",
       "      <td>5.966667</td>\n",
       "      <td>250.833333</td>\n",
       "      <td>5.873333</td>\n",
       "      <td>26.113387</td>\n",
       "      <td>...</td>\n",
       "      <td>36.7670</td>\n",
       "      <td>34.4155</td>\n",
       "      <td>24.985349</td>\n",
       "      <td>34.4</td>\n",
       "      <td>16.3</td>\n",
       "      <td>1.629704</td>\n",
       "      <td>76.383065</td>\n",
       "      <td>27.119464</td>\n",
       "      <td>26.316156</td>\n",
       "      <td>24.154261</td>\n",
       "    </tr>\n",
       "    <tr>\n",
       "      <th>2001-04-01</th>\n",
       "      <td>4022.0</td>\n",
       "      <td>4032.0</td>\n",
       "      <td>5.9</td>\n",
       "      <td>218.0</td>\n",
       "      <td>5.41</td>\n",
       "      <td>4263.833333</td>\n",
       "      <td>5.975000</td>\n",
       "      <td>250.666667</td>\n",
       "      <td>5.871667</td>\n",
       "      <td>21.383903</td>\n",
       "      <td>...</td>\n",
       "      <td>31.0030</td>\n",
       "      <td>28.0215</td>\n",
       "      <td>21.038333</td>\n",
       "      <td>30.8</td>\n",
       "      <td>11.9</td>\n",
       "      <td>1.455139</td>\n",
       "      <td>81.152778</td>\n",
       "      <td>26.113387</td>\n",
       "      <td>27.119464</td>\n",
       "      <td>26.316156</td>\n",
       "    </tr>\n",
       "  </tbody>\n",
       "</table>\n",
       "<p>5 rows × 22 columns</p>\n",
       "</div>"
      ],
      "text/plain": [
       "            hospitalizations  hospitalizations_lag_3  average_stay_lag_3  \\\n",
       "date                                                                       \n",
       "2000-12-01            4266.0                  4365.0                 6.4   \n",
       "2001-01-01            4032.0                  4388.0                 6.3   \n",
       "2001-02-01            3888.0                  4329.0                 6.1   \n",
       "2001-03-01            3658.0                  4266.0                 6.1   \n",
       "2001-04-01            4022.0                  4032.0                 5.9   \n",
       "\n",
       "            deaths_lag_3  mortality_rate_lag_3  \\\n",
       "date                                             \n",
       "2000-12-01         293.0                  6.71   \n",
       "2001-01-01         275.0                  6.27   \n",
       "2001-02-01         258.0                  5.96   \n",
       "2001-03-01         242.0                  5.67   \n",
       "2001-04-01         218.0                  5.41   \n",
       "\n",
       "            hospitalizations_lag_3_12m_window  average_stay_lag_3_12m_window  \\\n",
       "date                                                                           \n",
       "2000-12-01                        4277.500000                       5.900000   \n",
       "2001-01-01                        4257.250000                       5.925000   \n",
       "2001-02-01                        4256.583333                       5.933333   \n",
       "2001-03-01                        4265.166667                       5.966667   \n",
       "2001-04-01                        4263.833333                       5.975000   \n",
       "\n",
       "            deaths_lag_3_12m_window  mortality_rate_lag_3_12m_window  \\\n",
       "date                                                                   \n",
       "2000-12-01               245.333333                         5.728333   \n",
       "2001-01-01               246.250000                         5.775833   \n",
       "2001-02-01               248.083333                         5.819167   \n",
       "2001-03-01               250.833333                         5.873333   \n",
       "2001-04-01               250.666667                         5.871667   \n",
       "\n",
       "            heat_index  ...  heat_index99  heat_index95  temperature_mean  \\\n",
       "date                    ...                                                 \n",
       "2000-12-01   24.154261  ...       37.8966       33.5380         23.575000   \n",
       "2001-01-01   26.316156  ...       37.8471       34.6685         25.136962   \n",
       "2001-02-01   27.119464  ...       37.7548       35.3940         25.691071   \n",
       "2001-03-01   26.113387  ...       36.7670       34.4155         24.985349   \n",
       "2001-04-01   21.383903  ...       31.0030       28.0215         21.038333   \n",
       "\n",
       "            temperature_max  temperature_min  wind_speed_mean  humidity_mean  \\\n",
       "date                                                                           \n",
       "2000-12-01             35.4             13.4         1.826613      70.836022   \n",
       "2001-01-01             35.4             17.0         1.777016      75.375000   \n",
       "2001-02-01             34.2             20.2         1.916518      76.424107   \n",
       "2001-03-01             34.4             16.3         1.629704      76.383065   \n",
       "2001-04-01             30.8             11.9         1.455139      81.152778   \n",
       "\n",
       "            lag_heat_index_1  lag_heat_index_2  lag_heat_index_3  \n",
       "date                                                              \n",
       "2000-12-01         21.132403         19.318992         15.300694  \n",
       "2001-01-01         24.154261         21.132403         19.318992  \n",
       "2001-02-01         26.316156         24.154261         21.132403  \n",
       "2001-03-01         27.119464         26.316156         24.154261  \n",
       "2001-04-01         26.113387         27.119464         26.316156  \n",
       "\n",
       "[5 rows x 22 columns]"
      ]
     },
     "execution_count": 131,
     "metadata": {},
     "output_type": "execute_result"
    }
   ],
   "source": [
    "dataset.index = pd.to_datetime(dataset.index)\n",
    "\n",
    "dataset.head(5)"
   ]
  },
  {
   "cell_type": "code",
   "execution_count": 132,
   "metadata": {},
   "outputs": [
    {
     "data": {
      "text/plain": [
       "Index(['hospitalizations', 'hospitalizations_lag_3', 'average_stay_lag_3',\n",
       "       'deaths_lag_3', 'mortality_rate_lag_3',\n",
       "       'hospitalizations_lag_3_12m_window', 'average_stay_lag_3_12m_window',\n",
       "       'deaths_lag_3_12m_window', 'mortality_rate_lag_3_12m_window',\n",
       "       'heat_index', 'heat_index_sum', 'heat_index_std', 'heat_index99',\n",
       "       'heat_index95', 'temperature_mean', 'temperature_max',\n",
       "       'temperature_min', 'wind_speed_mean', 'humidity_mean',\n",
       "       'lag_heat_index_1', 'lag_heat_index_2', 'lag_heat_index_3'],\n",
       "      dtype='object')"
      ]
     },
     "execution_count": 132,
     "metadata": {},
     "output_type": "execute_result"
    }
   ],
   "source": [
    "dataset.columns"
   ]
  },
  {
   "cell_type": "markdown",
   "metadata": {
    "jp-MarkdownHeadingCollapsed": true
   },
   "source": [
    "# 03.Preprocessing"
   ]
  },
  {
   "cell_type": "markdown",
   "metadata": {
    "id": "a9LnNwGjHpsb"
   },
   "source": [
    "## 03.01 Remoção ano 2000"
   ]
  },
  {
   "cell_type": "code",
   "execution_count": 133,
   "metadata": {},
   "outputs": [],
   "source": [
    "dataset = dataset[dataset.index < \"2020-01-01\"]\n",
    "\n",
    "test_start_date = '2017-01-01'"
   ]
  },
  {
   "cell_type": "markdown",
   "metadata": {},
   "source": [
    "# 04.Model training"
   ]
  },
  {
   "cell_type": "markdown",
   "metadata": {
    "jp-MarkdownHeadingCollapsed": true
   },
   "source": [
    "## 04.01 Split train and test"
   ]
  },
  {
   "cell_type": "code",
   "execution_count": 134,
   "metadata": {},
   "outputs": [
    {
     "name": "stdout",
     "output_type": "stream",
     "text": [
      "(193, 21) (193,)\n",
      "(36, 21) (36,)\n"
     ]
    }
   ],
   "source": [
    "df_train, df_test, y_train, y_test = train_test_split(dataset, test_start_date, 'hospitalizations')"
   ]
  },
  {
   "cell_type": "markdown",
   "metadata": {
    "id": "-rYD_YiDM-nR",
    "jp-MarkdownHeadingCollapsed": true
   },
   "source": [
    "## 04.02 Normalization"
   ]
  },
  {
   "cell_type": "code",
   "execution_count": 135,
   "metadata": {
    "colab": {
     "base_uri": "https://localhost:8080/",
     "height": 424
    },
    "id": "86PR6TBUJdKu",
    "outputId": "d71657eb-abf1-493a-f6b6-582f13d69b32"
   },
   "outputs": [
    {
     "name": "stdout",
     "output_type": "stream",
     "text": [
      "(193, 21) (193, 1)\n",
      "(36, 21) (36, 1)\n"
     ]
    }
   ],
   "source": [
    "scaler, scaler_target, df_train_scaled, df_test_scaled, y_train_scaled, y_test_scaled = data_normalization(df_train, df_test, y_train, y_test)"
   ]
  },
  {
   "cell_type": "markdown",
   "metadata": {
    "jp-MarkdownHeadingCollapsed": true
   },
   "source": [
    "## 04.03 Prophet"
   ]
  },
  {
   "cell_type": "code",
   "execution_count": 136,
   "metadata": {},
   "outputs": [
    {
     "data": {
      "text/html": [
       "<div>\n",
       "<style scoped>\n",
       "    .dataframe tbody tr th:only-of-type {\n",
       "        vertical-align: middle;\n",
       "    }\n",
       "\n",
       "    .dataframe tbody tr th {\n",
       "        vertical-align: top;\n",
       "    }\n",
       "\n",
       "    .dataframe thead th {\n",
       "        text-align: right;\n",
       "    }\n",
       "</style>\n",
       "<table border=\"1\" class=\"dataframe\">\n",
       "  <thead>\n",
       "    <tr style=\"text-align: right;\">\n",
       "      <th></th>\n",
       "      <th>hospitalizations_lag_3</th>\n",
       "      <th>average_stay_lag_3</th>\n",
       "      <th>deaths_lag_3</th>\n",
       "      <th>mortality_rate_lag_3</th>\n",
       "      <th>hospitalizations_lag_3_12m_window</th>\n",
       "      <th>average_stay_lag_3_12m_window</th>\n",
       "      <th>deaths_lag_3_12m_window</th>\n",
       "      <th>mortality_rate_lag_3_12m_window</th>\n",
       "      <th>heat_index</th>\n",
       "      <th>heat_index_sum</th>\n",
       "      <th>...</th>\n",
       "      <th>heat_index99</th>\n",
       "      <th>heat_index95</th>\n",
       "      <th>temperature_mean</th>\n",
       "      <th>temperature_max</th>\n",
       "      <th>temperature_min</th>\n",
       "      <th>wind_speed_mean</th>\n",
       "      <th>humidity_mean</th>\n",
       "      <th>lag_heat_index_1</th>\n",
       "      <th>lag_heat_index_2</th>\n",
       "      <th>lag_heat_index_3</th>\n",
       "    </tr>\n",
       "    <tr>\n",
       "      <th>date</th>\n",
       "      <th></th>\n",
       "      <th></th>\n",
       "      <th></th>\n",
       "      <th></th>\n",
       "      <th></th>\n",
       "      <th></th>\n",
       "      <th></th>\n",
       "      <th></th>\n",
       "      <th></th>\n",
       "      <th></th>\n",
       "      <th></th>\n",
       "      <th></th>\n",
       "      <th></th>\n",
       "      <th></th>\n",
       "      <th></th>\n",
       "      <th></th>\n",
       "      <th></th>\n",
       "      <th></th>\n",
       "      <th></th>\n",
       "      <th></th>\n",
       "      <th></th>\n",
       "    </tr>\n",
       "  </thead>\n",
       "  <tbody>\n",
       "    <tr>\n",
       "      <th>2000-12-01</th>\n",
       "      <td>4365.0</td>\n",
       "      <td>6.4</td>\n",
       "      <td>293.0</td>\n",
       "      <td>6.71</td>\n",
       "      <td>4277.500000</td>\n",
       "      <td>5.900000</td>\n",
       "      <td>245.333333</td>\n",
       "      <td>5.728333</td>\n",
       "      <td>24.154261</td>\n",
       "      <td>17970.77</td>\n",
       "      <td>...</td>\n",
       "      <td>37.8966</td>\n",
       "      <td>33.5380</td>\n",
       "      <td>23.575000</td>\n",
       "      <td>35.4</td>\n",
       "      <td>13.4</td>\n",
       "      <td>1.826613</td>\n",
       "      <td>70.836022</td>\n",
       "      <td>21.132403</td>\n",
       "      <td>19.318992</td>\n",
       "      <td>15.300694</td>\n",
       "    </tr>\n",
       "    <tr>\n",
       "      <th>2001-01-01</th>\n",
       "      <td>4388.0</td>\n",
       "      <td>6.3</td>\n",
       "      <td>275.0</td>\n",
       "      <td>6.27</td>\n",
       "      <td>4257.250000</td>\n",
       "      <td>5.925000</td>\n",
       "      <td>246.250000</td>\n",
       "      <td>5.775833</td>\n",
       "      <td>26.316156</td>\n",
       "      <td>19579.22</td>\n",
       "      <td>...</td>\n",
       "      <td>37.8471</td>\n",
       "      <td>34.6685</td>\n",
       "      <td>25.136962</td>\n",
       "      <td>35.4</td>\n",
       "      <td>17.0</td>\n",
       "      <td>1.777016</td>\n",
       "      <td>75.375000</td>\n",
       "      <td>24.154261</td>\n",
       "      <td>21.132403</td>\n",
       "      <td>19.318992</td>\n",
       "    </tr>\n",
       "    <tr>\n",
       "      <th>2001-02-01</th>\n",
       "      <td>4329.0</td>\n",
       "      <td>6.1</td>\n",
       "      <td>258.0</td>\n",
       "      <td>5.96</td>\n",
       "      <td>4256.583333</td>\n",
       "      <td>5.933333</td>\n",
       "      <td>248.083333</td>\n",
       "      <td>5.819167</td>\n",
       "      <td>27.119464</td>\n",
       "      <td>18224.28</td>\n",
       "      <td>...</td>\n",
       "      <td>37.7548</td>\n",
       "      <td>35.3940</td>\n",
       "      <td>25.691071</td>\n",
       "      <td>34.2</td>\n",
       "      <td>20.2</td>\n",
       "      <td>1.916518</td>\n",
       "      <td>76.424107</td>\n",
       "      <td>26.316156</td>\n",
       "      <td>24.154261</td>\n",
       "      <td>21.132403</td>\n",
       "    </tr>\n",
       "    <tr>\n",
       "      <th>2001-03-01</th>\n",
       "      <td>4266.0</td>\n",
       "      <td>6.1</td>\n",
       "      <td>242.0</td>\n",
       "      <td>5.67</td>\n",
       "      <td>4265.166667</td>\n",
       "      <td>5.966667</td>\n",
       "      <td>250.833333</td>\n",
       "      <td>5.873333</td>\n",
       "      <td>26.113387</td>\n",
       "      <td>19428.36</td>\n",
       "      <td>...</td>\n",
       "      <td>36.7670</td>\n",
       "      <td>34.4155</td>\n",
       "      <td>24.985349</td>\n",
       "      <td>34.4</td>\n",
       "      <td>16.3</td>\n",
       "      <td>1.629704</td>\n",
       "      <td>76.383065</td>\n",
       "      <td>27.119464</td>\n",
       "      <td>26.316156</td>\n",
       "      <td>24.154261</td>\n",
       "    </tr>\n",
       "    <tr>\n",
       "      <th>2001-04-01</th>\n",
       "      <td>4032.0</td>\n",
       "      <td>5.9</td>\n",
       "      <td>218.0</td>\n",
       "      <td>5.41</td>\n",
       "      <td>4263.833333</td>\n",
       "      <td>5.975000</td>\n",
       "      <td>250.666667</td>\n",
       "      <td>5.871667</td>\n",
       "      <td>21.383903</td>\n",
       "      <td>15396.41</td>\n",
       "      <td>...</td>\n",
       "      <td>31.0030</td>\n",
       "      <td>28.0215</td>\n",
       "      <td>21.038333</td>\n",
       "      <td>30.8</td>\n",
       "      <td>11.9</td>\n",
       "      <td>1.455139</td>\n",
       "      <td>81.152778</td>\n",
       "      <td>26.113387</td>\n",
       "      <td>27.119464</td>\n",
       "      <td>26.316156</td>\n",
       "    </tr>\n",
       "    <tr>\n",
       "      <th>...</th>\n",
       "      <td>...</td>\n",
       "      <td>...</td>\n",
       "      <td>...</td>\n",
       "      <td>...</td>\n",
       "      <td>...</td>\n",
       "      <td>...</td>\n",
       "      <td>...</td>\n",
       "      <td>...</td>\n",
       "      <td>...</td>\n",
       "      <td>...</td>\n",
       "      <td>...</td>\n",
       "      <td>...</td>\n",
       "      <td>...</td>\n",
       "      <td>...</td>\n",
       "      <td>...</td>\n",
       "      <td>...</td>\n",
       "      <td>...</td>\n",
       "      <td>...</td>\n",
       "      <td>...</td>\n",
       "      <td>...</td>\n",
       "      <td>...</td>\n",
       "    </tr>\n",
       "    <tr>\n",
       "      <th>2016-08-01</th>\n",
       "      <td>3235.0</td>\n",
       "      <td>6.2</td>\n",
       "      <td>279.0</td>\n",
       "      <td>8.62</td>\n",
       "      <td>3379.250000</td>\n",
       "      <td>6.316667</td>\n",
       "      <td>298.500000</td>\n",
       "      <td>8.810000</td>\n",
       "      <td>16.035712</td>\n",
       "      <td>11930.57</td>\n",
       "      <td>...</td>\n",
       "      <td>31.7783</td>\n",
       "      <td>24.6685</td>\n",
       "      <td>16.246505</td>\n",
       "      <td>32.3</td>\n",
       "      <td>6.6</td>\n",
       "      <td>1.170565</td>\n",
       "      <td>80.104839</td>\n",
       "      <td>13.902984</td>\n",
       "      <td>11.039000</td>\n",
       "      <td>14.905067</td>\n",
       "    </tr>\n",
       "    <tr>\n",
       "      <th>2016-09-01</th>\n",
       "      <td>3267.0</td>\n",
       "      <td>6.4</td>\n",
       "      <td>353.0</td>\n",
       "      <td>10.81</td>\n",
       "      <td>3364.416667</td>\n",
       "      <td>6.300000</td>\n",
       "      <td>301.500000</td>\n",
       "      <td>8.944167</td>\n",
       "      <td>16.023625</td>\n",
       "      <td>11537.01</td>\n",
       "      <td>...</td>\n",
       "      <td>27.6624</td>\n",
       "      <td>23.7620</td>\n",
       "      <td>16.277917</td>\n",
       "      <td>31.2</td>\n",
       "      <td>8.8</td>\n",
       "      <td>1.671528</td>\n",
       "      <td>78.400000</td>\n",
       "      <td>16.035712</td>\n",
       "      <td>13.902984</td>\n",
       "      <td>11.039000</td>\n",
       "    </tr>\n",
       "    <tr>\n",
       "      <th>2016-10-01</th>\n",
       "      <td>3459.0</td>\n",
       "      <td>6.6</td>\n",
       "      <td>351.0</td>\n",
       "      <td>10.15</td>\n",
       "      <td>3359.500000</td>\n",
       "      <td>6.325000</td>\n",
       "      <td>300.083333</td>\n",
       "      <td>8.918333</td>\n",
       "      <td>19.317137</td>\n",
       "      <td>14371.95</td>\n",
       "      <td>...</td>\n",
       "      <td>30.3068</td>\n",
       "      <td>27.0685</td>\n",
       "      <td>19.240323</td>\n",
       "      <td>32.3</td>\n",
       "      <td>9.5</td>\n",
       "      <td>1.860484</td>\n",
       "      <td>78.583333</td>\n",
       "      <td>16.023625</td>\n",
       "      <td>16.035712</td>\n",
       "      <td>13.902984</td>\n",
       "    </tr>\n",
       "    <tr>\n",
       "      <th>2016-11-01</th>\n",
       "      <td>3514.0</td>\n",
       "      <td>6.6</td>\n",
       "      <td>342.0</td>\n",
       "      <td>9.73</td>\n",
       "      <td>3347.500000</td>\n",
       "      <td>6.341667</td>\n",
       "      <td>299.333333</td>\n",
       "      <td>8.929167</td>\n",
       "      <td>21.078250</td>\n",
       "      <td>15176.34</td>\n",
       "      <td>...</td>\n",
       "      <td>34.5125</td>\n",
       "      <td>30.1900</td>\n",
       "      <td>20.900278</td>\n",
       "      <td>34.7</td>\n",
       "      <td>9.9</td>\n",
       "      <td>1.528333</td>\n",
       "      <td>73.044444</td>\n",
       "      <td>19.317137</td>\n",
       "      <td>16.023625</td>\n",
       "      <td>16.035712</td>\n",
       "    </tr>\n",
       "    <tr>\n",
       "      <th>2016-12-01</th>\n",
       "      <td>3403.0</td>\n",
       "      <td>6.7</td>\n",
       "      <td>307.0</td>\n",
       "      <td>9.02</td>\n",
       "      <td>3345.416667</td>\n",
       "      <td>6.366667</td>\n",
       "      <td>299.083333</td>\n",
       "      <td>8.927500</td>\n",
       "      <td>25.353427</td>\n",
       "      <td>18862.95</td>\n",
       "      <td>...</td>\n",
       "      <td>39.4928</td>\n",
       "      <td>34.9400</td>\n",
       "      <td>24.416129</td>\n",
       "      <td>37.9</td>\n",
       "      <td>14.7</td>\n",
       "      <td>1.568011</td>\n",
       "      <td>72.719086</td>\n",
       "      <td>21.078250</td>\n",
       "      <td>19.317137</td>\n",
       "      <td>16.023625</td>\n",
       "    </tr>\n",
       "  </tbody>\n",
       "</table>\n",
       "<p>193 rows × 21 columns</p>\n",
       "</div>"
      ],
      "text/plain": [
       "            hospitalizations_lag_3  average_stay_lag_3  deaths_lag_3  \\\n",
       "date                                                                   \n",
       "2000-12-01                  4365.0                 6.4         293.0   \n",
       "2001-01-01                  4388.0                 6.3         275.0   \n",
       "2001-02-01                  4329.0                 6.1         258.0   \n",
       "2001-03-01                  4266.0                 6.1         242.0   \n",
       "2001-04-01                  4032.0                 5.9         218.0   \n",
       "...                            ...                 ...           ...   \n",
       "2016-08-01                  3235.0                 6.2         279.0   \n",
       "2016-09-01                  3267.0                 6.4         353.0   \n",
       "2016-10-01                  3459.0                 6.6         351.0   \n",
       "2016-11-01                  3514.0                 6.6         342.0   \n",
       "2016-12-01                  3403.0                 6.7         307.0   \n",
       "\n",
       "            mortality_rate_lag_3  hospitalizations_lag_3_12m_window  \\\n",
       "date                                                                  \n",
       "2000-12-01                  6.71                        4277.500000   \n",
       "2001-01-01                  6.27                        4257.250000   \n",
       "2001-02-01                  5.96                        4256.583333   \n",
       "2001-03-01                  5.67                        4265.166667   \n",
       "2001-04-01                  5.41                        4263.833333   \n",
       "...                          ...                                ...   \n",
       "2016-08-01                  8.62                        3379.250000   \n",
       "2016-09-01                 10.81                        3364.416667   \n",
       "2016-10-01                 10.15                        3359.500000   \n",
       "2016-11-01                  9.73                        3347.500000   \n",
       "2016-12-01                  9.02                        3345.416667   \n",
       "\n",
       "            average_stay_lag_3_12m_window  deaths_lag_3_12m_window  \\\n",
       "date                                                                 \n",
       "2000-12-01                       5.900000               245.333333   \n",
       "2001-01-01                       5.925000               246.250000   \n",
       "2001-02-01                       5.933333               248.083333   \n",
       "2001-03-01                       5.966667               250.833333   \n",
       "2001-04-01                       5.975000               250.666667   \n",
       "...                                   ...                      ...   \n",
       "2016-08-01                       6.316667               298.500000   \n",
       "2016-09-01                       6.300000               301.500000   \n",
       "2016-10-01                       6.325000               300.083333   \n",
       "2016-11-01                       6.341667               299.333333   \n",
       "2016-12-01                       6.366667               299.083333   \n",
       "\n",
       "            mortality_rate_lag_3_12m_window  heat_index  heat_index_sum  ...  \\\n",
       "date                                                                     ...   \n",
       "2000-12-01                         5.728333   24.154261        17970.77  ...   \n",
       "2001-01-01                         5.775833   26.316156        19579.22  ...   \n",
       "2001-02-01                         5.819167   27.119464        18224.28  ...   \n",
       "2001-03-01                         5.873333   26.113387        19428.36  ...   \n",
       "2001-04-01                         5.871667   21.383903        15396.41  ...   \n",
       "...                                     ...         ...             ...  ...   \n",
       "2016-08-01                         8.810000   16.035712        11930.57  ...   \n",
       "2016-09-01                         8.944167   16.023625        11537.01  ...   \n",
       "2016-10-01                         8.918333   19.317137        14371.95  ...   \n",
       "2016-11-01                         8.929167   21.078250        15176.34  ...   \n",
       "2016-12-01                         8.927500   25.353427        18862.95  ...   \n",
       "\n",
       "            heat_index99  heat_index95  temperature_mean  temperature_max  \\\n",
       "date                                                                        \n",
       "2000-12-01       37.8966       33.5380         23.575000             35.4   \n",
       "2001-01-01       37.8471       34.6685         25.136962             35.4   \n",
       "2001-02-01       37.7548       35.3940         25.691071             34.2   \n",
       "2001-03-01       36.7670       34.4155         24.985349             34.4   \n",
       "2001-04-01       31.0030       28.0215         21.038333             30.8   \n",
       "...                  ...           ...               ...              ...   \n",
       "2016-08-01       31.7783       24.6685         16.246505             32.3   \n",
       "2016-09-01       27.6624       23.7620         16.277917             31.2   \n",
       "2016-10-01       30.3068       27.0685         19.240323             32.3   \n",
       "2016-11-01       34.5125       30.1900         20.900278             34.7   \n",
       "2016-12-01       39.4928       34.9400         24.416129             37.9   \n",
       "\n",
       "            temperature_min  wind_speed_mean  humidity_mean  lag_heat_index_1  \\\n",
       "date                                                                            \n",
       "2000-12-01             13.4         1.826613      70.836022         21.132403   \n",
       "2001-01-01             17.0         1.777016      75.375000         24.154261   \n",
       "2001-02-01             20.2         1.916518      76.424107         26.316156   \n",
       "2001-03-01             16.3         1.629704      76.383065         27.119464   \n",
       "2001-04-01             11.9         1.455139      81.152778         26.113387   \n",
       "...                     ...              ...            ...               ...   \n",
       "2016-08-01              6.6         1.170565      80.104839         13.902984   \n",
       "2016-09-01              8.8         1.671528      78.400000         16.035712   \n",
       "2016-10-01              9.5         1.860484      78.583333         16.023625   \n",
       "2016-11-01              9.9         1.528333      73.044444         19.317137   \n",
       "2016-12-01             14.7         1.568011      72.719086         21.078250   \n",
       "\n",
       "            lag_heat_index_2  lag_heat_index_3  \n",
       "date                                            \n",
       "2000-12-01         19.318992         15.300694  \n",
       "2001-01-01         21.132403         19.318992  \n",
       "2001-02-01         24.154261         21.132403  \n",
       "2001-03-01         26.316156         24.154261  \n",
       "2001-04-01         27.119464         26.316156  \n",
       "...                      ...               ...  \n",
       "2016-08-01         11.039000         14.905067  \n",
       "2016-09-01         13.902984         11.039000  \n",
       "2016-10-01         16.035712         13.902984  \n",
       "2016-11-01         16.023625         16.035712  \n",
       "2016-12-01         19.317137         16.023625  \n",
       "\n",
       "[193 rows x 21 columns]"
      ]
     },
     "execution_count": 136,
     "metadata": {},
     "output_type": "execute_result"
    }
   ],
   "source": [
    "df_train"
   ]
  },
  {
   "cell_type": "code",
   "execution_count": 137,
   "metadata": {
    "colab": {
     "base_uri": "https://localhost:8080/",
     "height": 424
    },
    "id": "wL4l0MzIvtug",
    "outputId": "7d8ea79a-6503-42f0-aff5-cf612dc6f812"
   },
   "outputs": [
    {
     "data": {
      "text/html": [
       "<div>\n",
       "<style scoped>\n",
       "    .dataframe tbody tr th:only-of-type {\n",
       "        vertical-align: middle;\n",
       "    }\n",
       "\n",
       "    .dataframe tbody tr th {\n",
       "        vertical-align: top;\n",
       "    }\n",
       "\n",
       "    .dataframe thead th {\n",
       "        text-align: right;\n",
       "    }\n",
       "</style>\n",
       "<table border=\"1\" class=\"dataframe\">\n",
       "  <thead>\n",
       "    <tr style=\"text-align: right;\">\n",
       "      <th></th>\n",
       "      <th>ds</th>\n",
       "      <th>y</th>\n",
       "      <th>hospitalizations_lag_3</th>\n",
       "      <th>average_stay_lag_3</th>\n",
       "      <th>deaths_lag_3</th>\n",
       "      <th>mortality_rate_lag_3</th>\n",
       "      <th>hospitalizations_lag_3_12m_window</th>\n",
       "      <th>average_stay_lag_3_12m_window</th>\n",
       "      <th>deaths_lag_3_12m_window</th>\n",
       "      <th>mortality_rate_lag_3_12m_window</th>\n",
       "      <th>...</th>\n",
       "      <th>heat_index99</th>\n",
       "      <th>heat_index95</th>\n",
       "      <th>temperature_mean</th>\n",
       "      <th>temperature_max</th>\n",
       "      <th>temperature_min</th>\n",
       "      <th>wind_speed_mean</th>\n",
       "      <th>humidity_mean</th>\n",
       "      <th>lag_heat_index_1</th>\n",
       "      <th>lag_heat_index_2</th>\n",
       "      <th>lag_heat_index_3</th>\n",
       "    </tr>\n",
       "  </thead>\n",
       "  <tbody>\n",
       "    <tr>\n",
       "      <th>0</th>\n",
       "      <td>2000-12-01</td>\n",
       "      <td>0.760952</td>\n",
       "      <td>0.808095</td>\n",
       "      <td>0.666667</td>\n",
       "      <td>0.524138</td>\n",
       "      <td>0.3040</td>\n",
       "      <td>1.000000</td>\n",
       "      <td>0.000000</td>\n",
       "      <td>0.000000</td>\n",
       "      <td>0.000000</td>\n",
       "      <td>...</td>\n",
       "      <td>0.769188</td>\n",
       "      <td>0.694720</td>\n",
       "      <td>0.803586</td>\n",
       "      <td>0.740541</td>\n",
       "      <td>0.643564</td>\n",
       "      <td>0.649677</td>\n",
       "      <td>0.271381</td>\n",
       "      <td>0.592743</td>\n",
       "      <td>0.486249</td>\n",
       "      <td>0.250271</td>\n",
       "    </tr>\n",
       "    <tr>\n",
       "      <th>1</th>\n",
       "      <td>2001-01-01</td>\n",
       "      <td>0.649524</td>\n",
       "      <td>0.819048</td>\n",
       "      <td>0.600000</td>\n",
       "      <td>0.462069</td>\n",
       "      <td>0.2336</td>\n",
       "      <td>0.980330</td>\n",
       "      <td>0.044776</td>\n",
       "      <td>0.012821</td>\n",
       "      <td>0.014271</td>\n",
       "      <td>...</td>\n",
       "      <td>0.767183</td>\n",
       "      <td>0.740995</td>\n",
       "      <td>0.908859</td>\n",
       "      <td>0.740541</td>\n",
       "      <td>0.821782</td>\n",
       "      <td>0.614071</td>\n",
       "      <td>0.470696</td>\n",
       "      <td>0.770204</td>\n",
       "      <td>0.592743</td>\n",
       "      <td>0.486249</td>\n",
       "    </tr>\n",
       "    <tr>\n",
       "      <th>2</th>\n",
       "      <td>2001-02-01</td>\n",
       "      <td>0.580952</td>\n",
       "      <td>0.790952</td>\n",
       "      <td>0.466667</td>\n",
       "      <td>0.403448</td>\n",
       "      <td>0.1840</td>\n",
       "      <td>0.979683</td>\n",
       "      <td>0.059701</td>\n",
       "      <td>0.038462</td>\n",
       "      <td>0.027291</td>\n",
       "      <td>...</td>\n",
       "      <td>0.763444</td>\n",
       "      <td>0.770692</td>\n",
       "      <td>0.946205</td>\n",
       "      <td>0.675676</td>\n",
       "      <td>0.980198</td>\n",
       "      <td>0.714222</td>\n",
       "      <td>0.516764</td>\n",
       "      <td>0.897163</td>\n",
       "      <td>0.770204</td>\n",
       "      <td>0.592743</td>\n",
       "    </tr>\n",
       "    <tr>\n",
       "      <th>3</th>\n",
       "      <td>2001-03-01</td>\n",
       "      <td>0.471429</td>\n",
       "      <td>0.760952</td>\n",
       "      <td>0.466667</td>\n",
       "      <td>0.348276</td>\n",
       "      <td>0.1376</td>\n",
       "      <td>0.988020</td>\n",
       "      <td>0.119403</td>\n",
       "      <td>0.076923</td>\n",
       "      <td>0.043565</td>\n",
       "      <td>...</td>\n",
       "      <td>0.723434</td>\n",
       "      <td>0.730639</td>\n",
       "      <td>0.898641</td>\n",
       "      <td>0.686486</td>\n",
       "      <td>0.787129</td>\n",
       "      <td>0.508313</td>\n",
       "      <td>0.514962</td>\n",
       "      <td>0.944338</td>\n",
       "      <td>0.897163</td>\n",
       "      <td>0.770204</td>\n",
       "    </tr>\n",
       "    <tr>\n",
       "      <th>4</th>\n",
       "      <td>2001-04-01</td>\n",
       "      <td>0.644762</td>\n",
       "      <td>0.649524</td>\n",
       "      <td>0.333333</td>\n",
       "      <td>0.265517</td>\n",
       "      <td>0.0960</td>\n",
       "      <td>0.986725</td>\n",
       "      <td>0.134328</td>\n",
       "      <td>0.074592</td>\n",
       "      <td>0.043065</td>\n",
       "      <td>...</td>\n",
       "      <td>0.489969</td>\n",
       "      <td>0.468911</td>\n",
       "      <td>0.632621</td>\n",
       "      <td>0.491892</td>\n",
       "      <td>0.569307</td>\n",
       "      <td>0.382989</td>\n",
       "      <td>0.724409</td>\n",
       "      <td>0.885255</td>\n",
       "      <td>0.944338</td>\n",
       "      <td>0.897163</td>\n",
       "    </tr>\n",
       "    <tr>\n",
       "      <th>...</th>\n",
       "      <td>...</td>\n",
       "      <td>...</td>\n",
       "      <td>...</td>\n",
       "      <td>...</td>\n",
       "      <td>...</td>\n",
       "      <td>...</td>\n",
       "      <td>...</td>\n",
       "      <td>...</td>\n",
       "      <td>...</td>\n",
       "      <td>...</td>\n",
       "      <td>...</td>\n",
       "      <td>...</td>\n",
       "      <td>...</td>\n",
       "      <td>...</td>\n",
       "      <td>...</td>\n",
       "      <td>...</td>\n",
       "      <td>...</td>\n",
       "      <td>...</td>\n",
       "      <td>...</td>\n",
       "      <td>...</td>\n",
       "      <td>...</td>\n",
       "    </tr>\n",
       "    <tr>\n",
       "      <th>188</th>\n",
       "      <td>2016-08-01</td>\n",
       "      <td>0.402857</td>\n",
       "      <td>0.270000</td>\n",
       "      <td>0.533333</td>\n",
       "      <td>0.475862</td>\n",
       "      <td>0.6096</td>\n",
       "      <td>0.127489</td>\n",
       "      <td>0.746269</td>\n",
       "      <td>0.743590</td>\n",
       "      <td>0.925889</td>\n",
       "      <td>...</td>\n",
       "      <td>0.521372</td>\n",
       "      <td>0.331662</td>\n",
       "      <td>0.309663</td>\n",
       "      <td>0.572973</td>\n",
       "      <td>0.306931</td>\n",
       "      <td>0.178688</td>\n",
       "      <td>0.678392</td>\n",
       "      <td>0.168190</td>\n",
       "      <td>0.000000</td>\n",
       "      <td>0.227038</td>\n",
       "    </tr>\n",
       "    <tr>\n",
       "      <th>189</th>\n",
       "      <td>2016-09-01</td>\n",
       "      <td>0.350000</td>\n",
       "      <td>0.285238</td>\n",
       "      <td>0.666667</td>\n",
       "      <td>0.731034</td>\n",
       "      <td>0.9600</td>\n",
       "      <td>0.113081</td>\n",
       "      <td>0.716418</td>\n",
       "      <td>0.785548</td>\n",
       "      <td>0.966199</td>\n",
       "      <td>...</td>\n",
       "      <td>0.354661</td>\n",
       "      <td>0.294556</td>\n",
       "      <td>0.311780</td>\n",
       "      <td>0.513514</td>\n",
       "      <td>0.415842</td>\n",
       "      <td>0.538339</td>\n",
       "      <td>0.603529</td>\n",
       "      <td>0.293436</td>\n",
       "      <td>0.168190</td>\n",
       "      <td>0.000000</td>\n",
       "    </tr>\n",
       "    <tr>\n",
       "      <th>190</th>\n",
       "      <td>2016-10-01</td>\n",
       "      <td>0.505238</td>\n",
       "      <td>0.376667</td>\n",
       "      <td>0.800000</td>\n",
       "      <td>0.724138</td>\n",
       "      <td>0.8544</td>\n",
       "      <td>0.108305</td>\n",
       "      <td>0.761194</td>\n",
       "      <td>0.765734</td>\n",
       "      <td>0.958438</td>\n",
       "      <td>...</td>\n",
       "      <td>0.461770</td>\n",
       "      <td>0.429902</td>\n",
       "      <td>0.511439</td>\n",
       "      <td>0.572973</td>\n",
       "      <td>0.450495</td>\n",
       "      <td>0.673994</td>\n",
       "      <td>0.611580</td>\n",
       "      <td>0.292726</td>\n",
       "      <td>0.293436</td>\n",
       "      <td>0.168190</td>\n",
       "    </tr>\n",
       "    <tr>\n",
       "      <th>191</th>\n",
       "      <td>2016-11-01</td>\n",
       "      <td>0.395238</td>\n",
       "      <td>0.402857</td>\n",
       "      <td>0.800000</td>\n",
       "      <td>0.693103</td>\n",
       "      <td>0.7872</td>\n",
       "      <td>0.096649</td>\n",
       "      <td>0.791045</td>\n",
       "      <td>0.755245</td>\n",
       "      <td>0.961693</td>\n",
       "      <td>...</td>\n",
       "      <td>0.632118</td>\n",
       "      <td>0.557675</td>\n",
       "      <td>0.623316</td>\n",
       "      <td>0.702703</td>\n",
       "      <td>0.470297</td>\n",
       "      <td>0.435537</td>\n",
       "      <td>0.368357</td>\n",
       "      <td>0.486140</td>\n",
       "      <td>0.292726</td>\n",
       "      <td>0.293436</td>\n",
       "    </tr>\n",
       "    <tr>\n",
       "      <th>192</th>\n",
       "      <td>2016-12-01</td>\n",
       "      <td>0.242381</td>\n",
       "      <td>0.350000</td>\n",
       "      <td>0.866667</td>\n",
       "      <td>0.572414</td>\n",
       "      <td>0.6736</td>\n",
       "      <td>0.094625</td>\n",
       "      <td>0.835821</td>\n",
       "      <td>0.751748</td>\n",
       "      <td>0.961192</td>\n",
       "      <td>...</td>\n",
       "      <td>0.833840</td>\n",
       "      <td>0.752108</td>\n",
       "      <td>0.860277</td>\n",
       "      <td>0.875676</td>\n",
       "      <td>0.707921</td>\n",
       "      <td>0.464022</td>\n",
       "      <td>0.354070</td>\n",
       "      <td>0.589563</td>\n",
       "      <td>0.486140</td>\n",
       "      <td>0.292726</td>\n",
       "    </tr>\n",
       "  </tbody>\n",
       "</table>\n",
       "<p>193 rows × 23 columns</p>\n",
       "</div>"
      ],
      "text/plain": [
       "            ds         y  hospitalizations_lag_3  average_stay_lag_3  \\\n",
       "0   2000-12-01  0.760952                0.808095            0.666667   \n",
       "1   2001-01-01  0.649524                0.819048            0.600000   \n",
       "2   2001-02-01  0.580952                0.790952            0.466667   \n",
       "3   2001-03-01  0.471429                0.760952            0.466667   \n",
       "4   2001-04-01  0.644762                0.649524            0.333333   \n",
       "..         ...       ...                     ...                 ...   \n",
       "188 2016-08-01  0.402857                0.270000            0.533333   \n",
       "189 2016-09-01  0.350000                0.285238            0.666667   \n",
       "190 2016-10-01  0.505238                0.376667            0.800000   \n",
       "191 2016-11-01  0.395238                0.402857            0.800000   \n",
       "192 2016-12-01  0.242381                0.350000            0.866667   \n",
       "\n",
       "     deaths_lag_3  mortality_rate_lag_3  hospitalizations_lag_3_12m_window  \\\n",
       "0        0.524138                0.3040                           1.000000   \n",
       "1        0.462069                0.2336                           0.980330   \n",
       "2        0.403448                0.1840                           0.979683   \n",
       "3        0.348276                0.1376                           0.988020   \n",
       "4        0.265517                0.0960                           0.986725   \n",
       "..            ...                   ...                                ...   \n",
       "188      0.475862                0.6096                           0.127489   \n",
       "189      0.731034                0.9600                           0.113081   \n",
       "190      0.724138                0.8544                           0.108305   \n",
       "191      0.693103                0.7872                           0.096649   \n",
       "192      0.572414                0.6736                           0.094625   \n",
       "\n",
       "     average_stay_lag_3_12m_window  deaths_lag_3_12m_window  \\\n",
       "0                         0.000000                 0.000000   \n",
       "1                         0.044776                 0.012821   \n",
       "2                         0.059701                 0.038462   \n",
       "3                         0.119403                 0.076923   \n",
       "4                         0.134328                 0.074592   \n",
       "..                             ...                      ...   \n",
       "188                       0.746269                 0.743590   \n",
       "189                       0.716418                 0.785548   \n",
       "190                       0.761194                 0.765734   \n",
       "191                       0.791045                 0.755245   \n",
       "192                       0.835821                 0.751748   \n",
       "\n",
       "     mortality_rate_lag_3_12m_window  ...  heat_index99  heat_index95  \\\n",
       "0                           0.000000  ...      0.769188      0.694720   \n",
       "1                           0.014271  ...      0.767183      0.740995   \n",
       "2                           0.027291  ...      0.763444      0.770692   \n",
       "3                           0.043565  ...      0.723434      0.730639   \n",
       "4                           0.043065  ...      0.489969      0.468911   \n",
       "..                               ...  ...           ...           ...   \n",
       "188                         0.925889  ...      0.521372      0.331662   \n",
       "189                         0.966199  ...      0.354661      0.294556   \n",
       "190                         0.958438  ...      0.461770      0.429902   \n",
       "191                         0.961693  ...      0.632118      0.557675   \n",
       "192                         0.961192  ...      0.833840      0.752108   \n",
       "\n",
       "     temperature_mean  temperature_max  temperature_min  wind_speed_mean  \\\n",
       "0            0.803586         0.740541         0.643564         0.649677   \n",
       "1            0.908859         0.740541         0.821782         0.614071   \n",
       "2            0.946205         0.675676         0.980198         0.714222   \n",
       "3            0.898641         0.686486         0.787129         0.508313   \n",
       "4            0.632621         0.491892         0.569307         0.382989   \n",
       "..                ...              ...              ...              ...   \n",
       "188          0.309663         0.572973         0.306931         0.178688   \n",
       "189          0.311780         0.513514         0.415842         0.538339   \n",
       "190          0.511439         0.572973         0.450495         0.673994   \n",
       "191          0.623316         0.702703         0.470297         0.435537   \n",
       "192          0.860277         0.875676         0.707921         0.464022   \n",
       "\n",
       "     humidity_mean  lag_heat_index_1  lag_heat_index_2  lag_heat_index_3  \n",
       "0         0.271381          0.592743          0.486249          0.250271  \n",
       "1         0.470696          0.770204          0.592743          0.486249  \n",
       "2         0.516764          0.897163          0.770204          0.592743  \n",
       "3         0.514962          0.944338          0.897163          0.770204  \n",
       "4         0.724409          0.885255          0.944338          0.897163  \n",
       "..             ...               ...               ...               ...  \n",
       "188       0.678392          0.168190          0.000000          0.227038  \n",
       "189       0.603529          0.293436          0.168190          0.000000  \n",
       "190       0.611580          0.292726          0.293436          0.168190  \n",
       "191       0.368357          0.486140          0.292726          0.293436  \n",
       "192       0.354070          0.589563          0.486140          0.292726  \n",
       "\n",
       "[193 rows x 23 columns]"
      ]
     },
     "execution_count": 137,
     "metadata": {},
     "output_type": "execute_result"
    }
   ],
   "source": [
    "df = pd.DataFrame({\n",
    "        'ds': df_train.index,\n",
    "        'y': y_train_scaled.reshape(-1),\n",
    "        'hospitalizations_lag_3': df_train_scaled[:, 0],\n",
    "        'average_stay_lag_3': df_train_scaled[:, 1],\n",
    "        'deaths_lag_3': df_train_scaled[:, 2],\n",
    "        'mortality_rate_lag_3': df_train_scaled[:, 3],\n",
    "        'hospitalizations_lag_3_12m_window': df_train_scaled[:, 4],\n",
    "        'average_stay_lag_3_12m_window': df_train_scaled[:, 5],\n",
    "        'deaths_lag_3_12m_window': df_train_scaled[:, 6],\n",
    "        'mortality_rate_lag_3_12m_window': df_train_scaled[:, 7],\n",
    "        'heat_index': df_train_scaled[:, 8],\n",
    "        'heat_index_sum': df_train_scaled[:, 9],\n",
    "        'heat_index_std': df_train_scaled[:, 10], \n",
    "        'heat_index99': df_train_scaled[:, 11], \n",
    "        'heat_index95': df_train_scaled[:, 12], \n",
    "        'temperature_mean': df_train_scaled[:, 13],\n",
    "        'temperature_max': df_train_scaled[:, 14], \n",
    "        'temperature_min': df_train_scaled[:, 15], \n",
    "        'wind_speed_mean': df_train_scaled[:, 16],\n",
    "        'humidity_mean': df_train_scaled[:, 17], \n",
    "        'lag_heat_index_1': df_train_scaled[:, 18], \n",
    "        'lag_heat_index_2': df_train_scaled[:, 19],\n",
    "        'lag_heat_index_3': df_train_scaled[:, 20],\n",
    "    })\n",
    "\n",
    "df"
   ]
  },
  {
   "cell_type": "markdown",
   "metadata": {},
   "source": [
    "## Training"
   ]
  },
  {
   "cell_type": "code",
   "execution_count": 138,
   "metadata": {
    "colab": {
     "base_uri": "https://localhost:8080/"
    },
    "id": "LqBl8w6LwaOz",
    "outputId": "1b86dd07-16ec-4fa6-f9c3-ab14805ce671"
   },
   "outputs": [
    {
     "name": "stderr",
     "output_type": "stream",
     "text": [
      "03:10:25 - cmdstanpy - INFO - Chain [1] start processing\n",
      "03:10:25 - cmdstanpy - INFO - Chain [1] done processing\n"
     ]
    },
    {
     "data": {
      "text/plain": [
       "<prophet.forecaster.Prophet at 0x7f02ff438550>"
      ]
     },
     "execution_count": 138,
     "metadata": {},
     "output_type": "execute_result"
    }
   ],
   "source": [
    "model = Prophet()\n",
    "\n",
    "# Add exogenous variables as regressors\n",
    "model.add_regressor('hospitalizations_lag_3')\n",
    "model.add_regressor('average_stay_lag_3')\n",
    "model.add_regressor('deaths_lag_3')\n",
    "model.add_regressor('mortality_rate_lag_3')\n",
    "model.add_regressor('hospitalizations_lag_3_12m_window')\n",
    "model.add_regressor('average_stay_lag_3_12m_window')\n",
    "model.add_regressor('deaths_lag_3_12m_window')\n",
    "model.add_regressor('mortality_rate_lag_3_12m_window')\n",
    "model.add_regressor('heat_index')\n",
    "model.add_regressor('heat_index_sum')\n",
    "model.add_regressor('heat_index_std')\n",
    "model.add_regressor('heat_index99')\n",
    "model.add_regressor('heat_index95')\n",
    "model.add_regressor('temperature_mean')\n",
    "model.add_regressor('temperature_max')\n",
    "model.add_regressor('temperature_min')\n",
    "model.add_regressor('wind_speed_mean')\n",
    "model.add_regressor('humidity_mean')\n",
    "model.add_regressor('lag_heat_index_1')\n",
    "model.add_regressor('lag_heat_index_2')\n",
    "model.add_regressor('lag_heat_index_3')\n",
    "\n",
    "model.fit(df)"
   ]
  },
  {
   "cell_type": "markdown",
   "metadata": {
    "id": "TmGRUz9_yELT"
   },
   "source": [
    "### Forecasting"
   ]
  },
  {
   "cell_type": "code",
   "execution_count": 139,
   "metadata": {},
   "outputs": [
    {
     "data": {
      "text/plain": [
       "array([0.5052381 , 0.3952381 , 0.24238095, 0.26809524, 0.09      ,\n",
       "       0.26952381, 0.19904762, 0.41142857, 0.35238095, 0.37761905,\n",
       "       0.37428571, 0.44190476, 0.31428571, 0.36047619, 0.29238095,\n",
       "       0.2747619 , 0.10761905, 0.19761905, 0.1852381 , 0.21619048,\n",
       "       0.2947619 , 0.33238095, 0.32619048, 0.34428571, 0.3252381 ,\n",
       "       0.21333333, 0.21904762, 0.20571429, 0.20761905, 0.0947619 ,\n",
       "       0.26857143, 0.25761905, 0.27190476, 0.33666667, 0.44857143,\n",
       "       0.4047619 ])"
      ]
     },
     "execution_count": 139,
     "metadata": {},
     "output_type": "execute_result"
    }
   ],
   "source": [
    "df_test_scaled[:, 0]"
   ]
  },
  {
   "cell_type": "code",
   "execution_count": 140,
   "metadata": {
    "id": "nuTSep37yFge"
   },
   "outputs": [],
   "source": [
    "future = model.make_future_dataframe(periods=len(df_test_scaled), freq='ME')\n",
    "\n",
    "# Add exogenous variables as regressors\n",
    "future['hospitalizations_lag_3'] = np.concatenate((df_train_scaled[:, 0], df_test_scaled[:, 0]))\n",
    "future['average_stay_lag_3'] = np.concatenate((df_train_scaled[:, 1], df_test_scaled[:, 1]))\n",
    "future['deaths_lag_3'] = np.concatenate((df_train_scaled[:, 2], df_test_scaled[:, 2]))\n",
    "future['mortality_rate_lag_3'] = np.concatenate((df_train_scaled[:, 3], df_test_scaled[:, 3]))\n",
    "future['hospitalizations_lag_3_12m_window'] = np.concatenate((df_train_scaled[:, 4], df_test_scaled[:, 4]))\n",
    "future['average_stay_lag_3_12m_window'] = np.concatenate((df_train_scaled[:, 5], df_test_scaled[:, 5]))\n",
    "future['deaths_lag_3_12m_window'] = np.concatenate((df_train_scaled[:, 6], df_test_scaled[:, 6]))\n",
    "future['mortality_rate_lag_3_12m_window'] = np.concatenate((df_train_scaled[:, 7], df_test_scaled[:, 7]))\n",
    "future['heat_index'] = np.concatenate((df_train_scaled[:, 8], df_test_scaled[:, 8]))\n",
    "future['heat_index_sum'] = np.concatenate((df_train_scaled[:, 9], df_test_scaled[:, 9]))\n",
    "future['heat_index_std'] = np.concatenate((df_train_scaled[:, 10], df_test_scaled[:, 10]))\n",
    "future['heat_index99'] = np.concatenate((df_train_scaled[:, 11], df_test_scaled[:, 11]))\n",
    "future['heat_index95'] = np.concatenate((df_train_scaled[:, 12], df_test_scaled[:, 12]))\n",
    "future['temperature_mean'] = np.concatenate((df_train_scaled[:, 13], df_test_scaled[:, 13]))\n",
    "future['temperature_max'] = np.concatenate((df_train_scaled[:, 14], df_test_scaled[:, 14]))\n",
    "future['temperature_min'] = np.concatenate((df_train_scaled[:, 15], df_test_scaled[:, 15]))\n",
    "future['wind_speed_mean'] = np.concatenate((df_train_scaled[:, 16], df_test_scaled[:, 16]))\n",
    "future['humidity_mean'] = np.concatenate((df_train_scaled[:, 17], df_test_scaled[:, 17]))\n",
    "future['lag_heat_index_1'] = np.concatenate((df_train_scaled[:, 18], df_test_scaled[:, 18]))\n",
    "future['lag_heat_index_2'] = np.concatenate((df_train_scaled[:, 19], df_test_scaled[:, 19]))\n",
    "future['lag_heat_index_3'] = np.concatenate((df_train_scaled[:, 20], df_test_scaled[:, 20]))\n",
    "\n",
    "# Generate forecasts\n",
    "y_pred = model.predict(future)"
   ]
  },
  {
   "cell_type": "code",
   "execution_count": 141,
   "metadata": {
    "colab": {
     "base_uri": "https://localhost:8080/",
     "height": 617
    },
    "id": "J8mc8c_OygUx",
    "outputId": "5a5bcaf9-9590-4743-8d13-2cc769af095d"
   },
   "outputs": [
    {
     "data": {
      "text/html": [
       "<div>\n",
       "<style scoped>\n",
       "    .dataframe tbody tr th:only-of-type {\n",
       "        vertical-align: middle;\n",
       "    }\n",
       "\n",
       "    .dataframe tbody tr th {\n",
       "        vertical-align: top;\n",
       "    }\n",
       "\n",
       "    .dataframe thead th {\n",
       "        text-align: right;\n",
       "    }\n",
       "</style>\n",
       "<table border=\"1\" class=\"dataframe\">\n",
       "  <thead>\n",
       "    <tr style=\"text-align: right;\">\n",
       "      <th></th>\n",
       "      <th>ds</th>\n",
       "      <th>trend</th>\n",
       "      <th>yhat_lower</th>\n",
       "      <th>yhat_upper</th>\n",
       "      <th>trend_lower</th>\n",
       "      <th>trend_upper</th>\n",
       "      <th>additive_terms</th>\n",
       "      <th>additive_terms_lower</th>\n",
       "      <th>additive_terms_upper</th>\n",
       "      <th>average_stay_lag_3</th>\n",
       "      <th>...</th>\n",
       "      <th>wind_speed_mean</th>\n",
       "      <th>wind_speed_mean_lower</th>\n",
       "      <th>wind_speed_mean_upper</th>\n",
       "      <th>yearly</th>\n",
       "      <th>yearly_lower</th>\n",
       "      <th>yearly_upper</th>\n",
       "      <th>multiplicative_terms</th>\n",
       "      <th>multiplicative_terms_lower</th>\n",
       "      <th>multiplicative_terms_upper</th>\n",
       "      <th>yhat</th>\n",
       "    </tr>\n",
       "  </thead>\n",
       "  <tbody>\n",
       "    <tr>\n",
       "      <th>0</th>\n",
       "      <td>2000-12-01</td>\n",
       "      <td>0.617606</td>\n",
       "      <td>0.643873</td>\n",
       "      <td>0.845298</td>\n",
       "      <td>0.617606</td>\n",
       "      <td>0.617606</td>\n",
       "      <td>0.124860</td>\n",
       "      <td>0.124860</td>\n",
       "      <td>0.124860</td>\n",
       "      <td>0.006059</td>\n",
       "      <td>...</td>\n",
       "      <td>-0.006214</td>\n",
       "      <td>-0.006214</td>\n",
       "      <td>-0.006214</td>\n",
       "      <td>-0.045235</td>\n",
       "      <td>-0.045235</td>\n",
       "      <td>-0.045235</td>\n",
       "      <td>0.0</td>\n",
       "      <td>0.0</td>\n",
       "      <td>0.0</td>\n",
       "      <td>0.742466</td>\n",
       "    </tr>\n",
       "    <tr>\n",
       "      <th>1</th>\n",
       "      <td>2001-01-01</td>\n",
       "      <td>0.616112</td>\n",
       "      <td>0.609814</td>\n",
       "      <td>0.812421</td>\n",
       "      <td>0.616112</td>\n",
       "      <td>0.616112</td>\n",
       "      <td>0.099459</td>\n",
       "      <td>0.099459</td>\n",
       "      <td>0.099459</td>\n",
       "      <td>0.003597</td>\n",
       "      <td>...</td>\n",
       "      <td>-0.005061</td>\n",
       "      <td>-0.005061</td>\n",
       "      <td>-0.005061</td>\n",
       "      <td>-0.020341</td>\n",
       "      <td>-0.020341</td>\n",
       "      <td>-0.020341</td>\n",
       "      <td>0.0</td>\n",
       "      <td>0.0</td>\n",
       "      <td>0.0</td>\n",
       "      <td>0.715571</td>\n",
       "    </tr>\n",
       "    <tr>\n",
       "      <th>2</th>\n",
       "      <td>2001-02-01</td>\n",
       "      <td>0.614617</td>\n",
       "      <td>0.483589</td>\n",
       "      <td>0.684560</td>\n",
       "      <td>0.614617</td>\n",
       "      <td>0.614617</td>\n",
       "      <td>-0.033920</td>\n",
       "      <td>-0.033920</td>\n",
       "      <td>-0.033920</td>\n",
       "      <td>-0.001327</td>\n",
       "      <td>...</td>\n",
       "      <td>-0.008304</td>\n",
       "      <td>-0.008304</td>\n",
       "      <td>-0.008304</td>\n",
       "      <td>-0.029299</td>\n",
       "      <td>-0.029299</td>\n",
       "      <td>-0.029299</td>\n",
       "      <td>0.0</td>\n",
       "      <td>0.0</td>\n",
       "      <td>0.0</td>\n",
       "      <td>0.580698</td>\n",
       "    </tr>\n",
       "    <tr>\n",
       "      <th>3</th>\n",
       "      <td>2001-03-01</td>\n",
       "      <td>0.613268</td>\n",
       "      <td>0.580764</td>\n",
       "      <td>0.789174</td>\n",
       "      <td>0.613268</td>\n",
       "      <td>0.613268</td>\n",
       "      <td>0.072570</td>\n",
       "      <td>0.072570</td>\n",
       "      <td>0.072570</td>\n",
       "      <td>-0.001327</td>\n",
       "      <td>...</td>\n",
       "      <td>-0.001636</td>\n",
       "      <td>-0.001636</td>\n",
       "      <td>-0.001636</td>\n",
       "      <td>-0.007251</td>\n",
       "      <td>-0.007251</td>\n",
       "      <td>-0.007251</td>\n",
       "      <td>0.0</td>\n",
       "      <td>0.0</td>\n",
       "      <td>0.0</td>\n",
       "      <td>0.685838</td>\n",
       "    </tr>\n",
       "    <tr>\n",
       "      <th>4</th>\n",
       "      <td>2001-04-01</td>\n",
       "      <td>0.611774</td>\n",
       "      <td>0.598753</td>\n",
       "      <td>0.805832</td>\n",
       "      <td>0.611774</td>\n",
       "      <td>0.611774</td>\n",
       "      <td>0.096423</td>\n",
       "      <td>0.096423</td>\n",
       "      <td>0.096423</td>\n",
       "      <td>-0.006250</td>\n",
       "      <td>...</td>\n",
       "      <td>0.002422</td>\n",
       "      <td>0.002422</td>\n",
       "      <td>0.002422</td>\n",
       "      <td>-0.030465</td>\n",
       "      <td>-0.030465</td>\n",
       "      <td>-0.030465</td>\n",
       "      <td>0.0</td>\n",
       "      <td>0.0</td>\n",
       "      <td>0.0</td>\n",
       "      <td>0.708197</td>\n",
       "    </tr>\n",
       "    <tr>\n",
       "      <th>...</th>\n",
       "      <td>...</td>\n",
       "      <td>...</td>\n",
       "      <td>...</td>\n",
       "      <td>...</td>\n",
       "      <td>...</td>\n",
       "      <td>...</td>\n",
       "      <td>...</td>\n",
       "      <td>...</td>\n",
       "      <td>...</td>\n",
       "      <td>...</td>\n",
       "      <td>...</td>\n",
       "      <td>...</td>\n",
       "      <td>...</td>\n",
       "      <td>...</td>\n",
       "      <td>...</td>\n",
       "      <td>...</td>\n",
       "      <td>...</td>\n",
       "      <td>...</td>\n",
       "      <td>...</td>\n",
       "      <td>...</td>\n",
       "      <td>...</td>\n",
       "    </tr>\n",
       "    <tr>\n",
       "      <th>224</th>\n",
       "      <td>2019-07-31</td>\n",
       "      <td>0.301897</td>\n",
       "      <td>0.273469</td>\n",
       "      <td>0.483289</td>\n",
       "      <td>0.301568</td>\n",
       "      <td>0.302230</td>\n",
       "      <td>0.080392</td>\n",
       "      <td>0.080392</td>\n",
       "      <td>0.080392</td>\n",
       "      <td>-0.001327</td>\n",
       "      <td>...</td>\n",
       "      <td>0.003451</td>\n",
       "      <td>0.003451</td>\n",
       "      <td>0.003451</td>\n",
       "      <td>0.010724</td>\n",
       "      <td>0.010724</td>\n",
       "      <td>0.010724</td>\n",
       "      <td>0.0</td>\n",
       "      <td>0.0</td>\n",
       "      <td>0.0</td>\n",
       "      <td>0.382289</td>\n",
       "    </tr>\n",
       "    <tr>\n",
       "      <th>225</th>\n",
       "      <td>2019-08-31</td>\n",
       "      <td>0.300530</td>\n",
       "      <td>0.230930</td>\n",
       "      <td>0.436731</td>\n",
       "      <td>0.300187</td>\n",
       "      <td>0.300876</td>\n",
       "      <td>0.035477</td>\n",
       "      <td>0.035477</td>\n",
       "      <td>0.035477</td>\n",
       "      <td>0.006059</td>\n",
       "      <td>...</td>\n",
       "      <td>0.002471</td>\n",
       "      <td>0.002471</td>\n",
       "      <td>0.002471</td>\n",
       "      <td>-0.006205</td>\n",
       "      <td>-0.006205</td>\n",
       "      <td>-0.006205</td>\n",
       "      <td>0.0</td>\n",
       "      <td>0.0</td>\n",
       "      <td>0.0</td>\n",
       "      <td>0.336006</td>\n",
       "    </tr>\n",
       "    <tr>\n",
       "      <th>226</th>\n",
       "      <td>2019-09-30</td>\n",
       "      <td>0.299207</td>\n",
       "      <td>0.169498</td>\n",
       "      <td>0.378454</td>\n",
       "      <td>0.298852</td>\n",
       "      <td>0.299561</td>\n",
       "      <td>-0.023520</td>\n",
       "      <td>-0.023520</td>\n",
       "      <td>-0.023520</td>\n",
       "      <td>0.006059</td>\n",
       "      <td>...</td>\n",
       "      <td>-0.001986</td>\n",
       "      <td>-0.001986</td>\n",
       "      <td>-0.001986</td>\n",
       "      <td>-0.073876</td>\n",
       "      <td>-0.073876</td>\n",
       "      <td>-0.073876</td>\n",
       "      <td>0.0</td>\n",
       "      <td>0.0</td>\n",
       "      <td>0.0</td>\n",
       "      <td>0.275687</td>\n",
       "    </tr>\n",
       "    <tr>\n",
       "      <th>227</th>\n",
       "      <td>2019-10-31</td>\n",
       "      <td>0.297840</td>\n",
       "      <td>0.312448</td>\n",
       "      <td>0.522196</td>\n",
       "      <td>0.297468</td>\n",
       "      <td>0.298209</td>\n",
       "      <td>0.113532</td>\n",
       "      <td>0.113532</td>\n",
       "      <td>0.113532</td>\n",
       "      <td>0.006059</td>\n",
       "      <td>...</td>\n",
       "      <td>-0.000539</td>\n",
       "      <td>-0.000539</td>\n",
       "      <td>-0.000539</td>\n",
       "      <td>0.103542</td>\n",
       "      <td>0.103542</td>\n",
       "      <td>0.103542</td>\n",
       "      <td>0.0</td>\n",
       "      <td>0.0</td>\n",
       "      <td>0.0</td>\n",
       "      <td>0.411372</td>\n",
       "    </tr>\n",
       "    <tr>\n",
       "      <th>228</th>\n",
       "      <td>2019-11-30</td>\n",
       "      <td>0.296517</td>\n",
       "      <td>0.175017</td>\n",
       "      <td>0.390508</td>\n",
       "      <td>0.296122</td>\n",
       "      <td>0.296902</td>\n",
       "      <td>-0.010648</td>\n",
       "      <td>-0.010648</td>\n",
       "      <td>-0.010648</td>\n",
       "      <td>0.008520</td>\n",
       "      <td>...</td>\n",
       "      <td>-0.003564</td>\n",
       "      <td>-0.003564</td>\n",
       "      <td>-0.003564</td>\n",
       "      <td>0.054736</td>\n",
       "      <td>0.054736</td>\n",
       "      <td>0.054736</td>\n",
       "      <td>0.0</td>\n",
       "      <td>0.0</td>\n",
       "      <td>0.0</td>\n",
       "      <td>0.285869</td>\n",
       "    </tr>\n",
       "  </tbody>\n",
       "</table>\n",
       "<p>229 rows × 82 columns</p>\n",
       "</div>"
      ],
      "text/plain": [
       "            ds     trend  yhat_lower  yhat_upper  trend_lower  trend_upper  \\\n",
       "0   2000-12-01  0.617606    0.643873    0.845298     0.617606     0.617606   \n",
       "1   2001-01-01  0.616112    0.609814    0.812421     0.616112     0.616112   \n",
       "2   2001-02-01  0.614617    0.483589    0.684560     0.614617     0.614617   \n",
       "3   2001-03-01  0.613268    0.580764    0.789174     0.613268     0.613268   \n",
       "4   2001-04-01  0.611774    0.598753    0.805832     0.611774     0.611774   \n",
       "..         ...       ...         ...         ...          ...          ...   \n",
       "224 2019-07-31  0.301897    0.273469    0.483289     0.301568     0.302230   \n",
       "225 2019-08-31  0.300530    0.230930    0.436731     0.300187     0.300876   \n",
       "226 2019-09-30  0.299207    0.169498    0.378454     0.298852     0.299561   \n",
       "227 2019-10-31  0.297840    0.312448    0.522196     0.297468     0.298209   \n",
       "228 2019-11-30  0.296517    0.175017    0.390508     0.296122     0.296902   \n",
       "\n",
       "     additive_terms  additive_terms_lower  additive_terms_upper  \\\n",
       "0          0.124860              0.124860              0.124860   \n",
       "1          0.099459              0.099459              0.099459   \n",
       "2         -0.033920             -0.033920             -0.033920   \n",
       "3          0.072570              0.072570              0.072570   \n",
       "4          0.096423              0.096423              0.096423   \n",
       "..              ...                   ...                   ...   \n",
       "224        0.080392              0.080392              0.080392   \n",
       "225        0.035477              0.035477              0.035477   \n",
       "226       -0.023520             -0.023520             -0.023520   \n",
       "227        0.113532              0.113532              0.113532   \n",
       "228       -0.010648             -0.010648             -0.010648   \n",
       "\n",
       "     average_stay_lag_3  ...  wind_speed_mean  wind_speed_mean_lower  \\\n",
       "0              0.006059  ...        -0.006214              -0.006214   \n",
       "1              0.003597  ...        -0.005061              -0.005061   \n",
       "2             -0.001327  ...        -0.008304              -0.008304   \n",
       "3             -0.001327  ...        -0.001636              -0.001636   \n",
       "4             -0.006250  ...         0.002422               0.002422   \n",
       "..                  ...  ...              ...                    ...   \n",
       "224           -0.001327  ...         0.003451               0.003451   \n",
       "225            0.006059  ...         0.002471               0.002471   \n",
       "226            0.006059  ...        -0.001986              -0.001986   \n",
       "227            0.006059  ...        -0.000539              -0.000539   \n",
       "228            0.008520  ...        -0.003564              -0.003564   \n",
       "\n",
       "     wind_speed_mean_upper    yearly  yearly_lower  yearly_upper  \\\n",
       "0                -0.006214 -0.045235     -0.045235     -0.045235   \n",
       "1                -0.005061 -0.020341     -0.020341     -0.020341   \n",
       "2                -0.008304 -0.029299     -0.029299     -0.029299   \n",
       "3                -0.001636 -0.007251     -0.007251     -0.007251   \n",
       "4                 0.002422 -0.030465     -0.030465     -0.030465   \n",
       "..                     ...       ...           ...           ...   \n",
       "224               0.003451  0.010724      0.010724      0.010724   \n",
       "225               0.002471 -0.006205     -0.006205     -0.006205   \n",
       "226              -0.001986 -0.073876     -0.073876     -0.073876   \n",
       "227              -0.000539  0.103542      0.103542      0.103542   \n",
       "228              -0.003564  0.054736      0.054736      0.054736   \n",
       "\n",
       "     multiplicative_terms  multiplicative_terms_lower  \\\n",
       "0                     0.0                         0.0   \n",
       "1                     0.0                         0.0   \n",
       "2                     0.0                         0.0   \n",
       "3                     0.0                         0.0   \n",
       "4                     0.0                         0.0   \n",
       "..                    ...                         ...   \n",
       "224                   0.0                         0.0   \n",
       "225                   0.0                         0.0   \n",
       "226                   0.0                         0.0   \n",
       "227                   0.0                         0.0   \n",
       "228                   0.0                         0.0   \n",
       "\n",
       "     multiplicative_terms_upper      yhat  \n",
       "0                           0.0  0.742466  \n",
       "1                           0.0  0.715571  \n",
       "2                           0.0  0.580698  \n",
       "3                           0.0  0.685838  \n",
       "4                           0.0  0.708197  \n",
       "..                          ...       ...  \n",
       "224                         0.0  0.382289  \n",
       "225                         0.0  0.336006  \n",
       "226                         0.0  0.275687  \n",
       "227                         0.0  0.411372  \n",
       "228                         0.0  0.285869  \n",
       "\n",
       "[229 rows x 82 columns]"
      ]
     },
     "execution_count": 141,
     "metadata": {},
     "output_type": "execute_result"
    }
   ],
   "source": [
    "y_pred = model.predict(future)\n",
    "\n",
    "y_pred"
   ]
  },
  {
   "cell_type": "code",
   "execution_count": 142,
   "metadata": {},
   "outputs": [
    {
     "name": "stdout",
     "output_type": "stream",
     "text": [
      "            ds      yhat  hospitalizations_lag_3  average_stay_lag_3\n",
      "0   2000-12-01  0.742466               -0.253143            0.006059\n",
      "1   2001-01-01  0.715571               -0.261392            0.003597\n",
      "2   2001-02-01  0.580698               -0.240232           -0.001327\n",
      "3   2001-03-01  0.685838               -0.217637           -0.001327\n",
      "4   2001-04-01  0.708197               -0.133711           -0.006250\n",
      "..         ...       ...                     ...                 ...\n",
      "224 2019-07-31  0.382289                0.161462           -0.001327\n",
      "225 2019-08-31  0.336006                0.150702            0.006059\n",
      "226 2019-09-30  0.275687                0.101925            0.006059\n",
      "227 2019-10-31  0.411372                0.017641            0.006059\n",
      "228 2019-11-30  0.285869                0.050637            0.008520\n",
      "\n",
      "[229 rows x 4 columns]\n"
     ]
    }
   ],
   "source": [
    "print(y_pred[['ds', 'yhat', 'hospitalizations_lag_3', 'average_stay_lag_3']])"
   ]
  },
  {
   "cell_type": "markdown",
   "metadata": {},
   "source": [
    "**Metrics using test and train**"
   ]
  },
  {
   "cell_type": "code",
   "execution_count": 143,
   "metadata": {},
   "outputs": [],
   "source": [
    "(\n",
    "    df_train_original,\n",
    "    df_test_original,\n",
    "    y_train_original,\n",
    "    y_test_original,\n",
    "    y_pred_original\n",
    ") = data_reconversion(\n",
    "    scaler,\n",
    "    scaler_target,\n",
    "    df_train_scaled,\n",
    "    df_test_scaled,\n",
    "    y_train_scaled,\n",
    "    y_test_scaled,\n",
    "    y_pred['yhat'].values.reshape(-1, 1)\n",
    ")"
   ]
  },
  {
   "cell_type": "code",
   "execution_count": 144,
   "metadata": {},
   "outputs": [
    {
     "name": "stdout",
     "output_type": "stream",
     "text": [
      "Mean Absolute Error (MAE): 135.23\n",
      "Mean Squared Error (MSE): 30898.55\n",
      "Root Mean Squared Error (RMSE): 30898.55\n",
      "Mean Absolute Percentage Error (MAPE): 3.83%\n",
      "R-Squared (R²): 0.79\n"
     ]
    }
   ],
   "source": [
    "print_metrics(dataset['hospitalizations'].values.reshape(-1, 1), y_pred_original)"
   ]
  },
  {
   "cell_type": "markdown",
   "metadata": {},
   "source": [
    "**Metrics using only test**"
   ]
  },
  {
   "cell_type": "code",
   "execution_count": 145,
   "metadata": {},
   "outputs": [],
   "source": [
    "(\n",
    "    df_train_original,\n",
    "    df_test_original,\n",
    "    y_train_original,\n",
    "    y_test_original,\n",
    "    y_pred_original\n",
    ") = data_reconversion(\n",
    "    scaler,\n",
    "    scaler_target,\n",
    "    df_train_scaled,\n",
    "    df_test_scaled,\n",
    "    y_train_scaled,\n",
    "    y_test_scaled,\n",
    "    y_pred.tail(len(df_test_scaled))['yhat'].values.reshape(-1, 1)\n",
    ")"
   ]
  },
  {
   "cell_type": "code",
   "execution_count": 146,
   "metadata": {},
   "outputs": [
    {
     "name": "stdout",
     "output_type": "stream",
     "text": [
      "Mean Absolute Error (MAE): 160.43\n",
      "Mean Squared Error (MSE): 38691.59\n",
      "Root Mean Squared Error (RMSE): 38691.59\n",
      "Mean Absolute Percentage Error (MAPE): 4.95%\n",
      "R-Squared (R²): 0.02\n"
     ]
    }
   ],
   "source": [
    "print_metrics(y_test_original, y_pred_original)"
   ]
  },
  {
   "cell_type": "code",
   "execution_count": 147,
   "metadata": {
    "colab": {
     "base_uri": "https://localhost:8080/",
     "height": 542
    },
    "id": "P4MmxMinyngs",
    "outputId": "451ab03f-fcd9-4fbe-da64-f51ecc7ce718"
   },
   "outputs": [
    {
     "data": {
      "application/vnd.plotly.v1+json": {
       "config": {
        "plotlyServerURL": "https://plot.ly"
       },
       "data": [
        {
         "hovertemplate": "ds=%{x}<br>yhat=%{y}<extra></extra>",
         "legendgroup": "",
         "line": {
          "color": "#636efa",
          "dash": "solid"
         },
         "marker": {
          "symbol": "circle"
         },
         "mode": "lines",
         "name": "",
         "orientation": "v",
         "showlegend": false,
         "type": "scatter",
         "x": [
          "2000-12-01T00:00:00",
          "2001-01-01T00:00:00",
          "2001-02-01T00:00:00",
          "2001-03-01T00:00:00",
          "2001-04-01T00:00:00",
          "2001-05-01T00:00:00",
          "2001-06-01T00:00:00",
          "2001-07-01T00:00:00",
          "2001-08-01T00:00:00",
          "2001-09-01T00:00:00",
          "2001-10-01T00:00:00",
          "2001-11-01T00:00:00",
          "2001-12-01T00:00:00",
          "2002-01-01T00:00:00",
          "2002-02-01T00:00:00",
          "2002-03-01T00:00:00",
          "2002-04-01T00:00:00",
          "2002-05-01T00:00:00",
          "2002-06-01T00:00:00",
          "2002-07-01T00:00:00",
          "2002-08-01T00:00:00",
          "2002-09-01T00:00:00",
          "2002-10-01T00:00:00",
          "2002-11-01T00:00:00",
          "2002-12-01T00:00:00",
          "2003-01-01T00:00:00",
          "2003-02-01T00:00:00",
          "2003-03-01T00:00:00",
          "2003-04-01T00:00:00",
          "2003-05-01T00:00:00",
          "2003-06-01T00:00:00",
          "2003-07-01T00:00:00",
          "2003-08-01T00:00:00",
          "2003-09-01T00:00:00",
          "2003-10-01T00:00:00",
          "2003-11-01T00:00:00",
          "2003-12-01T00:00:00",
          "2004-01-01T00:00:00",
          "2004-02-01T00:00:00",
          "2004-03-01T00:00:00",
          "2004-04-01T00:00:00",
          "2004-05-01T00:00:00",
          "2004-06-01T00:00:00",
          "2004-07-01T00:00:00",
          "2004-08-01T00:00:00",
          "2004-09-01T00:00:00",
          "2004-10-01T00:00:00",
          "2004-11-01T00:00:00",
          "2004-12-01T00:00:00",
          "2005-01-01T00:00:00",
          "2005-02-01T00:00:00",
          "2005-03-01T00:00:00",
          "2005-04-01T00:00:00",
          "2005-05-01T00:00:00",
          "2005-06-01T00:00:00",
          "2005-07-01T00:00:00",
          "2005-08-01T00:00:00",
          "2005-09-01T00:00:00",
          "2005-10-01T00:00:00",
          "2005-11-01T00:00:00",
          "2005-12-01T00:00:00",
          "2006-01-01T00:00:00",
          "2006-02-01T00:00:00",
          "2006-03-01T00:00:00",
          "2006-04-01T00:00:00",
          "2006-05-01T00:00:00",
          "2006-06-01T00:00:00",
          "2006-07-01T00:00:00",
          "2006-08-01T00:00:00",
          "2006-09-01T00:00:00",
          "2006-10-01T00:00:00",
          "2006-11-01T00:00:00",
          "2006-12-01T00:00:00",
          "2007-01-01T00:00:00",
          "2007-02-01T00:00:00",
          "2007-03-01T00:00:00",
          "2007-04-01T00:00:00",
          "2007-05-01T00:00:00",
          "2007-06-01T00:00:00",
          "2007-07-01T00:00:00",
          "2007-08-01T00:00:00",
          "2007-09-01T00:00:00",
          "2007-10-01T00:00:00",
          "2007-11-01T00:00:00",
          "2007-12-01T00:00:00",
          "2008-01-01T00:00:00",
          "2008-02-01T00:00:00",
          "2008-03-01T00:00:00",
          "2008-04-01T00:00:00",
          "2008-05-01T00:00:00",
          "2008-06-01T00:00:00",
          "2008-07-01T00:00:00",
          "2008-08-01T00:00:00",
          "2008-09-01T00:00:00",
          "2008-10-01T00:00:00",
          "2008-11-01T00:00:00",
          "2008-12-01T00:00:00",
          "2009-01-01T00:00:00",
          "2009-02-01T00:00:00",
          "2009-03-01T00:00:00",
          "2009-04-01T00:00:00",
          "2009-05-01T00:00:00",
          "2009-06-01T00:00:00",
          "2009-07-01T00:00:00",
          "2009-08-01T00:00:00",
          "2009-09-01T00:00:00",
          "2009-10-01T00:00:00",
          "2009-11-01T00:00:00",
          "2009-12-01T00:00:00",
          "2010-01-01T00:00:00",
          "2010-02-01T00:00:00",
          "2010-03-01T00:00:00",
          "2010-04-01T00:00:00",
          "2010-05-01T00:00:00",
          "2010-06-01T00:00:00",
          "2010-07-01T00:00:00",
          "2010-08-01T00:00:00",
          "2010-09-01T00:00:00",
          "2010-10-01T00:00:00",
          "2010-11-01T00:00:00",
          "2010-12-01T00:00:00",
          "2011-01-01T00:00:00",
          "2011-02-01T00:00:00",
          "2011-03-01T00:00:00",
          "2011-04-01T00:00:00",
          "2011-05-01T00:00:00",
          "2011-06-01T00:00:00",
          "2011-07-01T00:00:00",
          "2011-08-01T00:00:00",
          "2011-09-01T00:00:00",
          "2011-10-01T00:00:00",
          "2011-11-01T00:00:00",
          "2011-12-01T00:00:00",
          "2012-01-01T00:00:00",
          "2012-02-01T00:00:00",
          "2012-03-01T00:00:00",
          "2012-04-01T00:00:00",
          "2012-05-01T00:00:00",
          "2012-06-01T00:00:00",
          "2012-07-01T00:00:00",
          "2012-08-01T00:00:00",
          "2012-09-01T00:00:00",
          "2012-10-01T00:00:00",
          "2012-11-01T00:00:00",
          "2012-12-01T00:00:00",
          "2013-01-01T00:00:00",
          "2013-02-01T00:00:00",
          "2013-03-01T00:00:00",
          "2013-04-01T00:00:00",
          "2013-05-01T00:00:00",
          "2013-06-01T00:00:00",
          "2013-07-01T00:00:00",
          "2013-08-01T00:00:00",
          "2013-09-01T00:00:00",
          "2013-10-01T00:00:00",
          "2013-11-01T00:00:00",
          "2013-12-01T00:00:00",
          "2014-01-01T00:00:00",
          "2014-02-01T00:00:00",
          "2014-03-01T00:00:00",
          "2014-04-01T00:00:00",
          "2014-05-01T00:00:00",
          "2014-06-01T00:00:00",
          "2014-07-01T00:00:00",
          "2014-08-01T00:00:00",
          "2014-09-01T00:00:00",
          "2014-10-01T00:00:00",
          "2014-11-01T00:00:00",
          "2014-12-01T00:00:00",
          "2015-01-01T00:00:00",
          "2015-02-01T00:00:00",
          "2015-03-01T00:00:00",
          "2015-04-01T00:00:00",
          "2015-05-01T00:00:00",
          "2015-06-01T00:00:00",
          "2015-07-01T00:00:00",
          "2015-08-01T00:00:00",
          "2015-09-01T00:00:00",
          "2015-10-01T00:00:00",
          "2015-11-01T00:00:00",
          "2015-12-01T00:00:00",
          "2016-01-01T00:00:00",
          "2016-02-01T00:00:00",
          "2016-03-01T00:00:00",
          "2016-04-01T00:00:00",
          "2016-05-01T00:00:00",
          "2016-06-01T00:00:00",
          "2016-07-01T00:00:00",
          "2016-08-01T00:00:00",
          "2016-09-01T00:00:00",
          "2016-10-01T00:00:00",
          "2016-11-01T00:00:00",
          "2016-12-01T00:00:00",
          "2016-12-31T00:00:00",
          "2017-01-31T00:00:00",
          "2017-02-28T00:00:00",
          "2017-03-31T00:00:00",
          "2017-04-30T00:00:00",
          "2017-05-31T00:00:00",
          "2017-06-30T00:00:00",
          "2017-07-31T00:00:00",
          "2017-08-31T00:00:00",
          "2017-09-30T00:00:00",
          "2017-10-31T00:00:00",
          "2017-11-30T00:00:00",
          "2017-12-31T00:00:00",
          "2018-01-31T00:00:00",
          "2018-02-28T00:00:00",
          "2018-03-31T00:00:00",
          "2018-04-30T00:00:00",
          "2018-05-31T00:00:00",
          "2018-06-30T00:00:00",
          "2018-07-31T00:00:00",
          "2018-08-31T00:00:00",
          "2018-09-30T00:00:00",
          "2018-10-31T00:00:00",
          "2018-11-30T00:00:00",
          "2018-12-31T00:00:00",
          "2019-01-31T00:00:00",
          "2019-02-28T00:00:00",
          "2019-03-31T00:00:00",
          "2019-04-30T00:00:00",
          "2019-05-31T00:00:00",
          "2019-06-30T00:00:00",
          "2019-07-31T00:00:00",
          "2019-08-31T00:00:00",
          "2019-09-30T00:00:00",
          "2019-10-31T00:00:00",
          "2019-11-30T00:00:00"
         ],
         "xaxis": "x",
         "y": [
          0.7424657610438419,
          0.7155709711218123,
          0.5806975910540202,
          0.6858380601071699,
          0.708196591244613,
          0.7571154122960135,
          0.7774444317741901,
          0.8181456849226257,
          0.8361830209256809,
          0.7095592872302509,
          0.7309185658379449,
          0.7152357699605156,
          0.6809317193089012,
          0.6580962844851184,
          0.5542754328422729,
          0.5621364593243103,
          0.5491921456093684,
          0.6747025668089308,
          0.6947921040818518,
          0.7515863691170409,
          0.7962594395659155,
          0.7415613220017206,
          0.7556230492714989,
          0.7069773761700324,
          0.6794173771687669,
          0.6037906191265702,
          0.560716450932996,
          0.5867256601416936,
          0.5944841255683943,
          0.672731493509485,
          0.7338163291669731,
          0.730539336289078,
          0.7602057066746372,
          0.7803940071940734,
          0.6952885387750842,
          0.7018724133642638,
          0.6571962623234543,
          0.537865712219168,
          0.5807110274652597,
          0.5797357428428058,
          0.5383824244035332,
          0.5830119348026497,
          0.6247293969548148,
          0.7025006421610589,
          0.7469630741099684,
          0.688690984077628,
          0.6729487561824862,
          0.6693589208398056,
          0.562716548284227,
          0.5442485819872036,
          0.4584001203144153,
          0.5026160639403018,
          0.4908955644390809,
          0.590808080212883,
          0.5711155952688123,
          0.5764615918757107,
          0.6655714045207608,
          0.5809032478144194,
          0.6302996103299747,
          0.6295472111746636,
          0.5196561130000016,
          0.46398099589747044,
          0.4112997396877604,
          0.4479014293911549,
          0.4293398874285163,
          0.5147011614014886,
          0.5273924635388656,
          0.5614516575007369,
          0.565090224644015,
          0.5442798475825903,
          0.5197749020412434,
          0.5172030030595228,
          0.4752077227469823,
          0.35659629551526206,
          0.37676451390554916,
          0.37670731317953887,
          0.37723928839322796,
          0.45085342773182396,
          0.5394199128064329,
          0.5053456477595926,
          0.5913702164259429,
          0.5690605973799283,
          0.538600143216336,
          0.5206814612517601,
          0.49589546087453035,
          0.3448451381520782,
          0.4117146690397218,
          0.43787770953555316,
          0.45291958777886837,
          0.38025895985025715,
          0.4381687585246559,
          0.5586055617983322,
          0.5566248837434286,
          0.46124130231101884,
          0.5502047014540395,
          0.44258954534015577,
          0.37184513789471785,
          0.3956575675187459,
          0.27370076250903697,
          0.36413560381308163,
          0.35425499821532613,
          0.4173082572937751,
          0.4290744199737463,
          0.5065127807630485,
          0.5570322679817767,
          0.4685550169280578,
          0.43776546867271804,
          0.43717480935116393,
          0.3584053345149787,
          0.31578223872883326,
          0.2105064204291854,
          0.3426702038617704,
          0.31940728249477757,
          0.4216838756449444,
          0.42886709936874245,
          0.46036295786301445,
          0.5297897067361969,
          0.46861602616081355,
          0.4311361247181406,
          0.44908341604959867,
          0.4003916320960945,
          0.27995277035838534,
          0.2894679006509203,
          0.2758230851470309,
          0.31437889646754985,
          0.37705844481956846,
          0.4237231748445013,
          0.43902274469146885,
          0.48842101318139325,
          0.42494021085852274,
          0.42141474204764146,
          0.38725644233099354,
          0.34250496801047065,
          0.21849687391215494,
          0.2721482172087866,
          0.2808117632465962,
          0.2628528652347368,
          0.2833148841438523,
          0.28311585583300075,
          0.39148213840092305,
          0.45949311694920936,
          0.3394121986636478,
          0.3468095363030523,
          0.29584760155551415,
          0.20084453640008654,
          0.20409240215924654,
          0.16629862695686698,
          0.2592577725048297,
          0.24256001197348714,
          0.28686528030827746,
          0.3555839136061856,
          0.39776085955854473,
          0.4530479099222283,
          0.3578617365222227,
          0.36852882998303277,
          0.3365670843915037,
          0.24644873689938632,
          0.1901385547376985,
          0.1043869016226171,
          0.2563568034433712,
          0.23574243616279192,
          0.3426503465513037,
          0.40844708784574213,
          0.4174602196594047,
          0.45630635803012204,
          0.4017818318740994,
          0.36907968754711434,
          0.35149315310504936,
          0.2989412209941358,
          0.1906022786568555,
          0.21972264791349158,
          0.20488718947979861,
          0.2509201053766006,
          0.34528038648827947,
          0.34957203656303015,
          0.38796759995269464,
          0.4287974253150215,
          0.3665982118366856,
          0.360812283284625,
          0.39656488470860185,
          0.32569707246734125,
          0.18324749756367867,
          0.2172524540030367,
          0.27249579331646434,
          0.20683041125467547,
          0.28849313331670556,
          0.3224552037381116,
          0.4150136777792963,
          0.4544584784016984,
          0.3248860854954296,
          0.39006661278777643,
          0.32261914427564553,
          0.2506604424965171,
          0.1514889381411805,
          0.20891910119255144,
          0.11567059881152872,
          0.21498052428274633,
          0.3797917018682328,
          0.39957538548083277,
          0.3013087086551104,
          0.41037296520500727,
          0.32968198651697234,
          0.290811039138986,
          0.38533519904472424,
          0.33095458826656454,
          0.12824053864699414,
          0.29770137529779583,
          0.1494149789638527,
          0.19308690300582732,
          0.3486783116202959,
          0.3834130202605021,
          0.3539094178545289,
          0.39886429588427214,
          0.3715504435245861,
          0.26082267540006,
          0.36415027107370945,
          0.29638570018276816,
          0.03842666047079102,
          0.2150606628081611,
          0.10987564522450577,
          0.19614031634226348,
          0.4057818232546541,
          0.3564006918757103,
          0.23741695224405726,
          0.3822889617863169,
          0.33600626901391417,
          0.27568665612328264,
          0.41137153864288645,
          0.2858687441583594
         ],
         "yaxis": "y"
        }
       ],
       "layout": {
        "legend": {
         "tracegroupgap": 0
        },
        "margin": {
         "t": 60
        },
        "template": {
         "data": {
          "bar": [
           {
            "error_x": {
             "color": "#2a3f5f"
            },
            "error_y": {
             "color": "#2a3f5f"
            },
            "marker": {
             "line": {
              "color": "#E5ECF6",
              "width": 0.5
             },
             "pattern": {
              "fillmode": "overlay",
              "size": 10,
              "solidity": 0.2
             }
            },
            "type": "bar"
           }
          ],
          "barpolar": [
           {
            "marker": {
             "line": {
              "color": "#E5ECF6",
              "width": 0.5
             },
             "pattern": {
              "fillmode": "overlay",
              "size": 10,
              "solidity": 0.2
             }
            },
            "type": "barpolar"
           }
          ],
          "carpet": [
           {
            "aaxis": {
             "endlinecolor": "#2a3f5f",
             "gridcolor": "white",
             "linecolor": "white",
             "minorgridcolor": "white",
             "startlinecolor": "#2a3f5f"
            },
            "baxis": {
             "endlinecolor": "#2a3f5f",
             "gridcolor": "white",
             "linecolor": "white",
             "minorgridcolor": "white",
             "startlinecolor": "#2a3f5f"
            },
            "type": "carpet"
           }
          ],
          "choropleth": [
           {
            "colorbar": {
             "outlinewidth": 0,
             "ticks": ""
            },
            "type": "choropleth"
           }
          ],
          "contour": [
           {
            "colorbar": {
             "outlinewidth": 0,
             "ticks": ""
            },
            "colorscale": [
             [
              0,
              "#0d0887"
             ],
             [
              0.1111111111111111,
              "#46039f"
             ],
             [
              0.2222222222222222,
              "#7201a8"
             ],
             [
              0.3333333333333333,
              "#9c179e"
             ],
             [
              0.4444444444444444,
              "#bd3786"
             ],
             [
              0.5555555555555556,
              "#d8576b"
             ],
             [
              0.6666666666666666,
              "#ed7953"
             ],
             [
              0.7777777777777778,
              "#fb9f3a"
             ],
             [
              0.8888888888888888,
              "#fdca26"
             ],
             [
              1,
              "#f0f921"
             ]
            ],
            "type": "contour"
           }
          ],
          "contourcarpet": [
           {
            "colorbar": {
             "outlinewidth": 0,
             "ticks": ""
            },
            "type": "contourcarpet"
           }
          ],
          "heatmap": [
           {
            "colorbar": {
             "outlinewidth": 0,
             "ticks": ""
            },
            "colorscale": [
             [
              0,
              "#0d0887"
             ],
             [
              0.1111111111111111,
              "#46039f"
             ],
             [
              0.2222222222222222,
              "#7201a8"
             ],
             [
              0.3333333333333333,
              "#9c179e"
             ],
             [
              0.4444444444444444,
              "#bd3786"
             ],
             [
              0.5555555555555556,
              "#d8576b"
             ],
             [
              0.6666666666666666,
              "#ed7953"
             ],
             [
              0.7777777777777778,
              "#fb9f3a"
             ],
             [
              0.8888888888888888,
              "#fdca26"
             ],
             [
              1,
              "#f0f921"
             ]
            ],
            "type": "heatmap"
           }
          ],
          "heatmapgl": [
           {
            "colorbar": {
             "outlinewidth": 0,
             "ticks": ""
            },
            "colorscale": [
             [
              0,
              "#0d0887"
             ],
             [
              0.1111111111111111,
              "#46039f"
             ],
             [
              0.2222222222222222,
              "#7201a8"
             ],
             [
              0.3333333333333333,
              "#9c179e"
             ],
             [
              0.4444444444444444,
              "#bd3786"
             ],
             [
              0.5555555555555556,
              "#d8576b"
             ],
             [
              0.6666666666666666,
              "#ed7953"
             ],
             [
              0.7777777777777778,
              "#fb9f3a"
             ],
             [
              0.8888888888888888,
              "#fdca26"
             ],
             [
              1,
              "#f0f921"
             ]
            ],
            "type": "heatmapgl"
           }
          ],
          "histogram": [
           {
            "marker": {
             "pattern": {
              "fillmode": "overlay",
              "size": 10,
              "solidity": 0.2
             }
            },
            "type": "histogram"
           }
          ],
          "histogram2d": [
           {
            "colorbar": {
             "outlinewidth": 0,
             "ticks": ""
            },
            "colorscale": [
             [
              0,
              "#0d0887"
             ],
             [
              0.1111111111111111,
              "#46039f"
             ],
             [
              0.2222222222222222,
              "#7201a8"
             ],
             [
              0.3333333333333333,
              "#9c179e"
             ],
             [
              0.4444444444444444,
              "#bd3786"
             ],
             [
              0.5555555555555556,
              "#d8576b"
             ],
             [
              0.6666666666666666,
              "#ed7953"
             ],
             [
              0.7777777777777778,
              "#fb9f3a"
             ],
             [
              0.8888888888888888,
              "#fdca26"
             ],
             [
              1,
              "#f0f921"
             ]
            ],
            "type": "histogram2d"
           }
          ],
          "histogram2dcontour": [
           {
            "colorbar": {
             "outlinewidth": 0,
             "ticks": ""
            },
            "colorscale": [
             [
              0,
              "#0d0887"
             ],
             [
              0.1111111111111111,
              "#46039f"
             ],
             [
              0.2222222222222222,
              "#7201a8"
             ],
             [
              0.3333333333333333,
              "#9c179e"
             ],
             [
              0.4444444444444444,
              "#bd3786"
             ],
             [
              0.5555555555555556,
              "#d8576b"
             ],
             [
              0.6666666666666666,
              "#ed7953"
             ],
             [
              0.7777777777777778,
              "#fb9f3a"
             ],
             [
              0.8888888888888888,
              "#fdca26"
             ],
             [
              1,
              "#f0f921"
             ]
            ],
            "type": "histogram2dcontour"
           }
          ],
          "mesh3d": [
           {
            "colorbar": {
             "outlinewidth": 0,
             "ticks": ""
            },
            "type": "mesh3d"
           }
          ],
          "parcoords": [
           {
            "line": {
             "colorbar": {
              "outlinewidth": 0,
              "ticks": ""
             }
            },
            "type": "parcoords"
           }
          ],
          "pie": [
           {
            "automargin": true,
            "type": "pie"
           }
          ],
          "scatter": [
           {
            "fillpattern": {
             "fillmode": "overlay",
             "size": 10,
             "solidity": 0.2
            },
            "type": "scatter"
           }
          ],
          "scatter3d": [
           {
            "line": {
             "colorbar": {
              "outlinewidth": 0,
              "ticks": ""
             }
            },
            "marker": {
             "colorbar": {
              "outlinewidth": 0,
              "ticks": ""
             }
            },
            "type": "scatter3d"
           }
          ],
          "scattercarpet": [
           {
            "marker": {
             "colorbar": {
              "outlinewidth": 0,
              "ticks": ""
             }
            },
            "type": "scattercarpet"
           }
          ],
          "scattergeo": [
           {
            "marker": {
             "colorbar": {
              "outlinewidth": 0,
              "ticks": ""
             }
            },
            "type": "scattergeo"
           }
          ],
          "scattergl": [
           {
            "marker": {
             "colorbar": {
              "outlinewidth": 0,
              "ticks": ""
             }
            },
            "type": "scattergl"
           }
          ],
          "scattermapbox": [
           {
            "marker": {
             "colorbar": {
              "outlinewidth": 0,
              "ticks": ""
             }
            },
            "type": "scattermapbox"
           }
          ],
          "scatterpolar": [
           {
            "marker": {
             "colorbar": {
              "outlinewidth": 0,
              "ticks": ""
             }
            },
            "type": "scatterpolar"
           }
          ],
          "scatterpolargl": [
           {
            "marker": {
             "colorbar": {
              "outlinewidth": 0,
              "ticks": ""
             }
            },
            "type": "scatterpolargl"
           }
          ],
          "scatterternary": [
           {
            "marker": {
             "colorbar": {
              "outlinewidth": 0,
              "ticks": ""
             }
            },
            "type": "scatterternary"
           }
          ],
          "surface": [
           {
            "colorbar": {
             "outlinewidth": 0,
             "ticks": ""
            },
            "colorscale": [
             [
              0,
              "#0d0887"
             ],
             [
              0.1111111111111111,
              "#46039f"
             ],
             [
              0.2222222222222222,
              "#7201a8"
             ],
             [
              0.3333333333333333,
              "#9c179e"
             ],
             [
              0.4444444444444444,
              "#bd3786"
             ],
             [
              0.5555555555555556,
              "#d8576b"
             ],
             [
              0.6666666666666666,
              "#ed7953"
             ],
             [
              0.7777777777777778,
              "#fb9f3a"
             ],
             [
              0.8888888888888888,
              "#fdca26"
             ],
             [
              1,
              "#f0f921"
             ]
            ],
            "type": "surface"
           }
          ],
          "table": [
           {
            "cells": {
             "fill": {
              "color": "#EBF0F8"
             },
             "line": {
              "color": "white"
             }
            },
            "header": {
             "fill": {
              "color": "#C8D4E3"
             },
             "line": {
              "color": "white"
             }
            },
            "type": "table"
           }
          ]
         },
         "layout": {
          "annotationdefaults": {
           "arrowcolor": "#2a3f5f",
           "arrowhead": 0,
           "arrowwidth": 1
          },
          "autotypenumbers": "strict",
          "coloraxis": {
           "colorbar": {
            "outlinewidth": 0,
            "ticks": ""
           }
          },
          "colorscale": {
           "diverging": [
            [
             0,
             "#8e0152"
            ],
            [
             0.1,
             "#c51b7d"
            ],
            [
             0.2,
             "#de77ae"
            ],
            [
             0.3,
             "#f1b6da"
            ],
            [
             0.4,
             "#fde0ef"
            ],
            [
             0.5,
             "#f7f7f7"
            ],
            [
             0.6,
             "#e6f5d0"
            ],
            [
             0.7,
             "#b8e186"
            ],
            [
             0.8,
             "#7fbc41"
            ],
            [
             0.9,
             "#4d9221"
            ],
            [
             1,
             "#276419"
            ]
           ],
           "sequential": [
            [
             0,
             "#0d0887"
            ],
            [
             0.1111111111111111,
             "#46039f"
            ],
            [
             0.2222222222222222,
             "#7201a8"
            ],
            [
             0.3333333333333333,
             "#9c179e"
            ],
            [
             0.4444444444444444,
             "#bd3786"
            ],
            [
             0.5555555555555556,
             "#d8576b"
            ],
            [
             0.6666666666666666,
             "#ed7953"
            ],
            [
             0.7777777777777778,
             "#fb9f3a"
            ],
            [
             0.8888888888888888,
             "#fdca26"
            ],
            [
             1,
             "#f0f921"
            ]
           ],
           "sequentialminus": [
            [
             0,
             "#0d0887"
            ],
            [
             0.1111111111111111,
             "#46039f"
            ],
            [
             0.2222222222222222,
             "#7201a8"
            ],
            [
             0.3333333333333333,
             "#9c179e"
            ],
            [
             0.4444444444444444,
             "#bd3786"
            ],
            [
             0.5555555555555556,
             "#d8576b"
            ],
            [
             0.6666666666666666,
             "#ed7953"
            ],
            [
             0.7777777777777778,
             "#fb9f3a"
            ],
            [
             0.8888888888888888,
             "#fdca26"
            ],
            [
             1,
             "#f0f921"
            ]
           ]
          },
          "colorway": [
           "#636efa",
           "#EF553B",
           "#00cc96",
           "#ab63fa",
           "#FFA15A",
           "#19d3f3",
           "#FF6692",
           "#B6E880",
           "#FF97FF",
           "#FECB52"
          ],
          "font": {
           "color": "#2a3f5f"
          },
          "geo": {
           "bgcolor": "white",
           "lakecolor": "white",
           "landcolor": "#E5ECF6",
           "showlakes": true,
           "showland": true,
           "subunitcolor": "white"
          },
          "hoverlabel": {
           "align": "left"
          },
          "hovermode": "closest",
          "mapbox": {
           "style": "light"
          },
          "paper_bgcolor": "white",
          "plot_bgcolor": "#E5ECF6",
          "polar": {
           "angularaxis": {
            "gridcolor": "white",
            "linecolor": "white",
            "ticks": ""
           },
           "bgcolor": "#E5ECF6",
           "radialaxis": {
            "gridcolor": "white",
            "linecolor": "white",
            "ticks": ""
           }
          },
          "scene": {
           "xaxis": {
            "backgroundcolor": "#E5ECF6",
            "gridcolor": "white",
            "gridwidth": 2,
            "linecolor": "white",
            "showbackground": true,
            "ticks": "",
            "zerolinecolor": "white"
           },
           "yaxis": {
            "backgroundcolor": "#E5ECF6",
            "gridcolor": "white",
            "gridwidth": 2,
            "linecolor": "white",
            "showbackground": true,
            "ticks": "",
            "zerolinecolor": "white"
           },
           "zaxis": {
            "backgroundcolor": "#E5ECF6",
            "gridcolor": "white",
            "gridwidth": 2,
            "linecolor": "white",
            "showbackground": true,
            "ticks": "",
            "zerolinecolor": "white"
           }
          },
          "shapedefaults": {
           "line": {
            "color": "#2a3f5f"
           }
          },
          "ternary": {
           "aaxis": {
            "gridcolor": "white",
            "linecolor": "white",
            "ticks": ""
           },
           "baxis": {
            "gridcolor": "white",
            "linecolor": "white",
            "ticks": ""
           },
           "bgcolor": "#E5ECF6",
           "caxis": {
            "gridcolor": "white",
            "linecolor": "white",
            "ticks": ""
           }
          },
          "title": {
           "x": 0.05
          },
          "xaxis": {
           "automargin": true,
           "gridcolor": "white",
           "linecolor": "white",
           "ticks": "",
           "title": {
            "standoff": 15
           },
           "zerolinecolor": "white",
           "zerolinewidth": 2
          },
          "yaxis": {
           "automargin": true,
           "gridcolor": "white",
           "linecolor": "white",
           "ticks": "",
           "title": {
            "standoff": 15
           },
           "zerolinecolor": "white",
           "zerolinewidth": 2
          }
         }
        },
        "xaxis": {
         "anchor": "y",
         "domain": [
          0,
          1
         ],
         "title": {
          "text": "ds"
         }
        },
        "yaxis": {
         "anchor": "x",
         "domain": [
          0,
          1
         ],
         "title": {
          "text": "yhat"
         }
        }
       }
      },
      "text/html": [
       "<div>                            <div id=\"c76ea4ed-7989-4966-b861-43485c4bd46a\" class=\"plotly-graph-div\" style=\"height:525px; width:100%;\"></div>            <script type=\"text/javascript\">                require([\"plotly\"], function(Plotly) {                    window.PLOTLYENV=window.PLOTLYENV || {};                                    if (document.getElementById(\"c76ea4ed-7989-4966-b861-43485c4bd46a\")) {                    Plotly.newPlot(                        \"c76ea4ed-7989-4966-b861-43485c4bd46a\",                        [{\"hovertemplate\":\"ds=%{x}\\u003cbr\\u003eyhat=%{y}\\u003cextra\\u003e\\u003c\\u002fextra\\u003e\",\"legendgroup\":\"\",\"line\":{\"color\":\"#636efa\",\"dash\":\"solid\"},\"marker\":{\"symbol\":\"circle\"},\"mode\":\"lines\",\"name\":\"\",\"orientation\":\"v\",\"showlegend\":false,\"x\":[\"2000-12-01T00:00:00\",\"2001-01-01T00:00:00\",\"2001-02-01T00:00:00\",\"2001-03-01T00:00:00\",\"2001-04-01T00:00:00\",\"2001-05-01T00:00:00\",\"2001-06-01T00:00:00\",\"2001-07-01T00:00:00\",\"2001-08-01T00:00:00\",\"2001-09-01T00:00:00\",\"2001-10-01T00:00:00\",\"2001-11-01T00:00:00\",\"2001-12-01T00:00:00\",\"2002-01-01T00:00:00\",\"2002-02-01T00:00:00\",\"2002-03-01T00:00:00\",\"2002-04-01T00:00:00\",\"2002-05-01T00:00:00\",\"2002-06-01T00:00:00\",\"2002-07-01T00:00:00\",\"2002-08-01T00:00:00\",\"2002-09-01T00:00:00\",\"2002-10-01T00:00:00\",\"2002-11-01T00:00:00\",\"2002-12-01T00:00:00\",\"2003-01-01T00:00:00\",\"2003-02-01T00:00:00\",\"2003-03-01T00:00:00\",\"2003-04-01T00:00:00\",\"2003-05-01T00:00:00\",\"2003-06-01T00:00:00\",\"2003-07-01T00:00:00\",\"2003-08-01T00:00:00\",\"2003-09-01T00:00:00\",\"2003-10-01T00:00:00\",\"2003-11-01T00:00:00\",\"2003-12-01T00:00:00\",\"2004-01-01T00:00:00\",\"2004-02-01T00:00:00\",\"2004-03-01T00:00:00\",\"2004-04-01T00:00:00\",\"2004-05-01T00:00:00\",\"2004-06-01T00:00:00\",\"2004-07-01T00:00:00\",\"2004-08-01T00:00:00\",\"2004-09-01T00:00:00\",\"2004-10-01T00:00:00\",\"2004-11-01T00:00:00\",\"2004-12-01T00:00:00\",\"2005-01-01T00:00:00\",\"2005-02-01T00:00:00\",\"2005-03-01T00:00:00\",\"2005-04-01T00:00:00\",\"2005-05-01T00:00:00\",\"2005-06-01T00:00:00\",\"2005-07-01T00:00:00\",\"2005-08-01T00:00:00\",\"2005-09-01T00:00:00\",\"2005-10-01T00:00:00\",\"2005-11-01T00:00:00\",\"2005-12-01T00:00:00\",\"2006-01-01T00:00:00\",\"2006-02-01T00:00:00\",\"2006-03-01T00:00:00\",\"2006-04-01T00:00:00\",\"2006-05-01T00:00:00\",\"2006-06-01T00:00:00\",\"2006-07-01T00:00:00\",\"2006-08-01T00:00:00\",\"2006-09-01T00:00:00\",\"2006-10-01T00:00:00\",\"2006-11-01T00:00:00\",\"2006-12-01T00:00:00\",\"2007-01-01T00:00:00\",\"2007-02-01T00:00:00\",\"2007-03-01T00:00:00\",\"2007-04-01T00:00:00\",\"2007-05-01T00:00:00\",\"2007-06-01T00:00:00\",\"2007-07-01T00:00:00\",\"2007-08-01T00:00:00\",\"2007-09-01T00:00:00\",\"2007-10-01T00:00:00\",\"2007-11-01T00:00:00\",\"2007-12-01T00:00:00\",\"2008-01-01T00:00:00\",\"2008-02-01T00:00:00\",\"2008-03-01T00:00:00\",\"2008-04-01T00:00:00\",\"2008-05-01T00:00:00\",\"2008-06-01T00:00:00\",\"2008-07-01T00:00:00\",\"2008-08-01T00:00:00\",\"2008-09-01T00:00:00\",\"2008-10-01T00:00:00\",\"2008-11-01T00:00:00\",\"2008-12-01T00:00:00\",\"2009-01-01T00:00:00\",\"2009-02-01T00:00:00\",\"2009-03-01T00:00:00\",\"2009-04-01T00:00:00\",\"2009-05-01T00:00:00\",\"2009-06-01T00:00:00\",\"2009-07-01T00:00:00\",\"2009-08-01T00:00:00\",\"2009-09-01T00:00:00\",\"2009-10-01T00:00:00\",\"2009-11-01T00:00:00\",\"2009-12-01T00:00:00\",\"2010-01-01T00:00:00\",\"2010-02-01T00:00:00\",\"2010-03-01T00:00:00\",\"2010-04-01T00:00:00\",\"2010-05-01T00:00:00\",\"2010-06-01T00:00:00\",\"2010-07-01T00:00:00\",\"2010-08-01T00:00:00\",\"2010-09-01T00:00:00\",\"2010-10-01T00:00:00\",\"2010-11-01T00:00:00\",\"2010-12-01T00:00:00\",\"2011-01-01T00:00:00\",\"2011-02-01T00:00:00\",\"2011-03-01T00:00:00\",\"2011-04-01T00:00:00\",\"2011-05-01T00:00:00\",\"2011-06-01T00:00:00\",\"2011-07-01T00:00:00\",\"2011-08-01T00:00:00\",\"2011-09-01T00:00:00\",\"2011-10-01T00:00:00\",\"2011-11-01T00:00:00\",\"2011-12-01T00:00:00\",\"2012-01-01T00:00:00\",\"2012-02-01T00:00:00\",\"2012-03-01T00:00:00\",\"2012-04-01T00:00:00\",\"2012-05-01T00:00:00\",\"2012-06-01T00:00:00\",\"2012-07-01T00:00:00\",\"2012-08-01T00:00:00\",\"2012-09-01T00:00:00\",\"2012-10-01T00:00:00\",\"2012-11-01T00:00:00\",\"2012-12-01T00:00:00\",\"2013-01-01T00:00:00\",\"2013-02-01T00:00:00\",\"2013-03-01T00:00:00\",\"2013-04-01T00:00:00\",\"2013-05-01T00:00:00\",\"2013-06-01T00:00:00\",\"2013-07-01T00:00:00\",\"2013-08-01T00:00:00\",\"2013-09-01T00:00:00\",\"2013-10-01T00:00:00\",\"2013-11-01T00:00:00\",\"2013-12-01T00:00:00\",\"2014-01-01T00:00:00\",\"2014-02-01T00:00:00\",\"2014-03-01T00:00:00\",\"2014-04-01T00:00:00\",\"2014-05-01T00:00:00\",\"2014-06-01T00:00:00\",\"2014-07-01T00:00:00\",\"2014-08-01T00:00:00\",\"2014-09-01T00:00:00\",\"2014-10-01T00:00:00\",\"2014-11-01T00:00:00\",\"2014-12-01T00:00:00\",\"2015-01-01T00:00:00\",\"2015-02-01T00:00:00\",\"2015-03-01T00:00:00\",\"2015-04-01T00:00:00\",\"2015-05-01T00:00:00\",\"2015-06-01T00:00:00\",\"2015-07-01T00:00:00\",\"2015-08-01T00:00:00\",\"2015-09-01T00:00:00\",\"2015-10-01T00:00:00\",\"2015-11-01T00:00:00\",\"2015-12-01T00:00:00\",\"2016-01-01T00:00:00\",\"2016-02-01T00:00:00\",\"2016-03-01T00:00:00\",\"2016-04-01T00:00:00\",\"2016-05-01T00:00:00\",\"2016-06-01T00:00:00\",\"2016-07-01T00:00:00\",\"2016-08-01T00:00:00\",\"2016-09-01T00:00:00\",\"2016-10-01T00:00:00\",\"2016-11-01T00:00:00\",\"2016-12-01T00:00:00\",\"2016-12-31T00:00:00\",\"2017-01-31T00:00:00\",\"2017-02-28T00:00:00\",\"2017-03-31T00:00:00\",\"2017-04-30T00:00:00\",\"2017-05-31T00:00:00\",\"2017-06-30T00:00:00\",\"2017-07-31T00:00:00\",\"2017-08-31T00:00:00\",\"2017-09-30T00:00:00\",\"2017-10-31T00:00:00\",\"2017-11-30T00:00:00\",\"2017-12-31T00:00:00\",\"2018-01-31T00:00:00\",\"2018-02-28T00:00:00\",\"2018-03-31T00:00:00\",\"2018-04-30T00:00:00\",\"2018-05-31T00:00:00\",\"2018-06-30T00:00:00\",\"2018-07-31T00:00:00\",\"2018-08-31T00:00:00\",\"2018-09-30T00:00:00\",\"2018-10-31T00:00:00\",\"2018-11-30T00:00:00\",\"2018-12-31T00:00:00\",\"2019-01-31T00:00:00\",\"2019-02-28T00:00:00\",\"2019-03-31T00:00:00\",\"2019-04-30T00:00:00\",\"2019-05-31T00:00:00\",\"2019-06-30T00:00:00\",\"2019-07-31T00:00:00\",\"2019-08-31T00:00:00\",\"2019-09-30T00:00:00\",\"2019-10-31T00:00:00\",\"2019-11-30T00:00:00\"],\"xaxis\":\"x\",\"y\":[0.7424657610438419,0.7155709711218123,0.5806975910540202,0.6858380601071699,0.708196591244613,0.7571154122960135,0.7774444317741901,0.8181456849226257,0.8361830209256809,0.7095592872302509,0.7309185658379449,0.7152357699605156,0.6809317193089012,0.6580962844851184,0.5542754328422729,0.5621364593243103,0.5491921456093684,0.6747025668089308,0.6947921040818518,0.7515863691170409,0.7962594395659155,0.7415613220017206,0.7556230492714989,0.7069773761700324,0.6794173771687669,0.6037906191265702,0.560716450932996,0.5867256601416936,0.5944841255683943,0.672731493509485,0.7338163291669731,0.730539336289078,0.7602057066746372,0.7803940071940734,0.6952885387750842,0.7018724133642638,0.6571962623234543,0.537865712219168,0.5807110274652597,0.5797357428428058,0.5383824244035332,0.5830119348026497,0.6247293969548148,0.7025006421610589,0.7469630741099684,0.688690984077628,0.6729487561824862,0.6693589208398056,0.562716548284227,0.5442485819872036,0.4584001203144153,0.5026160639403018,0.4908955644390809,0.590808080212883,0.5711155952688123,0.5764615918757107,0.6655714045207608,0.5809032478144194,0.6302996103299747,0.6295472111746636,0.5196561130000016,0.46398099589747044,0.4112997396877604,0.4479014293911549,0.4293398874285163,0.5147011614014886,0.5273924635388656,0.5614516575007369,0.565090224644015,0.5442798475825903,0.5197749020412434,0.5172030030595228,0.4752077227469823,0.35659629551526206,0.37676451390554916,0.37670731317953887,0.37723928839322796,0.45085342773182396,0.5394199128064329,0.5053456477595926,0.5913702164259429,0.5690605973799283,0.538600143216336,0.5206814612517601,0.49589546087453035,0.3448451381520782,0.4117146690397218,0.43787770953555316,0.45291958777886837,0.38025895985025715,0.4381687585246559,0.5586055617983322,0.5566248837434286,0.46124130231101884,0.5502047014540395,0.44258954534015577,0.37184513789471785,0.3956575675187459,0.27370076250903697,0.36413560381308163,0.35425499821532613,0.4173082572937751,0.4290744199737463,0.5065127807630485,0.5570322679817767,0.4685550169280578,0.43776546867271804,0.43717480935116393,0.3584053345149787,0.31578223872883326,0.2105064204291854,0.3426702038617704,0.31940728249477757,0.4216838756449444,0.42886709936874245,0.46036295786301445,0.5297897067361969,0.46861602616081355,0.4311361247181406,0.44908341604959867,0.4003916320960945,0.27995277035838534,0.2894679006509203,0.2758230851470309,0.31437889646754985,0.37705844481956846,0.4237231748445013,0.43902274469146885,0.48842101318139325,0.42494021085852274,0.42141474204764146,0.38725644233099354,0.34250496801047065,0.21849687391215494,0.2721482172087866,0.2808117632465962,0.2628528652347368,0.2833148841438523,0.28311585583300075,0.39148213840092305,0.45949311694920936,0.3394121986636478,0.3468095363030523,0.29584760155551415,0.20084453640008654,0.20409240215924654,0.16629862695686698,0.2592577725048297,0.24256001197348714,0.28686528030827746,0.3555839136061856,0.39776085955854473,0.4530479099222283,0.3578617365222227,0.36852882998303277,0.3365670843915037,0.24644873689938632,0.1901385547376985,0.1043869016226171,0.2563568034433712,0.23574243616279192,0.3426503465513037,0.40844708784574213,0.4174602196594047,0.45630635803012204,0.4017818318740994,0.36907968754711434,0.35149315310504936,0.2989412209941358,0.1906022786568555,0.21972264791349158,0.20488718947979861,0.2509201053766006,0.34528038648827947,0.34957203656303015,0.38796759995269464,0.4287974253150215,0.3665982118366856,0.360812283284625,0.39656488470860185,0.32569707246734125,0.18324749756367867,0.2172524540030367,0.27249579331646434,0.20683041125467547,0.28849313331670556,0.3224552037381116,0.4150136777792963,0.4544584784016984,0.3248860854954296,0.39006661278777643,0.32261914427564553,0.2506604424965171,0.1514889381411805,0.20891910119255144,0.11567059881152872,0.21498052428274633,0.3797917018682328,0.39957538548083277,0.3013087086551104,0.41037296520500727,0.32968198651697234,0.290811039138986,0.38533519904472424,0.33095458826656454,0.12824053864699414,0.29770137529779583,0.1494149789638527,0.19308690300582732,0.3486783116202959,0.3834130202605021,0.3539094178545289,0.39886429588427214,0.3715504435245861,0.26082267540006,0.36415027107370945,0.29638570018276816,0.03842666047079102,0.2150606628081611,0.10987564522450577,0.19614031634226348,0.4057818232546541,0.3564006918757103,0.23741695224405726,0.3822889617863169,0.33600626901391417,0.27568665612328264,0.41137153864288645,0.2858687441583594],\"yaxis\":\"y\",\"type\":\"scatter\"}],                        {\"template\":{\"data\":{\"histogram2dcontour\":[{\"type\":\"histogram2dcontour\",\"colorbar\":{\"outlinewidth\":0,\"ticks\":\"\"},\"colorscale\":[[0.0,\"#0d0887\"],[0.1111111111111111,\"#46039f\"],[0.2222222222222222,\"#7201a8\"],[0.3333333333333333,\"#9c179e\"],[0.4444444444444444,\"#bd3786\"],[0.5555555555555556,\"#d8576b\"],[0.6666666666666666,\"#ed7953\"],[0.7777777777777778,\"#fb9f3a\"],[0.8888888888888888,\"#fdca26\"],[1.0,\"#f0f921\"]]}],\"choropleth\":[{\"type\":\"choropleth\",\"colorbar\":{\"outlinewidth\":0,\"ticks\":\"\"}}],\"histogram2d\":[{\"type\":\"histogram2d\",\"colorbar\":{\"outlinewidth\":0,\"ticks\":\"\"},\"colorscale\":[[0.0,\"#0d0887\"],[0.1111111111111111,\"#46039f\"],[0.2222222222222222,\"#7201a8\"],[0.3333333333333333,\"#9c179e\"],[0.4444444444444444,\"#bd3786\"],[0.5555555555555556,\"#d8576b\"],[0.6666666666666666,\"#ed7953\"],[0.7777777777777778,\"#fb9f3a\"],[0.8888888888888888,\"#fdca26\"],[1.0,\"#f0f921\"]]}],\"heatmap\":[{\"type\":\"heatmap\",\"colorbar\":{\"outlinewidth\":0,\"ticks\":\"\"},\"colorscale\":[[0.0,\"#0d0887\"],[0.1111111111111111,\"#46039f\"],[0.2222222222222222,\"#7201a8\"],[0.3333333333333333,\"#9c179e\"],[0.4444444444444444,\"#bd3786\"],[0.5555555555555556,\"#d8576b\"],[0.6666666666666666,\"#ed7953\"],[0.7777777777777778,\"#fb9f3a\"],[0.8888888888888888,\"#fdca26\"],[1.0,\"#f0f921\"]]}],\"heatmapgl\":[{\"type\":\"heatmapgl\",\"colorbar\":{\"outlinewidth\":0,\"ticks\":\"\"},\"colorscale\":[[0.0,\"#0d0887\"],[0.1111111111111111,\"#46039f\"],[0.2222222222222222,\"#7201a8\"],[0.3333333333333333,\"#9c179e\"],[0.4444444444444444,\"#bd3786\"],[0.5555555555555556,\"#d8576b\"],[0.6666666666666666,\"#ed7953\"],[0.7777777777777778,\"#fb9f3a\"],[0.8888888888888888,\"#fdca26\"],[1.0,\"#f0f921\"]]}],\"contourcarpet\":[{\"type\":\"contourcarpet\",\"colorbar\":{\"outlinewidth\":0,\"ticks\":\"\"}}],\"contour\":[{\"type\":\"contour\",\"colorbar\":{\"outlinewidth\":0,\"ticks\":\"\"},\"colorscale\":[[0.0,\"#0d0887\"],[0.1111111111111111,\"#46039f\"],[0.2222222222222222,\"#7201a8\"],[0.3333333333333333,\"#9c179e\"],[0.4444444444444444,\"#bd3786\"],[0.5555555555555556,\"#d8576b\"],[0.6666666666666666,\"#ed7953\"],[0.7777777777777778,\"#fb9f3a\"],[0.8888888888888888,\"#fdca26\"],[1.0,\"#f0f921\"]]}],\"surface\":[{\"type\":\"surface\",\"colorbar\":{\"outlinewidth\":0,\"ticks\":\"\"},\"colorscale\":[[0.0,\"#0d0887\"],[0.1111111111111111,\"#46039f\"],[0.2222222222222222,\"#7201a8\"],[0.3333333333333333,\"#9c179e\"],[0.4444444444444444,\"#bd3786\"],[0.5555555555555556,\"#d8576b\"],[0.6666666666666666,\"#ed7953\"],[0.7777777777777778,\"#fb9f3a\"],[0.8888888888888888,\"#fdca26\"],[1.0,\"#f0f921\"]]}],\"mesh3d\":[{\"type\":\"mesh3d\",\"colorbar\":{\"outlinewidth\":0,\"ticks\":\"\"}}],\"scatter\":[{\"fillpattern\":{\"fillmode\":\"overlay\",\"size\":10,\"solidity\":0.2},\"type\":\"scatter\"}],\"parcoords\":[{\"type\":\"parcoords\",\"line\":{\"colorbar\":{\"outlinewidth\":0,\"ticks\":\"\"}}}],\"scatterpolargl\":[{\"type\":\"scatterpolargl\",\"marker\":{\"colorbar\":{\"outlinewidth\":0,\"ticks\":\"\"}}}],\"bar\":[{\"error_x\":{\"color\":\"#2a3f5f\"},\"error_y\":{\"color\":\"#2a3f5f\"},\"marker\":{\"line\":{\"color\":\"#E5ECF6\",\"width\":0.5},\"pattern\":{\"fillmode\":\"overlay\",\"size\":10,\"solidity\":0.2}},\"type\":\"bar\"}],\"scattergeo\":[{\"type\":\"scattergeo\",\"marker\":{\"colorbar\":{\"outlinewidth\":0,\"ticks\":\"\"}}}],\"scatterpolar\":[{\"type\":\"scatterpolar\",\"marker\":{\"colorbar\":{\"outlinewidth\":0,\"ticks\":\"\"}}}],\"histogram\":[{\"marker\":{\"pattern\":{\"fillmode\":\"overlay\",\"size\":10,\"solidity\":0.2}},\"type\":\"histogram\"}],\"scattergl\":[{\"type\":\"scattergl\",\"marker\":{\"colorbar\":{\"outlinewidth\":0,\"ticks\":\"\"}}}],\"scatter3d\":[{\"type\":\"scatter3d\",\"line\":{\"colorbar\":{\"outlinewidth\":0,\"ticks\":\"\"}},\"marker\":{\"colorbar\":{\"outlinewidth\":0,\"ticks\":\"\"}}}],\"scattermapbox\":[{\"type\":\"scattermapbox\",\"marker\":{\"colorbar\":{\"outlinewidth\":0,\"ticks\":\"\"}}}],\"scatterternary\":[{\"type\":\"scatterternary\",\"marker\":{\"colorbar\":{\"outlinewidth\":0,\"ticks\":\"\"}}}],\"scattercarpet\":[{\"type\":\"scattercarpet\",\"marker\":{\"colorbar\":{\"outlinewidth\":0,\"ticks\":\"\"}}}],\"carpet\":[{\"aaxis\":{\"endlinecolor\":\"#2a3f5f\",\"gridcolor\":\"white\",\"linecolor\":\"white\",\"minorgridcolor\":\"white\",\"startlinecolor\":\"#2a3f5f\"},\"baxis\":{\"endlinecolor\":\"#2a3f5f\",\"gridcolor\":\"white\",\"linecolor\":\"white\",\"minorgridcolor\":\"white\",\"startlinecolor\":\"#2a3f5f\"},\"type\":\"carpet\"}],\"table\":[{\"cells\":{\"fill\":{\"color\":\"#EBF0F8\"},\"line\":{\"color\":\"white\"}},\"header\":{\"fill\":{\"color\":\"#C8D4E3\"},\"line\":{\"color\":\"white\"}},\"type\":\"table\"}],\"barpolar\":[{\"marker\":{\"line\":{\"color\":\"#E5ECF6\",\"width\":0.5},\"pattern\":{\"fillmode\":\"overlay\",\"size\":10,\"solidity\":0.2}},\"type\":\"barpolar\"}],\"pie\":[{\"automargin\":true,\"type\":\"pie\"}]},\"layout\":{\"autotypenumbers\":\"strict\",\"colorway\":[\"#636efa\",\"#EF553B\",\"#00cc96\",\"#ab63fa\",\"#FFA15A\",\"#19d3f3\",\"#FF6692\",\"#B6E880\",\"#FF97FF\",\"#FECB52\"],\"font\":{\"color\":\"#2a3f5f\"},\"hovermode\":\"closest\",\"hoverlabel\":{\"align\":\"left\"},\"paper_bgcolor\":\"white\",\"plot_bgcolor\":\"#E5ECF6\",\"polar\":{\"bgcolor\":\"#E5ECF6\",\"angularaxis\":{\"gridcolor\":\"white\",\"linecolor\":\"white\",\"ticks\":\"\"},\"radialaxis\":{\"gridcolor\":\"white\",\"linecolor\":\"white\",\"ticks\":\"\"}},\"ternary\":{\"bgcolor\":\"#E5ECF6\",\"aaxis\":{\"gridcolor\":\"white\",\"linecolor\":\"white\",\"ticks\":\"\"},\"baxis\":{\"gridcolor\":\"white\",\"linecolor\":\"white\",\"ticks\":\"\"},\"caxis\":{\"gridcolor\":\"white\",\"linecolor\":\"white\",\"ticks\":\"\"}},\"coloraxis\":{\"colorbar\":{\"outlinewidth\":0,\"ticks\":\"\"}},\"colorscale\":{\"sequential\":[[0.0,\"#0d0887\"],[0.1111111111111111,\"#46039f\"],[0.2222222222222222,\"#7201a8\"],[0.3333333333333333,\"#9c179e\"],[0.4444444444444444,\"#bd3786\"],[0.5555555555555556,\"#d8576b\"],[0.6666666666666666,\"#ed7953\"],[0.7777777777777778,\"#fb9f3a\"],[0.8888888888888888,\"#fdca26\"],[1.0,\"#f0f921\"]],\"sequentialminus\":[[0.0,\"#0d0887\"],[0.1111111111111111,\"#46039f\"],[0.2222222222222222,\"#7201a8\"],[0.3333333333333333,\"#9c179e\"],[0.4444444444444444,\"#bd3786\"],[0.5555555555555556,\"#d8576b\"],[0.6666666666666666,\"#ed7953\"],[0.7777777777777778,\"#fb9f3a\"],[0.8888888888888888,\"#fdca26\"],[1.0,\"#f0f921\"]],\"diverging\":[[0,\"#8e0152\"],[0.1,\"#c51b7d\"],[0.2,\"#de77ae\"],[0.3,\"#f1b6da\"],[0.4,\"#fde0ef\"],[0.5,\"#f7f7f7\"],[0.6,\"#e6f5d0\"],[0.7,\"#b8e186\"],[0.8,\"#7fbc41\"],[0.9,\"#4d9221\"],[1,\"#276419\"]]},\"xaxis\":{\"gridcolor\":\"white\",\"linecolor\":\"white\",\"ticks\":\"\",\"title\":{\"standoff\":15},\"zerolinecolor\":\"white\",\"automargin\":true,\"zerolinewidth\":2},\"yaxis\":{\"gridcolor\":\"white\",\"linecolor\":\"white\",\"ticks\":\"\",\"title\":{\"standoff\":15},\"zerolinecolor\":\"white\",\"automargin\":true,\"zerolinewidth\":2},\"scene\":{\"xaxis\":{\"backgroundcolor\":\"#E5ECF6\",\"gridcolor\":\"white\",\"linecolor\":\"white\",\"showbackground\":true,\"ticks\":\"\",\"zerolinecolor\":\"white\",\"gridwidth\":2},\"yaxis\":{\"backgroundcolor\":\"#E5ECF6\",\"gridcolor\":\"white\",\"linecolor\":\"white\",\"showbackground\":true,\"ticks\":\"\",\"zerolinecolor\":\"white\",\"gridwidth\":2},\"zaxis\":{\"backgroundcolor\":\"#E5ECF6\",\"gridcolor\":\"white\",\"linecolor\":\"white\",\"showbackground\":true,\"ticks\":\"\",\"zerolinecolor\":\"white\",\"gridwidth\":2}},\"shapedefaults\":{\"line\":{\"color\":\"#2a3f5f\"}},\"annotationdefaults\":{\"arrowcolor\":\"#2a3f5f\",\"arrowhead\":0,\"arrowwidth\":1},\"geo\":{\"bgcolor\":\"white\",\"landcolor\":\"#E5ECF6\",\"subunitcolor\":\"white\",\"showland\":true,\"showlakes\":true,\"lakecolor\":\"white\"},\"title\":{\"x\":0.05},\"mapbox\":{\"style\":\"light\"}}},\"xaxis\":{\"anchor\":\"y\",\"domain\":[0.0,1.0],\"title\":{\"text\":\"ds\"}},\"yaxis\":{\"anchor\":\"x\",\"domain\":[0.0,1.0],\"title\":{\"text\":\"yhat\"}},\"legend\":{\"tracegroupgap\":0},\"margin\":{\"t\":60}},                        {\"responsive\": true}                    ).then(function(){\n",
       "                            \n",
       "var gd = document.getElementById('c76ea4ed-7989-4966-b861-43485c4bd46a');\n",
       "var x = new MutationObserver(function (mutations, observer) {{\n",
       "        var display = window.getComputedStyle(gd).display;\n",
       "        if (!display || display === 'none') {{\n",
       "            console.log([gd, 'removed!']);\n",
       "            Plotly.purge(gd);\n",
       "            observer.disconnect();\n",
       "        }}\n",
       "}});\n",
       "\n",
       "// Listen for the removal of the full notebook cells\n",
       "var notebookContainer = gd.closest('#notebook-container');\n",
       "if (notebookContainer) {{\n",
       "    x.observe(notebookContainer, {childList: true});\n",
       "}}\n",
       "\n",
       "// Listen for the clearing of the current output cell\n",
       "var outputEl = gd.closest('.output');\n",
       "if (outputEl) {{\n",
       "    x.observe(outputEl, {childList: true});\n",
       "}}\n",
       "\n",
       "                        })                };                });            </script>        </div>"
      ]
     },
     "metadata": {},
     "output_type": "display_data"
    }
   ],
   "source": [
    "px.line(y_pred, x='ds', y='yhat')\n",
    "# fig = px.line(y_pred, x='ds', y='yhat', title='Previsões do Prophet')\n",
    "# fig.show()"
   ]
  },
  {
   "cell_type": "code",
   "execution_count": 148,
   "metadata": {
    "colab": {
     "base_uri": "https://localhost:8080/",
     "height": 607
    },
    "id": "dlHGHJhpzU8z",
    "outputId": "42e3a11d-2535-49ed-901f-47aa165402b9"
   },
   "outputs": [
    {
     "name": "stderr",
     "output_type": "stream",
     "text": [
      "/home/thiery/.local/lib/python3.10/site-packages/prophet/plot.py:72: FutureWarning:\n",
      "\n",
      "The behavior of DatetimeProperties.to_pydatetime is deprecated, in a future version this will return a Series containing python datetime objects instead of an ndarray. To retain the old behavior, call `np.array` on the result\n",
      "\n",
      "/home/thiery/.local/lib/python3.10/site-packages/prophet/plot.py:73: FutureWarning:\n",
      "\n",
      "The behavior of DatetimeProperties.to_pydatetime is deprecated, in a future version this will return a Series containing python datetime objects instead of an ndarray. To retain the old behavior, call `np.array` on the result\n",
      "\n"
     ]
    },
    {
     "data": {
      "image/png": "[encoded data removed]",
      "text/plain": [
       "<Figure size 1000x600 with 1 Axes>"
      ]
     },
     "metadata": {},
     "output_type": "display_data"
    }
   ],
   "source": [
    "figure = model.plot(y_pred, xlabel='ds', ylabel='y')"
   ]
  },
  {
   "cell_type": "code",
   "execution_count": 149,
   "metadata": {
    "colab": {
     "base_uri": "https://localhost:8080/",
     "height": 907
    },
    "id": "7_87SCJt0CY_",
    "outputId": "72c30153-f21d-4e2e-eef3-17ffd54b589e"
   },
   "outputs": [
    {
     "name": "stderr",
     "output_type": "stream",
     "text": [
      "/home/thiery/.local/lib/python3.10/site-packages/prophet/plot.py:228: FutureWarning:\n",
      "\n",
      "The behavior of DatetimeProperties.to_pydatetime is deprecated, in a future version this will return a Series containing python datetime objects instead of an ndarray. To retain the old behavior, call `np.array` on the result\n",
      "\n",
      "/home/thiery/.local/lib/python3.10/site-packages/prophet/plot.py:351: FutureWarning:\n",
      "\n",
      "The behavior of DatetimeProperties.to_pydatetime is deprecated, in a future version this will return a Series containing python datetime objects instead of an ndarray. To retain the old behavior, call `np.array` on the result\n",
      "\n",
      "/home/thiery/.local/lib/python3.10/site-packages/prophet/plot.py:354: FutureWarning:\n",
      "\n",
      "The behavior of DatetimeProperties.to_pydatetime is deprecated, in a future version this will return a Series containing python datetime objects instead of an ndarray. To retain the old behavior, call `np.array` on the result\n",
      "\n",
      "/home/thiery/.local/lib/python3.10/site-packages/prophet/plot.py:228: FutureWarning:\n",
      "\n",
      "The behavior of DatetimeProperties.to_pydatetime is deprecated, in a future version this will return a Series containing python datetime objects instead of an ndarray. To retain the old behavior, call `np.array` on the result\n",
      "\n"
     ]
    },
    {
     "data": {
      "image/png": "[encoded data removed]",
      "text/plain": [
       "<Figure size 900x900 with 3 Axes>"
      ]
     },
     "metadata": {},
     "output_type": "display_data"
    }
   ],
   "source": [
    "figure2 = model.plot_components(y_pred)"
   ]
  },
  {
   "cell_type": "code",
   "execution_count": 150,
   "metadata": {},
   "outputs": [
    {
     "data": {
      "image/png": "[encoded data removed]",
      "text/plain": [
       "<Figure size 1200x600 with 1 Axes>"
      ]
     },
     "metadata": {},
     "output_type": "display_data"
    }
   ],
   "source": [
    "index = dataset[(dataset.index < test_start_date)].index\n",
    "index_test = dataset[(dataset.index >= test_start_date)].index\n",
    "\n",
    "plt.figure(figsize=(12, 6))\n",
    "plt.plot(dataset.index, dataset['hospitalizations'], label='Train')\n",
    "plt.plot(index_test, y_test_original, color='green', label='Test')\n",
    "plt.plot(index_test, y_pred_original, color='red', label='Predicted')\n",
    "plt.title(\"Actual vs predicted\")\n",
    "plt.xlabel('years')\n",
    "plt.ylabel('hospitalizations')\n",
    "plt.grid(True)\n",
    "plt.legend()\n",
    "plt.xticks(rotation=90)\n",
    "plt.tight_layout()\n",
    "plt.show()"
   ]
  },
  {
   "cell_type": "markdown",
   "metadata": {
    "id": "YZPRNK-q02NG"
   },
   "source": [
    "### Download the forecast data"
   ]
  },
  {
   "cell_type": "code",
   "execution_count": 151,
   "metadata": {
    "colab": {
     "base_uri": "https://localhost:8080/",
     "height": 17
    },
    "id": "7LO2TwTt1CEM",
    "outputId": "29c26f09-1017-4760-b3b6-1c299a7671b5"
   },
   "outputs": [],
   "source": [
    "y_pred.to_csv('forecast.csv')"
   ]
  }
 ],
 "metadata": {
  "colab": {
   "collapsed_sections": [
    "aJURGuzJGqzX",
    "a9LnNwGjHpsb"
   ],
   "provenance": []
  },
  "kernelspec": {
   "display_name": "Python 3 (ipykernel)",
   "language": "python",
   "name": "python3"
  },
  "language_info": {
   "codemirror_mode": {
    "name": "ipython",
    "version": 3
   },
   "file_extension": ".py",
   "mimetype": "text/x-python",
   "name": "python",
   "nbconvert_exporter": "python",
   "pygments_lexer": "ipython3",
   "version": "3.10.12"
  }
 },
 "nbformat": 4,
 "nbformat_minor": 4
}
